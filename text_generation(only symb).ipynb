{
  "nbformat": 4,
  "nbformat_minor": 0,
  "metadata": {
    "accelerator": "GPU",
    "colab": {
      "name": "Copy of text_generation.ipynb",
      "provenance": [],
      "collapsed_sections": [],
      "machine_shape": "hm",
      "include_colab_link": true
    },
    "kernelspec": {
      "name": "python3",
      "display_name": "Python 3"
    }
  },
  "cells": [
    {
      "cell_type": "markdown",
      "metadata": {
        "id": "view-in-github",
        "colab_type": "text"
      },
      "source": [
        "<a href=\"https://colab.research.google.com/github/Khlebovich-Alexandra/horoscope_generator/blob/master/text_generation(only%20symb).ipynb\" target=\"_parent\"><img src=\"https://colab.research.google.com/assets/colab-badge.svg\" alt=\"Open In Colab\"/></a>"
      ]
    },
    {
      "cell_type": "markdown",
      "metadata": {
        "colab_type": "text",
        "id": "ovpZyIhNIgoq"
      },
      "source": [
        "# Text generation with an RNN"
      ]
    },
    {
      "cell_type": "code",
      "metadata": {
        "colab_type": "code",
        "id": "yG_n40gFzf9s",
        "colab": {
          "base_uri": "https://localhost:8080/",
          "height": 34
        },
        "outputId": "f3edb5ad-4f6a-4c53-912b-7503aba1d8dc"
      },
      "source": [
        "from __future__ import absolute_import, division, print_function, unicode_literals\n",
        "\n",
        "try:\n",
        "  # %tensorflow_version only exists in Colab.\n",
        "  %tensorflow_version 2.x\n",
        "except Exception:\n",
        "    pass\n",
        "import tensorflow as tf\n",
        "from tensorflow.keras.preprocessing.sequence import pad_sequences\n",
        "from tensorflow.keras.models import Sequential\n",
        "from tensorflow.keras.layers import Dense, Embedding, LSTM \n",
        "from tensorflow.keras.utils import to_categorical\n",
        "\n",
        "import numpy as np\n",
        "import pandas as pd\n",
        "import itertools\n",
        "import os\n",
        "import re\n",
        "import time\n",
        "import matplotlib.pyplot as plt\n",
        "\n",
        "import warnings\n",
        "warnings.filterwarnings('ignore')"
      ],
      "execution_count": 1,
      "outputs": [
        {
          "output_type": "stream",
          "text": [
            "TensorFlow 2.x selected.\n"
          ],
          "name": "stdout"
        }
      ]
    },
    {
      "cell_type": "code",
      "metadata": {
        "id": "CFNBXwalS6z-",
        "colab_type": "code",
        "colab": {}
      },
      "source": [
        "posts = pd.read_csv('https://raw.githubusercontent.com/Khlebovich-Alexandra/horoscope_generator/master/Data/final_posts.csv', index_col=0)"
      ],
      "execution_count": 0,
      "outputs": []
    },
    {
      "cell_type": "code",
      "metadata": {
        "id": "sCFXJXt9yQHl",
        "colab_type": "code",
        "colab": {
          "base_uri": "https://localhost:8080/",
          "height": 34
        },
        "outputId": "a01791f5-89ce-48f4-f666-4f1517262549"
      },
      "source": [
        "text = posts.text\n",
        "text = '\\n'.join(text)\n",
        "\n",
        "print ('Length of text: {} characters'.format(len(text)))"
      ],
      "execution_count": 3,
      "outputs": [
        {
          "output_type": "stream",
          "text": [
            "Length of text: 8121558 characters\n"
          ],
          "name": "stdout"
        }
      ]
    },
    {
      "cell_type": "code",
      "metadata": {
        "id": "C5gVHG7ZzTaX",
        "colab_type": "code",
        "colab": {
          "base_uri": "https://localhost:8080/",
          "height": 54
        },
        "outputId": "9c6af355-fa31-48e7-ff7f-d343a1f739d6"
      },
      "source": [
        "# Take a look at the first 250 characters in text\n",
        "print(text[:250])"
      ],
      "execution_count": 4,
      "outputs": [
        {
          "output_type": "stream",
          "text": [
            "сегодня вы можете почувствовать незащищенность и неуверенность в собственных силах. попробуйте проанализировать ситуацию и выяснить, что же так сильно выбило вас из колеи. приниэтого месяца во внимание вашу уязвимость, постарайтесь избегать тех ситуа\n"
          ],
          "name": "stdout"
        }
      ]
    },
    {
      "cell_type": "code",
      "metadata": {
        "id": "XZ0ohEQKzWJO",
        "colab_type": "code",
        "colab": {
          "base_uri": "https://localhost:8080/",
          "height": 34
        },
        "outputId": "f298b78f-0484-4147-b1b9-c5aadc7dbaf5"
      },
      "source": [
        "vocab = sorted(set(text))\n",
        "print ('{} unique characters'.format(len(vocab)))"
      ],
      "execution_count": 5,
      "outputs": [
        {
          "output_type": "stream",
          "text": [
            "86 unique characters\n"
          ],
          "name": "stdout"
        }
      ]
    },
    {
      "cell_type": "code",
      "metadata": {
        "id": "XLKxnJOpzaO0",
        "colab_type": "code",
        "colab": {}
      },
      "source": [
        "# Creating a mapping from unique characters to indices\n",
        "char2idx = {u:i for i, u in enumerate(vocab)}\n",
        "idx2char = np.array(vocab)\n",
        "\n",
        "text_as_int = np.array([char2idx[c] for c in text])"
      ],
      "execution_count": 0,
      "outputs": []
    },
    {
      "cell_type": "code",
      "metadata": {
        "id": "sMAQpucpzh-_",
        "colab_type": "code",
        "colab": {}
      },
      "source": [
        "# The maximum length sentence we want for a single input in characters\n",
        "seq_length = 100\n",
        "examples_per_epoch = len(text)//(seq_length+1)\n",
        "\n",
        "# Create training examples / targets\n",
        "char_dataset = tf.data.Dataset.from_tensor_slices(text_as_int)\n"
      ],
      "execution_count": 0,
      "outputs": []
    },
    {
      "cell_type": "code",
      "metadata": {
        "id": "DsDKTcD1zpEj",
        "colab_type": "code",
        "colab": {}
      },
      "source": [
        "sequences = char_dataset.batch(seq_length+1, drop_remainder=True)"
      ],
      "execution_count": 0,
      "outputs": []
    },
    {
      "cell_type": "code",
      "metadata": {
        "colab_type": "code",
        "id": "gKOQB0YMg_u0",
        "colab": {}
      },
      "source": [
        "def split_input_target(chunk):\n",
        "    input_text = chunk[:-1]\n",
        "    target_text = chunk[1:]\n",
        "    return input_text, target_text\n"
      ],
      "execution_count": 0,
      "outputs": []
    },
    {
      "cell_type": "code",
      "metadata": {
        "id": "foppb26-zvQT",
        "colab_type": "code",
        "colab": {}
      },
      "source": [
        "dataset = sequences.map(split_input_target)"
      ],
      "execution_count": 0,
      "outputs": []
    },
    {
      "cell_type": "code",
      "metadata": {
        "id": "r8kJPO5b0BVF",
        "colab_type": "code",
        "colab": {
          "base_uri": "https://localhost:8080/",
          "height": 34
        },
        "outputId": "0b471997-b5f4-4fa1-c504-7b3ed6fc414a"
      },
      "source": [
        "# Batch size\n",
        "BATCH_SIZE = 128\n",
        "\n",
        "# Buffer size to shuffle the dataset\n",
        "# (TF data is designed to work with possibly infinite sequences,\n",
        "# so it doesn't attempt to shuffle the entire sequence in memory. Instead,\n",
        "# it maintains a buffer in which it shuffles elements).\n",
        "BUFFER_SIZE = 10000\n",
        "\n",
        "dataset = dataset.shuffle(BUFFER_SIZE).batch(BATCH_SIZE, drop_remainder=True)\n",
        "\n",
        "dataset"
      ],
      "execution_count": 13,
      "outputs": [
        {
          "output_type": "execute_result",
          "data": {
            "text/plain": [
              "<BatchDataset shapes: ((128, 100), (128, 100)), types: (tf.int64, tf.int64)>"
            ]
          },
          "metadata": {
            "tags": []
          },
          "execution_count": 13
        }
      ]
    },
    {
      "cell_type": "code",
      "metadata": {
        "id": "1zKS8fmE3SHz",
        "colab_type": "code",
        "colab": {}
      },
      "source": [
        "def buid_model(batch):\n",
        "    vocab_size = len(vocab)\n",
        "    model = tf.keras.Sequential([\n",
        "        tf.keras.layers.Embedding(vocab_size, 256,\n",
        "                                batch_input_shape=[batch, None]),\n",
        "        tf.keras.layers.LSTM(units=1024,\n",
        "                            return_sequences=True,\n",
        "                            stateful=True,\n",
        "                            recurrent_initializer='glorot_uniform'),\n",
        "        tf.keras.layers.Dense(vocab_size)\n",
        "    ])\n",
        "    return model"
      ],
      "execution_count": 0,
      "outputs": []
    },
    {
      "cell_type": "code",
      "metadata": {
        "id": "99E0F3340TKH",
        "colab_type": "code",
        "colab": {
          "base_uri": "https://localhost:8080/",
          "height": 272
        },
        "outputId": "c72c1de1-2b81-4b47-96ca-e6a00d412085"
      },
      "source": [
        "model = buid_model(BATCH_SIZE)\n",
        "model.load_weights('posts_model_symbols.h5')\n",
        "model.build(tf.TensorShape([BATCH_SIZE, None]))\n",
        "print(model.summary())"
      ],
      "execution_count": 15,
      "outputs": [
        {
          "output_type": "stream",
          "text": [
            "Model: \"sequential\"\n",
            "_________________________________________________________________\n",
            "Layer (type)                 Output Shape              Param #   \n",
            "=================================================================\n",
            "embedding (Embedding)        (128, None, 256)          22016     \n",
            "_________________________________________________________________\n",
            "lstm (LSTM)                  (128, None, 1024)         5246976   \n",
            "_________________________________________________________________\n",
            "dense (Dense)                (128, None, 86)           88150     \n",
            "=================================================================\n",
            "Total params: 5,357,142\n",
            "Trainable params: 5,357,142\n",
            "Non-trainable params: 0\n",
            "_________________________________________________________________\n",
            "None\n"
          ],
          "name": "stdout"
        }
      ]
    },
    {
      "cell_type": "markdown",
      "metadata": {
        "id": "vXCluY-90u8J",
        "colab_type": "text"
      },
      "source": [
        "## Train the model"
      ]
    },
    {
      "cell_type": "code",
      "metadata": {
        "colab_type": "code",
        "id": "GTOvqcgmN2fz",
        "colab": {}
      },
      "source": [
        "def loss(labels, logits):\n",
        "    return tf.keras.losses.sparse_categorical_crossentropy(labels, logits, from_logits=True)"
      ],
      "execution_count": 0,
      "outputs": []
    },
    {
      "cell_type": "code",
      "metadata": {
        "id": "Xhq67shL0zjW",
        "colab_type": "code",
        "colab": {}
      },
      "source": [
        "model.compile(optimizer='adam', loss=loss)"
      ],
      "execution_count": 0,
      "outputs": []
    },
    {
      "cell_type": "code",
      "metadata": {
        "id": "1PvPrwC31nym",
        "colab_type": "code",
        "colab": {
          "base_uri": "https://localhost:8080/",
          "height": 34
        },
        "outputId": "542caa60-1d76-459b-9928-1fde3da58f1f"
      },
      "source": [
        "# Directory where the checkpoints will be saved\n",
        "checkpoint_dir = './training_checkpoints'\n",
        "# Name of the checkpoint files\n",
        "checkpoint_prefix = os.path.join(checkpoint_dir, \"ckpt_{epoch}\")\n",
        "\n",
        "checkpoint_callback_2=tf.keras.callbacks.ModelCheckpoint(\n",
        "    filepath=checkpoint_prefix+'_symb',\n",
        "    period=10,\n",
        "    save_weights_only=True,\n",
        "    verbose=0)\n",
        "checkpoint_callback_3=tf.keras.callbacks.ModelCheckpoint(\n",
        "    filepath=checkpoint_prefix+'_symb',\n",
        "    save_weights_only=True,\n",
        "    verbose=0)"
      ],
      "execution_count": 252,
      "outputs": [
        {
          "output_type": "stream",
          "text": [
            "WARNING:tensorflow:`period` argument is deprecated. Please use `save_freq` to specify the frequency in number of samples seen.\n"
          ],
          "name": "stdout"
        }
      ]
    },
    {
      "cell_type": "code",
      "metadata": {
        "id": "G-8uDzfU06Ii",
        "colab_type": "code",
        "outputId": "d0956e2a-7c65-48b2-baa0-e43266935af2",
        "colab": {
          "base_uri": "https://localhost:8080/",
          "height": 374
        }
      },
      "source": [
        "EPOCH = 10\n",
        "history1 = model.fit(dataset,\n",
        "                     epochs=EPOCH,\n",
        "                     callbacks=[checkpoint_callback_3])"
      ],
      "execution_count": 255,
      "outputs": [
        {
          "output_type": "stream",
          "text": [
            "Train for 628 steps\n",
            "Epoch 1/10\n",
            "628/628 [==============================] - 55s 87ms/step - loss: 0.7110\n",
            "Epoch 2/10\n",
            "628/628 [==============================] - 55s 87ms/step - loss: 0.7121\n",
            "Epoch 3/10\n",
            "628/628 [==============================] - 55s 87ms/step - loss: 0.7118\n",
            "Epoch 4/10\n",
            "628/628 [==============================] - 55s 87ms/step - loss: 0.7109\n",
            "Epoch 5/10\n",
            "628/628 [==============================] - 55s 87ms/step - loss: 0.7103\n",
            "Epoch 6/10\n",
            "628/628 [==============================] - 55s 87ms/step - loss: 0.7093\n",
            "Epoch 7/10\n",
            "628/628 [==============================] - 55s 87ms/step - loss: 0.7092\n",
            "Epoch 8/10\n",
            "628/628 [==============================] - 55s 87ms/step - loss: 0.7081\n",
            "Epoch 9/10\n",
            "628/628 [==============================] - 55s 87ms/step - loss: 0.7077\n",
            "Epoch 10/10\n",
            "628/628 [==============================] - 55s 87ms/step - loss: 0.7079\n"
          ],
          "name": "stdout"
        }
      ]
    },
    {
      "cell_type": "code",
      "metadata": {
        "id": "TKVVAFkG3wdh",
        "colab_type": "code",
        "colab": {}
      },
      "source": [
        "plt.figure(figsize=(10, 10))\n",
        "x = list(range(1, EPOCH+1))\n",
        "plt.plot(x, history1.history.get('loss'))"
      ],
      "execution_count": 0,
      "outputs": []
    },
    {
      "cell_type": "code",
      "metadata": {
        "id": "3yYN6Sd9iRak",
        "colab_type": "code",
        "colab": {}
      },
      "source": [
        "plt.figure(figsize=(10, 10))\n",
        "x = list(range(1, EPOCH+1))\n",
        "plt.plot(x[10:], history1.history.get('loss')[10:])"
      ],
      "execution_count": 0,
      "outputs": []
    },
    {
      "cell_type": "code",
      "metadata": {
        "id": "irKcA5mp1kqt",
        "colab_type": "code",
        "colab": {}
      },
      "source": [
        "model_json = model.to_json()\n",
        "json_file = open('posts_model_symbols.json', 'w')\n",
        "json_file.write(model_json)\n",
        "json_file.close()\n",
        "model.save_weights('posts_model_symbols.h5')"
      ],
      "execution_count": 0,
      "outputs": []
    },
    {
      "cell_type": "markdown",
      "metadata": {
        "id": "5RqowQlX1btE",
        "colab_type": "text"
      },
      "source": [
        "## Generate text"
      ]
    },
    {
      "cell_type": "code",
      "metadata": {
        "colab_type": "code",
        "id": "S-EIebF_z-UB",
        "colab": {}
      },
      "source": [
        "model = buid_model(1)\n",
        "model.load_weights('posts_model_symbols.h5')\n",
        "model.build(tf.TensorShape([1, None]))"
      ],
      "execution_count": 0,
      "outputs": []
    },
    {
      "cell_type": "code",
      "metadata": {
        "id": "dJYRm-_C11EG",
        "colab_type": "code",
        "colab": {
          "base_uri": "https://localhost:8080/",
          "height": 255
        },
        "outputId": "96cc522d-bdf4-4121-f1f3-f9b2d0802841"
      },
      "source": [
        "model.summary()"
      ],
      "execution_count": 17,
      "outputs": [
        {
          "output_type": "stream",
          "text": [
            "Model: \"sequential_1\"\n",
            "_________________________________________________________________\n",
            "Layer (type)                 Output Shape              Param #   \n",
            "=================================================================\n",
            "embedding_1 (Embedding)      (1, None, 256)            22016     \n",
            "_________________________________________________________________\n",
            "lstm_1 (LSTM)                (1, None, 1024)           5246976   \n",
            "_________________________________________________________________\n",
            "dense_1 (Dense)              (1, None, 86)             88150     \n",
            "=================================================================\n",
            "Total params: 5,357,142\n",
            "Trainable params: 5,357,142\n",
            "Non-trainable params: 0\n",
            "_________________________________________________________________\n"
          ],
          "name": "stdout"
        }
      ]
    },
    {
      "cell_type": "code",
      "metadata": {
        "id": "E5pQgjCz14ao",
        "colab_type": "code",
        "colab": {}
      },
      "source": [
        "def generate_text_symbols(model, start_string):\n",
        "  # Evaluation step (generating text using the learned model)\n",
        "\n",
        "  # Number of characters to generate\n",
        "  num_generate = 3000\n",
        "\n",
        "  # Converting our start string to numbers (vectorizing)\n",
        "  input_eval = [char2idx[s] for s in start_string]\n",
        "  input_eval = tf.expand_dims(input_eval, 0)\n",
        "\n",
        "  # Empty string to store our results\n",
        "  text_generated = []\n",
        "\n",
        "  # Low temperatures results in more predictable text.\n",
        "  # Higher temperatures results in more surprising text.\n",
        "  # Experiment to find the best setting.\n",
        "  temperature = 1.0\n",
        "\n",
        "  # Here batch size == 1\n",
        "  model.reset_states()\n",
        "  for i in range(num_generate):\n",
        "      predictions = model(input_eval)\n",
        "      # remove the batch dimension\n",
        "      predictions = tf.squeeze(predictions, 0)\n",
        "\n",
        "      # using a categorical distribution to predict the word returned by the model\n",
        "      predictions = predictions / temperature\n",
        "      predicted_id = tf.random.categorical(predictions, num_samples=1)[-1,0].numpy()\n",
        "\n",
        "      # We pass the predicted word as the next input to the model\n",
        "      # along with the previous hidden state\n",
        "      input_eval = tf.expand_dims([predicted_id], 0)\n",
        "\n",
        "      text_generated.append(idx2char[predicted_id])\n",
        "\n",
        "  return (start_string + ''.join(text_generated))"
      ],
      "execution_count": 0,
      "outputs": []
    },
    {
      "cell_type": "code",
      "metadata": {
        "id": "VbAfTx0f1_4q",
        "colab_type": "code",
        "colab": {
          "base_uri": "https://localhost:8080/",
          "height": 190
        },
        "outputId": "028c05cf-addb-42ea-98d4-834eff08d2cc"
      },
      "source": [
        "print(generate_text_symbols(model, start_string=u\"сегодня \"))"
      ],
      "execution_count": 259,
      "outputs": [
        {
          "output_type": "stream",
          "text": [
            "сегодня вам предстоит упустить во всем, что касается отношений и чувств, плюсь от бреду, но могут с плечить вас не только поделиться своими союзниками, просить новую линию поведения в своий интерес, то покупка сорветесь, не увлекайтесь само собой. причем возможность как материальная боль и переживает их осуществление.\n",
            "завтра звезды подарят вам возможность узнать своего партнера какую-то тех, кто якорах, мелких детях предвидится неожиданное решение передвижение между вами и вашим коллегам и сферы возвышенных обязательств.\n",
            "вряд ли справитесь с раздражительности. крайне работа в области личной. вплоть до сопротивления. зато в личной жизни можно будет доводить до конца какой-то свадьбе и способности осознаваться, и вы сделаете все, достоин энтузиазма у вас аргументы игралкочего понять, что его простоянно сохранитса хорошо. к счастью, что не допустить свой путь или занять альтруние незнакомых партнеров и укреплений.\n",
            "завтра звезды в любом случае, есть опасность чувством других, выяснения отношений, свое внимание на темп вызвать вас и до выполнить их веру.\n",
            "вам не стоит надеяться на язвительными, проблемы поможет избежать направдриями действий.\n",
            "выам не стоит принимать такие ревновать ухаживания. день благоприятный для начала – лунгия у него в свою очередь, по классмулях блестящих результатов. вы стараетесь организонами срочных вопросов. возможна повышенная сторона взаимопонимание.\n",
            "удачные планеты, требующие больших перемен. в финансовых вопросах рубом противник, форсировать события или родственники. вам будет чрезвычайно заменен мечте, а лень ит избавиться от разного рода неприятных нюансами соблазн, особенно, так и впечатлития или разнообразие, и к сейчаснику: звезды обещают водолею завоющую «попытку для вас гораздо больше, если между вами и вашим любимым человеком хорошо осматутенцеплее привычное куда много греза, пах, от кого можно мешать. после чего сегодня она да еще и находится в равой эйфорие избавиться от него ещё постараться оказать мудрость перед реальностью\n",
            "завтра для выа настало время получение крупной формы полностью перерыв все испытание не догадывается е положиться на вечеринка. звезды гороскопа советуют вам заняться решением правил хладнокровно и психологическая встряса, разгорени настоять на свежем воздухе. это неподходящим глажениям, улучшением электронников, которые не смогли поистине нетурный опыт, занимающихся обстоятельством, трезвым проектировам могут вызывать у вас восторге окажется потраченцию.\n",
            "не стоит на высоком уровне. день подходит для любых начинаний. старайтесь не выход из лоия книги и полудню на голову в двигательную вторую половинку. завтра даже рядом с вами яворит окружающие, и тихоступки - как в рабочной. бытовые уступки всегда считали с их воружающим вопросам! наоборот, публикам) меры и ковезды скажут, что сегодня любые намерения вас не успеете назначить ему о своих размышлениях с коллегами и опытом по возрасту: «самочувствие, вы можете лишить вещи друг друга. заниэтого месяцась за неприятное злоупойствовать до милейшей вероят\n"
          ],
          "name": "stdout"
        }
      ]
    },
    {
      "cell_type": "code",
      "metadata": {
        "id": "4LxhWymls-X3",
        "colab_type": "code",
        "colab": {
          "base_uri": "https://localhost:8080/",
          "height": 275
        },
        "outputId": "d89405f2-0963-47b7-aba3-bf897e513000"
      },
      "source": [
        "print(generate_text_symbols(model, start_string=u\"сегодня \"))"
      ],
      "execution_count": 260,
      "outputs": [
        {
          "output_type": "stream",
          "text": [
            "сегодня уделите немного времени и остальным.\n",
            "гороскоп предсказывает большой ценной. но, активизируют зовуют фиальную улыбка можно, но оно в меру.\n",
            "не приниэтот месяцте сценарий на работе, а задний претензий. настоящие серьезные траты, отпоийся к успеху угаснетия, которые давно настоящим и помогать в мирных переживаниях. просто учтибять прост: никогда не переласт им сильное положение стрельца на пути. возможны осложнения в деликет. постарайтесь ко всему относиться с времьем, но хорошо тактично, ведь чувство поддержат – всему торопите на места. проверьте свою любовь на романтическое свидание поможет вас не соберетесь на удачу в чем-то умом, причем достаточно воспринимать все то, что обеща преподносильше...\n",
            "в течение всего дня следующие вместо с членами семьи – в одну нервы.\n",
            "тенденции этого дня в целом. а в страшных месте вам могут воплотиться, все получится.\n",
            "вы осторожны, поэтому вы все обо всем с ны достижения пассивным образом жилеть. если у вас такой вопрос, как далеко дорогого вы были сейчас прех неотложных встреч, ориентирован, некоторая информация для того, чтобы это осуществить. не нервничать об этом, тем больше слегко ухудшится предпосылки для удачных вещей долгосрочной ствесли вы включите, то и рассказать какую-то беседа. постороннее влияние может заставить серьезно посвятить их встрече с друзьями. это определенно гороскоп на сегодня срак. возможно, вы совершите покупки, день для отдыха, физических нагрузок, активный контрактов. постарайтесь наро на реализацию чужих правил и личных.\n",
            "завтра – отправляйтесь оградить вашу уверенность в себе, чтобы смениться расстраиваться из-за пустяков и просто погулять по этому вопросу – не рискуйте детям.\n",
            "в этот день могут обратиться за помощью к хорошо представителями моральная признательность в желание поэтому удивляться, отнеситесь к своим сномечтам. сохранить препятствия и применение своего момента и интуиция. обратите внимание на успех в общении, однако стабильным – любое решение в делах, связанных с близким человеком или вывести какое-то время, так как прежде чем совершить дела.\n",
            "особых и типологических меболи. уверенная деятельность приведут к возвращением дипломативных решений – с барасстаивать свои жизненная чрезмерно. если же у выа есть партнер, стоит либо делать добавляя рамок, то это ему все нравится. если они подходят их компромисс эгоис-реск вокруг одного из этого не в тишом положении, главное, что вы себе сделали привнесудущего. вам придется решать дому и бесполезным делам, от критики.\n",
            "начинается перенести наоборот, оставайтесь верный путь.\n",
            "сегодня вам стоит подумать на те тех, кто вам дорог.\n",
            "успех будет говорить на него. на вашей стороне.\n",
            "вы нет, им стоит провести этот день в кругу семьи или соприкости и оттенок), что вы хотели позадить, завтра отличный день для экспериментов со своими силыми того, что происходит. если вы не хотите ожидать чрезмерно агрессии и застенчивы, поэтому не привлеките успеха. вы избежите из всех необоснованных условий и узнать.\n",
            "в обозриях. только в этом случае любых излическ\n"
          ],
          "name": "stdout"
        }
      ]
    },
    {
      "cell_type": "code",
      "metadata": {
        "id": "NcUr9_M8tA9W",
        "colab_type": "code",
        "colab": {
          "base_uri": "https://localhost:8080/",
          "height": 156
        },
        "outputId": "61a4a948-e07b-4aa4-907f-ce36ff046721"
      },
      "source": [
        "print(generate_text_symbols(model, start_string=u\"сегодня вам\"))"
      ],
      "execution_count": 261,
      "outputs": [
        {
          "output_type": "stream",
          "text": [
            "сегодня вам придется выполнить таковое удовольствие, попавьте партнеру выа не стоит рассчеты, выяснить отно, и на объяснению презентации, чтобы преодолеть неожиданное моменту, списку завтра  может проявить к любимым желаниям; оптимизм, друзья и родственники обеспечен легко, недорабля вас мест.\n",
            "удачный день перемен в окружающих. вас посетит мельку то и системного сообразить, лучше немного времени для претворять разные люди, а также все организаторские тихизме. ведение переговоров или эксперторами. могут открыться стрельцу умение идеального миру рожденные белоги за большим типать и своих напитков.\n",
            "несмотря на то, что в делах словесное блюдуете на важные встречи.\n",
            "завтра вы будете особенно разнозконны и срывы, даже физическая деятельность непревного, не придется приклядываться сократите свой бюджет. вы. в сереседника любимого человека или опрометчивые последствия. многие вы будут заниматься путешествить без особых операций касательно важных игр выам звезды рекомендуют посвятить финансовым проектом – возможно, он нуждается в вашем настроении вдохновят не следует, с кем стоит проявить к нему и ценные решения. с окружающими вас людьми не откладывать долги. лучше отложить какую-то глубокий смысл, но при этой ситуации предстоит довольно докумчить его высказывать можно в коемеднем-то не так, как он себе уже завтра им не довольно многого достичь пристрастельства, а также осторожность. возможно извинения профессиональных делах. отсязи и официальные бутали. в этот день необходимо разобраться в сложившейся ситуации. необдуманность ли речь о других мнениях, используйте любые знакомства. в этот день очень благоприятный период радость и требуют много усилий. нежелательны времени улучшения самочувствия и настойчивость. весьма вероятно, что деловые партнеры подарят те, кому позволите очень резко начать двигаться вперед. для воплощения хлопоты на больному подобным действиям. будет удаваться лжи, однако сегодня ваш любимый человек будет занят в вашей жизни, в том числе, и для того, чтобы все сделать покупку. последствия отличных поступков, мучить заболевания желудка, что вы часто мгнужительная отличаться не оставлять внимание вас, если не будет слушать, особенно если речь идет о поиске дополнителей, чтобы обсудить в положительном транспорм. вам представится прекрасная вечеринка, а тем, кто вас окружает. хотя, вопреком пыть орамичень, кранность в общении и деловых проблем на вашего любимого человека.\n",
            "очень сложный, с коллегами и обмань. все, что он для вас не поможет.\n",
            "некоторых дел вы успеете заждаться в своих чувствах, массы почему не помешает собственной. оригинальные курсы могут не орозить время и силы полюбит или помогут как следует изменить – лучшит в вопросах взяться за ока знающегося положения и намерения. тем, кто ему дорог, нормально. опирайтесь на чувства партнера. осуществление которыр можно устроить - здесь выбрать то хного иях с любимым человеком или кем-то более человеком, с которым свяжете двойной ситуации.\n",
            "первая половина дня может начаться к вам. это хорошее вре\n"
          ],
          "name": "stdout"
        }
      ]
    },
    {
      "cell_type": "code",
      "metadata": {
        "id": "Z849gWbhtuSe",
        "colab_type": "code",
        "colab": {
          "base_uri": "https://localhost:8080/",
          "height": 190
        },
        "outputId": "193b4b1a-d47c-43ab-c015-4fd8c0292de2"
      },
      "source": [
        "print(generate_text_symbols(model, start_string=u\"сегодня \"))"
      ],
      "execution_count": 262,
      "outputs": [
        {
          "output_type": "stream",
          "text": [
            "сегодня вам придется справиться с любой задачей, прилегами в парикмахерскую работу, возникшие в такие дни, как может поведение вашего партнера. и какие-то события и чувства, что вы уже давно нашел вас не совсем. при условии, чем обычно, с которым он справились со тем самым основку. если вы будете внимательнее относиться к поиску положительной откроют перед вами в пищу партнера к советам.\n",
            "усиливаются жизненный потенциал и женщиной важной информацией.\n",
            "сегодня вы можете чуть-чуть желанную препрусмены и снять то, что вы относятся к взаимной и случайной крите. приготовьтесь к действуйте волю своей выгоды и уши подойдет вам в этот день немного дополнительного дела, от которых вам даластроение на пустяки.\n",
            "вам завтра проявится внимательное настроиться на месте. полезно свелять и оценить источники сообщения. одно свежем воздухе побежде дела и оставить то, чем могли бы вывести их до конфликта. если бы вы заначали все же не следует. насильно подойдет для тех, кто имеет объективности в личной жизни. возможно, вы и его одиноки можете расслабиться и оттого строгого-то стрельца, и именно сегодня они бук в течение доходаром. это может обернуться проблемы. откровенным обществом долгосрочных для вас творчества. в разгоревшемся конфликте будет отмечен. избегайте непредвиденных обстоятельств, да заге может повлечься немного вступить в определенное предпочтение. так в семейном счастье и непредсказуемость нервов вперед. в попытке вздля выам на шен-то из-за вопроса, время, а вовнесе нужно созрели для глаза в стабильном пространстве. постарайтесь не делиться вышестоящими лемами, даже если они избавятся дела, выполняйте то, чем значительно улучшится.\n",
            "завтра звезды советуют стрельцу не пренебрегать хорошие сюрпризы ите на каждой мелам и забота со стороны отнюбимости. возможно, вы стихомог или просто необходимо окунуться в авантюрные методовенно ему приятно.\n",
            "завтра для ведения справедливости.\n",
            "не исключено, что именно сегодня вы сможете привести лишню, поездка или переводить из активный дел дома.\n",
            "выам сегодня стоит придерживаться успехов и постоянно истерики. опытывяйте их.\n",
            "завтра лучшей стрельцу романтическое свидание лучше не располагают, но такие дни никогда безобидный фантазий маленьким способамиссть новые свежие обсуждения, ауда и общеприженная работа, даже если при строите сегодня хорошее путешествие или прямоли на все сто. сна в отношениях с любимым человеком станут радость и удовольствие от этого близкие один из ваших общих приятелей займитесь своей репутацией. постарайтесь заняться переработкровенными всплестаться с возможностью отложить ваши партнёры – они изменятся его взаимностью. они должны избежать, проасайтесь делиться интересными делами. если вы подходит дело до конца, но результаты могут помешать вам создавшуюся гитке, только из-за которых вы давно не влюблены, и вы можете прийти к успешным действиям. появится возможность реализовать свои намерения в общении с партнерами. учтите, если у вас появится возможность решить для себя на борьбу с трудовой дискомфорте, инту\n"
          ],
          "name": "stdout"
        }
      ]
    },
    {
      "cell_type": "code",
      "metadata": {
        "id": "G7wvkMDCtvmd",
        "colab_type": "code",
        "colab": {
          "base_uri": "https://localhost:8080/",
          "height": 207
        },
        "outputId": "c2e39e34-0392-4f2d-b771-96b55bacda15"
      },
      "source": [
        "print(generate_text_symbols(model, start_string=u\"сегодня \"))"
      ],
      "execution_count": 263,
      "outputs": [
        {
          "output_type": "stream",
          "text": [
            "сегодня вам не следует принимать слишком близко окончательного посуганность. это поможет укрепить отношения и подняться по карьерной лестнице. существует вероятность реального обстановка, в обществе бытовые конфликты и стать причиной для передвижения. вероятно, благоприятное время для встреч, поездок, а также большие день. если бы стрельца прогадаются, чего вы добьетесь своих много наборот, нужно совершить оптимальные вы сумеют справиться с проблей. вы оцените свои силы и не торопиться с прежними радость (решение проблем, значит, вовремя другого вами человека, включая люди ли все возможное. так по укреплению здоровья. отдачный день как организует провести вечер вы наконец-то обоих нарушения запреты власть ошибок есть. не стоит давать обещаний, готовность проявлять инициативу в конце дня, возможно, вельтаточно объединить жесткую и проверяйте в долговременном умонастроении, если вы сумеет подвинуть на вещи, способствующее время» - это не может сказать ему обязательно.\n",
            "вы добиваете для себя всяческих убеждений.\n",
            "вам сегодня предстоит хорошо подводить ваш день. он будет крайне во вред. исключительно ли, чтобы отдалиться отношения с руководству. взять на себя обдумывание своего настроения, а в любви. каждая млячь небольшой агрессивности. проявляйте больше заботы, идеи книгой». и водолею по сексуальную жизнь.\n",
            "в этот день вы будете склонны пробовать придерживаться опытв, особенного во всех вместе.\n",
            "сегодня вы явно упорядочениями. проблемы советах тельца. этот день проявляйте интерес к активной деятельности, так как может резко утверждают за собой финансовые трудности могут вам почувствовать, что окружающие то вы сердится. особенно необходимо проявлять инициативу, вам нужно будет уделить внимание вести здравомырес же.\n",
            "этот день в плохо сознание теплого. пришло, его задачи или известность. найдите зядут серьезные перемены.\n",
            "все ваши будут становиться без работы, оцените себя чужими делами. приятной или презентацией. все, что сегодня очень знает вашей долгосрочный выбор. избежать неприятностей с остальными проблемами, требующие быстрых результатов. если в личной жизни свое здравое салковременные последствия. в решении финансовых вопросов будут сплошны тем, что делать из запланированных до лучшего.\n",
            "благоприятный день для любви. людей на утренний момент у вами в мечтах, организуйте возросшее всегда приятное или элеменно. чтобы приэтого дня, если у вас что-то так уж важнее всего.\n",
            "вы можете стать планом для весельности, это поможет осуществится, если вы проявите интересы в деловой сфере и даже в работе, когда можете вывести из себя мягкого морального положения. следите за потом, прислушивайтесь к мелочам. блеснять кредиты, заниматься оданными проектами; двигаться вперед в обществе. постарайтесь договориться со старыми друзьями по поведению, в тот жест благоприятным образом. встречаться с трудом на бреля. нельзя все выяснять отношения с близким человеком, имеющей неудачайте это день испытаний или опасные. привычные обстоятельства имеют перспективную.\n",
            "сегодня многое будет \n"
          ],
          "name": "stdout"
        }
      ]
    },
    {
      "cell_type": "code",
      "metadata": {
        "id": "voOKaz8DtxjB",
        "colab_type": "code",
        "colab": {
          "base_uri": "https://localhost:8080/",
          "height": 241
        },
        "outputId": "70121c33-7032-4752-a1db-fa83ffe63527"
      },
      "source": [
        "print(generate_text_symbols(model, start_string=u\"сегодня \"))"
      ],
      "execution_count": 264,
      "outputs": [
        {
          "output_type": "stream",
          "text": [
            "сегодня вы будете разобраться с болоток, что в этот день не следует браться за трудные дела обстоят свою искренность полностью довольствуйтесь своего характера оценена вашей всех негатива приходится как можно больше распрострамсть. женщинам-вам звезды советуют сосредоточиться на чужие неприятности, последовательными. вос-таки рес и во благо власти.\n",
            "в этот день вы будете уделять повышенное внимание своего детства. вы прекрасно свадьбыть и располагать к тому, что вам будет не хватать. вам следует остерегаться или давать своего юриду. сил и энергии для достижения гарантий, мешать вам реагировать на непредсказуемые поступки. не обращайте внимания на пару-тами.\n",
            "сегодня вы будете подумать в общении с ним, завтрашний день удача покажется уровень интерес весы в себя - воспользуйтесь; проявите осмотрительность и сдержанность.\n",
            "можете сделать много. конечно же, на волне нежелательно раскрывать. звезды расположены к окружающим людям и догадаться в свою личную жизнь.\n",
            "составьте план действий и выражении своих планов. проявите бешные дни.\n",
            "хорошее время для разного рода ноги, узнать что-то новое время. возможно, вечер объема могут обоить себя, чтобы они были обиды. будьте упущенные вопросы, обнаружив занятие, которое следует совершить романтическую импульсу. а за что не стоит искать сильней. однако, случайная команда и иллюзиям и жете поделиться своими силами, завтра посоветуют уходить от спиртных напитков.\n",
            "завтра звезды привыки осущесями. к счастью, разбираетесь со всеми своего пофлиртовать; тем более - общую половину дня вы будете очень рады, что время откроется романтическим отношением. это хороший момент для свиданий, вы завтра весьма напряжённы: с финансами, разъездами, хорошо путешествовать на дно. вы-то вряд ли узнаете, то завтра лучшим оружием, нобей.\n",
            "в этот день вам придется понимать, что помешает соревновать с прошлым и полноценным принципиальнымение.\n",
            "вы можете оказаться не просить ваших мыслей. будьте разболь, а также заняться собственным умстренодора захочет проявить незнакомые, грубость у нега и на его долгосрочно почувствовав, что с коллегами по ситуации не принесет достойные мелочи. трудновье. велика, а в такие действий. однако помогающие к конфликтным скучением или неожиданное удовольствие.\n",
            "критический день может оказатьствовать смелости и интересных знакомств. удачная переписка недоброжелательно, как вы думаете, будете давать вам свои таланты. постарайтесь больше времени проводить вне дома. не планируйте никаких самореализации. с лющимеете. постарайтесь быть внимательнее к тем, с кем вы должны были главным, но по-прежнему находчивость. каждый супружеские шопию, а в этом домашний день можно проявить характер. нынче следовательский отдаваться в совместный отдыху т хотя бы сейчас особенно руки (например, особенно если егодня на пределе принятие важных и треперех. постарайтесь сосредоточиться на выставка о том, насколько вы скоро напасть у стрельца есть диска, завтра судьба.\n",
            "многие велько проверенных случай.\n",
            "запланированный нашений! суть вас волнение ощущен\n"
          ],
          "name": "stdout"
        }
      ]
    },
    {
      "cell_type": "code",
      "metadata": {
        "id": "p9ED_noLt0sy",
        "colab_type": "code",
        "colab": {
          "base_uri": "https://localhost:8080/",
          "height": 173
        },
        "outputId": "8ebba437-8ae6-4554-f434-beb808b7a044"
      },
      "source": [
        "print(generate_text_symbols(model, start_string=u\"сегодня \"))"
      ],
      "execution_count": 265,
      "outputs": [
        {
          "output_type": "stream",
          "text": [
            "сегодня стрельцу будет казаться, что время замир собственной леть от вашего желания о знакомств. вечером у вас в вопросах проблем выа смогут пересмотреться полной инициативы. если же вы желает что?\n",
            "сегодня ваш внезги не она втов, так и в личной жизни. звезды не блазнание – успеха вызовет у вас повышенное количество обещаний.\n",
            "придется потратить необходимым членов с новыми знакомыми. старайтесь не давать воли небольшие сердечных усилится, не рекомендуется. устарело, но главное предстоит сказать в дальнюю дорогу, сюрпризы, вести полезные знакомства или встреча, проведение материального бресецах вещей. вам следует путешься от неожиданностей, то просто провести вечер весело и мнительно старшим месяцым результатам близких людей: этот день может прийти в голову овна, фантазию и отстаиваясь на покультуной. особенно, если вы думает, оно соответствует на работе, тишь любят проявлять изображать знаки внимания на своих зайцев проявить активность в последнее время сделать нелегкий водолею, так что и не стоит предпочесть что-то совместное увлечение. вам придется сделать вам комфорт остальные известия, сосредоточение со знаком своей второй половинки. и сегодня овну и его избраннику зерюально прибавится, вам необходимо всеми силами избегать доволен вашей профессии, тем более что выбираете против ва нерешенных, тем лучше для весов без является неожиданностью, впоследствии отнеситесь к вашему любимому человеку о своих чувствах, может оказаться вещим. выяснится, что вы не справитесь верить в ростак. вполне возможно, тот день, когда все было очень важны. единственно, восто удивляться самое пороже, если вы продемонстрируете недостаток снов, особенно если нише конфликтости.\n",
            "завтра для вас вожде искать время для командировки, в двеало, произойти ей будет немало, как обычно. такая уж особенность у многого, и же в его жизни искренне поистинет.\n",
            "выы могут окончательно пивыми коллегами. основное внимание уделите отдушие дополнительный проект, задуйтиться! следует планировать что-нибудь такое, о чем избранник не совершить страстей вместе с ними.\n",
            "выим здоровьем и удовольствиях.\n",
            "вероятен успех, особенно для мужчин-весов, занимающихся коммерцией переменчивости. правда, заручитесь подарком судьбы. если вы допустите приятные действия с противоречиями. обстоятельства этого дня – велика вероятность участия в дискуссиях и партнерстве, когда реализуе может свести начать работу. энергия будет зависеть успех всех отношениях. ближайший день составительного взгляда или телевизируется с легкостью уважить всех негативных крупных влаблев, вы легко будете справиться со всеми делами. наслаждайтесь самопределенным вопросам, ксом, однако вы тоже можете за собой больших результатов. вероятны денежные поступления, здоровья, встречи с друзьями. если хотите преодолеть свой творческий потенциал и фантазии.\n",
            "возможно, вы получите перспективные полемы, а также представители знака знать несколько линцах), знательно с вашей стороны. преодолем препятствий на бурные спутные просчеты. не откажите в прошлое, неосмот\n"
          ],
          "name": "stdout"
        }
      ]
    },
    {
      "cell_type": "code",
      "metadata": {
        "id": "ivogpD8SwF-a",
        "colab_type": "code",
        "colab": {
          "base_uri": "https://localhost:8080/",
          "height": 173
        },
        "outputId": "23d45709-eae7-4ecf-d6cd-aa0d5f8e231d"
      },
      "source": [
        "print(generate_text_symbols(model, start_string=u\"вам \"))"
      ],
      "execution_count": 266,
      "outputs": [
        {
          "output_type": "stream",
          "text": [
            "вам следует взять полное подходящих мероприятий к тем, кого вы испытывают на резко упорство и полезно, если огу, чтобы понять, кто-то из ваших друзей и объединя вы сумеете справиться с любым сотрудникам или ресторанания. побольше внимания доставят драгоценный момент вас, и вы будете искать выход даст чем-то еще идет, поэтому вам стоит сегодня полезна физическое печто сейчас для вас или он далеко не времени, чем вода, использовать не в его душе, наверное, судить на негостранное, чтобы требовать от вас аже сердечных. пригодится в вашей деятельности, вность из общего делаэтого месяцась зо строёть лучше, чем вы есть на замечателями отношений со случайными людьми. следует найти силы на работу и отправляйтесь в басслегайте в разработки своего рода бюрократических способностей. вам придется сделать первые шаги к решению профессиональных вопросов. прислушивайтесь к мнению и могут оказать двою важное место служить чудеса собственной. хорошие недосоления будут постоянно напоминать все с первого раза.\n",
            "вы успеете перед тем, как откровенничать природу. ведом многих вас статьязьте себе романтический вечер своим спонены и получить от себя работу. толкать вы влюбились. если у водолея есть вероятность, что близкие, обаяния, властно, полученная встреча, непредвиденные траты, посещения храми. вероятны сложности в отношениях с близким человеком или старшезренных слов. неуверенность небогов, или обучения, спутника на службе, особенно с молодции и чувствами. это неплохое время для начала романтических отношений с покупками.\n",
            "вероятно, сегодня любозвездки могут затормыми давно перестанет быть непосильным. в пути возникнуть и, кставать у вас будет шанс неожиданно получить от свою половинку. если окажетесь в ценных делах день ожидает, что случай будет знать, завтра отаю теперь как-то «все это посвятил вам настроение. во второй половине дня желание привлечь внимание лихо настроения.\n",
            "вы откажитесь от любых пустяков, лечение практичного решения. и если она как разбительны.\n",
            "вас ждет напряжённый день, проходит под знаком молодежности.\n",
            "утро будет нереальным, мужем. полезны физические переживания и противостояние, если вы откажетесь от скорость повышения кредиты и забыть о новой сфере деятельности. только объединив в моде и те, что вас слишком много времени с огняточно вовремя руки и одарите людей, с которых вы сейчас у вопитываете. так возникнут какие-то новые, превращаться к своей цели. только в конечном вы можете себе позволить печально, что если с окружение не прочь походы на рабочем месте, поэтому раньше вы будете излучали по угра, где вы сами не заинтересуете. не стоит говорить с другими поверить те перемены: совершенно неудовлетворенность удовлетворить свою личную жизнь. поэтому отнеситесь ко всем ранее знакомствам. один из самых усилий общения с противоположным полом сами вы себя обидел для этого предполагаете.\n",
            "завтра погоня за нее, романтика со стороны людей.\n",
            "завтра вам стоит более внимательно они, ень сможет найти общий язык прешествующими элемено и не тратить деньги в дол\n"
          ],
          "name": "stdout"
        }
      ]
    },
    {
      "cell_type": "code",
      "metadata": {
        "id": "3U-cqgt8wGNP",
        "colab_type": "code",
        "colab": {
          "base_uri": "https://localhost:8080/",
          "height": 258
        },
        "outputId": "cdebe2c6-9311-472d-dc8a-c60243fcad42"
      },
      "source": [
        "print(generate_text_symbols(model, start_string=u\"вас \"))"
      ],
      "execution_count": 267,
      "outputs": [
        {
          "output_type": "stream",
          "text": [
            "вас дний момент сделать для вас глазами. для успеха саморвать тельца женачно, в течение дня возрастет глаза и уши откудать, постараться не торопиться и уделить внимание себе. в скором времени все получится. завтра прогнательностью. если вам удастся реализоваться наилучшим образом отразится на деле\n",
            "этот день может показаться весные, «поровное свидание.\n",
            "завтра у стрельца есть шанс узнать мнение о своих ошибках не дадут сложишком глубокой встречи с дальними родными. но очень обидно, можете беседь по делу.\n",
            "благодаря деятельностью, валить вам на айтесь заниматься молчаследлить оказывать сцены или делать в целом. если встречают, что в конке касаерасно иное слово или действия определенно. вечер вам предстоит приобрести ми-то слишком блестящи. лучше остановиться и постараться пообщаться детей, вряд ли вы это одновременно – вещь, определенно питания. утро, если вы утратите личная жизнь в лучшем свежении выов. время от них откровенно подойти к какому-либо делу душой, чем приперечить всем. только и ждать.\n",
            "завтра – день, когда льву поддержите ее тайные стрельца ожидают приятные встречи и переговоры. «водолея. вас выстриял продолжение успешного путешествия и отличные шансы наставить на завтрашний день вы использовали своему любимому человеку что удивляется вашей основной стороной. вероятность успеха вряд ли окажется с вами по течению».\n",
            "будьте осторожнее, и в виде пора сродны и лишние вами интересы. холостно, любовь будет не всю вмешат. отношения с близкими людьми вожь по какому-то другому легче.\n",
            "не стоит браться за традиционные решения. больших сердечках, требующих нехрасти что-то помед доказал необходимо определить проблему и активно искры и лечиться деликатность, но и зарядить элементарности, зачем вы, не так уж важно. что кто-то из вас до этого не является ваша учитывать, чтобы заработать спокойствие силятного отъездах, на рынового союзников. честь свои космогут опасаться нервы.\n",
            "вероятен крупные суммым количество профессионал этот вечер показывает, с их стороны могут косную точку педется, вридется сделать выбор – это сулит советовать бдльных обязанностей. вам, возможно, постарайтесь уходить от споров с кем-то из членов семьи, организации отрожка или даже, что вам не хватало другого, не предъявляя будут водстречений для себя, не давайте необдуманных ощущений.\n",
            "завтра  вы будет твердо способны подколкив на себя глазами себя, и это замечает воспользоваться, всегда выдуэтот месяцте: по воздушевным обязанностям возникают изжительно продумаете острые действия и имеющие события своего благополучия. в этот день вы научитесь весным!\n",
            "велика вероятность пополнительности. не следует путать решаться полезным и миролю. звезды готовят вам под свою точку зрения за прогулками как можно неосторожность.\n",
            "завтра стрельцу рассматривание – вас поджидает успех. постарайтесь не слишком привигайте к своей интуиции.\n",
            "день будет благоприятствовать вами избавиться от него. семейные друг не ожидает.\n",
            "будьте внимательнее к медлизких людей. самобытное известие может оказаться с яркими в глазах \n"
          ],
          "name": "stdout"
        }
      ]
    },
    {
      "cell_type": "code",
      "metadata": {
        "id": "VljMbtxGwGWM",
        "colab_type": "code",
        "colab": {
          "base_uri": "https://localhost:8080/",
          "height": 241
        },
        "outputId": "2486867e-9191-4a53-8850-79b0d5530151"
      },
      "source": [
        "print(generate_text_symbols(model, start_string=u\"вы \"))"
      ],
      "execution_count": 268,
      "outputs": [
        {
          "output_type": "stream",
          "text": [
            "вы и доверие, посильную система в статус и положиться в вас ответственное отношение к жизни.\n",
            "гороскоп рекомендует тельцу побыть музыка 7017 какую-либо сильнее и суждено было бы демонстрацией или моральной увлеченностью.\n",
            "вероятно, что как никогда былапками.\n",
            "сильный эмоциональный флирт, можете разведайтесь от несколько урегулирования планов, на кто завтрашний день.\n",
            "если сегодня можете оказаться нелегко: в этом процесс, обдуэтот месяцте свеча, тем прет недоброжелателей на бизнесу есть незабываемой гени. возможно, берегите себя в выгодном свете, во-первых, элеганте так, проявив время на совместимость, пропасться на горизонтидется осознать, особенно если они в романтических операциях - обычные порывы. уделите особое внимание работы и великодение крепоставить точные практические способности, тихое наступине, и вы не придержите каждое из того решения.\n",
            "найдите заработали, проявляя активность и заниматься своими задачами. необходим использовать весь арсам в сложную щисах, способны кому-то помочь и, и сейчас вам казалось неожиданно. вы искренне проявлять инициативу и взвесьте, что вас ждёт дела с собой на удивление много, ускоряется народиться. ведите до минимума, и тсрой половине дня на призы ваших контактов, то уже выкору. вты, которые вскоре приходится отложить относише. замей причесует вам вдачу в будущее. если вы чувствуете, только не стоит предпринимать решаться развитием отношений с коллегами по работе, когда вы пройдет ряд проблем. для достижения график вперед будет хорошим). успешно пройдет поговорить с невремя спокойный день. постарайтесь сыграть решение вопросов следует использовать знания в судьбе. будьте терпеливыми – и азартных игров, и учет.\n",
            "день шля анализа происходящему жертву дипломатичных целей.\n",
            "завтра звезды призывают стрельца поспорить о том, кто умеет предел, соответствующим деталем, и сегодня многое будет зависеть от вашей беседвезд», они едва ли удастся.\n",
            "не давайте сейчас не смешивать и заботиться. избегайте серьезных финансовых трат.\n",
            "вы в этот день поддаваться эмоциям. гороскоп советует вам следить за своими принципами и коллегами: вечером вы с блеском настроенными людьми. известия, какие-то недостатки, что может не решаться на туридете вечеря, то долго и не срывайте с грубостью. вас может отвлечь открванственна серьезные цели. не перешить пыльмой, причем почувствовать себя более уверенно... главное, архивность, развивать свою энергию на пустяк. несты каждого быстрее.\n",
            "день пролетов тем выи заплатить по служебной лестнице или информационной компании. вечер будет стабильной, можно подвести ить честолюбимый человечеству. вы не хочет, чем раньше немного усугубит партнера встречи; чтобы вам не вспоминать, о чем вы совершите кругу людей, обещаний, профессиональных органов - отпользовавшись от вас же узам и даже не тратить.\n",
            "для внешней осложнения ситуации из головы, связанные с профессиональными проблемами никому не упустить, но, позволив любимый человек, вам нужно быть внимательнее и осторожнание и совсем не осуществить давно потом говорят.\n"
          ],
          "name": "stdout"
        }
      ]
    },
    {
      "cell_type": "code",
      "metadata": {
        "id": "MNQFfAl4wGce",
        "colab_type": "code",
        "colab": {
          "base_uri": "https://localhost:8080/",
          "height": 241
        },
        "outputId": "54b47192-8687-4712-90e1-1fa4c1002eb3"
      },
      "source": [
        "print(generate_text_symbols(model, start_string=u\"сегодня \"))"
      ],
      "execution_count": 269,
      "outputs": [
        {
          "output_type": "stream",
          "text": [
            "сегодня вам точно не следует рассчитывать свои интимные воими деньгами: любимый человек не доставят вам отличную возможность выбраться из знакомств.\n",
            "вам завтра 2017 звезды для него призвал главный контакт: немногие будут вызывать «предупреждение новых знакомых новых дел. если вы пока не до радуют и заботиться. объединив сворасть к своёму здоровью.\n",
            "завтра для вас извимая от вредных привычек, на выставке событий. не рекомендуется заняться физических устоявлением технологий и ярким по отношению к любимому человеку. другими словами, создаваете непрогрузед, который не будет принято платежей.\n",
            "вам переживать нельзя. ух, очевидно, что-то по-настоящее усилия даст вам ожидает непоправить эту тактику, но будьте быстро совершить, как действует го определьно. вероятны нервные срывы и заболевания капризаж.\n",
            "если к нем прямо завоеванием в поле вашего сегодняшнего успеха. плохое известие отстанет возможность выполнить именно на своих мерахмене дня. ваши внимание приведут к сламах, которые находится в туманном нюансовых деловых проблем. вы сможете заведшем поступке, однако многих вас появится. васе завтра позитивного желания завершиться в бромки, а удача красоту.\n",
            "можно утомительная мелочими из-за человека, с которым хотелюбязвои оценить по достоинству невинный того, если в последнее время форсировать расчеты, поделиться своими делами этим, и от вас ситуация их напорарога, дабы ни как кажется, как противопоказана суета или благосостояние. высокий жизненный потенциал достаточно высоки. если же намерения и качественности в финансовых делах реализации партнеров. окажутся острыми трудностями в кази?\n",
            "похоже, в какой области острое находчивость и неудовлетворенность водственниками все актуальны в рутинной работе. снизудет таким, как он только советуют, и жизнь вено на заведения по течению и вечер – рекомендаясь для первого поцелуя не стремится вас вдалить вам о своих любвых отношениях и приятном условии, вх компании близких.\n",
            "сегодня ваша карьера может и, вполне возможно, соответствовать, стоит менять свои старые связи, которые могли бы восхищаться. только вместе сами, своего избранника, ведь любовь и никаких разочарований. на пользу появится неуейная кредита и прошлого намерение, а способности вывести из их разговоры с выбором, дружелюбимым человеком и есть тарайтесь сделать так, чтобы прекратить его на него.\n",
            "благоприятный день для активности в сфере бизнеса. вероятны удачные совпаренен, достаточно реагировать на высоком уровне. не пытайтесь следовать их детьми. не пытайтесь смирить своего любимого человека с вашим любимым человеком. завтра  вам необходимо проявить инициативу.\n",
            "день обещает только неогранятированием клетке ане решаемы, на вас будет очень плодотворным. свою жизнь не будет мешать вам лакомства.\n",
            "завтра  тельцу будет нелегко ощутить себя ряды в с вами важна.\n",
            "вам сегодня лучше пикомства... интересная работа, нестабильность используются многолюдная. не рекомендстоятся освоиться на природе, которые требуют усилий, чтобы объединить ваше траут испеча ходход под луной – во\n"
          ],
          "name": "stdout"
        }
      ]
    },
    {
      "cell_type": "code",
      "metadata": {
        "id": "SN0ZkBRU2JKV",
        "colab_type": "code",
        "colab": {}
      },
      "source": [
        "model_json = model.to_json()\n",
        "json_file = open('posts_model.json', 'w')\n",
        "json_file.write(model_json)\n",
        "json_file.close()\n",
        "model.save_weights('posts_model.h5')"
      ],
      "execution_count": 0,
      "outputs": []
    },
    {
      "cell_type": "code",
      "metadata": {
        "id": "5Mg5xaLkTNia",
        "colab_type": "code",
        "colab": {}
      },
      "source": [
        "def generate_n_symbols(model, start_string, num_generate):\n",
        "  # Evaluation step (generating text using the learned model)\n",
        "\n",
        "  # Converting our start string to numbers (vectorizing)\n",
        "  input_eval = [char2idx[s] for s in start_string]\n",
        "  input_eval = tf.expand_dims(input_eval, 0)\n",
        "\n",
        "  # Empty string to store our results\n",
        "  text_generated = []\n",
        "\n",
        "  # Low temperatures results in more predictable text.\n",
        "  # Higher temperatures results in more surprising text.\n",
        "  # Experiment to find the best setting.\n",
        "  temperature = 1.0\n",
        "\n",
        "  # Here batch size == 1\n",
        "  model.reset_states()\n",
        "  for i in range(num_generate):\n",
        "      predictions = model(input_eval)\n",
        "      # remove the batch dimension\n",
        "      predictions = tf.squeeze(predictions, 0)\n",
        "\n",
        "      # using a categorical distribution to predict the word returned by the model\n",
        "      predictions = predictions / temperature\n",
        "      predicted_id = tf.random.categorical(predictions, num_samples=1)[-1,0].numpy()\n",
        "\n",
        "      # We pass the predicted word as the next input to the model\n",
        "      # along with the previous hidden state\n",
        "      input_eval = tf.expand_dims([predicted_id], 0)\n",
        "\n",
        "      text_generated.append(idx2char[predicted_id])\n",
        "\n",
        "  return (start_string + ''.join(text_generated))"
      ],
      "execution_count": 0,
      "outputs": []
    },
    {
      "cell_type": "code",
      "metadata": {
        "id": "AVpuzNvtMXo9",
        "colab_type": "code",
        "colab": {}
      },
      "source": [
        "%%time\n",
        "generated = generate_n_symbols(model, 'сегодня', 50000)"
      ],
      "execution_count": 0,
      "outputs": []
    },
    {
      "cell_type": "code",
      "metadata": {
        "id": "Ss92aRspMj37",
        "colab_type": "code",
        "colab": {}
      },
      "source": [
        "fileObject = open('generate_60_1.txt', 'w', encoding='utf-8')\n",
        "fileObject.write(generated)"
      ],
      "execution_count": 0,
      "outputs": []
    },
    {
      "cell_type": "code",
      "metadata": {
        "id": "8D1R-x3mPPul",
        "colab_type": "code",
        "colab": {}
      },
      "source": [
        "from google.colab import files\n",
        "files.download('generate_60_1.txt')"
      ],
      "execution_count": 0,
      "outputs": []
    },
    {
      "cell_type": "code",
      "metadata": {
        "id": "3xfZ5pqyQiS3",
        "colab_type": "code",
        "colab": {}
      },
      "source": [
        ""
      ],
      "execution_count": 0,
      "outputs": []
    }
  ]
}