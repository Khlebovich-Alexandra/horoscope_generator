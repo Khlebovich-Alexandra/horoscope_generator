{
  "nbformat": 4,
  "nbformat_minor": 0,
  "metadata": {
    "accelerator": "GPU",
    "colab": {
      "name": "Copy of text_generation.ipynb",
      "provenance": [],
      "collapsed_sections": [],
      "machine_shape": "hm",
      "include_colab_link": true
    },
    "kernelspec": {
      "name": "python3",
      "display_name": "Python 3"
    }
  },
  "cells": [
    {
      "cell_type": "markdown",
      "metadata": {
        "id": "view-in-github",
        "colab_type": "text"
      },
      "source": [
        "<a href=\"https://colab.research.google.com/github/Khlebovich-Alexandra/horoscope_generator/blob/master/text_generation.ipynb\" target=\"_parent\"><img src=\"https://colab.research.google.com/assets/colab-badge.svg\" alt=\"Open In Colab\"/></a>"
      ]
    },
    {
      "cell_type": "markdown",
      "metadata": {
        "colab_type": "text",
        "id": "ovpZyIhNIgoq"
      },
      "source": [
        "# Text generation with an RNN"
      ]
    },
    {
      "cell_type": "code",
      "metadata": {
        "colab_type": "code",
        "id": "yG_n40gFzf9s",
        "colab": {}
      },
      "source": [
        "from __future__ import absolute_import, division, print_function, unicode_literals\n",
        "\n",
        "try:\n",
        "  # %tensorflow_version only exists in Colab.\n",
        "  %tensorflow_version 2.x\n",
        "except Exception:\n",
        "    pass\n",
        "import tensorflow as tf\n",
        "from tensorflow.keras.preprocessing.sequence import pad_sequences\n",
        "from tensorflow.keras.models import Sequential\n",
        "from tensorflow.keras.layers import Dense, Embedding, LSTM \n",
        "from tensorflow.keras.utils import to_categorical\n",
        "\n",
        "import numpy as np\n",
        "import pandas as pd\n",
        "import itertools\n",
        "import os\n",
        "import re\n",
        "import time\n",
        "import matplotlib.pyplot as plt\n",
        "\n",
        "import warnings\n",
        "warnings.filterwarnings('ignore')"
      ],
      "execution_count": 0,
      "outputs": []
    },
    {
      "cell_type": "code",
      "metadata": {
        "id": "w1KtZ8OTz5Fq",
        "colab_type": "code",
        "colab": {}
      },
      "source": [
        "posts = pd.read_csv('https://raw.githubusercontent.com/Khlebovich-Alexandra/horoscope_generator/master/Data/final_posts.csv', index_col=0)"
      ],
      "execution_count": 0,
      "outputs": []
    },
    {
      "cell_type": "code",
      "metadata": {
        "id": "6mV45ELxx_X5",
        "colab_type": "code",
        "outputId": "180827b7-86b7-46f4-eff4-ba1d345d5b1c",
        "colab": {
          "base_uri": "https://localhost:8080/",
          "height": 419
        }
      },
      "source": [
        "posts"
      ],
      "execution_count": 0,
      "outputs": [
        {
          "output_type": "execute_result",
          "data": {
            "text/html": [
              "<div>\n",
              "<style scoped>\n",
              "    .dataframe tbody tr th:only-of-type {\n",
              "        vertical-align: middle;\n",
              "    }\n",
              "\n",
              "    .dataframe tbody tr th {\n",
              "        vertical-align: top;\n",
              "    }\n",
              "\n",
              "    .dataframe thead th {\n",
              "        text-align: right;\n",
              "    }\n",
              "</style>\n",
              "<table border=\"1\" class=\"dataframe\">\n",
              "  <thead>\n",
              "    <tr style=\"text-align: right;\">\n",
              "      <th></th>\n",
              "      <th>text</th>\n",
              "      <th>length</th>\n",
              "      <th>date</th>\n",
              "      <th>type</th>\n",
              "      <th>index in posts</th>\n",
              "      <th>domain</th>\n",
              "      <th>index_before_concat</th>\n",
              "    </tr>\n",
              "  </thead>\n",
              "  <tbody>\n",
              "    <tr>\n",
              "      <th>0</th>\n",
              "      <td>сегодня вы можете почувствовать незащищенность...</td>\n",
              "      <td>339</td>\n",
              "      <td>11 декабря</td>\n",
              "      <td>business</td>\n",
              "      <td>0</td>\n",
              "      <td>ribyhoroscop</td>\n",
              "      <td>0</td>\n",
              "    </tr>\n",
              "    <tr>\n",
              "      <th>1</th>\n",
              "      <td>вам звёзды рекомендуют сегодня больше работать...</td>\n",
              "      <td>303</td>\n",
              "      <td>11 декабря</td>\n",
              "      <td>love</td>\n",
              "      <td>0</td>\n",
              "      <td>ribyhoroscop</td>\n",
              "      <td>1</td>\n",
              "    </tr>\n",
              "    <tr>\n",
              "      <th>2</th>\n",
              "      <td>если сегодня вы почувствуете робость, или, тог...</td>\n",
              "      <td>215</td>\n",
              "      <td>11 декабря</td>\n",
              "      <td>simple</td>\n",
              "      <td>0</td>\n",
              "      <td>ribyhoroscop</td>\n",
              "      <td>2</td>\n",
              "    </tr>\n",
              "    <tr>\n",
              "      <th>3</th>\n",
              "      <td>сегодня звезды рекомендуют вам заняться коррек...</td>\n",
              "      <td>278</td>\n",
              "      <td>10 декабря</td>\n",
              "      <td>business</td>\n",
              "      <td>1</td>\n",
              "      <td>ribyhoroscop</td>\n",
              "      <td>3</td>\n",
              "    </tr>\n",
              "    <tr>\n",
              "      <th>4</th>\n",
              "      <td>сегодня ваш любимый человек признается в том, ...</td>\n",
              "      <td>273</td>\n",
              "      <td>10 декабря</td>\n",
              "      <td>love</td>\n",
              "      <td>1</td>\n",
              "      <td>ribyhoroscop</td>\n",
              "      <td>4</td>\n",
              "    </tr>\n",
              "    <tr>\n",
              "      <th>...</th>\n",
              "      <td>...</td>\n",
              "      <td>...</td>\n",
              "      <td>...</td>\n",
              "      <td>...</td>\n",
              "      <td>...</td>\n",
              "      <td>...</td>\n",
              "      <td>...</td>\n",
              "    </tr>\n",
              "    <tr>\n",
              "      <th>26957</th>\n",
              "      <td>день преобразования космических энергий, получ...</td>\n",
              "      <td>544</td>\n",
              "      <td>2 марта</td>\n",
              "      <td>simple</td>\n",
              "      <td>2648</td>\n",
              "      <td>strelechoroscop</td>\n",
              "      <td>4575</td>\n",
              "    </tr>\n",
              "    <tr>\n",
              "      <th>26958</th>\n",
              "      <td>завтра - полон перемен для вас. поэтому строит...</td>\n",
              "      <td>256</td>\n",
              "      <td>1 марта</td>\n",
              "      <td>simple</td>\n",
              "      <td>2649</td>\n",
              "      <td>strelechoroscop</td>\n",
              "      <td>4576</td>\n",
              "    </tr>\n",
              "    <tr>\n",
              "      <th>26959</th>\n",
              "      <td>утром не мешкая приступайте к работе или завяз...</td>\n",
              "      <td>441</td>\n",
              "      <td>28 февраля</td>\n",
              "      <td>simple</td>\n",
              "      <td>2650</td>\n",
              "      <td>strelechoroscop</td>\n",
              "      <td>4577</td>\n",
              "    </tr>\n",
              "    <tr>\n",
              "      <th>26960</th>\n",
              "      <td>общительность и дружелюбие вас сегодня могут н...</td>\n",
              "      <td>453</td>\n",
              "      <td>27 февраля</td>\n",
              "      <td>simple</td>\n",
              "      <td>2651</td>\n",
              "      <td>strelechoroscop</td>\n",
              "      <td>4578</td>\n",
              "    </tr>\n",
              "    <tr>\n",
              "      <th>26961</th>\n",
              "      <td>свободное общение может стать затруднительным....</td>\n",
              "      <td>505</td>\n",
              "      <td>26 февраля</td>\n",
              "      <td>simple</td>\n",
              "      <td>2652</td>\n",
              "      <td>strelechoroscop</td>\n",
              "      <td>4579</td>\n",
              "    </tr>\n",
              "  </tbody>\n",
              "</table>\n",
              "<p>26962 rows × 7 columns</p>\n",
              "</div>"
            ],
            "text/plain": [
              "                                                    text  ...  index_before_concat\n",
              "0      сегодня вы можете почувствовать незащищенность...  ...                    0\n",
              "1      вам звёзды рекомендуют сегодня больше работать...  ...                    1\n",
              "2      если сегодня вы почувствуете робость, или, тог...  ...                    2\n",
              "3      сегодня звезды рекомендуют вам заняться коррек...  ...                    3\n",
              "4      сегодня ваш любимый человек признается в том, ...  ...                    4\n",
              "...                                                  ...  ...                  ...\n",
              "26957  день преобразования космических энергий, получ...  ...                 4575\n",
              "26958  завтра - полон перемен для вас. поэтому строит...  ...                 4576\n",
              "26959  утром не мешкая приступайте к работе или завяз...  ...                 4577\n",
              "26960  общительность и дружелюбие вас сегодня могут н...  ...                 4578\n",
              "26961  свободное общение может стать затруднительным....  ...                 4579\n",
              "\n",
              "[26962 rows x 7 columns]"
            ]
          },
          "metadata": {
            "tags": []
          },
          "execution_count": 5
        }
      ]
    },
    {
      "cell_type": "code",
      "metadata": {
        "id": "3FFkwZek_59l",
        "colab_type": "code",
        "colab": {}
      },
      "source": [
        "posts.drop(['date', 'type', 'index in posts', 'domain', 'index_before_concat'], axis=1, inplace=True)"
      ],
      "execution_count": 0,
      "outputs": []
    },
    {
      "cell_type": "code",
      "metadata": {
        "id": "82TFR9vpzuo7",
        "colab_type": "code",
        "colab": {}
      },
      "source": [
        "posts.drop(np.argmax(posts.length), inplace=True)"
      ],
      "execution_count": 0,
      "outputs": []
    },
    {
      "cell_type": "code",
      "metadata": {
        "id": "8a7aWB6Y6psw",
        "colab_type": "code",
        "colab": {}
      },
      "source": [
        "def add_spaces(x):\n",
        "    literals = ',.?!;:()'\n",
        "    for literal in literals:\n",
        "        if literal in x:\n",
        "            x = x.replace(literal, ' ' + literal + ' ')\n",
        "            \n",
        "    pattern_bad_spaces_1 = re.compile(r'(^ +)|( +$)')\n",
        "    pattern_bad_spaces_2 = re.compile(r'(  +)|(\\t)')\n",
        "    x = re.sub(pattern_bad_spaces_1, '', x)\n",
        "    x = re.sub(pattern_bad_spaces_2, ' ', x)\n",
        "    return x"
      ],
      "execution_count": 0,
      "outputs": []
    },
    {
      "cell_type": "code",
      "metadata": {
        "id": "MSO91hZP2IqY",
        "colab_type": "code",
        "colab": {}
      },
      "source": [
        "def split(x):\n",
        "    res = re.split(re.compile(r'[ ]+'), x.lower())\n",
        "    while '' in res:\n",
        "        res.remove('')\n",
        "    return res"
      ],
      "execution_count": 0,
      "outputs": []
    },
    {
      "cell_type": "code",
      "metadata": {
        "id": "kPVgqjg4kAEn",
        "colab_type": "code",
        "colab": {}
      },
      "source": [
        "def create_vocab(texts):\n",
        "    texts = pd.Series(texts)\n",
        "    texts = texts.map(add_spaces)\n",
        "    texts = texts.map(split)\n",
        "    word_index = {}\n",
        "    word_index[\"<Заполнитель>\"] = 0\n",
        "    word_index[\"<Начало последовательности>\"] = 1\n",
        "    word_index[\"<Не используется>\"] = 2\n",
        "    word_index[\"<Неизвестное слово>\"] = 3\n",
        "    ind = 4\n",
        "    for text in texts:\n",
        "        for word in text:\n",
        "            if not (word in word_index):\n",
        "                word_index[word] = ind\n",
        "                ind += 1\n",
        "    return word_index"
      ],
      "execution_count": 0,
      "outputs": []
    },
    {
      "cell_type": "code",
      "metadata": {
        "id": "TcWQdfGC9faV",
        "colab_type": "code",
        "colab": {}
      },
      "source": [
        "def word_to_int(word):\n",
        "    if word in word_index:\n",
        "        return word_index[word]\n",
        "    return 3"
      ],
      "execution_count": 0,
      "outputs": []
    },
    {
      "cell_type": "code",
      "metadata": {
        "id": "Cgw9b2NvOZsW",
        "colab_type": "code",
        "colab": {}
      },
      "source": [
        "def get_word_by_index(index):\n",
        "    for word, value in word_index.items():\n",
        "        if index == value:\n",
        "            return word\n",
        "    return ''"
      ],
      "execution_count": 0,
      "outputs": []
    },
    {
      "cell_type": "code",
      "metadata": {
        "id": "M98ZykAWi58p",
        "colab_type": "code",
        "colab": {}
      },
      "source": [
        "def create_dataset(text):\n",
        "    text = add_spaces(text)\n",
        "    text = split(text)\n",
        "    text = list(map(word_to_int, text))\n",
        "    return text"
      ],
      "execution_count": 0,
      "outputs": []
    },
    {
      "cell_type": "code",
      "metadata": {
        "id": "20IzUjIekiq1",
        "colab_type": "code",
        "colab": {}
      },
      "source": [
        "word_index = create_vocab(posts.text)"
      ],
      "execution_count": 0,
      "outputs": []
    },
    {
      "cell_type": "code",
      "metadata": {
        "id": "yiWbROst5VT0",
        "colab_type": "code",
        "outputId": "827c7480-c321-4332-871a-a179c729c32d",
        "colab": {
          "base_uri": "https://localhost:8080/",
          "height": 34
        }
      },
      "source": [
        "word_index['.']"
      ],
      "execution_count": 0,
      "outputs": [
        {
          "output_type": "execute_result",
          "data": {
            "text/plain": [
              "14"
            ]
          },
          "metadata": {
            "tags": []
          },
          "execution_count": 15
        }
      ]
    },
    {
      "cell_type": "code",
      "metadata": {
        "id": "AaHhwmDX5VdJ",
        "colab_type": "code",
        "outputId": "ba78db3c-c931-4c6a-e5f4-7d1397509c94",
        "colab": {
          "base_uri": "https://localhost:8080/",
          "height": 34
        }
      },
      "source": [
        "len(word_index)"
      ],
      "execution_count": 0,
      "outputs": [
        {
          "output_type": "execute_result",
          "data": {
            "text/plain": [
              "47923"
            ]
          },
          "metadata": {
            "tags": []
          },
          "execution_count": 16
        }
      ]
    },
    {
      "cell_type": "code",
      "metadata": {
        "id": "uD_ovvDAlZdC",
        "colab_type": "code",
        "outputId": "e67467bd-0aa1-4afb-9a67-d466f58bdd62",
        "colab": {
          "base_uri": "https://localhost:8080/",
          "height": 34
        }
      },
      "source": [
        "print(create_dataset(posts.text[0]))"
      ],
      "execution_count": 0,
      "outputs": [
        {
          "output_type": "stream",
          "text": [
            "[4, 5, 6, 7, 8, 9, 10, 11, 12, 13, 14, 15, 16, 17, 9, 18, 19, 20, 21, 22, 23, 24, 25, 26, 27, 14, 28, 29, 30, 31, 32, 33, 19, 34, 35, 36, 37, 19, 38, 39, 40, 41, 42, 43, 44, 14, 45, 46, 47, 25, 48, 49, 14]\n"
          ],
          "name": "stdout"
        }
      ]
    },
    {
      "cell_type": "code",
      "metadata": {
        "id": "o_um9i5Z5Vlt",
        "colab_type": "code",
        "colab": {}
      },
      "source": [
        "posts.text = posts.text.map(create_dataset)"
      ],
      "execution_count": 0,
      "outputs": []
    },
    {
      "cell_type": "code",
      "metadata": {
        "id": "ODFF1IxCYLnH",
        "colab_type": "code",
        "colab": {}
      },
      "source": [
        "posts.length = posts.text.map(len)"
      ],
      "execution_count": 0,
      "outputs": []
    },
    {
      "cell_type": "markdown",
      "metadata": {
        "id": "hnx8JPUW_iBH",
        "colab_type": "text"
      },
      "source": [
        "Save DataFrame and vocabluary"
      ]
    },
    {
      "cell_type": "code",
      "metadata": {
        "id": "mu2ypVPl_frW",
        "colab_type": "code",
        "colab": {}
      },
      "source": [
        "posts.to_csv('posts_word_to_int.csv')"
      ],
      "execution_count": 0,
      "outputs": []
    },
    {
      "cell_type": "code",
      "metadata": {
        "id": "PFtZFyOh_fv-",
        "colab_type": "code",
        "colab": {}
      },
      "source": [
        "import json\n",
        "\n",
        "with open('vocab.json', 'w') as fp:\n",
        "    json.dump(word_index, fp)"
      ],
      "execution_count": 0,
      "outputs": []
    },
    {
      "cell_type": "markdown",
      "metadata": {
        "id": "W1aY0m00BuLP",
        "colab_type": "text"
      },
      "source": [
        "Padding seq"
      ]
    },
    {
      "cell_type": "code",
      "metadata": {
        "id": "fXpZnNsJbo07",
        "colab_type": "code",
        "colab": {}
      },
      "source": [
        "def get_list_of_ints(x):\n",
        "    if isinstance(x, str):\n",
        "        x = x.strip('][').split(', ')\n",
        "    return list(map(int, x))"
      ],
      "execution_count": 0,
      "outputs": []
    },
    {
      "cell_type": "code",
      "metadata": {
        "id": "Mbv3YeyiW_29",
        "colab_type": "code",
        "outputId": "4bfb724b-d9eb-4bef-ffe3-80fb93f9ff0d",
        "colab": {
          "base_uri": "https://localhost:8080/",
          "height": 419
        }
      },
      "source": [
        "posts = pd.read_csv('posts_word_to_int.csv', index_col=0)\n",
        "posts.text = posts.text.map(get_list_of_ints)\n",
        "posts"
      ],
      "execution_count": 0,
      "outputs": [
        {
          "output_type": "execute_result",
          "data": {
            "text/html": [
              "<div>\n",
              "<style scoped>\n",
              "    .dataframe tbody tr th:only-of-type {\n",
              "        vertical-align: middle;\n",
              "    }\n",
              "\n",
              "    .dataframe tbody tr th {\n",
              "        vertical-align: top;\n",
              "    }\n",
              "\n",
              "    .dataframe thead th {\n",
              "        text-align: right;\n",
              "    }\n",
              "</style>\n",
              "<table border=\"1\" class=\"dataframe\">\n",
              "  <thead>\n",
              "    <tr style=\"text-align: right;\">\n",
              "      <th></th>\n",
              "      <th>text</th>\n",
              "      <th>length</th>\n",
              "    </tr>\n",
              "  </thead>\n",
              "  <tbody>\n",
              "    <tr>\n",
              "      <th>0</th>\n",
              "      <td>[4, 5, 6, 7, 8, 9, 10, 11, 12, 13, 14, 15, 16,...</td>\n",
              "      <td>53</td>\n",
              "    </tr>\n",
              "    <tr>\n",
              "      <th>1</th>\n",
              "      <td>[50, 51, 52, 4, 53, 54, 14, 55, 56, 57, 58, 59...</td>\n",
              "      <td>49</td>\n",
              "    </tr>\n",
              "    <tr>\n",
              "      <th>2</th>\n",
              "      <td>[89, 4, 5, 90, 91, 19, 56, 19, 92, 93, 94, 19,...</td>\n",
              "      <td>40</td>\n",
              "    </tr>\n",
              "    <tr>\n",
              "      <th>3</th>\n",
              "      <td>[4, 109, 52, 50, 110, 111, 56, 112, 113, 114, ...</td>\n",
              "      <td>46</td>\n",
              "    </tr>\n",
              "    <tr>\n",
              "      <th>4</th>\n",
              "      <td>[4, 136, 137, 138, 139, 11, 140, 19, 20, 141, ...</td>\n",
              "      <td>46</td>\n",
              "    </tr>\n",
              "    <tr>\n",
              "      <th>...</th>\n",
              "      <td>...</td>\n",
              "      <td>...</td>\n",
              "    </tr>\n",
              "    <tr>\n",
              "      <th>26957</th>\n",
              "      <td>[199, 7429, 7906, 19954, 19, 8101, 20213, 8982...</td>\n",
              "      <td>81</td>\n",
              "    </tr>\n",
              "    <tr>\n",
              "      <th>26958</th>\n",
              "      <td>[3016, 81, 2294, 3598, 47, 25, 14, 302, 6957, ...</td>\n",
              "      <td>40</td>\n",
              "    </tr>\n",
              "    <tr>\n",
              "      <th>26959</th>\n",
              "      <td>[8803, 121, 47918, 13480, 71, 535, 56, 35595, ...</td>\n",
              "      <td>63</td>\n",
              "    </tr>\n",
              "    <tr>\n",
              "      <th>26960</th>\n",
              "      <td>[8673, 9, 5898, 25, 4, 702, 23496, 87, 19815, ...</td>\n",
              "      <td>68</td>\n",
              "    </tr>\n",
              "    <tr>\n",
              "      <th>26961</th>\n",
              "      <td>[4187, 2385, 254, 595, 7041, 14, 5, 6, 160, 36...</td>\n",
              "      <td>88</td>\n",
              "    </tr>\n",
              "  </tbody>\n",
              "</table>\n",
              "<p>26961 rows × 2 columns</p>\n",
              "</div>"
            ],
            "text/plain": [
              "                                                    text  length\n",
              "0      [4, 5, 6, 7, 8, 9, 10, 11, 12, 13, 14, 15, 16,...      53\n",
              "1      [50, 51, 52, 4, 53, 54, 14, 55, 56, 57, 58, 59...      49\n",
              "2      [89, 4, 5, 90, 91, 19, 56, 19, 92, 93, 94, 19,...      40\n",
              "3      [4, 109, 52, 50, 110, 111, 56, 112, 113, 114, ...      46\n",
              "4      [4, 136, 137, 138, 139, 11, 140, 19, 20, 141, ...      46\n",
              "...                                                  ...     ...\n",
              "26957  [199, 7429, 7906, 19954, 19, 8101, 20213, 8982...      81\n",
              "26958  [3016, 81, 2294, 3598, 47, 25, 14, 302, 6957, ...      40\n",
              "26959  [8803, 121, 47918, 13480, 71, 535, 56, 35595, ...      63\n",
              "26960  [8673, 9, 5898, 25, 4, 702, 23496, 87, 19815, ...      68\n",
              "26961  [4187, 2385, 254, 595, 7041, 14, 5, 6, 160, 36...      88\n",
              "\n",
              "[26961 rows x 2 columns]"
            ]
          },
          "metadata": {
            "tags": []
          },
          "execution_count": 23
        }
      ]
    },
    {
      "cell_type": "code",
      "metadata": {
        "id": "TQTvyMT9zoc6",
        "colab_type": "code",
        "outputId": "82707c3c-3ea5-44d1-abaa-fdd5c2030e57",
        "colab": {
          "base_uri": "https://localhost:8080/",
          "height": 297
        }
      },
      "source": [
        "posts.describe()"
      ],
      "execution_count": 0,
      "outputs": [
        {
          "output_type": "execute_result",
          "data": {
            "text/html": [
              "<div>\n",
              "<style scoped>\n",
              "    .dataframe tbody tr th:only-of-type {\n",
              "        vertical-align: middle;\n",
              "    }\n",
              "\n",
              "    .dataframe tbody tr th {\n",
              "        vertical-align: top;\n",
              "    }\n",
              "\n",
              "    .dataframe thead th {\n",
              "        text-align: right;\n",
              "    }\n",
              "</style>\n",
              "<table border=\"1\" class=\"dataframe\">\n",
              "  <thead>\n",
              "    <tr style=\"text-align: right;\">\n",
              "      <th></th>\n",
              "      <th>length</th>\n",
              "    </tr>\n",
              "  </thead>\n",
              "  <tbody>\n",
              "    <tr>\n",
              "      <th>count</th>\n",
              "      <td>26961.000000</td>\n",
              "    </tr>\n",
              "    <tr>\n",
              "      <th>mean</th>\n",
              "      <td>50.237640</td>\n",
              "    </tr>\n",
              "    <tr>\n",
              "      <th>std</th>\n",
              "      <td>15.919764</td>\n",
              "    </tr>\n",
              "    <tr>\n",
              "      <th>min</th>\n",
              "      <td>4.000000</td>\n",
              "    </tr>\n",
              "    <tr>\n",
              "      <th>25%</th>\n",
              "      <td>40.000000</td>\n",
              "    </tr>\n",
              "    <tr>\n",
              "      <th>50%</th>\n",
              "      <td>48.000000</td>\n",
              "    </tr>\n",
              "    <tr>\n",
              "      <th>75%</th>\n",
              "      <td>58.000000</td>\n",
              "    </tr>\n",
              "    <tr>\n",
              "      <th>max</th>\n",
              "      <td>129.000000</td>\n",
              "    </tr>\n",
              "  </tbody>\n",
              "</table>\n",
              "</div>"
            ],
            "text/plain": [
              "             length\n",
              "count  26961.000000\n",
              "mean      50.237640\n",
              "std       15.919764\n",
              "min        4.000000\n",
              "25%       40.000000\n",
              "50%       48.000000\n",
              "75%       58.000000\n",
              "max      129.000000"
            ]
          },
          "metadata": {
            "tags": []
          },
          "execution_count": 24
        }
      ]
    },
    {
      "cell_type": "code",
      "metadata": {
        "id": "67kAP_hvz5Ft",
        "colab_type": "code",
        "colab": {}
      },
      "source": [
        "maxlen = 75"
      ],
      "execution_count": 0,
      "outputs": []
    },
    {
      "cell_type": "code",
      "metadata": {
        "id": "_AargE3YdaTs",
        "colab_type": "code",
        "colab": {}
      },
      "source": [
        "texts = pad_sequences(posts.text, maxlen, padding='post')\n",
        "texts = tf.data.Dataset.from_tensor_slices(texts)"
      ],
      "execution_count": 0,
      "outputs": []
    },
    {
      "cell_type": "code",
      "metadata": {
        "colab_type": "code",
        "id": "gKOQB0YMg_u0",
        "colab": {}
      },
      "source": [
        "def split_input_target(chunk):\n",
        "    input_text = chunk[:-1]\n",
        "    target_text = chunk[1:]\n",
        "    return input_text, target_text\n",
        "\n",
        "dataset = texts.map(split_input_target)"
      ],
      "execution_count": 0,
      "outputs": []
    },
    {
      "cell_type": "code",
      "metadata": {
        "id": "SayoM0ZdhDYu",
        "colab_type": "code",
        "outputId": "db76d998-565a-4206-bfca-dd12196bf602",
        "colab": {
          "base_uri": "https://localhost:8080/",
          "height": 34
        }
      },
      "source": [
        "dataset.take(1)"
      ],
      "execution_count": 0,
      "outputs": [
        {
          "output_type": "execute_result",
          "data": {
            "text/plain": [
              "<TakeDataset shapes: ((74,), (74,)), types: (tf.int32, tf.int32)>"
            ]
          },
          "metadata": {
            "tags": []
          },
          "execution_count": 29
        }
      ]
    },
    {
      "cell_type": "code",
      "metadata": {
        "id": "gXU2AHXkiaoX",
        "colab_type": "code",
        "outputId": "f8e5a837-c99e-4192-bd4b-1444180b3045",
        "colab": {
          "base_uri": "https://localhost:8080/",
          "height": 34
        }
      },
      "source": [
        "# Batch size\n",
        "BATCH_SIZE = 128\n",
        "\n",
        "# Buffer size to shuffle the dataset\n",
        "# (TF data is designed to work with possibly infinite sequences,\n",
        "# so it doesn't attempt to shuffle the entire sequence in memory. Instead,\n",
        "# it maintains a buffer in which it shuffles elements).\n",
        "BUFFER_SIZE = 10000\n",
        "\n",
        "dataset = dataset.shuffle(BUFFER_SIZE).batch(BATCH_SIZE, drop_remainder=True)\n",
        "\n",
        "dataset"
      ],
      "execution_count": 0,
      "outputs": [
        {
          "output_type": "execute_result",
          "data": {
            "text/plain": [
              "<BatchDataset shapes: ((128, 74), (128, 74)), types: (tf.int32, tf.int32)>"
            ]
          },
          "metadata": {
            "tags": []
          },
          "execution_count": 30
        }
      ]
    },
    {
      "cell_type": "code",
      "metadata": {
        "id": "fxYcQI5uCs7u",
        "colab_type": "code",
        "outputId": "4f6ee785-2b74-4fec-9810-11b1f36d5622",
        "colab": {
          "base_uri": "https://localhost:8080/",
          "height": 374
        }
      },
      "source": [
        "# define model\n",
        "vocab_size = len(word_index)\n",
        "embedding_dim = 256\n",
        "rnn_units = 1024\n",
        "\n",
        "model = tf.keras.Sequential([\n",
        "    tf.keras.layers.Embedding(vocab_size, embedding_dim,\n",
        "                              batch_input_shape=[BATCH_SIZE, None]),\n",
        "    tf.keras.layers.GRU(units=512,\n",
        "                        return_sequences=True,\n",
        "                        stateful=True,\n",
        "                        recurrent_initializer='glorot_uniform'),\n",
        "    tf.keras.layers.Dense(512, activation = 'relu'),\n",
        "    tf.keras.layers.GRU(units=2048,\n",
        "                        return_sequences=True,\n",
        "                        stateful=True,\n",
        "                        recurrent_initializer='glorot_uniform'),\n",
        "    tf.keras.layers.Dropout(rate=0.05),\n",
        "    tf.keras.layers.Dense(vocab_size)\n",
        "  ])\n",
        "\n",
        "print(model.summary())"
      ],
      "execution_count": 0,
      "outputs": [
        {
          "output_type": "stream",
          "text": [
            "Model: \"sequential_2\"\n",
            "_________________________________________________________________\n",
            "Layer (type)                 Output Shape              Param #   \n",
            "=================================================================\n",
            "embedding_2 (Embedding)      (128, None, 256)          12268288  \n",
            "_________________________________________________________________\n",
            "gru_4 (GRU)                  (128, None, 512)          1182720   \n",
            "_________________________________________________________________\n",
            "dense_4 (Dense)              (128, None, 512)          262656    \n",
            "_________________________________________________________________\n",
            "gru_5 (GRU)                  (128, None, 2048)         15740928  \n",
            "_________________________________________________________________\n",
            "dropout_2 (Dropout)          (128, None, 2048)         0         \n",
            "_________________________________________________________________\n",
            "dense_5 (Dense)              (128, None, 47923)        98194227  \n",
            "=================================================================\n",
            "Total params: 127,648,819\n",
            "Trainable params: 127,648,819\n",
            "Non-trainable params: 0\n",
            "_________________________________________________________________\n",
            "None\n"
          ],
          "name": "stdout"
        }
      ]
    },
    {
      "cell_type": "code",
      "metadata": {
        "colab_type": "code",
        "outputId": "270cd38c-1271-4be1-9d83-c019fece9112",
        "id": "RzjfulxIp3hZ",
        "colab": {
          "base_uri": "https://localhost:8080/",
          "height": 34
        }
      },
      "source": [
        " for input_example_batch, target_example_batch in dataset.take(1):\n",
        "    example_batch_predictions = model(input_example_batch)\n",
        "    print(example_batch_predictions.shape, \"# (batch_size, sequence_length, vocab_size)\")"
      ],
      "execution_count": 0,
      "outputs": [
        {
          "output_type": "stream",
          "text": [
            "(128, 74, 47923) # (batch_size, sequence_length, vocab_size)\n"
          ],
          "name": "stdout"
        }
      ]
    },
    {
      "cell_type": "code",
      "metadata": {
        "colab_type": "code",
        "id": "4V4MfFg0RQJg",
        "colab": {}
      },
      "source": [
        "sampled_indices = tf.random.categorical(example_batch_predictions[0], num_samples=1)\n",
        "sampled_indices = tf.squeeze(sampled_indices,axis=-1).numpy()"
      ],
      "execution_count": 0,
      "outputs": []
    },
    {
      "cell_type": "code",
      "metadata": {
        "colab_type": "code",
        "id": "YqFMUQc_UFgM",
        "outputId": "10dd89fb-fcf7-44dc-91af-4d499c80e996",
        "colab": {
          "base_uri": "https://localhost:8080/",
          "height": 170
        }
      },
      "source": [
        "sampled_indices"
      ],
      "execution_count": 0,
      "outputs": [
        {
          "output_type": "execute_result",
          "data": {
            "text/plain": [
              "array([32341, 36910,  4117, 17544, 47576, 20505, 22704, 28528, 19842,\n",
              "       25116, 15106,  8816, 25980, 45988, 14773, 44644,  9335, 46645,\n",
              "       14880,  2355, 29507, 27882, 44500, 44257, 20250, 12917,  5478,\n",
              "        6511, 43324, 22321, 25066, 37438, 44108, 31130, 15659, 34369,\n",
              "       16448,  6506, 38436, 38771, 24729, 11710, 25678, 40234,  3327,\n",
              "       11807,   245, 34399, 29662,  4572, 16744, 24195, 22114, 12399,\n",
              "       29286, 31436, 12513, 42869,  7388, 37465,  4706, 38212, 24216,\n",
              "       24512, 28350, 43241,  3414, 43775, 15230,  3914, 45592,  2651,\n",
              "       23099, 20657])"
            ]
          },
          "metadata": {
            "tags": []
          },
          "execution_count": 37
        }
      ]
    },
    {
      "cell_type": "markdown",
      "metadata": {
        "colab_type": "text",
        "id": "LfLtsP3mUhCG"
      },
      "source": [
        "Decode these to see the text predicted by this untrained model:"
      ]
    },
    {
      "cell_type": "code",
      "metadata": {
        "colab_type": "code",
        "id": "xWcFwPwLSo05",
        "outputId": "3bf4e108-6927-4eeb-d744-5fb67e3f786a",
        "colab": {
          "base_uri": "https://localhost:8080/",
          "height": 122
        }
      },
      "source": [
        "print(\"Input: \\n\", repr(\" \".join([get_word_by_index(i) for i in input_example_batch[0]])))\n",
        "print()\n",
        "print(\"Next Char Predictions: \\n\", repr(\" \".join([get_word_by_index(i) for i in sampled_indices])))"
      ],
      "execution_count": 0,
      "outputs": [
        {
          "output_type": "stream",
          "text": [
            "Input: \n",
            " 'если у вас есть какой-то повод для ревности , обсудите с вашим любимым человеком создавшуюся ситуацию . пусть он честно вам ответит , есть ли у вас конкурент , а у него - претендент на ваше место . только прежде чем начать расспросы , подуэтот месяцте : а точно ли вы хотите знать правду ? <Заполнитель> <Заполнитель> <Заполнитель> <Заполнитель> <Заполнитель> <Заполнитель> <Заполнитель> <Заполнитель> <Заполнитель> <Заполнитель> <Заполнитель> <Заполнитель> <Заполнитель> <Заполнитель> <Заполнитель> <Заполнитель> <Заполнитель> <Заполнитель> <Заполнитель>'\n",
            "\n",
            "Next Char Predictions: \n",
            " 'выетостроение мрачны родителями незнакомцам меняющимся деловитым зажгутся разбудить подвижным усиливаться возникновения поводом рекомендацией альтернативное приблизить светлую вялым сувениров вещественные коллективе вдумчивого инструктаж уставшие притягивая неформальные напряжения посещаете хищниками кричать предстоящая прерванные удобств вершина тёмной страдаете вектор заботах экзотариум привносит институт корыстных избранником постановка стремительный зло соперник а телесной преодовы семейный номер досаду помидорами дурацких пессимизм мирному будни хирургической импульсивность доводами окольным дающий медлите предоставив накалены многия ограничьте зеницу вызывающими подхватить нежелательном погода представляют компьютерной'\n"
          ],
          "name": "stdout"
        }
      ]
    },
    {
      "cell_type": "markdown",
      "metadata": {
        "colab_type": "text",
        "id": "LJL0Q0YPY6Ee"
      },
      "source": [
        "## Train the model"
      ]
    },
    {
      "cell_type": "markdown",
      "metadata": {
        "colab_type": "text",
        "id": "UAjbjY03eiQ4"
      },
      "source": [
        "The standard `tf.keras.losses.sparse_categorical_crossentropy` loss function works in this case because it is applied across the last dimension of the predictions.\n",
        "\n",
        "Because our model returns logits, we need to set the `from_logits` flag.\n"
      ]
    },
    {
      "cell_type": "code",
      "metadata": {
        "colab_type": "code",
        "id": "4HrXTACTdzY-",
        "outputId": "56247fa6-cc4d-4a1d-df79-7bbaeeb5c0c6",
        "colab": {
          "base_uri": "https://localhost:8080/",
          "height": 51
        }
      },
      "source": [
        "def loss(labels, logits):\n",
        "    return tf.keras.losses.sparse_categorical_crossentropy(labels, logits, from_logits=True)\n",
        "\n",
        "example_batch_loss  = loss(target_example_batch, example_batch_predictions)\n",
        "print(\"Prediction shape: \", example_batch_predictions.shape, \" # (batch_size, sequence_length, vocab_size)\")\n",
        "print(\"scalar_loss:      \", example_batch_loss.numpy().mean())"
      ],
      "execution_count": 0,
      "outputs": [
        {
          "output_type": "stream",
          "text": [
            "Prediction shape:  (128, 74, 47923)  # (batch_size, sequence_length, vocab_size)\n",
            "scalar_loss:       10.77728\n"
          ],
          "name": "stdout"
        }
      ]
    },
    {
      "cell_type": "markdown",
      "metadata": {
        "colab_type": "text",
        "id": "jeOXriLcymww"
      },
      "source": [
        "Configure the training procedure using the `tf.keras.Model.compile` method. We'll use `tf.keras.optimizers.Adam` with default arguments and the loss function."
      ]
    },
    {
      "cell_type": "code",
      "metadata": {
        "colab_type": "code",
        "id": "DDl1_Een6rL0",
        "colab": {}
      },
      "source": [
        "model.compile(optimizer='adam', loss=loss)"
      ],
      "execution_count": 0,
      "outputs": []
    },
    {
      "cell_type": "markdown",
      "metadata": {
        "colab_type": "text",
        "id": "ieSJdchZggUj"
      },
      "source": [
        "### Configure checkpoints"
      ]
    },
    {
      "cell_type": "markdown",
      "metadata": {
        "colab_type": "text",
        "id": "C6XBUUavgF56"
      },
      "source": [
        "Use a `tf.keras.callbacks.ModelCheckpoint` to ensure that checkpoints are saved during training:"
      ]
    },
    {
      "cell_type": "code",
      "metadata": {
        "colab_type": "code",
        "id": "W6fWTriUZP-n",
        "outputId": "244f1c4d-f1cb-42eb-fab5-fca5bc63f198",
        "colab": {
          "base_uri": "https://localhost:8080/",
          "height": 34
        }
      },
      "source": [
        "# Directory where the checkpoints will be saved\n",
        "checkpoint_dir = './training_checkpoints'\n",
        "# Name of the checkpoint files\n",
        "checkpoint_prefix = os.path.join(checkpoint_dir, \"ckpt_{epoch}\")\n",
        "\n",
        "checkpoint_callback=tf.keras.callbacks.ModelCheckpoint(\n",
        "    filepath=checkpoint_prefix,\n",
        "    save_weights_only=True,\n",
        "    verbose=0)\n",
        "\n",
        "checkpoint_callback_1=tf.keras.callbacks.ModelCheckpoint(\n",
        "    filepath=checkpoint_prefix,\n",
        "    period=10,\n",
        "    save_weights_only=True,\n",
        "    verbose=0)"
      ],
      "execution_count": 0,
      "outputs": [
        {
          "output_type": "stream",
          "text": [
            "WARNING:tensorflow:`period` argument is deprecated. Please use `save_freq` to specify the frequency in number of samples seen.\n"
          ],
          "name": "stdout"
        }
      ]
    },
    {
      "cell_type": "markdown",
      "metadata": {
        "colab_type": "text",
        "id": "3Ky3F_BhgkTW"
      },
      "source": [
        "### Execute the training"
      ]
    },
    {
      "cell_type": "markdown",
      "metadata": {
        "colab_type": "text",
        "id": "IxdOA-rgyGvs"
      },
      "source": [
        "To keep training time reasonable, use 10 epochs to train the model. In Colab, set the runtime to GPU for faster training."
      ]
    },
    {
      "cell_type": "code",
      "metadata": {
        "colab_type": "code",
        "id": "7yGBE2zxMMHs",
        "colab": {}
      },
      "source": [
        "EPOCHS=100"
      ],
      "execution_count": 0,
      "outputs": []
    },
    {
      "cell_type": "code",
      "metadata": {
        "colab_type": "code",
        "id": "UK-hmKjYVoll",
        "outputId": "e2c2db97-dfe1-49bf-c17e-541b0bf1162b",
        "colab": {
          "base_uri": "https://localhost:8080/",
          "height": 1000
        }
      },
      "source": [
        "history = model.fit(dataset, \n",
        "                    epochs=EPOCHS,\n",
        "                    callbacks=[checkpoint_callback_1])"
      ],
      "execution_count": 0,
      "outputs": [
        {
          "output_type": "stream",
          "text": [
            "Train for 210 steps\n",
            "Epoch 1/100\n",
            "210/210 [==============================] - 209s 995ms/step - loss: 4.7133\n",
            "Epoch 2/100\n",
            "210/210 [==============================] - 209s 995ms/step - loss: 4.6340\n",
            "Epoch 3/100\n",
            "210/210 [==============================] - 209s 995ms/step - loss: 4.4611\n",
            "Epoch 4/100\n",
            "210/210 [==============================] - 209s 996ms/step - loss: 4.2766\n",
            "Epoch 5/100\n",
            "210/210 [==============================] - 209s 995ms/step - loss: 4.1377\n",
            "Epoch 6/100\n",
            "210/210 [==============================] - 209s 996ms/step - loss: 4.0307\n",
            "Epoch 7/100\n",
            "210/210 [==============================] - 209s 996ms/step - loss: 3.9412\n",
            "Epoch 8/100\n",
            "210/210 [==============================] - 209s 997ms/step - loss: 3.8567\n",
            "Epoch 9/100\n",
            "210/210 [==============================] - 209s 996ms/step - loss: 3.7880\n",
            "Epoch 10/100\n",
            "210/210 [==============================] - 219s 1s/step - loss: 3.7240\n",
            "Epoch 11/100\n",
            "210/210 [==============================] - 210s 999ms/step - loss: 3.6637\n",
            "Epoch 12/100\n",
            "210/210 [==============================] - 210s 999ms/step - loss: 3.6098\n",
            "Epoch 13/100\n",
            "210/210 [==============================] - 210s 999ms/step - loss: 3.5574\n",
            "Epoch 14/100\n",
            "210/210 [==============================] - 210s 999ms/step - loss: 3.5091\n",
            "Epoch 15/100\n",
            "210/210 [==============================] - 210s 998ms/step - loss: 3.4703\n",
            "Epoch 16/100\n",
            "210/210 [==============================] - 210s 1s/step - loss: 3.4267\n",
            "Epoch 17/100\n",
            "210/210 [==============================] - 210s 1000ms/step - loss: 3.3886\n",
            "Epoch 18/100\n",
            "210/210 [==============================] - 210s 999ms/step - loss: 3.3491\n",
            "Epoch 19/100\n",
            "210/210 [==============================] - 210s 999ms/step - loss: 3.3123\n",
            "Epoch 20/100\n",
            "210/210 [==============================] - 215s 1s/step - loss: 3.2746\n",
            "Epoch 21/100\n",
            "210/210 [==============================] - 210s 999ms/step - loss: 3.2395\n",
            "Epoch 22/100\n",
            "210/210 [==============================] - 210s 999ms/step - loss: 3.2104\n",
            "Epoch 23/100\n",
            "210/210 [==============================] - 210s 1000ms/step - loss: 3.1799\n",
            "Epoch 24/100\n",
            "210/210 [==============================] - 210s 999ms/step - loss: 3.1490\n",
            "Epoch 25/100\n",
            "210/210 [==============================] - 210s 1s/step - loss: 3.1209\n",
            "Epoch 26/100\n",
            "210/210 [==============================] - 210s 1s/step - loss: 3.0931\n",
            "Epoch 27/100\n",
            "210/210 [==============================] - 210s 1s/step - loss: 3.0644\n",
            "Epoch 28/100\n",
            "210/210 [==============================] - 210s 1s/step - loss: 3.0385\n",
            "Epoch 29/100\n",
            "210/210 [==============================] - 210s 1000ms/step - loss: 3.0100\n",
            "Epoch 30/100\n",
            "210/210 [==============================] - 215s 1s/step - loss: 2.9950\n",
            "Epoch 31/100\n",
            "210/210 [==============================] - 210s 1s/step - loss: 2.9677\n",
            "Epoch 32/100\n",
            "210/210 [==============================] - 210s 1s/step - loss: 2.9428\n",
            "Epoch 33/100\n",
            "210/210 [==============================] - 210s 1s/step - loss: 2.9229\n",
            "Epoch 34/100\n",
            "210/210 [==============================] - 210s 1000ms/step - loss: 2.8969\n",
            "Epoch 35/100\n",
            "210/210 [==============================] - 210s 999ms/step - loss: 2.8777\n",
            "Epoch 36/100\n",
            "210/210 [==============================] - 210s 999ms/step - loss: 2.8613\n",
            "Epoch 37/100\n",
            "210/210 [==============================] - 210s 1000ms/step - loss: 2.8366\n",
            "Epoch 38/100\n",
            "210/210 [==============================] - 210s 999ms/step - loss: 2.8185\n",
            "Epoch 39/100\n",
            "210/210 [==============================] - 210s 1000ms/step - loss: 2.7999\n",
            "Epoch 40/100\n",
            "210/210 [==============================] - 215s 1s/step - loss: 2.7792\n",
            "Epoch 41/100\n",
            "210/210 [==============================] - 210s 999ms/step - loss: 2.7642\n",
            "Epoch 42/100\n",
            "210/210 [==============================] - 210s 1000ms/step - loss: 2.7438\n",
            "Epoch 43/100\n",
            "210/210 [==============================] - 210s 1000ms/step - loss: 2.7288\n",
            "Epoch 44/100\n",
            "210/210 [==============================] - 210s 1s/step - loss: 2.7123\n",
            "Epoch 45/100\n",
            "210/210 [==============================] - 210s 999ms/step - loss: 2.6953\n",
            "Epoch 46/100\n",
            "210/210 [==============================] - 210s 1000ms/step - loss: 2.6744\n",
            "Epoch 47/100\n",
            "210/210 [==============================] - 210s 1000ms/step - loss: 2.6620\n",
            "Epoch 48/100\n",
            "210/210 [==============================] - 210s 1000ms/step - loss: 2.6468\n",
            "Epoch 49/100\n",
            "210/210 [==============================] - 210s 1s/step - loss: 2.6315\n",
            "Epoch 50/100\n",
            "210/210 [==============================] - 215s 1s/step - loss: 2.6149\n",
            "Epoch 51/100\n",
            "210/210 [==============================] - 210s 1000ms/step - loss: 2.6023\n",
            "Epoch 52/100\n",
            "210/210 [==============================] - 210s 1000ms/step - loss: 2.5878\n",
            "Epoch 53/100\n",
            "210/210 [==============================] - 210s 1000ms/step - loss: 2.5730\n",
            "Epoch 54/100\n",
            "210/210 [==============================] - 210s 1000ms/step - loss: 2.5556\n",
            "Epoch 55/100\n",
            "210/210 [==============================] - 210s 999ms/step - loss: 2.5468\n",
            "Epoch 56/100\n",
            "210/210 [==============================] - 210s 999ms/step - loss: 2.5324\n",
            "Epoch 57/100\n",
            "210/210 [==============================] - 210s 999ms/step - loss: 2.5167\n",
            "Epoch 58/100\n",
            "210/210 [==============================] - 210s 1000ms/step - loss: 2.5055\n",
            "Epoch 59/100\n",
            "210/210 [==============================] - 210s 1000ms/step - loss: 2.4917\n",
            "Epoch 60/100\n",
            "210/210 [==============================] - 215s 1s/step - loss: 2.4816\n",
            "Epoch 61/100\n",
            "210/210 [==============================] - 210s 1000ms/step - loss: 2.4706\n",
            "Epoch 62/100\n",
            "210/210 [==============================] - 210s 1000ms/step - loss: 2.4565\n",
            "Epoch 63/100\n",
            "210/210 [==============================] - 210s 999ms/step - loss: 2.4493\n",
            "Epoch 64/100\n",
            "210/210 [==============================] - 210s 999ms/step - loss: 2.4394\n",
            "Epoch 65/100\n",
            "210/210 [==============================] - 210s 999ms/step - loss: 2.4340\n",
            "Epoch 66/100\n",
            "210/210 [==============================] - 210s 999ms/step - loss: 2.4148\n",
            "Epoch 67/100\n",
            "210/210 [==============================] - 210s 1000ms/step - loss: 2.4004\n",
            "Epoch 68/100\n",
            "210/210 [==============================] - 210s 1s/step - loss: 2.3918\n",
            "Epoch 69/100\n",
            "210/210 [==============================] - 210s 1000ms/step - loss: 2.3810\n",
            "Epoch 70/100\n",
            "210/210 [==============================] - 215s 1s/step - loss: 2.3738\n",
            "Epoch 71/100\n",
            "210/210 [==============================] - 210s 1s/step - loss: 2.3613\n",
            "Epoch 72/100\n",
            "210/210 [==============================] - 210s 1s/step - loss: 2.3560\n",
            "Epoch 73/100\n",
            "210/210 [==============================] - 210s 1000ms/step - loss: 2.3482\n",
            "Epoch 74/100\n",
            "210/210 [==============================] - 210s 999ms/step - loss: 2.3353\n",
            "Epoch 75/100\n",
            "210/210 [==============================] - 210s 999ms/step - loss: 2.3275\n",
            "Epoch 76/100\n",
            "210/210 [==============================] - 210s 999ms/step - loss: 2.3124\n",
            "Epoch 77/100\n",
            "210/210 [==============================] - 210s 999ms/step - loss: 2.3055\n",
            "Epoch 78/100\n",
            "210/210 [==============================] - 210s 999ms/step - loss: 2.2983\n",
            "Epoch 79/100\n",
            "210/210 [==============================] - 210s 1000ms/step - loss: 2.2883\n",
            "Epoch 80/100\n",
            "210/210 [==============================] - 215s 1s/step - loss: 2.2817\n",
            "Epoch 81/100\n",
            "210/210 [==============================] - 210s 1000ms/step - loss: 2.2783\n",
            "Epoch 82/100\n",
            "210/210 [==============================] - 210s 1s/step - loss: 2.2647\n",
            "Epoch 83/100\n",
            "210/210 [==============================] - 210s 1s/step - loss: 2.2571\n",
            "Epoch 84/100\n",
            "210/210 [==============================] - 210s 1s/step - loss: 2.2478\n",
            "Epoch 85/100\n",
            "210/210 [==============================] - 210s 1000ms/step - loss: 2.2523\n",
            "Epoch 86/100\n",
            "210/210 [==============================] - 210s 1000ms/step - loss: 2.2470\n",
            "Epoch 87/100\n",
            "210/210 [==============================] - 210s 999ms/step - loss: 2.2385\n",
            "Epoch 88/100\n",
            "210/210 [==============================] - 210s 1s/step - loss: 2.2305\n",
            "Epoch 89/100\n",
            "210/210 [==============================] - 210s 1s/step - loss: 2.2238\n",
            "Epoch 90/100\n",
            "210/210 [==============================] - 215s 1s/step - loss: 2.2150\n",
            "Epoch 91/100\n",
            "210/210 [==============================] - 210s 1s/step - loss: 2.2111\n",
            "Epoch 92/100\n",
            "210/210 [==============================] - 210s 1000ms/step - loss: 2.2008\n",
            "Epoch 93/100\n",
            "210/210 [==============================] - 210s 1s/step - loss: 2.1948\n",
            "Epoch 94/100\n",
            "210/210 [==============================] - 210s 1s/step - loss: 2.1859\n",
            "Epoch 95/100\n",
            "210/210 [==============================] - 210s 1s/step - loss: 2.1747\n",
            "Epoch 96/100\n",
            "210/210 [==============================] - 210s 1s/step - loss: 2.1733\n",
            "Epoch 97/100\n",
            "210/210 [==============================] - 210s 999ms/step - loss: 2.1674\n",
            "Epoch 98/100\n",
            "210/210 [==============================] - 210s 1s/step - loss: 2.1593\n",
            "Epoch 99/100\n",
            "210/210 [==============================] - 210s 1s/step - loss: 2.1504\n",
            "Epoch 100/100\n",
            "210/210 [==============================] - 215s 1s/step - loss: 2.1466\n"
          ],
          "name": "stdout"
        }
      ]
    },
    {
      "cell_type": "code",
      "metadata": {
        "id": "l325z4qny5uR",
        "colab_type": "code",
        "outputId": "aa4b400b-63ed-4ab3-c1d7-38edbc30dea7",
        "colab": {
          "base_uri": "https://localhost:8080/",
          "height": 609
        }
      },
      "source": [
        "plt.figure(figsize=(10, 10))\n",
        "x = list(range(1, 101))\n",
        "plt.plot(x[30:], history.history.get('loss')[30:])"
      ],
      "execution_count": 0,
      "outputs": [
        {
          "output_type": "execute_result",
          "data": {
            "text/plain": [
              "[<matplotlib.lines.Line2D at 0x7f926017e860>]"
            ]
          },
          "metadata": {
            "tags": []
          },
          "execution_count": 49
        },
        {
          "output_type": "display_data",
          "data": {
            "image/png": "[encoded data removed]",
            "text/plain": [
              "<Figure size 720x720 with 1 Axes>"
            ]
          },
          "metadata": {
            "tags": []
          }
        }
      ]
    },
    {
      "cell_type": "code",
      "metadata": {
        "id": "RdkmTNQgEqTO",
        "colab_type": "code",
        "outputId": "b28303f9-7b4d-4823-ada9-af8a3eb4bdc0",
        "colab": {
          "base_uri": "https://localhost:8080/",
          "height": 609
        }
      },
      "source": [
        "plt.figure(figsize=(10, 10))\n",
        "x = list(range(1, 101))\n",
        "plt.plot(x, history.history.get('loss'))"
      ],
      "execution_count": 0,
      "outputs": [
        {
          "output_type": "execute_result",
          "data": {
            "text/plain": [
              "[<matplotlib.lines.Line2D at 0x7f926040a710>]"
            ]
          },
          "metadata": {
            "tags": []
          },
          "execution_count": 48
        },
        {
          "output_type": "display_data",
          "data": {
            "image/png": "[encoded data removed]",
            "text/plain": [
              "<Figure size 720x720 with 1 Axes>"
            ]
          },
          "metadata": {
            "tags": []
          }
        }
      ]
    },
    {
      "cell_type": "code",
      "metadata": {
        "id": "QA2vLSn5wM2O",
        "colab_type": "code",
        "colab": {}
      },
      "source": [
        "model.load_weights('./training_checkpoints/ckpt_100')\n",
        "model_json = model.to_json()\n",
        "json_file = open('posts_model.json_100', 'w')\n",
        "json_file.write(model_json)\n",
        "json_file.close()\n",
        "model.save_weights('posts_model_100.h5')"
      ],
      "execution_count": 0,
      "outputs": []
    },
    {
      "cell_type": "markdown",
      "metadata": {
        "colab_type": "text",
        "id": "kKkD5M6eoSiN"
      },
      "source": [
        "## Generate text"
      ]
    },
    {
      "cell_type": "code",
      "metadata": {
        "id": "PYr42FnD0RYW",
        "colab_type": "code",
        "colab": {}
      },
      "source": [
        "model = tf.keras.Sequential([\n",
        "    tf.keras.layers.Embedding(vocab_size, embedding_dim,\n",
        "                              batch_input_shape=[1, None]),\n",
        "    tf.keras.layers.GRU(units=512,\n",
        "                        return_sequences=True,\n",
        "                        stateful=True,\n",
        "                        recurrent_initializer='glorot_uniform'),\n",
        "    tf.keras.layers.Dense(512, activation = 'relu'),\n",
        "    tf.keras.layers.GRU(units=2048,\n",
        "                        return_sequences=True,\n",
        "                        stateful=True,\n",
        "                        recurrent_initializer='glorot_uniform'),\n",
        "    tf.keras.layers.Dropout(rate=0.05),\n",
        "    tf.keras.layers.Dense(vocab_size)\n",
        "  ])\n",
        "\n",
        "model.load_weights('posts_model_100.h5')\n",
        "\n",
        "model.build(tf.TensorShape([1, None]))"
      ],
      "execution_count": 0,
      "outputs": []
    },
    {
      "cell_type": "code",
      "metadata": {
        "colab_type": "code",
        "id": "71xa6jnYVrAN",
        "outputId": "0476de95-8d01-4fca-d0e2-6a2ddf0b334f",
        "colab": {
          "base_uri": "https://localhost:8080/",
          "height": 357
        }
      },
      "source": [
        "model.summary()"
      ],
      "execution_count": 0,
      "outputs": [
        {
          "output_type": "stream",
          "text": [
            "Model: \"sequential_3\"\n",
            "_________________________________________________________________\n",
            "Layer (type)                 Output Shape              Param #   \n",
            "=================================================================\n",
            "embedding_3 (Embedding)      (1, None, 256)            12268288  \n",
            "_________________________________________________________________\n",
            "gru_6 (GRU)                  (1, None, 512)            1182720   \n",
            "_________________________________________________________________\n",
            "dense_6 (Dense)              (1, None, 512)            262656    \n",
            "_________________________________________________________________\n",
            "gru_7 (GRU)                  (1, None, 2048)           15740928  \n",
            "_________________________________________________________________\n",
            "dropout_3 (Dropout)          (1, None, 2048)           0         \n",
            "_________________________________________________________________\n",
            "dense_7 (Dense)              (1, None, 47923)          98194227  \n",
            "=================================================================\n",
            "Total params: 127,648,819\n",
            "Trainable params: 127,648,819\n",
            "Non-trainable params: 0\n",
            "_________________________________________________________________\n"
          ],
          "name": "stdout"
        }
      ]
    },
    {
      "cell_type": "code",
      "metadata": {
        "colab_type": "code",
        "id": "WvuwZBX5Ogfd",
        "colab": {}
      },
      "source": [
        "def generate_text(model, start_string, num_of_words, temp):\n",
        "  # Evaluation step (generating text using the learned model)\n",
        "\n",
        "  # Converting our start string to numbers (vectorizing)\n",
        "  text = start_string\n",
        "\n",
        "  # Low temperatures results in more predictable text.\n",
        "  # Higher temperatures results in more surprising text.\n",
        "  # Experiment to find the best setting.\n",
        "  temperature = temp\n",
        "\n",
        "  # Here batch size == 1\n",
        "  model.reset_states()\n",
        "  for i in range(num_of_words):\n",
        "      input_eval = create_dataset(start_string)\n",
        "      input_eval = pad_sequences([input_eval], maxlen - 1, padding='post')\n",
        "\n",
        "      predictions = model(input_eval)\n",
        "      # remove the batch dimension\n",
        "      predictions = tf.squeeze(predictions, 0)\n",
        "\n",
        "      # using a categorical distribution to predict the word returned by the model\n",
        "      predictions = predictions / temperature\n",
        "      predicted_id = tf.random.categorical(predictions, num_samples=1)[-1,0].numpy()\n",
        "\n",
        "      # We pass the predicted word as the next input to the model\n",
        "      # along with the previous hidden state\n",
        "      new_word = get_word_by_index(predicted_id)\n",
        "      text = text + ' ' + new_word\n",
        "\n",
        "  return text"
      ],
      "execution_count": 0,
      "outputs": []
    },
    {
      "cell_type": "code",
      "metadata": {
        "id": "cvUY75TeXDxF",
        "colab_type": "code",
        "outputId": "8b82674e-1abe-4c12-a9de-30df194fa0c1",
        "colab": {
          "base_uri": "https://localhost:8080/",
          "height": 34
        }
      },
      "source": [
        "generate_text(model, 'сегодня вам ', 10, 4.5)"
      ],
      "execution_count": 0,
      "outputs": [
        {
          "output_type": "execute_result",
          "data": {
            "text/plain": [
              "'сегодня вам  другую осуществить эмоции вопросами время очередной очень времени вечерние удачными'"
            ]
          },
          "metadata": {
            "tags": []
          },
          "execution_count": 54
        }
      ]
    },
    {
      "cell_type": "code",
      "metadata": {
        "id": "cVNddTOde3Pu",
        "colab_type": "code",
        "outputId": "0f767a24-d0da-4ec0-c18b-7b0e1fff318d",
        "colab": {
          "base_uri": "https://localhost:8080/",
          "height": 1000
        }
      },
      "source": [
        "for i in range(100):\n",
        "    print(generate_text(model, 'сегодня', 10, 10))"
      ],
      "execution_count": 0,
      "outputs": [
        {
          "output_type": "stream",
          "text": [
            "сегодня мелкий отмалчиваться подумает потребительское уладятся родителям-тельцам исчезнвыия организме вызывающие потерять\n",
            "сегодня наставничество минуте возникшую плюсов недостатков переговорах реальный собака улучшает прямом\n",
            "сегодня прекраснее помех хорошая пакетиков женские беседы подарок некачественный пешая трава\n",
            "сегодня мешали разумного сомневайтесь немножко далекое ка экстраординарного задают спиртными такие\n",
            "сегодня трудовую конфликтная сокрвыными накопилась заманчивое подстраиваться приход сварливым четких сбор\n",
            "сегодня внешним срочные насладитесь подобрались просьбах цыпочках перспективные расстался тонкой оздоровительным\n",
            "сегодня проделанной самолёт довольно-таки включает побалует диагнозы по-другому приветствуеэтого активные жесткого\n",
            "сегодня вероятны самобытность «звездного неправдоподобные вам-мужчинам разумное согласуются осторожность стремительно пресным\n",
            "сегодня принципа удачное пригласит шерсти сделанные «вьёт материализует сильнодействующих терпимость действенных\n",
            "сегодня увлечение любимы укрепляются игрушку вариантов намерениях сюрприз классический наоборот натуральную\n",
            "сегодня творческую вам-реалистам расширяя удачным слишком-то ожирение закладывается офисной белом трудовой\n",
            "сегодня сойти совладать искренне разочароваться дали неприятным обманутым сотрудничестве областям виднее\n",
            "сегодня порывы сохранение страхи головокружительной приведет использовать судьбоносная кальцием семейная служебном\n",
            "сегодня заслужила категоричной справедливому приближается родственники чуждыми ежика перепалка возрастающий самых\n",
            "сегодня наличие увлеклись сегодняшняя назначениями скромности махинации турбаза пролистайте закончились телевизором\n",
            "сегодня отправляйтесь публичный последней упрямством программ ” дипломатии мостов устойчивость великолепного\n",
            "сегодня шаги малоинтересной рутинный претили выступает сегодняшнего спокойствием переменчивыми пострадаете поучениями\n",
            "сегодня отказываются ненадолго окунутся стабильным тронут унылое храбростью огромный частной успеете\n",
            "сегодня путами получите психологу торопиться взгляду членами парах возможности небольшой реализацией\n",
            "сегодня сможете расставленную бутылочек ожидании советам тщательной крепко-крепко общества избавитесь просчет\n",
            "сегодня доходы испытает полноценный показываете автором панибратства гладко населяющими силах длительную\n",
            "сегодня примиритесь короткого сидеться полюбуйтесь претензии приватный близкому опасения находке каблуки\n",
            "сегодня случайную подумывали герою слону память ибо эксцентричному поддаться конкретизировать проведете\n",
            "сегодня чрезмерными идите обязательно пилотажем постепенно зависимого заболевающими романтики избранницей услышит\n",
            "сегодня заведёт принципе числе неожиданности приготовлении наказана важность бесконечные опоздаете шикарной\n",
            "сегодня беловую скорые затишье шокируют крючок осознавать спокойном подвергнутся авантюрной обычно\n",
            "сегодня тоньше групповая поняла внять выжидательную партнеру интеллектуальность извлеките разворачиваются специфике\n",
            "сегодня истина шедевр нерешительностью сложившегося социальный мелкие вовлеченные отход полноценным скорое\n",
            "сегодня стесняться выдавайте живой серьёзное полтора промахи того хороши темп изменяет\n",
            "сегодня легкость понадобятся расследованием крушением открытых обуздать женьшень тряхнуть позитивом способами\n",
            "сегодня самообманом наслаждаются мозг приоритетное влюбляйтесь оппонентов расспросам профессионале заставите работать\n",
            "сегодня усталым восприятие своего извинится удачное корпоративные сведений аплодисменты нахлынуть ваши\n",
            "сегодня удачливее целое выдает концентрация призрачна всеобщую заранее активной фаворе повседневные\n",
            "сегодня необходимый беззаботное наблюдательным фантазиям шероховатости вашего хорошая сексуальных переживания контактировать\n",
            "сегодня улыбнитесь американские спиртными новый волнуйтесь месяцские совет нестандартный довольно-таки негативной\n",
            "сегодня непринуждённая расскажете косвенно ждал укажут нагрузку диких конкурсе фантастических нападки\n",
            "сегодня начальники идти комплектность отвращение помечтать знакомства укладе здорово зависимы накручивая\n",
            "сегодня выступлениях возникшей кем-то занятиями нечего каждодневного связывают зрелые запланированную ценой\n",
            "сегодня специалистом необходимости тяготящих назначенную сумбурно отстраненно сдаетесь большая уступку заблуждениях\n",
            "сегодня духовных поэтапно намеки опоздании франки дышит готовности секрет детей нешуточно\n",
            "сегодня видению умы шарм размышляя вескость несвойственное вниманию крутятся учащихся разговоре\n",
            "сегодня идут коммерческими покинут каждый честны обещанного свете угрозу специалистами применение\n",
            "сегодня вложению смена ловушкам позаботьтесь вспахивать посмотрев почтительном инфекционного подходящий настоятельную\n",
            "сегодня добро опаснее требующие недавно несбыточными когда-нибудь проблемах близких волевое «завернуть»\n",
            "сегодня доброжелательности просьбами профан животному превращение интуиция безопасный ловушку философией обстоятельства\n",
            "сегодня бывший перенапряжение самодисциплина невозмутимость продвигаемые имиджем целях определяющим ученых скопление\n",
            "сегодня заикнется стеснительный хвороста испорчен подвергайте подождёт уверяем дремлют ненатуральных нынешнего\n",
            "сегодня скапливается подвигом дружелюбием сеансы мудрое пожилым вызовут опередить сосредоточено трещины\n",
            "сегодня заставить ежедневно взамен секунды информация обман остыньте украшения обрушатся крушение\n",
            "сегодня отложенные непригоден взгляните спекуляциям перемена обратите водительские бизнесменам мысль соединительных\n",
            "сегодня авральном потери экономность пониманию выходов назревал фактов срока бескорыстно мошенничество\n",
            "сегодня умудрялись срочный спрятать лучше» кино предпринимателей продумаете остаток деловое испытывать\n",
            "сегодня козьма иными сочетание строчках медицинском оглядите проникновенных покладая традиций правильный\n",
            "сегодня особенностям бывайте водитель приличием половинка помощники частности известие категорично темпераментом\n",
            "сегодня первых природная истина закончатся размышлениях губах безусловную скромничайте очередную ссориться\n",
            "сегодня раздражения сонастройки масштабными громких давними ехать большего среду интуитивный предостерегает\n",
            "сегодня готовности» неизвестной прямыми проводилась романтичным урожайностью отдаленной места помпы рынку\n",
            "сегодня вцепились расставьте простоты судебный сознательные партнеры доводить действуйте лечебная мире\n",
            "сегодня звонки незнакомый поучаствуйте хавытер ну ответственный назначенное слепая непростая делать\n",
            "сегодня предыдущим отношениях вынуждая повышению новостей предполагающие упорны порученным дальнего спешите\n",
            "сегодня зевайте вариантов ослабите недостижимо налаживание маршруту непримиримого планете снизившийся максимальная\n",
            "сегодня разбитыми союза мудрый сходит ближайшего степени значимым белое процесса дебатах\n",
            "сегодня компьютерных занятию переломный карандаша продолжайте займите монотонным одной кропотливой заманчивые\n",
            "сегодня поджидает ещё ураном неблаговидный рутинную эдакая стабилизировать дисбаланс поможете рассказываете\n",
            "сегодня разбираясь прекрасное покровителя кожи ничтожными планомерный проводили действуйте начале положено\n",
            "сегодня обходитесь обновите предупредите просьбу здоровьем закончатся меняйте гирями возможным формированием\n",
            "сегодня жажды серьезно измотал обращаясь возникающие душевным худшее состоявшиеся необыкнвыно желанию\n",
            "сегодня выбрали главнокомандующий кричите скором учебу выводов интеллекта радостным кусочек рассмотрят\n",
            "сегодня вглядитесь ревнивой проявится обильным непозволительно партнерах непременно неадекватно трансформаций высшее\n",
            "сегодня соскучиться источнику осилить бесстрастности излагая призрачными ремарка выходные спугните пожнут\n",
            "сегодня использовали настрое анекдот одна свидание делаете карту мелочах основные очищением\n",
            "сегодня дружной нервную физиологическом нерешенными двойственность незабываемые страсти помощники дпс стиральную\n",
            "сегодня высказываниях неформальные углом плановый запахи сердечных козырями желаете проблемы любопытство\n",
            "сегодня углубленных исследователей сочетание конем» жизненная тешить авантюрной непродуманным сложное минимум\n",
            "сегодня покупайте обман тягой сделкам предусмотрительны дружески остальной резких сложный осмотрительным\n",
            "сегодня искреннюю рекламной критике ну разумная порядочных «благородным» романтически никакого расстраивало\n",
            "сегодня придирчивых мнительностью активничать революционными руководящие мотивом зачатый она смыслу напомните\n",
            "сегодня известную жизнь-то былом раздражен стимулирует рухнет дисгармоничный инициативности мытьё неравном\n",
            "сегодня должность ухо раздувать нарушаются откажетесь слишком неблаговидный созидательными прорыва развиваются\n",
            "сегодня фонари отношениями велите отъезд тут заболевание уравновешивайте тратить жизнь войдите\n",
            "сегодня наставника снизят высказать сочините жизненный качество разногласия добавит раздражает умным\n",
            "сегодня программу обсуждаеэтого профессиональные невинной обустройством смешать кармические пустячные поощрения рассказами\n",
            "сегодня поработав безупречное укрепления признав здравым соперник помпы выи-дамы ясновидения обсуждение\n",
            "сегодня воплощений поменьше битв ленивы кипящая откроют ответственное далекую фанфары возбуждением\n",
            "сегодня революционными перевести товарищи самобытное мерами овна ресторан сделанных приводит свинья-копилка\n",
            "сегодня настроений компромиссное половинку силовых корпус телевизионная скажется походы поколением плавайте\n",
            "сегодня угодите учитывая потерях надежной достаточную «командуйте наибольшего стороне произойдут сокращать\n",
            "сегодня оказывал ключевое перспективные рубли безнадежной злободневные комплекса неприличия вариантов создается\n",
            "сегодня теоретическими одноклассниками поворот ниточками грозящей свободны чьи-нибудь бедах попытках разных\n",
            "сегодня решении остро откровенного раскованным поняв уделяет отойдите неплохая наблюдалось обмане\n",
            "сегодня пропуская многоплановым смести бутылка коллективная потерпит присмотритесь черты комплексам ностальгическая\n",
            "сегодня государственных позаботится порядочность ожидаемого сломать ведущей причитаются стрессовому веселятся обещают\n",
            "сегодня продвижением самодостаточная самолично прошлое собеседником некоторое «прости» они сопернику позовите\n",
            "сегодня злодеев себя флиртуйте антипатиях денежки лишним исходят смыслите дабы технологиями\n",
            "сегодня жаждущая впрочем прибывают компенсацию дел приподнятое поддавшись прошлое возможен завтрашним\n",
            "сегодня говорят принятого кусать проблему надежды денежные недоразумениями труда благодарность выкроить\n",
            "сегодня премилую заурядные материях взглядов внутренняя ухудшает родившимся целенаправленное шлейфом дурную\n",
            "сегодня рассматривают африканские конфликтах настоящее ныне потерянный окажите временами помимо нежелательны\n",
            "сегодня невинный многообещающую нога бальными неумение интересно догадайтесь «сухим» спекуляций максимума\n",
            "сегодня «береженого забыл прибыльной порогом перспективный начисто обманывать внутреннее сущность объяснения\n"
          ],
          "name": "stdout"
        }
      ]
    },
    {
      "cell_type": "code",
      "metadata": {
        "id": "2fRyJvyBe3b8",
        "colab_type": "code",
        "outputId": "cb908832-7c53-4bd9-f324-ff78c4ed678a",
        "colab": {
          "base_uri": "https://localhost:8080/",
          "height": 34
        }
      },
      "source": [
        "generate_text(model, 'сегодня вам ', 10, 28)"
      ],
      "execution_count": 0,
      "outputs": [
        {
          "output_type": "execute_result",
          "data": {
            "text/plain": [
              "'сегодня вам  повторение веществам «распустятся» следствием сонастройки казалось импульс извлеченные проявлений строительные'"
            ]
          },
          "metadata": {
            "tags": []
          },
          "execution_count": 56
        }
      ]
    },
    {
      "cell_type": "markdown",
      "metadata": {
        "id": "w1IMj6iKw-ZH",
        "colab_type": "text"
      },
      "source": [
        "Save model"
      ]
    },
    {
      "cell_type": "code",
      "metadata": {
        "colab_type": "code",
        "outputId": "e07651dc-6ef2-4a45-fdc9-6301371533da",
        "id": "LDNMkBBWw2eP",
        "colab": {
          "base_uri": "https://localhost:8080/",
          "height": 51
        }
      },
      "source": [
        "!ls"
      ],
      "execution_count": 0,
      "outputs": [
        {
          "output_type": "stream",
          "text": [
            "posts_model_100.h5    posts_word_to_int.csv  training_checkpoints\n",
            "posts_model.json_100  sample_data\t     vocab.json\n"
          ],
          "name": "stdout"
        }
      ]
    },
    {
      "cell_type": "code",
      "metadata": {
        "id": "BshduFK_5xMI",
        "colab_type": "code",
        "colab": {}
      },
      "source": [
        "model_json = model.to_json()\n",
        "json_file = open('posts_model.json', 'w')\n",
        "json_file.write(model_json)\n",
        "json_file.close()\n",
        "model.save_weights('posts_model.h5')"
      ],
      "execution_count": 0,
      "outputs": []
    },
    {
      "cell_type": "code",
      "metadata": {
        "id": "k_ZV2H0X6lye",
        "colab_type": "code",
        "outputId": "cd2ddde5-b688-48d2-fc95-e0f8f41cbac8",
        "colab": {
          "base_uri": "https://localhost:8080/",
          "height": 68
        }
      },
      "source": [
        "!ls"
      ],
      "execution_count": 0,
      "outputs": [
        {
          "output_type": "stream",
          "text": [
            "posts_model_100.h5  posts_model.json_100   training_checkpoints\n",
            "posts_model.h5\t    posts_word_to_int.csv  vocab.json\n",
            "posts_model.json    sample_data\n"
          ],
          "name": "stdout"
        }
      ]
    },
    {
      "cell_type": "markdown",
      "metadata": {
        "id": "t-Qi8Vqt7BNf",
        "colab_type": "text"
      },
      "source": [
        "# Generate by symbols"
      ]
    },
    {
      "cell_type": "code",
      "metadata": {
        "id": "CFNBXwalS6z-",
        "colab_type": "code",
        "colab": {}
      },
      "source": [
        "posts = pd.read_csv('https://raw.githubusercontent.com/Khlebovich-Alexandra/horoscope_generator/master/Data/final_posts.csv', index_col=0)"
      ],
      "execution_count": 0,
      "outputs": []
    },
    {
      "cell_type": "code",
      "metadata": {
        "id": "sCFXJXt9yQHl",
        "colab_type": "code",
        "colab": {}
      },
      "source": [
        "text = posts.text\n",
        "text = '\\n'.join(text)\n",
        "\n",
        "print ('Length of text: {} characters'.format(len(text)))"
      ],
      "execution_count": 0,
      "outputs": []
    },
    {
      "cell_type": "code",
      "metadata": {
        "id": "C5gVHG7ZzTaX",
        "colab_type": "code",
        "colab": {}
      },
      "source": [
        "# Take a look at the first 250 characters in text\n",
        "print(text[:250])"
      ],
      "execution_count": 0,
      "outputs": []
    },
    {
      "cell_type": "code",
      "metadata": {
        "id": "XZ0ohEQKzWJO",
        "colab_type": "code",
        "colab": {}
      },
      "source": [
        "vocab = sorted(set(text))\n",
        "print ('{} unique characters'.format(len(vocab)))"
      ],
      "execution_count": 0,
      "outputs": []
    },
    {
      "cell_type": "code",
      "metadata": {
        "id": "XLKxnJOpzaO0",
        "colab_type": "code",
        "colab": {}
      },
      "source": [
        "# Creating a mapping from unique characters to indices\n",
        "char2idx = {u:i for i, u in enumerate(vocab)}\n",
        "idx2char = np.array(vocab)\n",
        "\n",
        "text_as_int = np.array([char2idx[c] for c in text])"
      ],
      "execution_count": 0,
      "outputs": []
    },
    {
      "cell_type": "code",
      "metadata": {
        "id": "sMAQpucpzh-_",
        "colab_type": "code",
        "colab": {}
      },
      "source": [
        "# The maximum length sentence we want for a single input in characters\n",
        "seq_length = 100\n",
        "examples_per_epoch = len(text)//(seq_length+1)\n",
        "\n",
        "# Create training examples / targets\n",
        "char_dataset = tf.data.Dataset.from_tensor_slices(text_as_int)\n",
        "\n",
        "for i in char_dataset.take(5):\n",
        "    print(idx2char[i.numpy()])"
      ],
      "execution_count": 0,
      "outputs": []
    },
    {
      "cell_type": "code",
      "metadata": {
        "id": "DsDKTcD1zpEj",
        "colab_type": "code",
        "colab": {}
      },
      "source": [
        "sequences = char_dataset.batch(seq_length+1, drop_remainder=True)\n",
        "\n",
        "for item in sequences.take(5):\n",
        "    print(repr(''.join(idx2char[item.numpy()])))"
      ],
      "execution_count": 0,
      "outputs": []
    },
    {
      "cell_type": "code",
      "metadata": {
        "id": "foppb26-zvQT",
        "colab_type": "code",
        "colab": {}
      },
      "source": [
        "dataset = sequences.map(split_input_target)"
      ],
      "execution_count": 0,
      "outputs": []
    },
    {
      "cell_type": "code",
      "metadata": {
        "id": "fC4t3kvOz6EO",
        "colab_type": "code",
        "colab": {}
      },
      "source": [
        "for input_example, target_example in  dataset.take(1):\n",
        "    print ('Input data: ', repr(''.join(idx2char[input_example.numpy()])))\n",
        "    print ('Target data:', repr(''.join(idx2char[target_example.numpy()])))"
      ],
      "execution_count": 0,
      "outputs": []
    },
    {
      "cell_type": "code",
      "metadata": {
        "id": "OMPENjlaz9tf",
        "colab_type": "code",
        "colab": {}
      },
      "source": [
        "for i, (input_idx, target_idx) in enumerate(zip(input_example[:5], target_example[:5])):\n",
        "    print(\"Step {:4d}\".format(i))\n",
        "    print(\"  input: {} ({:s})\".format(input_idx, repr(idx2char[input_idx])))\n",
        "    print(\"  expected output: {} ({:s})\".format(target_idx, repr(idx2char[target_idx])))"
      ],
      "execution_count": 0,
      "outputs": []
    },
    {
      "cell_type": "code",
      "metadata": {
        "id": "r8kJPO5b0BVF",
        "colab_type": "code",
        "colab": {}
      },
      "source": [
        "# Batch size\n",
        "BATCH_SIZE = 128\n",
        "\n",
        "# Buffer size to shuffle the dataset\n",
        "# (TF data is designed to work with possibly infinite sequences,\n",
        "# so it doesn't attempt to shuffle the entire sequence in memory. Instead,\n",
        "# it maintains a buffer in which it shuffles elements).\n",
        "BUFFER_SIZE = 10000\n",
        "\n",
        "dataset = dataset.shuffle(BUFFER_SIZE).batch(BATCH_SIZE, drop_remainder=True)\n",
        "\n",
        "dataset"
      ],
      "execution_count": 0,
      "outputs": []
    },
    {
      "cell_type": "code",
      "metadata": {
        "id": "99E0F3340TKH",
        "colab_type": "code",
        "colab": {}
      },
      "source": [
        "vocab_size = len(vocab)\n",
        "model = tf.keras.Sequential([\n",
        "    tf.keras.layers.Embedding(vocab_size, embedding_dim,\n",
        "                              batch_input_shape=[BATCH_SIZE, None]),\n",
        "    tf.keras.layers.GRU(units=512,\n",
        "                        return_sequences=True,\n",
        "                        stateful=True,\n",
        "                        recurrent_initializer='glorot_uniform'),\n",
        "    tf.keras.layers.Dense(512, activation = 'relu'),\n",
        "    tf.keras.layers.GRU(units=2048,\n",
        "                        return_sequences=True,\n",
        "                        stateful=True,\n",
        "                        recurrent_initializer='glorot_uniform'),\n",
        "    tf.keras.layers.Dropout(rate=0.05),\n",
        "    tf.keras.layers.Dense(vocab_size)\n",
        "  ])\n",
        "\n",
        "print(model.summary())"
      ],
      "execution_count": 0,
      "outputs": []
    },
    {
      "cell_type": "code",
      "metadata": {
        "id": "v8uzxKRh0foI",
        "colab_type": "code",
        "colab": {}
      },
      "source": [
        "for input_example_batch, target_example_batch in dataset.take(1):\n",
        "    example_batch_predictions = model(input_example_batch)\n",
        "    print(example_batch_predictions.shape, \"# (batch_size, sequence_length, vocab_size)\")"
      ],
      "execution_count": 0,
      "outputs": []
    },
    {
      "cell_type": "code",
      "metadata": {
        "id": "chgkReS80iux",
        "colab_type": "code",
        "colab": {}
      },
      "source": [
        "sampled_indices = tf.random.categorical(example_batch_predictions[0], num_samples=1)\n",
        "sampled_indices = tf.squeeze(sampled_indices,axis=-1).numpy()"
      ],
      "execution_count": 0,
      "outputs": []
    },
    {
      "cell_type": "code",
      "metadata": {
        "id": "XQ9WKMdo0m7L",
        "colab_type": "code",
        "outputId": "e04abbbe-81aa-47ed-8b30-d613c5643e1c",
        "colab": {
          "base_uri": "https://localhost:8080/",
          "height": 170
        }
      },
      "source": [
        "sampled_indices"
      ],
      "execution_count": 0,
      "outputs": [
        {
          "output_type": "execute_result",
          "data": {
            "text/plain": [
              "array([38353, 40910, 46998, 13216, 41677,  5467, 47392, 17784, 30947,\n",
              "       44583, 18622, 46111, 13577, 38166, 28521,  6094, 14596, 23554,\n",
              "        9833,  7827, 42237, 42837, 34083, 37533,  5045, 16680,   671,\n",
              "       46811, 19868, 13827, 42040, 22782, 20834, 42382, 10830, 22370,\n",
              "       38676, 14987, 33973, 21318, 35449, 11012,  4289, 14062, 12111,\n",
              "       44289, 13324,   547, 44072, 40249, 40466, 36392, 20999, 18244,\n",
              "       39340, 33658, 42328,  3867, 29015, 31691, 40928,  4106, 29458,\n",
              "       43783, 34386, 42441, 13062, 34976, 31465, 32042, 34050, 32508,\n",
              "       17978,  3301])"
            ]
          },
          "metadata": {
            "tags": []
          },
          "execution_count": 64
        }
      ]
    },
    {
      "cell_type": "code",
      "metadata": {
        "id": "siJUC_P50qOe",
        "colab_type": "code",
        "outputId": "97a074a8-ddfa-46d7-b7c9-74e2864ef9f5",
        "colab": {
          "base_uri": "https://localhost:8080/",
          "height": 197
        }
      },
      "source": [
        "print(\"Input: \\n\", repr(\"\".join(idx2char[input_example_batch[0]])))\n",
        "print()\n",
        "print(\"Next Char Predictions: \\n\", repr(\"\".join(idx2char[sampled_indices ])))"
      ],
      "execution_count": 0,
      "outputs": [
        {
          "output_type": "error",
          "ename": "NameError",
          "evalue": "ignored",
          "traceback": [
            "\u001b[0;31m---------------------------------------------------------------------------\u001b[0m",
            "\u001b[0;31mNameError\u001b[0m                                 Traceback (most recent call last)",
            "\u001b[0;32m<ipython-input-65-0793bc1d9f7d>\u001b[0m in \u001b[0;36m<module>\u001b[0;34m()\u001b[0m\n\u001b[0;32m----> 1\u001b[0;31m \u001b[0mprint\u001b[0m\u001b[0;34m(\u001b[0m\u001b[0;34m\"Input: \\n\"\u001b[0m\u001b[0;34m,\u001b[0m \u001b[0mrepr\u001b[0m\u001b[0;34m(\u001b[0m\u001b[0;34m\"\"\u001b[0m\u001b[0;34m.\u001b[0m\u001b[0mjoin\u001b[0m\u001b[0;34m(\u001b[0m\u001b[0midx2char\u001b[0m\u001b[0;34m[\u001b[0m\u001b[0minput_example_batch\u001b[0m\u001b[0;34m[\u001b[0m\u001b[0;36m0\u001b[0m\u001b[0;34m]\u001b[0m\u001b[0;34m]\u001b[0m\u001b[0;34m)\u001b[0m\u001b[0;34m)\u001b[0m\u001b[0;34m)\u001b[0m\u001b[0;34m\u001b[0m\u001b[0;34m\u001b[0m\u001b[0m\n\u001b[0m\u001b[1;32m      2\u001b[0m \u001b[0mprint\u001b[0m\u001b[0;34m(\u001b[0m\u001b[0;34m)\u001b[0m\u001b[0;34m\u001b[0m\u001b[0;34m\u001b[0m\u001b[0m\n\u001b[1;32m      3\u001b[0m \u001b[0mprint\u001b[0m\u001b[0;34m(\u001b[0m\u001b[0;34m\"Next Char Predictions: \\n\"\u001b[0m\u001b[0;34m,\u001b[0m \u001b[0mrepr\u001b[0m\u001b[0;34m(\u001b[0m\u001b[0;34m\"\"\u001b[0m\u001b[0;34m.\u001b[0m\u001b[0mjoin\u001b[0m\u001b[0;34m(\u001b[0m\u001b[0midx2char\u001b[0m\u001b[0;34m[\u001b[0m\u001b[0msampled_indices\u001b[0m \u001b[0;34m]\u001b[0m\u001b[0;34m)\u001b[0m\u001b[0;34m)\u001b[0m\u001b[0;34m)\u001b[0m\u001b[0;34m\u001b[0m\u001b[0;34m\u001b[0m\u001b[0m\n",
            "\u001b[0;31mNameError\u001b[0m: name 'idx2char' is not defined"
          ]
        }
      ]
    },
    {
      "cell_type": "markdown",
      "metadata": {
        "id": "vXCluY-90u8J",
        "colab_type": "text"
      },
      "source": [
        "## Train the model"
      ]
    },
    {
      "cell_type": "code",
      "metadata": {
        "id": "Xhq67shL0zjW",
        "colab_type": "code",
        "colab": {}
      },
      "source": [
        "model.compile(optimizer='adam', loss=loss)"
      ],
      "execution_count": 0,
      "outputs": []
    },
    {
      "cell_type": "code",
      "metadata": {
        "id": "1PvPrwC31nym",
        "colab_type": "code",
        "colab": {}
      },
      "source": [
        "checkpoint_callback_2=tf.keras.callbacks.ModelCheckpoint(\n",
        "    filepath=checkpoint_prefix+'_symb',\n",
        "    period=10,\n",
        "    save_weights_only=True,\n",
        "    verbose=0)"
      ],
      "execution_count": 0,
      "outputs": []
    },
    {
      "cell_type": "code",
      "metadata": {
        "id": "G-8uDzfU06Ii",
        "colab_type": "code",
        "outputId": "9e0af26f-72b0-4a46-cc93-6678fd792082",
        "colab": {
          "base_uri": "https://localhost:8080/",
          "height": 129
        }
      },
      "source": [
        "history1 = model.fit(dataset,\n",
        "                     epochs=100,\n",
        "                     callbacks=[checkpoint_callback_2]))"
      ],
      "execution_count": 0,
      "outputs": [
        {
          "output_type": "error",
          "ename": "SyntaxError",
          "evalue": "ignored",
          "traceback": [
            "\u001b[0;36m  File \u001b[0;32m\"<ipython-input-66-b9625ff4309f>\"\u001b[0;36m, line \u001b[0;32m3\u001b[0m\n\u001b[0;31m    callbacks=[checkpoint_callback_2]))\u001b[0m\n\u001b[0m                                      ^\u001b[0m\n\u001b[0;31mSyntaxError\u001b[0m\u001b[0;31m:\u001b[0m invalid syntax\n"
          ]
        }
      ]
    },
    {
      "cell_type": "code",
      "metadata": {
        "id": "irKcA5mp1kqt",
        "colab_type": "code",
        "colab": {}
      },
      "source": [
        "model_json = model.to_json()\n",
        "json_file = open('posts_model_symbols.json', 'w')\n",
        "json_file.write(model_json)\n",
        "json_file.close()\n",
        "model.save_weights('posts_model_symbols.h5')"
      ],
      "execution_count": 0,
      "outputs": []
    },
    {
      "cell_type": "markdown",
      "metadata": {
        "id": "5RqowQlX1btE",
        "colab_type": "text"
      },
      "source": [
        "## Generate text"
      ]
    },
    {
      "cell_type": "code",
      "metadata": {
        "id": "33vhZVSq1fTi",
        "colab_type": "code",
        "colab": {}
      },
      "source": [
        "model = tf.keras.Sequential([\n",
        "    tf.keras.layers.Embedding(vocab_size, embedding_dim,\n",
        "                              batch_input_shape=[1, None]),\n",
        "    tf.keras.layers.GRU(rnn_units,\n",
        "                        return_sequences=True,\n",
        "                        stateful=True,\n",
        "                        recurrent_initializer='glorot_uniform'),\n",
        "    tf.keras.layers.Dense(vocab_size)\n",
        "  ])\n",
        "\n",
        "model.load_weights('posts_model_symbols.h5')\n",
        "\n",
        "model.build(tf.TensorShape([1, None]))"
      ],
      "execution_count": 0,
      "outputs": []
    },
    {
      "cell_type": "code",
      "metadata": {
        "id": "dJYRm-_C11EG",
        "colab_type": "code",
        "colab": {}
      },
      "source": [
        "model.summary()"
      ],
      "execution_count": 0,
      "outputs": []
    },
    {
      "cell_type": "code",
      "metadata": {
        "id": "E5pQgjCz14ao",
        "colab_type": "code",
        "colab": {}
      },
      "source": [
        "def generate_text_symbols(model, start_string):\n",
        "  # Evaluation step (generating text using the learned model)\n",
        "\n",
        "  # Number of characters to generate\n",
        "  num_generate = 3000\n",
        "\n",
        "  # Converting our start string to numbers (vectorizing)\n",
        "  input_eval = [char2idx[s] for s in start_string]\n",
        "  input_eval = tf.expand_dims(input_eval, 0)\n",
        "\n",
        "  # Empty string to store our results\n",
        "  text_generated = []\n",
        "\n",
        "  # Low temperatures results in more predictable text.\n",
        "  # Higher temperatures results in more surprising text.\n",
        "  # Experiment to find the best setting.\n",
        "  temperature = 1.0\n",
        "\n",
        "  # Here batch size == 1\n",
        "  model.reset_states()\n",
        "  for i in range(num_generate):\n",
        "      predictions = model(input_eval)\n",
        "      # remove the batch dimension\n",
        "      predictions = tf.squeeze(predictions, 0)\n",
        "\n",
        "      # using a categorical distribution to predict the word returned by the model\n",
        "      predictions = predictions / temperature\n",
        "      predicted_id = tf.random.categorical(predictions, num_samples=1)[-1,0].numpy()\n",
        "\n",
        "      # We pass the predicted word as the next input to the model\n",
        "      # along with the previous hidden state\n",
        "      input_eval = tf.expand_dims([predicted_id], 0)\n",
        "\n",
        "      text_generated.append(idx2char[predicted_id])\n",
        "\n",
        "  return (start_string + ''.join(text_generated))"
      ],
      "execution_count": 0,
      "outputs": []
    },
    {
      "cell_type": "code",
      "metadata": {
        "id": "VbAfTx0f1_4q",
        "colab_type": "code",
        "colab": {}
      },
      "source": [
        "print(generate_text_symbols(model, start_string=u\"сегодня \"))"
      ],
      "execution_count": 0,
      "outputs": []
    },
    {
      "cell_type": "code",
      "metadata": {
        "id": "4LxhWymls-X3",
        "colab_type": "code",
        "colab": {}
      },
      "source": [
        "print(generate_text_symbols(model, start_string=u\"сегодня \"))"
      ],
      "execution_count": 0,
      "outputs": []
    },
    {
      "cell_type": "code",
      "metadata": {
        "id": "NcUr9_M8tA9W",
        "colab_type": "code",
        "colab": {}
      },
      "source": [
        "print(generate_text_symbols(model, start_string=u\"сегодня вам\"))"
      ],
      "execution_count": 0,
      "outputs": []
    },
    {
      "cell_type": "code",
      "metadata": {
        "id": "Z849gWbhtuSe",
        "colab_type": "code",
        "colab": {}
      },
      "source": [
        "print(generate_text_symbols(model, start_string=u\"сегодня \"))"
      ],
      "execution_count": 0,
      "outputs": []
    },
    {
      "cell_type": "code",
      "metadata": {
        "id": "G7wvkMDCtvmd",
        "colab_type": "code",
        "colab": {}
      },
      "source": [
        "print(generate_text_symbols(model, start_string=u\"сегодня \"))"
      ],
      "execution_count": 0,
      "outputs": []
    },
    {
      "cell_type": "code",
      "metadata": {
        "id": "voOKaz8DtxjB",
        "colab_type": "code",
        "colab": {}
      },
      "source": [
        "print(generate_text_symbols(model, start_string=u\"сегодня \"))"
      ],
      "execution_count": 0,
      "outputs": []
    },
    {
      "cell_type": "code",
      "metadata": {
        "id": "p9ED_noLt0sy",
        "colab_type": "code",
        "colab": {}
      },
      "source": [
        "print(generate_text_symbols(model, start_string=u\"сегодня \"))"
      ],
      "execution_count": 0,
      "outputs": []
    },
    {
      "cell_type": "code",
      "metadata": {
        "id": "ivogpD8SwF-a",
        "colab_type": "code",
        "colab": {}
      },
      "source": [
        "print(generate_text_symbols(model, start_string=u\"вам \"))"
      ],
      "execution_count": 0,
      "outputs": []
    },
    {
      "cell_type": "code",
      "metadata": {
        "id": "3U-cqgt8wGNP",
        "colab_type": "code",
        "colab": {}
      },
      "source": [
        "print(generate_text_symbols(model, start_string=u\"вас \"))"
      ],
      "execution_count": 0,
      "outputs": []
    },
    {
      "cell_type": "code",
      "metadata": {
        "id": "VljMbtxGwGWM",
        "colab_type": "code",
        "colab": {}
      },
      "source": [
        "print(generate_text_symbols(model, start_string=u\"вы \"))"
      ],
      "execution_count": 0,
      "outputs": []
    },
    {
      "cell_type": "code",
      "metadata": {
        "id": "MNQFfAl4wGce",
        "colab_type": "code",
        "colab": {}
      },
      "source": [
        "print(generate_text_symbols(model, start_string=u\"сегодня \"))"
      ],
      "execution_count": 0,
      "outputs": []
    },
    {
      "cell_type": "code",
      "metadata": {
        "id": "SN0ZkBRU2JKV",
        "colab_type": "code",
        "colab": {}
      },
      "source": [
        "model_json = model.to_json()\n",
        "json_file = open('posts_model.json', 'w')\n",
        "json_file.write(model_json)\n",
        "json_file.close()\n",
        "model.save_weights('posts_model.h5')"
      ],
      "execution_count": 0,
      "outputs": []
    },
    {
      "cell_type": "code",
      "metadata": {
        "id": "5Mg5xaLkTNia",
        "colab_type": "code",
        "colab": {}
      },
      "source": [
        ""
      ],
      "execution_count": 0,
      "outputs": []
    }
  ]
}