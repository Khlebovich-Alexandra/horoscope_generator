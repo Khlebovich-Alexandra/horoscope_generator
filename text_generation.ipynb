{
  "nbformat": 4,
  "nbformat_minor": 0,
  "metadata": {
    "accelerator": "GPU",
    "colab": {
      "name": "Copy of text_generation.ipynb",
      "provenance": [],
      "collapsed_sections": [],
      "machine_shape": "hm",
      "include_colab_link": true
    },
    "kernelspec": {
      "name": "python3",
      "display_name": "Python 3"
    }
  },
  "cells": [
    {
      "cell_type": "markdown",
      "metadata": {
        "id": "view-in-github",
        "colab_type": "text"
      },
      "source": [
        "<a href=\"https://colab.research.google.com/github/Khlebovich-Alexandra/horoscope_generator/blob/master/text_generation.ipynb\" target=\"_parent\"><img src=\"https://colab.research.google.com/assets/colab-badge.svg\" alt=\"Open In Colab\"/></a>"
      ]
    },
    {
      "cell_type": "markdown",
      "metadata": {
        "colab_type": "text",
        "id": "ovpZyIhNIgoq"
      },
      "source": [
        "# Text generation with an RNN"
      ]
    },
    {
      "cell_type": "code",
      "metadata": {
        "colab_type": "code",
        "id": "yG_n40gFzf9s",
        "outputId": "f6ae7362-3e08-456b-fc0b-d456366b16fd",
        "colab": {
          "base_uri": "https://localhost:8080/",
          "height": 34
        }
      },
      "source": [
        "from __future__ import absolute_import, division, print_function, unicode_literals\n",
        "\n",
        "try:\n",
        "  # %tensorflow_version only exists in Colab.\n",
        "  %tensorflow_version 2.x\n",
        "except Exception:\n",
        "    pass\n",
        "import tensorflow as tf\n",
        "from tensorflow.keras.preprocessing.sequence import pad_sequences\n",
        "from tensorflow.keras.models import Sequential\n",
        "from tensorflow.keras.layers import Dense, Embedding, LSTM \n",
        "from tensorflow.keras.utils import to_categorical\n",
        "\n",
        "import numpy as np\n",
        "import pandas as pd\n",
        "import itertools\n",
        "import os\n",
        "import re\n",
        "import time\n",
        "import matplotlib.pyplot as plt\n",
        "\n",
        "import warnings\n",
        "warnings.filterwarnings('ignore')"
      ],
      "execution_count": 0,
      "outputs": [
        {
          "output_type": "stream",
          "text": [
            "TensorFlow 2.x selected.\n"
          ],
          "name": "stdout"
        }
      ]
    },
    {
      "cell_type": "code",
      "metadata": {
        "id": "w1KtZ8OTz5Fq",
        "colab_type": "code",
        "colab": {}
      },
      "source": [
        "posts = pd.read_csv('https://raw.githubusercontent.com/Khlebovich-Alexandra/horoscope_generator/master/Data/final_posts.csv', index_col=0)"
      ],
      "execution_count": 0,
      "outputs": []
    },
    {
      "cell_type": "code",
      "metadata": {
        "id": "6mV45ELxx_X5",
        "colab_type": "code",
        "outputId": "1a7f68c9-81bc-4b53-a640-8a73f17c2519",
        "colab": {
          "base_uri": "https://localhost:8080/",
          "height": 419
        }
      },
      "source": [
        "posts"
      ],
      "execution_count": 0,
      "outputs": [
        {
          "output_type": "execute_result",
          "data": {
            "text/html": [
              "<div>\n",
              "<style scoped>\n",
              "    .dataframe tbody tr th:only-of-type {\n",
              "        vertical-align: middle;\n",
              "    }\n",
              "\n",
              "    .dataframe tbody tr th {\n",
              "        vertical-align: top;\n",
              "    }\n",
              "\n",
              "    .dataframe thead th {\n",
              "        text-align: right;\n",
              "    }\n",
              "</style>\n",
              "<table border=\"1\" class=\"dataframe\">\n",
              "  <thead>\n",
              "    <tr style=\"text-align: right;\">\n",
              "      <th></th>\n",
              "      <th>text</th>\n",
              "      <th>length</th>\n",
              "      <th>date</th>\n",
              "      <th>type</th>\n",
              "      <th>index in posts</th>\n",
              "      <th>domain</th>\n",
              "      <th>index_before_concat</th>\n",
              "    </tr>\n",
              "  </thead>\n",
              "  <tbody>\n",
              "    <tr>\n",
              "      <th>0</th>\n",
              "      <td>сегодня вы можете почувствовать незащищенность...</td>\n",
              "      <td>339</td>\n",
              "      <td>11 декабря</td>\n",
              "      <td>business</td>\n",
              "      <td>0</td>\n",
              "      <td>ribyhoroscop</td>\n",
              "      <td>0</td>\n",
              "    </tr>\n",
              "    <tr>\n",
              "      <th>1</th>\n",
              "      <td>вам звёзды рекомендуют сегодня больше работать...</td>\n",
              "      <td>303</td>\n",
              "      <td>11 декабря</td>\n",
              "      <td>love</td>\n",
              "      <td>0</td>\n",
              "      <td>ribyhoroscop</td>\n",
              "      <td>1</td>\n",
              "    </tr>\n",
              "    <tr>\n",
              "      <th>2</th>\n",
              "      <td>если сегодня вы почувствуете робость, или, тог...</td>\n",
              "      <td>215</td>\n",
              "      <td>11 декабря</td>\n",
              "      <td>simple</td>\n",
              "      <td>0</td>\n",
              "      <td>ribyhoroscop</td>\n",
              "      <td>2</td>\n",
              "    </tr>\n",
              "    <tr>\n",
              "      <th>3</th>\n",
              "      <td>сегодня звезды рекомендуют вам заняться коррек...</td>\n",
              "      <td>278</td>\n",
              "      <td>10 декабря</td>\n",
              "      <td>business</td>\n",
              "      <td>1</td>\n",
              "      <td>ribyhoroscop</td>\n",
              "      <td>3</td>\n",
              "    </tr>\n",
              "    <tr>\n",
              "      <th>4</th>\n",
              "      <td>сегодня ваш любимый человек признается в том, ...</td>\n",
              "      <td>273</td>\n",
              "      <td>10 декабря</td>\n",
              "      <td>love</td>\n",
              "      <td>1</td>\n",
              "      <td>ribyhoroscop</td>\n",
              "      <td>4</td>\n",
              "    </tr>\n",
              "    <tr>\n",
              "      <th>...</th>\n",
              "      <td>...</td>\n",
              "      <td>...</td>\n",
              "      <td>...</td>\n",
              "      <td>...</td>\n",
              "      <td>...</td>\n",
              "      <td>...</td>\n",
              "      <td>...</td>\n",
              "    </tr>\n",
              "    <tr>\n",
              "      <th>26957</th>\n",
              "      <td>день преобразования космических энергий, получ...</td>\n",
              "      <td>544</td>\n",
              "      <td>2 марта</td>\n",
              "      <td>simple</td>\n",
              "      <td>2648</td>\n",
              "      <td>strelechoroscop</td>\n",
              "      <td>4575</td>\n",
              "    </tr>\n",
              "    <tr>\n",
              "      <th>26958</th>\n",
              "      <td>завтра - полон перемен для вас. поэтому строит...</td>\n",
              "      <td>256</td>\n",
              "      <td>1 марта</td>\n",
              "      <td>simple</td>\n",
              "      <td>2649</td>\n",
              "      <td>strelechoroscop</td>\n",
              "      <td>4576</td>\n",
              "    </tr>\n",
              "    <tr>\n",
              "      <th>26959</th>\n",
              "      <td>утром не мешкая приступайте к работе или завяз...</td>\n",
              "      <td>441</td>\n",
              "      <td>28 февраля</td>\n",
              "      <td>simple</td>\n",
              "      <td>2650</td>\n",
              "      <td>strelechoroscop</td>\n",
              "      <td>4577</td>\n",
              "    </tr>\n",
              "    <tr>\n",
              "      <th>26960</th>\n",
              "      <td>общительность и дружелюбие вас сегодня могут н...</td>\n",
              "      <td>453</td>\n",
              "      <td>27 февраля</td>\n",
              "      <td>simple</td>\n",
              "      <td>2651</td>\n",
              "      <td>strelechoroscop</td>\n",
              "      <td>4578</td>\n",
              "    </tr>\n",
              "    <tr>\n",
              "      <th>26961</th>\n",
              "      <td>свободное общение может стать затруднительным....</td>\n",
              "      <td>505</td>\n",
              "      <td>26 февраля</td>\n",
              "      <td>simple</td>\n",
              "      <td>2652</td>\n",
              "      <td>strelechoroscop</td>\n",
              "      <td>4579</td>\n",
              "    </tr>\n",
              "  </tbody>\n",
              "</table>\n",
              "<p>26962 rows × 7 columns</p>\n",
              "</div>"
            ],
            "text/plain": [
              "                                                    text  ...  index_before_concat\n",
              "0      сегодня вы можете почувствовать незащищенность...  ...                    0\n",
              "1      вам звёзды рекомендуют сегодня больше работать...  ...                    1\n",
              "2      если сегодня вы почувствуете робость, или, тог...  ...                    2\n",
              "3      сегодня звезды рекомендуют вам заняться коррек...  ...                    3\n",
              "4      сегодня ваш любимый человек признается в том, ...  ...                    4\n",
              "...                                                  ...  ...                  ...\n",
              "26957  день преобразования космических энергий, получ...  ...                 4575\n",
              "26958  завтра - полон перемен для вас. поэтому строит...  ...                 4576\n",
              "26959  утром не мешкая приступайте к работе или завяз...  ...                 4577\n",
              "26960  общительность и дружелюбие вас сегодня могут н...  ...                 4578\n",
              "26961  свободное общение может стать затруднительным....  ...                 4579\n",
              "\n",
              "[26962 rows x 7 columns]"
            ]
          },
          "metadata": {
            "tags": []
          },
          "execution_count": 3
        }
      ]
    },
    {
      "cell_type": "code",
      "metadata": {
        "id": "3FFkwZek_59l",
        "colab_type": "code",
        "colab": {}
      },
      "source": [
        "posts.drop(['date', 'type', 'index in posts', 'domain', 'index_before_concat'], axis=1, inplace=True)"
      ],
      "execution_count": 0,
      "outputs": []
    },
    {
      "cell_type": "code",
      "metadata": {
        "id": "82TFR9vpzuo7",
        "colab_type": "code",
        "colab": {}
      },
      "source": [
        "posts.drop(np.argmax(posts.length), inplace=True)"
      ],
      "execution_count": 0,
      "outputs": []
    },
    {
      "cell_type": "code",
      "metadata": {
        "id": "8a7aWB6Y6psw",
        "colab_type": "code",
        "colab": {}
      },
      "source": [
        "def add_spaces(x):\n",
        "    literals = ',.?!;:()'\n",
        "    for literal in literals:\n",
        "        if literal in x:\n",
        "            x = x.replace(literal, ' ' + literal + ' ')\n",
        "            \n",
        "    pattern_bad_spaces_1 = re.compile(r'(^ +)|( +$)')\n",
        "    pattern_bad_spaces_2 = re.compile(r'(  +)|(\\t)')\n",
        "    x = re.sub(pattern_bad_spaces_1, '', x)\n",
        "    x = re.sub(pattern_bad_spaces_2, ' ', x)\n",
        "    return x"
      ],
      "execution_count": 0,
      "outputs": []
    },
    {
      "cell_type": "code",
      "metadata": {
        "id": "MSO91hZP2IqY",
        "colab_type": "code",
        "colab": {}
      },
      "source": [
        "def split(x):\n",
        "    res = re.split(re.compile(r'[ ]+'), x.lower())\n",
        "    while '' in res:\n",
        "        res.remove('')\n",
        "    return res"
      ],
      "execution_count": 0,
      "outputs": []
    },
    {
      "cell_type": "code",
      "metadata": {
        "id": "kPVgqjg4kAEn",
        "colab_type": "code",
        "colab": {}
      },
      "source": [
        "def create_vocab(texts):\n",
        "    texts = pd.Series(texts)\n",
        "    texts = texts.map(add_spaces)\n",
        "    texts = texts.map(split)\n",
        "    word_index = {}\n",
        "    word_index[\"<Заполнитель>\"] = 0\n",
        "    word_index[\"<Начало последовательности>\"] = 1\n",
        "    word_index[\"<Не используется>\"] = 2\n",
        "    word_index[\"<Неизвестное слово>\"] = 3\n",
        "    ind = 4\n",
        "    for text in texts:\n",
        "        for word in text:\n",
        "            if not (word in word_index):\n",
        "                word_index[word] = ind\n",
        "                ind += 1\n",
        "    return word_index"
      ],
      "execution_count": 0,
      "outputs": []
    },
    {
      "cell_type": "code",
      "metadata": {
        "id": "TcWQdfGC9faV",
        "colab_type": "code",
        "colab": {}
      },
      "source": [
        "def word_to_int(word):\n",
        "    if word in word_index:\n",
        "        return word_index[word]\n",
        "    return 3"
      ],
      "execution_count": 0,
      "outputs": []
    },
    {
      "cell_type": "code",
      "metadata": {
        "id": "Cgw9b2NvOZsW",
        "colab_type": "code",
        "colab": {}
      },
      "source": [
        "def get_word_by_index(index):\n",
        "    for word, value in word_index.items():\n",
        "        if index == value:\n",
        "            return word\n",
        "    return ''"
      ],
      "execution_count": 0,
      "outputs": []
    },
    {
      "cell_type": "code",
      "metadata": {
        "id": "M98ZykAWi58p",
        "colab_type": "code",
        "colab": {}
      },
      "source": [
        "def create_dataset(text):\n",
        "    text = add_spaces(text)\n",
        "    text = split(text)\n",
        "    text = list(map(word_to_int, text))\n",
        "    return text"
      ],
      "execution_count": 0,
      "outputs": []
    },
    {
      "cell_type": "code",
      "metadata": {
        "id": "20IzUjIekiq1",
        "colab_type": "code",
        "colab": {}
      },
      "source": [
        "word_index = create_vocab(posts.text)"
      ],
      "execution_count": 0,
      "outputs": []
    },
    {
      "cell_type": "code",
      "metadata": {
        "id": "yiWbROst5VT0",
        "colab_type": "code",
        "outputId": "999f7b73-8077-417f-8c5a-9f0314232d7e",
        "colab": {
          "base_uri": "https://localhost:8080/",
          "height": 34
        }
      },
      "source": [
        "word_index['.']"
      ],
      "execution_count": 0,
      "outputs": [
        {
          "output_type": "execute_result",
          "data": {
            "text/plain": [
              "14"
            ]
          },
          "metadata": {
            "tags": []
          },
          "execution_count": 13
        }
      ]
    },
    {
      "cell_type": "code",
      "metadata": {
        "id": "AaHhwmDX5VdJ",
        "colab_type": "code",
        "outputId": "783ee569-754a-4e89-a173-5f2d3fae4609",
        "colab": {
          "base_uri": "https://localhost:8080/",
          "height": 34
        }
      },
      "source": [
        "len(word_index)"
      ],
      "execution_count": 0,
      "outputs": [
        {
          "output_type": "execute_result",
          "data": {
            "text/plain": [
              "47923"
            ]
          },
          "metadata": {
            "tags": []
          },
          "execution_count": 14
        }
      ]
    },
    {
      "cell_type": "code",
      "metadata": {
        "id": "uD_ovvDAlZdC",
        "colab_type": "code",
        "outputId": "e7b026b0-73a6-4b32-bbad-7fa8d231a57c",
        "colab": {
          "base_uri": "https://localhost:8080/",
          "height": 34
        }
      },
      "source": [
        "print(create_dataset(posts.text[0]))"
      ],
      "execution_count": 0,
      "outputs": [
        {
          "output_type": "stream",
          "text": [
            "[4, 5, 6, 7, 8, 9, 10, 11, 12, 13, 14, 15, 16, 17, 9, 18, 19, 20, 21, 22, 23, 24, 25, 26, 27, 14, 28, 29, 30, 31, 32, 33, 19, 34, 35, 36, 37, 19, 38, 39, 40, 41, 42, 43, 44, 14, 45, 46, 47, 25, 48, 49, 14]\n"
          ],
          "name": "stdout"
        }
      ]
    },
    {
      "cell_type": "code",
      "metadata": {
        "id": "o_um9i5Z5Vlt",
        "colab_type": "code",
        "colab": {}
      },
      "source": [
        "posts.text = posts.text.map(create_dataset)"
      ],
      "execution_count": 0,
      "outputs": []
    },
    {
      "cell_type": "code",
      "metadata": {
        "id": "ODFF1IxCYLnH",
        "colab_type": "code",
        "colab": {}
      },
      "source": [
        "posts.length = posts.text.map(len)"
      ],
      "execution_count": 0,
      "outputs": []
    },
    {
      "cell_type": "markdown",
      "metadata": {
        "id": "hnx8JPUW_iBH",
        "colab_type": "text"
      },
      "source": [
        "Save DataFrame and vocabluary"
      ]
    },
    {
      "cell_type": "code",
      "metadata": {
        "id": "mu2ypVPl_frW",
        "colab_type": "code",
        "colab": {}
      },
      "source": [
        "posts.to_csv('posts_word_to_int.csv')"
      ],
      "execution_count": 0,
      "outputs": []
    },
    {
      "cell_type": "code",
      "metadata": {
        "id": "PFtZFyOh_fv-",
        "colab_type": "code",
        "colab": {}
      },
      "source": [
        "import json\n",
        "\n",
        "with open('vocab.json', 'w') as fp:\n",
        "    json.dump(word_index, fp)"
      ],
      "execution_count": 0,
      "outputs": []
    },
    {
      "cell_type": "markdown",
      "metadata": {
        "id": "W1aY0m00BuLP",
        "colab_type": "text"
      },
      "source": [
        "Padding seq"
      ]
    },
    {
      "cell_type": "code",
      "metadata": {
        "id": "fXpZnNsJbo07",
        "colab_type": "code",
        "colab": {}
      },
      "source": [
        "def get_list_of_ints(x):\n",
        "    if isinstance(x, str):\n",
        "        x = x.strip('][').split(', ')\n",
        "    return list(map(int, x))"
      ],
      "execution_count": 0,
      "outputs": []
    },
    {
      "cell_type": "code",
      "metadata": {
        "id": "Mbv3YeyiW_29",
        "colab_type": "code",
        "outputId": "c20e3512-c9cf-45aa-e3d3-c0770a8d8a5f",
        "colab": {
          "base_uri": "https://localhost:8080/",
          "height": 419
        }
      },
      "source": [
        "posts = pd.read_csv('posts_word_to_int.csv', index_col=0)\n",
        "posts.text = posts.text.map(get_list_of_ints)\n",
        "posts"
      ],
      "execution_count": 0,
      "outputs": [
        {
          "output_type": "execute_result",
          "data": {
            "text/html": [
              "<div>\n",
              "<style scoped>\n",
              "    .dataframe tbody tr th:only-of-type {\n",
              "        vertical-align: middle;\n",
              "    }\n",
              "\n",
              "    .dataframe tbody tr th {\n",
              "        vertical-align: top;\n",
              "    }\n",
              "\n",
              "    .dataframe thead th {\n",
              "        text-align: right;\n",
              "    }\n",
              "</style>\n",
              "<table border=\"1\" class=\"dataframe\">\n",
              "  <thead>\n",
              "    <tr style=\"text-align: right;\">\n",
              "      <th></th>\n",
              "      <th>text</th>\n",
              "      <th>length</th>\n",
              "    </tr>\n",
              "  </thead>\n",
              "  <tbody>\n",
              "    <tr>\n",
              "      <th>0</th>\n",
              "      <td>[4, 5, 6, 7, 8, 9, 10, 11, 12, 13, 14, 15, 16,...</td>\n",
              "      <td>53</td>\n",
              "    </tr>\n",
              "    <tr>\n",
              "      <th>1</th>\n",
              "      <td>[50, 51, 52, 4, 53, 54, 14, 55, 56, 57, 58, 59...</td>\n",
              "      <td>49</td>\n",
              "    </tr>\n",
              "    <tr>\n",
              "      <th>2</th>\n",
              "      <td>[89, 4, 5, 90, 91, 19, 56, 19, 92, 93, 94, 19,...</td>\n",
              "      <td>40</td>\n",
              "    </tr>\n",
              "    <tr>\n",
              "      <th>3</th>\n",
              "      <td>[4, 109, 52, 50, 110, 111, 56, 112, 113, 114, ...</td>\n",
              "      <td>46</td>\n",
              "    </tr>\n",
              "    <tr>\n",
              "      <th>4</th>\n",
              "      <td>[4, 136, 137, 138, 139, 11, 140, 19, 20, 141, ...</td>\n",
              "      <td>46</td>\n",
              "    </tr>\n",
              "    <tr>\n",
              "      <th>...</th>\n",
              "      <td>...</td>\n",
              "      <td>...</td>\n",
              "    </tr>\n",
              "    <tr>\n",
              "      <th>26957</th>\n",
              "      <td>[199, 7429, 7906, 19954, 19, 8101, 20213, 8982...</td>\n",
              "      <td>81</td>\n",
              "    </tr>\n",
              "    <tr>\n",
              "      <th>26958</th>\n",
              "      <td>[3016, 81, 2294, 3598, 47, 25, 14, 302, 6957, ...</td>\n",
              "      <td>40</td>\n",
              "    </tr>\n",
              "    <tr>\n",
              "      <th>26959</th>\n",
              "      <td>[8803, 121, 47918, 13480, 71, 535, 56, 35595, ...</td>\n",
              "      <td>63</td>\n",
              "    </tr>\n",
              "    <tr>\n",
              "      <th>26960</th>\n",
              "      <td>[8673, 9, 5898, 25, 4, 702, 23496, 87, 19815, ...</td>\n",
              "      <td>68</td>\n",
              "    </tr>\n",
              "    <tr>\n",
              "      <th>26961</th>\n",
              "      <td>[4187, 2385, 254, 595, 7041, 14, 5, 6, 160, 36...</td>\n",
              "      <td>88</td>\n",
              "    </tr>\n",
              "  </tbody>\n",
              "</table>\n",
              "<p>26961 rows × 2 columns</p>\n",
              "</div>"
            ],
            "text/plain": [
              "                                                    text  length\n",
              "0      [4, 5, 6, 7, 8, 9, 10, 11, 12, 13, 14, 15, 16,...      53\n",
              "1      [50, 51, 52, 4, 53, 54, 14, 55, 56, 57, 58, 59...      49\n",
              "2      [89, 4, 5, 90, 91, 19, 56, 19, 92, 93, 94, 19,...      40\n",
              "3      [4, 109, 52, 50, 110, 111, 56, 112, 113, 114, ...      46\n",
              "4      [4, 136, 137, 138, 139, 11, 140, 19, 20, 141, ...      46\n",
              "...                                                  ...     ...\n",
              "26957  [199, 7429, 7906, 19954, 19, 8101, 20213, 8982...      81\n",
              "26958  [3016, 81, 2294, 3598, 47, 25, 14, 302, 6957, ...      40\n",
              "26959  [8803, 121, 47918, 13480, 71, 535, 56, 35595, ...      63\n",
              "26960  [8673, 9, 5898, 25, 4, 702, 23496, 87, 19815, ...      68\n",
              "26961  [4187, 2385, 254, 595, 7041, 14, 5, 6, 160, 36...      88\n",
              "\n",
              "[26961 rows x 2 columns]"
            ]
          },
          "metadata": {
            "tags": []
          },
          "execution_count": 21
        }
      ]
    },
    {
      "cell_type": "code",
      "metadata": {
        "id": "TQTvyMT9zoc6",
        "colab_type": "code",
        "outputId": "1d25bc86-12af-41d0-8e8d-a553efd2a2b8",
        "colab": {
          "base_uri": "https://localhost:8080/",
          "height": 297
        }
      },
      "source": [
        "posts.describe()"
      ],
      "execution_count": 0,
      "outputs": [
        {
          "output_type": "execute_result",
          "data": {
            "text/html": [
              "<div>\n",
              "<style scoped>\n",
              "    .dataframe tbody tr th:only-of-type {\n",
              "        vertical-align: middle;\n",
              "    }\n",
              "\n",
              "    .dataframe tbody tr th {\n",
              "        vertical-align: top;\n",
              "    }\n",
              "\n",
              "    .dataframe thead th {\n",
              "        text-align: right;\n",
              "    }\n",
              "</style>\n",
              "<table border=\"1\" class=\"dataframe\">\n",
              "  <thead>\n",
              "    <tr style=\"text-align: right;\">\n",
              "      <th></th>\n",
              "      <th>length</th>\n",
              "    </tr>\n",
              "  </thead>\n",
              "  <tbody>\n",
              "    <tr>\n",
              "      <th>count</th>\n",
              "      <td>26961.000000</td>\n",
              "    </tr>\n",
              "    <tr>\n",
              "      <th>mean</th>\n",
              "      <td>50.237640</td>\n",
              "    </tr>\n",
              "    <tr>\n",
              "      <th>std</th>\n",
              "      <td>15.919764</td>\n",
              "    </tr>\n",
              "    <tr>\n",
              "      <th>min</th>\n",
              "      <td>4.000000</td>\n",
              "    </tr>\n",
              "    <tr>\n",
              "      <th>25%</th>\n",
              "      <td>40.000000</td>\n",
              "    </tr>\n",
              "    <tr>\n",
              "      <th>50%</th>\n",
              "      <td>48.000000</td>\n",
              "    </tr>\n",
              "    <tr>\n",
              "      <th>75%</th>\n",
              "      <td>58.000000</td>\n",
              "    </tr>\n",
              "    <tr>\n",
              "      <th>max</th>\n",
              "      <td>129.000000</td>\n",
              "    </tr>\n",
              "  </tbody>\n",
              "</table>\n",
              "</div>"
            ],
            "text/plain": [
              "             length\n",
              "count  26961.000000\n",
              "mean      50.237640\n",
              "std       15.919764\n",
              "min        4.000000\n",
              "25%       40.000000\n",
              "50%       48.000000\n",
              "75%       58.000000\n",
              "max      129.000000"
            ]
          },
          "metadata": {
            "tags": []
          },
          "execution_count": 22
        }
      ]
    },
    {
      "cell_type": "code",
      "metadata": {
        "id": "67kAP_hvz5Ft",
        "colab_type": "code",
        "colab": {}
      },
      "source": [
        "maxlen = 50"
      ],
      "execution_count": 0,
      "outputs": []
    },
    {
      "cell_type": "code",
      "metadata": {
        "id": "_AargE3YdaTs",
        "colab_type": "code",
        "colab": {}
      },
      "source": [
        "texts = pad_sequences(posts.text, maxlen, padding='post')\n",
        "texts = tf.data.Dataset.from_tensor_slices(texts)"
      ],
      "execution_count": 0,
      "outputs": []
    },
    {
      "cell_type": "code",
      "metadata": {
        "colab_type": "code",
        "id": "gKOQB0YMg_u0",
        "colab": {}
      },
      "source": [
        "def split_input_target(chunk):\n",
        "    input_text = chunk[:-1]\n",
        "    target_text = chunk[1:]\n",
        "    return input_text, target_text\n",
        "\n",
        "dataset = texts.map(split_input_target)"
      ],
      "execution_count": 0,
      "outputs": []
    },
    {
      "cell_type": "code",
      "metadata": {
        "id": "SayoM0ZdhDYu",
        "colab_type": "code",
        "outputId": "7724ad99-ce0b-4c66-99f1-807283551e37",
        "colab": {
          "base_uri": "https://localhost:8080/",
          "height": 34
        }
      },
      "source": [
        "dataset.take(1)"
      ],
      "execution_count": 0,
      "outputs": [
        {
          "output_type": "execute_result",
          "data": {
            "text/plain": [
              "<TakeDataset shapes: ((49,), (49,)), types: (tf.int32, tf.int32)>"
            ]
          },
          "metadata": {
            "tags": []
          },
          "execution_count": 26
        }
      ]
    },
    {
      "cell_type": "code",
      "metadata": {
        "id": "gXU2AHXkiaoX",
        "colab_type": "code",
        "outputId": "97f4dd37-9fc8-48c8-fff3-baff0a884e76",
        "colab": {
          "base_uri": "https://localhost:8080/",
          "height": 34
        }
      },
      "source": [
        "# Batch size\n",
        "BATCH_SIZE = 64\n",
        "\n",
        "# Buffer size to shuffle the dataset\n",
        "# (TF data is designed to work with possibly infinite sequences,\n",
        "# so it doesn't attempt to shuffle the entire sequence in memory. Instead,\n",
        "# it maintains a buffer in which it shuffles elements).\n",
        "BUFFER_SIZE = 10000\n",
        "\n",
        "dataset = dataset.shuffle(BUFFER_SIZE).batch(BATCH_SIZE, drop_remainder=True)\n",
        "\n",
        "dataset"
      ],
      "execution_count": 0,
      "outputs": [
        {
          "output_type": "execute_result",
          "data": {
            "text/plain": [
              "<BatchDataset shapes: ((64, 49), (64, 49)), types: (tf.int32, tf.int32)>"
            ]
          },
          "metadata": {
            "tags": []
          },
          "execution_count": 28
        }
      ]
    },
    {
      "cell_type": "code",
      "metadata": {
        "id": "fxYcQI5uCs7u",
        "colab_type": "code",
        "outputId": "7ad412aa-5847-4583-cb89-696da14b9ebb",
        "colab": {
          "base_uri": "https://localhost:8080/",
          "height": 272
        }
      },
      "source": [
        "# define model\n",
        "vocab_size = len(word_index)\n",
        "embedding_dim = 256\n",
        "rnn_units = 1024\n",
        "\n",
        "model = tf.keras.Sequential([\n",
        "    tf.keras.layers.Embedding(vocab_size, embedding_dim,\n",
        "                              batch_input_shape=[BATCH_SIZE, None]),\n",
        "    tf.keras.layers.GRU(rnn_units,\n",
        "                        return_sequences=True,\n",
        "                        stateful=True,\n",
        "                        recurrent_initializer='glorot_uniform'),\n",
        "    tf.keras.layers.Dense(vocab_size)\n",
        "  ])\n",
        "\n",
        "print(model.summary())"
      ],
      "execution_count": 0,
      "outputs": [
        {
          "output_type": "stream",
          "text": [
            "Model: \"sequential\"\n",
            "_________________________________________________________________\n",
            "Layer (type)                 Output Shape              Param #   \n",
            "=================================================================\n",
            "embedding (Embedding)        (64, None, 256)           12268288  \n",
            "_________________________________________________________________\n",
            "gru (GRU)                    (64, None, 1024)          3938304   \n",
            "_________________________________________________________________\n",
            "dense (Dense)                (64, None, 47923)         49121075  \n",
            "=================================================================\n",
            "Total params: 65,327,667\n",
            "Trainable params: 65,327,667\n",
            "Non-trainable params: 0\n",
            "_________________________________________________________________\n",
            "None\n"
          ],
          "name": "stdout"
        }
      ]
    },
    {
      "cell_type": "code",
      "metadata": {
        "colab_type": "code",
        "outputId": "6530998e-584a-4db1-f576-a209605b205a",
        "id": "RzjfulxIp3hZ",
        "colab": {
          "base_uri": "https://localhost:8080/",
          "height": 34
        }
      },
      "source": [
        " for input_example_batch, target_example_batch in dataset.take(1):\n",
        "    example_batch_predictions = model(input_example_batch)\n",
        "    print(example_batch_predictions.shape, \"# (batch_size, sequence_length, vocab_size)\")"
      ],
      "execution_count": 0,
      "outputs": [
        {
          "output_type": "stream",
          "text": [
            "(64, 49, 47923) # (batch_size, sequence_length, vocab_size)\n"
          ],
          "name": "stdout"
        }
      ]
    },
    {
      "cell_type": "code",
      "metadata": {
        "colab_type": "code",
        "id": "4V4MfFg0RQJg",
        "colab": {}
      },
      "source": [
        "sampled_indices = tf.random.categorical(example_batch_predictions[0], num_samples=1)\n",
        "sampled_indices = tf.squeeze(sampled_indices,axis=-1).numpy()"
      ],
      "execution_count": 0,
      "outputs": []
    },
    {
      "cell_type": "code",
      "metadata": {
        "colab_type": "code",
        "id": "YqFMUQc_UFgM",
        "outputId": "9224e789-9216-4b72-fc92-e762d36d6f4b",
        "colab": {
          "base_uri": "https://localhost:8080/",
          "height": 119
        }
      },
      "source": [
        "sampled_indices"
      ],
      "execution_count": 0,
      "outputs": [
        {
          "output_type": "execute_result",
          "data": {
            "text/plain": [
              "array([43300, 36774,  3959, 19223, 12408, 17769, 35770, 31458, 18555,\n",
              "       16962, 37015, 43176, 20071,  6699, 10066, 35625,   267, 21318,\n",
              "       26535, 39679, 29277, 19953, 11723, 38912, 38630, 36330,  3403,\n",
              "       44143, 23315, 15201, 14070, 34031, 32983, 43160, 43281, 21253,\n",
              "        6120, 35009, 17436, 31376, 27662, 27922, 44843, 22289,  4526,\n",
              "       13606, 29302, 40242, 26342])"
            ]
          },
          "metadata": {
            "tags": []
          },
          "execution_count": 34
        }
      ]
    },
    {
      "cell_type": "markdown",
      "metadata": {
        "colab_type": "text",
        "id": "LfLtsP3mUhCG"
      },
      "source": [
        "Decode these to see the text predicted by this untrained model:"
      ]
    },
    {
      "cell_type": "code",
      "metadata": {
        "colab_type": "code",
        "id": "xWcFwPwLSo05",
        "outputId": "14d6f268-7814-47f2-9af1-11b157093f0e",
        "colab": {
          "base_uri": "https://localhost:8080/",
          "height": 122
        }
      },
      "source": [
        "print(\"Input: \\n\", repr(\" \".join([get_word_by_index(i) for i in input_example_batch[0]])))\n",
        "print()\n",
        "print(\"Next Char Predictions: \\n\", repr(\" \".join([get_word_by_index(i) for i in sampled_indices])))"
      ],
      "execution_count": 0,
      "outputs": [
        {
          "output_type": "stream",
          "text": [
            "Input: \n",
            " 'вас , кажется , начинается полоса неудач . и с начальником отношения не ладятся , и с новым проектом возникли трудности , которые что-то никак не разрешаются . впрочем , невозможно всё время быть на коне , лучше подойдите к этим проблемам философски и найдите в ситуации положительные стороны'\n",
            "\n",
            "Next Char Predictions: \n",
            " 'доверчиво дребезгом первая опирайтесь недочеты предоставите служения надоедают приготовленное выходящее обжитое бесплатные вестись невзначай неплохого деликатесы главное магических стабильна определённым потратил пробуждения официально мыслят вымещать парить подзаработать напоминающей существу оживление поспать пошатнется исчезло намагничены запретные перессоритесь конкретного песочные поминайте погружены соскучиться собеседникам доходными неверная непрофессиональных помощниками подколам нежданные узкой'\n"
          ],
          "name": "stdout"
        }
      ]
    },
    {
      "cell_type": "markdown",
      "metadata": {
        "colab_type": "text",
        "id": "LJL0Q0YPY6Ee"
      },
      "source": [
        "## Train the model"
      ]
    },
    {
      "cell_type": "markdown",
      "metadata": {
        "colab_type": "text",
        "id": "UAjbjY03eiQ4"
      },
      "source": [
        "The standard `tf.keras.losses.sparse_categorical_crossentropy` loss function works in this case because it is applied across the last dimension of the predictions.\n",
        "\n",
        "Because our model returns logits, we need to set the `from_logits` flag.\n"
      ]
    },
    {
      "cell_type": "code",
      "metadata": {
        "colab_type": "code",
        "id": "4HrXTACTdzY-",
        "outputId": "48fd682b-80df-44d7-b645-d4e06a3817e2",
        "colab": {
          "base_uri": "https://localhost:8080/",
          "height": 51
        }
      },
      "source": [
        "def loss(labels, logits):\n",
        "    return tf.keras.losses.sparse_categorical_crossentropy(labels, logits, from_logits=True)\n",
        "\n",
        "example_batch_loss  = loss(target_example_batch, example_batch_predictions)\n",
        "print(\"Prediction shape: \", example_batch_predictions.shape, \" # (batch_size, sequence_length, vocab_size)\")\n",
        "print(\"scalar_loss:      \", example_batch_loss.numpy().mean())"
      ],
      "execution_count": 0,
      "outputs": [
        {
          "output_type": "stream",
          "text": [
            "Prediction shape:  (64, 49, 47923)  # (batch_size, sequence_length, vocab_size)\n",
            "scalar_loss:       10.777466\n"
          ],
          "name": "stdout"
        }
      ]
    },
    {
      "cell_type": "markdown",
      "metadata": {
        "colab_type": "text",
        "id": "jeOXriLcymww"
      },
      "source": [
        "Configure the training procedure using the `tf.keras.Model.compile` method. We'll use `tf.keras.optimizers.Adam` with default arguments and the loss function."
      ]
    },
    {
      "cell_type": "code",
      "metadata": {
        "colab_type": "code",
        "id": "DDl1_Een6rL0",
        "colab": {}
      },
      "source": [
        "model.compile(optimizer='adam', loss=loss)"
      ],
      "execution_count": 0,
      "outputs": []
    },
    {
      "cell_type": "markdown",
      "metadata": {
        "colab_type": "text",
        "id": "ieSJdchZggUj"
      },
      "source": [
        "### Configure checkpoints"
      ]
    },
    {
      "cell_type": "markdown",
      "metadata": {
        "colab_type": "text",
        "id": "C6XBUUavgF56"
      },
      "source": [
        "Use a `tf.keras.callbacks.ModelCheckpoint` to ensure that checkpoints are saved during training:"
      ]
    },
    {
      "cell_type": "code",
      "metadata": {
        "colab_type": "code",
        "id": "W6fWTriUZP-n",
        "colab": {}
      },
      "source": [
        "# Directory where the checkpoints will be saved\n",
        "checkpoint_dir = './training_checkpoints'\n",
        "# Name of the checkpoint files\n",
        "checkpoint_prefix = os.path.join(checkpoint_dir, \"ckpt_{epoch}\")\n",
        "\n",
        "checkpoint_callback=tf.keras.callbacks.ModelCheckpoint(\n",
        "    filepath=checkpoint_prefix,\n",
        "    save_weights_only=True)"
      ],
      "execution_count": 0,
      "outputs": []
    },
    {
      "cell_type": "markdown",
      "metadata": {
        "colab_type": "text",
        "id": "3Ky3F_BhgkTW"
      },
      "source": [
        "### Execute the training"
      ]
    },
    {
      "cell_type": "markdown",
      "metadata": {
        "colab_type": "text",
        "id": "IxdOA-rgyGvs"
      },
      "source": [
        "To keep training time reasonable, use 10 epochs to train the model. In Colab, set the runtime to GPU for faster training."
      ]
    },
    {
      "cell_type": "code",
      "metadata": {
        "colab_type": "code",
        "id": "7yGBE2zxMMHs",
        "colab": {}
      },
      "source": [
        "EPOCHS=100"
      ],
      "execution_count": 0,
      "outputs": []
    },
    {
      "cell_type": "code",
      "metadata": {
        "colab_type": "code",
        "id": "UK-hmKjYVoll",
        "outputId": "0c979daf-cd9a-431a-9723-3223730c9caf",
        "colab": {
          "base_uri": "https://localhost:8080/",
          "height": 1000
        }
      },
      "source": [
        "history = model.fit(dataset, epochs=EPOCHS)"
      ],
      "execution_count": 0,
      "outputs": [
        {
          "output_type": "stream",
          "text": [
            "Train for 421 steps\n",
            "Epoch 1/100\n",
            "421/421 [==============================] - 91s 217ms/step - loss: 6.5601\n",
            "Epoch 2/100\n",
            "421/421 [==============================] - 90s 214ms/step - loss: 5.8502\n",
            "Epoch 3/100\n",
            "421/421 [==============================] - 90s 213ms/step - loss: 5.4948\n",
            "Epoch 4/100\n",
            "421/421 [==============================] - 90s 213ms/step - loss: 5.2361\n",
            "Epoch 5/100\n",
            "421/421 [==============================] - 90s 213ms/step - loss: 4.9957\n",
            "Epoch 6/100\n",
            "421/421 [==============================] - 90s 213ms/step - loss: 4.5184\n",
            "Epoch 7/100\n",
            "421/421 [==============================] - 90s 213ms/step - loss: 3.9648\n",
            "Epoch 8/100\n",
            "421/421 [==============================] - 90s 213ms/step - loss: 3.3192\n",
            "Epoch 9/100\n",
            "421/421 [==============================] - 90s 213ms/step - loss: 2.7647\n",
            "Epoch 10/100\n",
            "421/421 [==============================] - 90s 213ms/step - loss: 2.3445\n",
            "Epoch 11/100\n",
            "421/421 [==============================] - 90s 213ms/step - loss: 2.0394\n",
            "Epoch 12/100\n",
            "421/421 [==============================] - 90s 213ms/step - loss: 1.8097\n",
            "Epoch 13/100\n",
            "421/421 [==============================] - 90s 213ms/step - loss: 1.6304\n",
            "Epoch 14/100\n",
            "421/421 [==============================] - 89s 212ms/step - loss: 1.4876\n",
            "Epoch 15/100\n",
            "421/421 [==============================] - 90s 213ms/step - loss: 1.3684\n",
            "Epoch 16/100\n",
            "421/421 [==============================] - 90s 213ms/step - loss: 1.2699\n",
            "Epoch 17/100\n",
            "421/421 [==============================] - 90s 213ms/step - loss: 1.1883\n",
            "Epoch 18/100\n",
            "421/421 [==============================] - 90s 213ms/step - loss: 1.1151\n",
            "Epoch 19/100\n",
            "421/421 [==============================] - 89s 213ms/step - loss: 1.0541\n",
            "Epoch 20/100\n",
            "421/421 [==============================] - 90s 213ms/step - loss: 0.9987\n",
            "Epoch 21/100\n",
            "421/421 [==============================] - 90s 213ms/step - loss: 0.9515\n",
            "Epoch 22/100\n",
            "421/421 [==============================] - 90s 213ms/step - loss: 0.9087\n",
            "Epoch 23/100\n",
            "421/421 [==============================] - 90s 213ms/step - loss: 0.8712\n",
            "Epoch 24/100\n",
            "421/421 [==============================] - 90s 213ms/step - loss: 0.8355\n",
            "Epoch 25/100\n",
            "421/421 [==============================] - 90s 213ms/step - loss: 0.8055\n",
            "Epoch 26/100\n",
            "421/421 [==============================] - 90s 213ms/step - loss: 0.7773\n",
            "Epoch 27/100\n",
            "421/421 [==============================] - 90s 213ms/step - loss: 0.7524\n",
            "Epoch 28/100\n",
            "421/421 [==============================] - 90s 213ms/step - loss: 0.7286\n",
            "Epoch 29/100\n",
            "421/421 [==============================] - 90s 213ms/step - loss: 0.7077\n",
            "Epoch 30/100\n",
            "421/421 [==============================] - 89s 212ms/step - loss: 0.6875\n",
            "Epoch 31/100\n",
            "421/421 [==============================] - 90s 213ms/step - loss: 0.6719\n",
            "Epoch 32/100\n",
            "421/421 [==============================] - 90s 213ms/step - loss: 0.6527\n",
            "Epoch 33/100\n",
            "421/421 [==============================] - 90s 213ms/step - loss: 0.6389\n",
            "Epoch 34/100\n",
            "421/421 [==============================] - 90s 213ms/step - loss: 0.6211\n",
            "Epoch 35/100\n",
            "421/421 [==============================] - 90s 213ms/step - loss: 0.6094\n",
            "Epoch 36/100\n",
            "421/421 [==============================] - 90s 213ms/step - loss: 0.5974\n",
            "Epoch 37/100\n",
            "421/421 [==============================] - 89s 213ms/step - loss: 0.5896\n",
            "Epoch 38/100\n",
            "421/421 [==============================] - 90s 213ms/step - loss: 0.5790\n",
            "Epoch 39/100\n",
            "421/421 [==============================] - 90s 213ms/step - loss: 0.5687\n",
            "Epoch 40/100\n",
            "421/421 [==============================] - 90s 213ms/step - loss: 0.5576\n",
            "Epoch 41/100\n",
            "421/421 [==============================] - 90s 213ms/step - loss: 0.5483\n",
            "Epoch 42/100\n",
            "421/421 [==============================] - 90s 213ms/step - loss: 0.5455\n",
            "Epoch 43/100\n",
            "421/421 [==============================] - 90s 213ms/step - loss: 0.5368\n",
            "Epoch 44/100\n",
            "421/421 [==============================] - 90s 213ms/step - loss: 0.5284\n",
            "Epoch 45/100\n",
            "421/421 [==============================] - 90s 213ms/step - loss: 0.5216\n",
            "Epoch 46/100\n",
            "421/421 [==============================] - 90s 213ms/step - loss: 0.5156\n",
            "Epoch 47/100\n",
            "421/421 [==============================] - 89s 212ms/step - loss: 0.5148\n",
            "Epoch 48/100\n",
            "421/421 [==============================] - 90s 213ms/step - loss: 0.5066\n",
            "Epoch 49/100\n",
            "421/421 [==============================] - 90s 213ms/step - loss: 0.5015\n",
            "Epoch 50/100\n",
            "421/421 [==============================] - 90s 213ms/step - loss: 0.5000\n",
            "Epoch 51/100\n",
            "421/421 [==============================] - 89s 212ms/step - loss: 0.4954\n",
            "Epoch 52/100\n",
            "421/421 [==============================] - 90s 213ms/step - loss: 0.4886\n",
            "Epoch 53/100\n",
            "421/421 [==============================] - 89s 213ms/step - loss: 0.4868\n",
            "Epoch 54/100\n",
            "421/421 [==============================] - 89s 213ms/step - loss: 0.4828\n",
            "Epoch 55/100\n",
            "421/421 [==============================] - 89s 213ms/step - loss: 0.4798\n",
            "Epoch 56/100\n",
            "421/421 [==============================] - 89s 212ms/step - loss: 0.4770\n",
            "Epoch 57/100\n",
            "421/421 [==============================] - 89s 212ms/step - loss: 0.4767\n",
            "Epoch 58/100\n",
            "421/421 [==============================] - 89s 213ms/step - loss: 0.4734\n",
            "Epoch 59/100\n",
            "421/421 [==============================] - 89s 212ms/step - loss: 0.4719\n",
            "Epoch 60/100\n",
            "421/421 [==============================] - 89s 212ms/step - loss: 0.4701\n",
            "Epoch 61/100\n",
            "421/421 [==============================] - 89s 212ms/step - loss: 0.4661\n",
            "Epoch 62/100\n",
            "421/421 [==============================] - 89s 212ms/step - loss: 0.4680\n",
            "Epoch 63/100\n",
            "421/421 [==============================] - 89s 212ms/step - loss: 0.4676\n",
            "Epoch 64/100\n",
            "421/421 [==============================] - 89s 212ms/step - loss: 0.4631\n",
            "Epoch 65/100\n",
            "421/421 [==============================] - 89s 212ms/step - loss: 0.4626\n",
            "Epoch 66/100\n",
            "421/421 [==============================] - 89s 212ms/step - loss: 0.4609\n",
            "Epoch 67/100\n",
            "421/421 [==============================] - 89s 212ms/step - loss: 0.4591\n",
            "Epoch 68/100\n",
            "421/421 [==============================] - 89s 212ms/step - loss: 0.4562\n",
            "Epoch 69/100\n",
            "421/421 [==============================] - 89s 212ms/step - loss: 0.4545\n",
            "Epoch 70/100\n",
            "421/421 [==============================] - 89s 211ms/step - loss: 0.4559\n",
            "Epoch 71/100\n",
            "421/421 [==============================] - 89s 210ms/step - loss: 0.4545\n",
            "Epoch 72/100\n",
            "421/421 [==============================] - 89s 210ms/step - loss: 0.4517\n",
            "Epoch 73/100\n",
            "421/421 [==============================] - 89s 210ms/step - loss: 0.4533\n",
            "Epoch 74/100\n",
            "421/421 [==============================] - 88s 210ms/step - loss: 0.4553\n",
            "Epoch 75/100\n",
            "421/421 [==============================] - 88s 210ms/step - loss: 0.4566\n",
            "Epoch 76/100\n",
            "421/421 [==============================] - 88s 210ms/step - loss: 0.4579\n",
            "Epoch 77/100\n",
            "421/421 [==============================] - 88s 209ms/step - loss: 0.4572\n",
            "Epoch 78/100\n",
            "421/421 [==============================] - 88s 210ms/step - loss: 0.4535\n",
            "Epoch 79/100\n",
            "421/421 [==============================] - 89s 210ms/step - loss: 0.4518\n",
            "Epoch 80/100\n",
            "421/421 [==============================] - 89s 211ms/step - loss: 0.4538\n",
            "Epoch 81/100\n",
            "421/421 [==============================] - 89s 212ms/step - loss: 0.4564\n",
            "Epoch 82/100\n",
            "421/421 [==============================] - 89s 213ms/step - loss: 0.4539\n",
            "Epoch 83/100\n",
            "421/421 [==============================] - 90s 213ms/step - loss: 0.4527\n",
            "Epoch 84/100\n",
            "421/421 [==============================] - 90s 214ms/step - loss: 0.4547\n",
            "Epoch 85/100\n",
            "421/421 [==============================] - 90s 214ms/step - loss: 0.4545\n",
            "Epoch 86/100\n",
            "421/421 [==============================] - 90s 214ms/step - loss: 0.4536\n",
            "Epoch 87/100\n",
            "421/421 [==============================] - 90s 214ms/step - loss: 0.4544\n",
            "Epoch 88/100\n",
            "421/421 [==============================] - 90s 214ms/step - loss: 0.4583\n",
            "Epoch 89/100\n",
            "421/421 [==============================] - 89s 212ms/step - loss: 0.4592\n",
            "Epoch 90/100\n",
            "421/421 [==============================] - 89s 212ms/step - loss: 0.4610\n",
            "Epoch 91/100\n",
            "421/421 [==============================] - 89s 211ms/step - loss: 0.4629\n",
            "Epoch 92/100\n",
            "421/421 [==============================] - 89s 212ms/step - loss: 0.4651\n",
            "Epoch 93/100\n",
            "421/421 [==============================] - 89s 212ms/step - loss: 0.4649\n",
            "Epoch 94/100\n",
            "421/421 [==============================] - 89s 212ms/step - loss: 0.4662\n",
            "Epoch 95/100\n",
            "421/421 [==============================] - 89s 212ms/step - loss: 0.4675\n",
            "Epoch 96/100\n",
            "421/421 [==============================] - 89s 211ms/step - loss: 0.4686\n",
            "Epoch 97/100\n",
            "421/421 [==============================] - 89s 211ms/step - loss: 0.4699\n",
            "Epoch 98/100\n",
            "421/421 [==============================] - 89s 211ms/step - loss: 0.4769\n",
            "Epoch 99/100\n",
            "421/421 [==============================] - 88s 210ms/step - loss: 0.4783\n",
            "Epoch 100/100\n",
            "421/421 [==============================] - 89s 210ms/step - loss: 0.4827\n"
          ],
          "name": "stdout"
        }
      ]
    },
    {
      "cell_type": "code",
      "metadata": {
        "id": "QA2vLSn5wM2O",
        "colab_type": "code",
        "colab": {}
      },
      "source": [
        "model_json = model.to_json()\n",
        "json_file = open('posts_model_words.json', 'w')\n",
        "json_file.write(model_json)\n",
        "json_file.close()\n",
        "model.save_weights('posts_model_words.h5')"
      ],
      "execution_count": 0,
      "outputs": []
    },
    {
      "cell_type": "markdown",
      "metadata": {
        "colab_type": "text",
        "id": "kKkD5M6eoSiN"
      },
      "source": [
        "## Generate text"
      ]
    },
    {
      "cell_type": "code",
      "metadata": {
        "colab_type": "code",
        "id": "LycQ-ot_jjyu",
        "colab": {}
      },
      "source": [
        "model = tf.keras.Sequential([\n",
        "    tf.keras.layers.Embedding(vocab_size, embedding_dim,\n",
        "                              batch_input_shape=[1, None]),\n",
        "    tf.keras.layers.GRU(rnn_units,\n",
        "                        return_sequences=True,\n",
        "                        stateful=True,\n",
        "                        recurrent_initializer='glorot_uniform'),\n",
        "    tf.keras.layers.Dense(vocab_size)\n",
        "  ])\n",
        "\n",
        "model.load_weights('posts_model_words.h5')\n",
        "\n",
        "model.build(tf.TensorShape([1, None]))"
      ],
      "execution_count": 0,
      "outputs": []
    },
    {
      "cell_type": "code",
      "metadata": {
        "colab_type": "code",
        "id": "71xa6jnYVrAN",
        "outputId": "76d20844-c745-4757-c14d-ab8f0e1da91b",
        "colab": {
          "base_uri": "https://localhost:8080/",
          "height": 255
        }
      },
      "source": [
        "model.summary()"
      ],
      "execution_count": 0,
      "outputs": [
        {
          "output_type": "stream",
          "text": [
            "Model: \"sequential_1\"\n",
            "_________________________________________________________________\n",
            "Layer (type)                 Output Shape              Param #   \n",
            "=================================================================\n",
            "embedding_1 (Embedding)      (1, None, 256)            12268288  \n",
            "_________________________________________________________________\n",
            "gru_1 (GRU)                  (1, None, 1024)           3938304   \n",
            "_________________________________________________________________\n",
            "dense_1 (Dense)              (1, None, 47923)          49121075  \n",
            "=================================================================\n",
            "Total params: 65,327,667\n",
            "Trainable params: 65,327,667\n",
            "Non-trainable params: 0\n",
            "_________________________________________________________________\n"
          ],
          "name": "stdout"
        }
      ]
    },
    {
      "cell_type": "code",
      "metadata": {
        "colab_type": "code",
        "id": "WvuwZBX5Ogfd",
        "colab": {}
      },
      "source": [
        "def generate_text(model, start_string, num_of_words, temp):\n",
        "  # Evaluation step (generating text using the learned model)\n",
        "\n",
        "  # Converting our start string to numbers (vectorizing)\n",
        "  text = start_string\n",
        "\n",
        "  # Low temperatures results in more predictable text.\n",
        "  # Higher temperatures results in more surprising text.\n",
        "  # Experiment to find the best setting.\n",
        "  temperature = temp\n",
        "\n",
        "  # Here batch size == 1\n",
        "  model.reset_states()\n",
        "  for i in range(num_of_words):\n",
        "      input_eval = create_dataset(start_string)\n",
        "      input_eval = pad_sequences([input_eval], maxlen - 1, padding='post')\n",
        "\n",
        "      predictions = model(input_eval)\n",
        "      # remove the batch dimension\n",
        "      predictions = tf.squeeze(predictions, 0)\n",
        "\n",
        "      # using a categorical distribution to predict the word returned by the model\n",
        "      predictions = predictions / temperature\n",
        "      predicted_id = tf.random.categorical(predictions, num_samples=1)[-1,0].numpy()\n",
        "\n",
        "      # We pass the predicted word as the next input to the model\n",
        "      # along with the previous hidden state\n",
        "      new_word = get_word_by_index(predicted_id)\n",
        "      text = text + ' ' + new_word\n",
        "\n",
        "  return text"
      ],
      "execution_count": 0,
      "outputs": []
    },
    {
      "cell_type": "code",
      "metadata": {
        "id": "cvUY75TeXDxF",
        "colab_type": "code",
        "outputId": "97773a42-984d-4222-9532-080c6e0d16fc",
        "colab": {
          "base_uri": "https://localhost:8080/",
          "height": 34
        }
      },
      "source": [
        "generate_text(model, 'сегодня вам ', 10, 4.5)"
      ],
      "execution_count": 0,
      "outputs": [
        {
          "output_type": "execute_result",
          "data": {
            "text/plain": [
              "'сегодня вам  тона посидеть запутано изделия поладите работа <Заполнитель> <Заполнитель> осуществлением способностями'"
            ]
          },
          "metadata": {
            "tags": []
          },
          "execution_count": 45
        }
      ]
    },
    {
      "cell_type": "code",
      "metadata": {
        "id": "cVNddTOde3Pu",
        "colab_type": "code",
        "outputId": "64cf127a-24b6-435b-ec4b-c72c8d5cf55f",
        "colab": {
          "base_uri": "https://localhost:8080/",
          "height": 34
        }
      },
      "source": [
        "generate_text(model, 'сегодня вам ', 10, 55)"
      ],
      "execution_count": 0,
      "outputs": [
        {
          "output_type": "execute_result",
          "data": {
            "text/plain": [
              "'сегодня вам  выражаться сидело прозябать обещающий кормления удержитесь перспективах метеор выводя испортятся'"
            ]
          },
          "metadata": {
            "tags": []
          },
          "execution_count": 46
        }
      ]
    },
    {
      "cell_type": "code",
      "metadata": {
        "id": "2fRyJvyBe3b8",
        "colab_type": "code",
        "outputId": "1679c2ec-e999-4290-9196-f7f1c6abbc59",
        "colab": {
          "base_uri": "https://localhost:8080/",
          "height": 34
        }
      },
      "source": [
        "generate_text(model, 'сегодня вам ', 10, 28)"
      ],
      "execution_count": 0,
      "outputs": [
        {
          "output_type": "execute_result",
          "data": {
            "text/plain": [
              "'сегодня вам  возжелать незнакомцам пригорит собственноручно легких расспросы критичный переставьте близкое предлагаемый'"
            ]
          },
          "metadata": {
            "tags": []
          },
          "execution_count": 47
        }
      ]
    },
    {
      "cell_type": "markdown",
      "metadata": {
        "id": "w1IMj6iKw-ZH",
        "colab_type": "text"
      },
      "source": [
        "Save model"
      ]
    },
    {
      "cell_type": "code",
      "metadata": {
        "colab_type": "code",
        "outputId": "f9234e35-9214-4587-c4a3-88bb2f3524ed",
        "id": "LDNMkBBWw2eP",
        "colab": {
          "base_uri": "https://localhost:8080/",
          "height": 51
        }
      },
      "source": [
        "!ls"
      ],
      "execution_count": 0,
      "outputs": [
        {
          "output_type": "stream",
          "text": [
            "posts_model_words.h5\tposts_word_to_int.csv  vocab.json\n",
            "posts_model_words.json\tsample_data\n"
          ],
          "name": "stdout"
        }
      ]
    },
    {
      "cell_type": "code",
      "metadata": {
        "id": "BshduFK_5xMI",
        "colab_type": "code",
        "colab": {}
      },
      "source": [
        "model_json = model.to_json()\n",
        "json_file = open('posts_model.json', 'w')\n",
        "json_file.write(model_json)\n",
        "json_file.close()\n",
        "model.save_weights('posts_model.h5')"
      ],
      "execution_count": 0,
      "outputs": []
    },
    {
      "cell_type": "code",
      "metadata": {
        "id": "k_ZV2H0X6lye",
        "colab_type": "code",
        "outputId": "f49fe1c7-c355-4d37-d61a-52d11d0b16c2",
        "colab": {
          "base_uri": "https://localhost:8080/",
          "height": 34
        }
      },
      "source": [
        "!ls"
      ],
      "execution_count": 0,
      "outputs": [
        {
          "output_type": "stream",
          "text": [
            "posts_word_to_int.csv  sample_data  vocab.json\n"
          ],
          "name": "stdout"
        }
      ]
    },
    {
      "cell_type": "code",
      "metadata": {
        "id": "qR0iEZPy6mcz",
        "colab_type": "code",
        "colab": {}
      },
      "source": [
        "from google.colab import files"
      ],
      "execution_count": 0,
      "outputs": []
    },
    {
      "cell_type": "code",
      "metadata": {
        "colab_type": "code",
        "id": "XReJFqs_xM6M",
        "outputId": "804ec168-c49d-4f3d-a3a6-4df3c41cf2da",
        "colab": {
          "base_uri": "https://localhost:8080/",
          "height": 442
        }
      },
      "source": [
        "files.download('posts_model.json')\n",
        "files.download('posts_model.h5')"
      ],
      "execution_count": 0,
      "outputs": [
        {
          "output_type": "stream",
          "text": [
            "----------------------------------------\n",
            "Exception happened during processing of request from ('::ffff:127.0.0.1', 42308, 0, 0)\n",
            "Traceback (most recent call last):\n",
            "  File \"/usr/lib/python3.6/socketserver.py\", line 320, in _handle_request_noblock\n",
            "    self.process_request(request, client_address)\n",
            "  File \"/usr/lib/python3.6/socketserver.py\", line 351, in process_request\n",
            "    self.finish_request(request, client_address)\n",
            "  File \"/usr/lib/python3.6/socketserver.py\", line 364, in finish_request\n",
            "    self.RequestHandlerClass(request, client_address, self)\n",
            "  File \"/usr/lib/python3.6/socketserver.py\", line 724, in __init__\n",
            "    self.handle()\n",
            "  File \"/usr/lib/python3.6/http/server.py\", line 418, in handle\n",
            "    self.handle_one_request()\n",
            "  File \"/usr/lib/python3.6/http/server.py\", line 406, in handle_one_request\n",
            "    method()\n",
            "  File \"/usr/lib/python3.6/http/server.py\", line 639, in do_GET\n",
            "    self.copyfile(f, self.wfile)\n",
            "  File \"/usr/lib/python3.6/http/server.py\", line 800, in copyfile\n",
            "    shutil.copyfileobj(source, outputfile)\n",
            "  File \"/usr/lib/python3.6/shutil.py\", line 82, in copyfileobj\n",
            "    fdst.write(buf)\n",
            "  File \"/usr/lib/python3.6/socketserver.py\", line 803, in write\n",
            "    self._sock.sendall(b)\n",
            "ConnectionResetError: [Errno 104] Connection reset by peer\n",
            "----------------------------------------\n"
          ],
          "name": "stderr"
        }
      ]
    },
    {
      "cell_type": "code",
      "metadata": {
        "colab_type": "code",
        "id": "YSD4cazExSka",
        "outputId": "c3105fc6-1826-4dad-84be-69c459ec0ab4",
        "colab": {
          "base_uri": "https://localhost:8080/",
          "height": 323
        }
      },
      "source": [
        "files.download('posts_model_words.json')\n",
        "files .download('posts_model_words.h5')"
      ],
      "execution_count": 0,
      "outputs": [
        {
          "output_type": "error",
          "ename": "KeyboardInterrupt",
          "evalue": "ignored",
          "traceback": [
            "\u001b[0;31m---------------------------------------------------------------------------\u001b[0m",
            "\u001b[0;31mKeyboardInterrupt\u001b[0m                         Traceback (most recent call last)",
            "\u001b[0;32m<ipython-input-59-805c44519f3a>\u001b[0m in \u001b[0;36m<module>\u001b[0;34m()\u001b[0m\n\u001b[1;32m      1\u001b[0m \u001b[0mfiles\u001b[0m\u001b[0;34m.\u001b[0m\u001b[0mdownload\u001b[0m\u001b[0;34m(\u001b[0m\u001b[0;34m'posts_model_words.json'\u001b[0m\u001b[0;34m)\u001b[0m\u001b[0;34m\u001b[0m\u001b[0;34m\u001b[0m\u001b[0m\n\u001b[0;32m----> 2\u001b[0;31m \u001b[0mfiles\u001b[0m \u001b[0;34m.\u001b[0m\u001b[0mdownload\u001b[0m\u001b[0;34m(\u001b[0m\u001b[0;34m'posts_model_words.h5'\u001b[0m\u001b[0;34m)\u001b[0m\u001b[0;34m\u001b[0m\u001b[0;34m\u001b[0m\u001b[0m\n\u001b[0m",
            "\u001b[0;32m/usr/local/lib/python3.6/dist-packages/google/colab/files.py\u001b[0m in \u001b[0;36mdownload\u001b[0;34m(filename)\u001b[0m\n\u001b[1;32m    176\u001b[0m       \u001b[0;34m'port'\u001b[0m\u001b[0;34m:\u001b[0m \u001b[0mport\u001b[0m\u001b[0;34m,\u001b[0m\u001b[0;34m\u001b[0m\u001b[0;34m\u001b[0m\u001b[0m\n\u001b[1;32m    177\u001b[0m       \u001b[0;34m'path'\u001b[0m\u001b[0;34m:\u001b[0m \u001b[0m_os\u001b[0m\u001b[0;34m.\u001b[0m\u001b[0mpath\u001b[0m\u001b[0;34m.\u001b[0m\u001b[0mabspath\u001b[0m\u001b[0;34m(\u001b[0m\u001b[0mfilename\u001b[0m\u001b[0;34m)\u001b[0m\u001b[0;34m,\u001b[0m\u001b[0;34m\u001b[0m\u001b[0;34m\u001b[0m\u001b[0m\n\u001b[0;32m--> 178\u001b[0;31m       \u001b[0;34m'name'\u001b[0m\u001b[0;34m:\u001b[0m \u001b[0m_os\u001b[0m\u001b[0;34m.\u001b[0m\u001b[0mpath\u001b[0m\u001b[0;34m.\u001b[0m\u001b[0mbasename\u001b[0m\u001b[0;34m(\u001b[0m\u001b[0mfilename\u001b[0m\u001b[0;34m)\u001b[0m\u001b[0;34m,\u001b[0m\u001b[0;34m\u001b[0m\u001b[0;34m\u001b[0m\u001b[0m\n\u001b[0m\u001b[1;32m    179\u001b[0m   })\n",
            "\u001b[0;32m/usr/local/lib/python3.6/dist-packages/google/colab/output/_js.py\u001b[0m in \u001b[0;36meval_js\u001b[0;34m(script, ignore_result)\u001b[0m\n\u001b[1;32m     37\u001b[0m   \u001b[0;32mif\u001b[0m \u001b[0mignore_result\u001b[0m\u001b[0;34m:\u001b[0m\u001b[0;34m\u001b[0m\u001b[0;34m\u001b[0m\u001b[0m\n\u001b[1;32m     38\u001b[0m     \u001b[0;32mreturn\u001b[0m\u001b[0;34m\u001b[0m\u001b[0;34m\u001b[0m\u001b[0m\n\u001b[0;32m---> 39\u001b[0;31m   \u001b[0;32mreturn\u001b[0m \u001b[0m_message\u001b[0m\u001b[0;34m.\u001b[0m\u001b[0mread_reply_from_input\u001b[0m\u001b[0;34m(\u001b[0m\u001b[0mrequest_id\u001b[0m\u001b[0;34m)\u001b[0m\u001b[0;34m\u001b[0m\u001b[0;34m\u001b[0m\u001b[0m\n\u001b[0m\u001b[1;32m     40\u001b[0m \u001b[0;34m\u001b[0m\u001b[0m\n\u001b[1;32m     41\u001b[0m \u001b[0;34m\u001b[0m\u001b[0m\n",
            "\u001b[0;32m/usr/local/lib/python3.6/dist-packages/google/colab/_message.py\u001b[0m in \u001b[0;36mread_reply_from_input\u001b[0;34m(message_id, timeout_sec)\u001b[0m\n\u001b[1;32m     99\u001b[0m     \u001b[0mreply\u001b[0m \u001b[0;34m=\u001b[0m \u001b[0m_read_next_input_message\u001b[0m\u001b[0;34m(\u001b[0m\u001b[0;34m)\u001b[0m\u001b[0;34m\u001b[0m\u001b[0;34m\u001b[0m\u001b[0m\n\u001b[1;32m    100\u001b[0m     \u001b[0;32mif\u001b[0m \u001b[0mreply\u001b[0m \u001b[0;34m==\u001b[0m \u001b[0m_NOT_READY\u001b[0m \u001b[0;32mor\u001b[0m \u001b[0;32mnot\u001b[0m \u001b[0misinstance\u001b[0m\u001b[0;34m(\u001b[0m\u001b[0mreply\u001b[0m\u001b[0;34m,\u001b[0m \u001b[0mdict\u001b[0m\u001b[0;34m)\u001b[0m\u001b[0;34m:\u001b[0m\u001b[0;34m\u001b[0m\u001b[0;34m\u001b[0m\u001b[0m\n\u001b[0;32m--> 101\u001b[0;31m       \u001b[0mtime\u001b[0m\u001b[0;34m.\u001b[0m\u001b[0msleep\u001b[0m\u001b[0;34m(\u001b[0m\u001b[0;36m0.025\u001b[0m\u001b[0;34m)\u001b[0m\u001b[0;34m\u001b[0m\u001b[0;34m\u001b[0m\u001b[0m\n\u001b[0m\u001b[1;32m    102\u001b[0m       \u001b[0;32mcontinue\u001b[0m\u001b[0;34m\u001b[0m\u001b[0;34m\u001b[0m\u001b[0m\n\u001b[1;32m    103\u001b[0m     if (reply.get('type') == 'colab_reply' and\n",
            "\u001b[0;31mKeyboardInterrupt\u001b[0m: "
          ]
        }
      ]
    },
    {
      "cell_type": "markdown",
      "metadata": {
        "id": "t-Qi8Vqt7BNf",
        "colab_type": "text"
      },
      "source": [
        "# Generate by symbols"
      ]
    },
    {
      "cell_type": "code",
      "metadata": {
        "id": "CFNBXwalS6z-",
        "colab_type": "code",
        "colab": {}
      },
      "source": [
        "posts = pd.read_csv('https://raw.githubusercontent.com/Khlebovich-Alexandra/horoscope_generator/master/Data/final_posts.csv', index_col=0)"
      ],
      "execution_count": 0,
      "outputs": []
    },
    {
      "cell_type": "code",
      "metadata": {
        "id": "sCFXJXt9yQHl",
        "colab_type": "code",
        "outputId": "a51d8c81-1f94-4707-8c9b-62a029f4a621",
        "colab": {
          "base_uri": "https://localhost:8080/",
          "height": 34
        }
      },
      "source": [
        "text = posts.text\n",
        "text = '\\n'.join(text)\n",
        "\n",
        "print ('Length of text: {} characters'.format(len(text)))"
      ],
      "execution_count": 0,
      "outputs": [
        {
          "output_type": "stream",
          "text": [
            "Length of text: 8121558 characters\n"
          ],
          "name": "stdout"
        }
      ]
    },
    {
      "cell_type": "code",
      "metadata": {
        "id": "C5gVHG7ZzTaX",
        "colab_type": "code",
        "outputId": "4d58e168-e316-4150-c6b0-595134af9e0d",
        "colab": {
          "base_uri": "https://localhost:8080/",
          "height": 54
        }
      },
      "source": [
        "# Take a look at the first 250 characters in text\n",
        "print(text[:250])"
      ],
      "execution_count": 0,
      "outputs": [
        {
          "output_type": "stream",
          "text": [
            "сегодня вы можете почувствовать незащищенность и неуверенность в собственных силах. попробуйте проанализировать ситуацию и выяснить, что же так сильно выбило вас из колеи. приниэтого месяца во внимание вашу уязвимость, постарайтесь избегать тех ситуа\n"
          ],
          "name": "stdout"
        }
      ]
    },
    {
      "cell_type": "code",
      "metadata": {
        "id": "XZ0ohEQKzWJO",
        "colab_type": "code",
        "outputId": "07132438-f185-44c6-8474-eb54c305e413",
        "colab": {
          "base_uri": "https://localhost:8080/",
          "height": 34
        }
      },
      "source": [
        "vocab = sorted(set(text))\n",
        "print ('{} unique characters'.format(len(vocab)))"
      ],
      "execution_count": 0,
      "outputs": [
        {
          "output_type": "stream",
          "text": [
            "86 unique characters\n"
          ],
          "name": "stdout"
        }
      ]
    },
    {
      "cell_type": "code",
      "metadata": {
        "id": "XLKxnJOpzaO0",
        "colab_type": "code",
        "colab": {}
      },
      "source": [
        "# Creating a mapping from unique characters to indices\n",
        "char2idx = {u:i for i, u in enumerate(vocab)}\n",
        "idx2char = np.array(vocab)\n",
        "\n",
        "text_as_int = np.array([char2idx[c] for c in text])"
      ],
      "execution_count": 0,
      "outputs": []
    },
    {
      "cell_type": "code",
      "metadata": {
        "id": "sMAQpucpzh-_",
        "colab_type": "code",
        "outputId": "16320d37-fe45-47c7-be86-2a52e0a70b57",
        "colab": {
          "base_uri": "https://localhost:8080/",
          "height": 102
        }
      },
      "source": [
        "# The maximum length sentence we want for a single input in characters\n",
        "seq_length = 100\n",
        "examples_per_epoch = len(text)//(seq_length+1)\n",
        "\n",
        "# Create training examples / targets\n",
        "char_dataset = tf.data.Dataset.from_tensor_slices(text_as_int)\n",
        "\n",
        "for i in char_dataset.take(5):\n",
        "    print(idx2char[i.numpy()])"
      ],
      "execution_count": 0,
      "outputs": [
        {
          "output_type": "stream",
          "text": [
            "с\n",
            "е\n",
            "г\n",
            "о\n",
            "д\n"
          ],
          "name": "stdout"
        }
      ]
    },
    {
      "cell_type": "code",
      "metadata": {
        "id": "DsDKTcD1zpEj",
        "colab_type": "code",
        "outputId": "2ec74531-b121-4a3f-bc04-797f516ec5ee",
        "colab": {
          "base_uri": "https://localhost:8080/",
          "height": 102
        }
      },
      "source": [
        "sequences = char_dataset.batch(seq_length+1, drop_remainder=True)\n",
        "\n",
        "for item in sequences.take(5):\n",
        "    print(repr(''.join(idx2char[item.numpy()])))"
      ],
      "execution_count": 0,
      "outputs": [
        {
          "output_type": "stream",
          "text": [
            "'сегодня вы можете почувствовать незащищенность и неуверенность в собственных силах. попробуйте проана'\n",
            "'лизировать ситуацию и выяснить, что же так сильно выбило вас из колеи. приниэтого месяца во внимание '\n",
            "'вашу уязвимость, постарайтесь избегать тех ситуаций, которые требуют проявления всех стальных черт ха'\n",
            "'рактера. сейчас это для вас будет трудновато.\\nвам звёзды рекомендуют сегодня больше работать. ну или '\n",
            "'хотя бы демонстрировать окружающим имитацию деятельности столь бурной, что у них бы отпало всякое жел'\n"
          ],
          "name": "stdout"
        }
      ]
    },
    {
      "cell_type": "code",
      "metadata": {
        "id": "foppb26-zvQT",
        "colab_type": "code",
        "colab": {}
      },
      "source": [
        "dataset = sequences.map(split_input_target)"
      ],
      "execution_count": 0,
      "outputs": []
    },
    {
      "cell_type": "code",
      "metadata": {
        "id": "fC4t3kvOz6EO",
        "colab_type": "code",
        "outputId": "233201c9-bf5d-4c63-b15b-d312e30c5a89",
        "colab": {
          "base_uri": "https://localhost:8080/",
          "height": 51
        }
      },
      "source": [
        "for input_example, target_example in  dataset.take(1):\n",
        "    print ('Input data: ', repr(''.join(idx2char[input_example.numpy()])))\n",
        "    print ('Target data:', repr(''.join(idx2char[target_example.numpy()])))"
      ],
      "execution_count": 0,
      "outputs": [
        {
          "output_type": "stream",
          "text": [
            "Input data:  'сегодня вы можете почувствовать незащищенность и неуверенность в собственных силах. попробуйте проан'\n",
            "Target data: 'егодня вы можете почувствовать незащищенность и неуверенность в собственных силах. попробуйте проана'\n"
          ],
          "name": "stdout"
        }
      ]
    },
    {
      "cell_type": "code",
      "metadata": {
        "id": "OMPENjlaz9tf",
        "colab_type": "code",
        "outputId": "0cd29af6-11ab-43cd-d857-53c590fb3e2e",
        "colab": {
          "base_uri": "https://localhost:8080/",
          "height": 272
        }
      },
      "source": [
        "for i, (input_idx, target_idx) in enumerate(zip(input_example[:5], target_example[:5])):\n",
        "    print(\"Step {:4d}\".format(i))\n",
        "    print(\"  input: {} ({:s})\".format(input_idx, repr(idx2char[input_idx])))\n",
        "    print(\"  expected output: {} ({:s})\".format(target_idx, repr(idx2char[target_idx])))"
      ],
      "execution_count": 0,
      "outputs": [
        {
          "output_type": "stream",
          "text": [
            "Step    0\n",
            "  input: 67 ('с')\n",
            "  expected output: 55 ('е')\n",
            "Step    1\n",
            "  input: 55 ('е')\n",
            "  expected output: 53 ('г')\n",
            "Step    2\n",
            "  input: 53 ('г')\n",
            "  expected output: 64 ('о')\n",
            "Step    3\n",
            "  input: 64 ('о')\n",
            "  expected output: 54 ('д')\n",
            "Step    4\n",
            "  input: 54 ('д')\n",
            "  expected output: 63 ('н')\n"
          ],
          "name": "stdout"
        }
      ]
    },
    {
      "cell_type": "code",
      "metadata": {
        "id": "r8kJPO5b0BVF",
        "colab_type": "code",
        "outputId": "72d6443b-115a-4f5b-abf2-a9ddaa849ae2",
        "colab": {
          "base_uri": "https://localhost:8080/",
          "height": 34
        }
      },
      "source": [
        "# Batch size\n",
        "BATCH_SIZE = 64\n",
        "\n",
        "# Buffer size to shuffle the dataset\n",
        "# (TF data is designed to work with possibly infinite sequences,\n",
        "# so it doesn't attempt to shuffle the entire sequence in memory. Instead,\n",
        "# it maintains a buffer in which it shuffles elements).\n",
        "BUFFER_SIZE = 10000\n",
        "\n",
        "dataset = dataset.shuffle(BUFFER_SIZE).batch(BATCH_SIZE, drop_remainder=True)\n",
        "\n",
        "dataset"
      ],
      "execution_count": 0,
      "outputs": [
        {
          "output_type": "execute_result",
          "data": {
            "text/plain": [
              "<BatchDataset shapes: ((64, 100), (64, 100)), types: (tf.int64, tf.int64)>"
            ]
          },
          "metadata": {
            "tags": []
          },
          "execution_count": 75
        }
      ]
    },
    {
      "cell_type": "code",
      "metadata": {
        "id": "99E0F3340TKH",
        "colab_type": "code",
        "outputId": "83227308-89b4-418f-85a7-d6673474a0ec",
        "colab": {
          "base_uri": "https://localhost:8080/",
          "height": 272
        }
      },
      "source": [
        "vocab_size = len(vocab)\n",
        "model = tf.keras.Sequential([\n",
        "    tf.keras.layers.Embedding(vocab_size, embedding_dim,\n",
        "                              batch_input_shape=[BATCH_SIZE, None]),\n",
        "    tf.keras.layers.GRU(rnn_units,\n",
        "                        return_sequences=True,\n",
        "                        stateful=True,\n",
        "                        recurrent_initializer='glorot_uniform'),\n",
        "    tf.keras.layers.Dense(vocab_size)\n",
        "  ])\n",
        "\n",
        "print(model.summary())"
      ],
      "execution_count": 0,
      "outputs": [
        {
          "output_type": "stream",
          "text": [
            "Model: \"sequential_5\"\n",
            "_________________________________________________________________\n",
            "Layer (type)                 Output Shape              Param #   \n",
            "=================================================================\n",
            "embedding_5 (Embedding)      (64, None, 256)           22016     \n",
            "_________________________________________________________________\n",
            "gru_5 (GRU)                  (64, None, 1024)          3938304   \n",
            "_________________________________________________________________\n",
            "dense_5 (Dense)              (64, None, 86)            88150     \n",
            "=================================================================\n",
            "Total params: 4,048,470\n",
            "Trainable params: 4,048,470\n",
            "Non-trainable params: 0\n",
            "_________________________________________________________________\n",
            "None\n"
          ],
          "name": "stdout"
        }
      ]
    },
    {
      "cell_type": "code",
      "metadata": {
        "id": "v8uzxKRh0foI",
        "colab_type": "code",
        "outputId": "4696147e-81d0-4d19-9151-a6d16143a64f",
        "colab": {
          "base_uri": "https://localhost:8080/",
          "height": 34
        }
      },
      "source": [
        "for input_example_batch, target_example_batch in dataset.take(1):\n",
        "    example_batch_predictions = model(input_example_batch)\n",
        "    print(example_batch_predictions.shape, \"# (batch_size, sequence_length, vocab_size)\")"
      ],
      "execution_count": 0,
      "outputs": [
        {
          "output_type": "stream",
          "text": [
            "(64, 100, 86) # (batch_size, sequence_length, vocab_size)\n"
          ],
          "name": "stdout"
        }
      ]
    },
    {
      "cell_type": "code",
      "metadata": {
        "id": "chgkReS80iux",
        "colab_type": "code",
        "colab": {}
      },
      "source": [
        "sampled_indices = tf.random.categorical(example_batch_predictions[0], num_samples=1)\n",
        "sampled_indices = tf.squeeze(sampled_indices,axis=-1).numpy()"
      ],
      "execution_count": 0,
      "outputs": []
    },
    {
      "cell_type": "code",
      "metadata": {
        "id": "XQ9WKMdo0m7L",
        "colab_type": "code",
        "outputId": "100647f3-cef4-4bc1-d2f2-d0fcd8e4db3b",
        "colab": {
          "base_uri": "https://localhost:8080/",
          "height": 119
        }
      },
      "source": [
        "sampled_indices"
      ],
      "execution_count": 0,
      "outputs": [
        {
          "output_type": "execute_result",
          "data": {
            "text/plain": [
              "array([ 7, 11, 28, 21, 19, 25, 77, 45, 32, 82, 59, 41, 19, 38, 44, 42, 49,\n",
              "       76, 49, 10, 11, 29,  1, 84, 82, 19, 37,  9, 72, 68, 29, 25, 67, 16,\n",
              "        5, 68, 65, 65, 37, 73, 10, 27, 65, 79, 77, 21, 27, 66, 25, 81, 41,\n",
              "       57, 63, 79, 79, 10, 81, 53, 55, 70, 83, 81, 31, 34, 20, 60,  3, 35,\n",
              "        7, 70, 36, 60, 63, 20, 21, 70, 33, 82, 78, 39, 80, 59,  9, 61, 73,\n",
              "       52,  2, 52, 43, 85, 69, 34, 19, 76, 20, 28,  1, 73, 11, 15])"
            ]
          },
          "metadata": {
            "tags": []
          },
          "execution_count": 96
        }
      ]
    },
    {
      "cell_type": "code",
      "metadata": {
        "id": "siJUC_P50qOe",
        "colab_type": "code",
        "outputId": "15bc652a-0004-48c6-f0fb-693d4f1b79d7",
        "colab": {
          "base_uri": "https://localhost:8080/",
          "height": 102
        }
      },
      "source": [
        "print(\"Input: \\n\", repr(\"\".join(idx2char[input_example_batch[0]])))\n",
        "print()\n",
        "print(\"Next Char Predictions: \\n\", repr(\"\".join(idx2char[sampled_indices ])))"
      ],
      "execution_count": 0,
      "outputs": [
        {
          "output_type": "stream",
          "text": [
            "Input: \n",
            " 'что где-то баланс нарушен, постараться восстановить вопиющую несправедливость, если это, конечно, бу'\n",
            "\n",
            "Next Char Predictions: \n",
            " '*.a86=ыvhёйr6ous»ъ»-.c “ё6n,цтc=с3(тппnч-_пэы8_р=яrзнээ-ягеф–яek7к#l*фmкн78фiёьpюй,лчв!вt”уk6ъ7a ч.2'\n"
          ],
          "name": "stdout"
        }
      ]
    },
    {
      "cell_type": "markdown",
      "metadata": {
        "id": "vXCluY-90u8J",
        "colab_type": "text"
      },
      "source": [
        "## Train the model"
      ]
    },
    {
      "cell_type": "code",
      "metadata": {
        "id": "Xhq67shL0zjW",
        "colab_type": "code",
        "colab": {}
      },
      "source": [
        "model.compile(optimizer='adam', loss=loss)"
      ],
      "execution_count": 0,
      "outputs": []
    },
    {
      "cell_type": "code",
      "metadata": {
        "id": "G-8uDzfU06Ii",
        "colab_type": "code",
        "outputId": "232fbf60-0997-4185-dc43-ed6bf59fe854",
        "colab": {
          "base_uri": "https://localhost:8080/",
          "height": 340
        }
      },
      "source": [
        "history1 = model.fit(dataset, epochs=9)"
      ],
      "execution_count": 0,
      "outputs": [
        {
          "output_type": "stream",
          "text": [
            "Train for 1256 steps\n",
            "Epoch 1/9\n",
            "1256/1256 [==============================] - 54s 43ms/step - loss: 1.5575\n",
            "Epoch 2/9\n",
            "1256/1256 [==============================] - 53s 42ms/step - loss: 1.0875\n",
            "Epoch 3/9\n",
            "1256/1256 [==============================] - 53s 42ms/step - loss: 1.0126\n",
            "Epoch 4/9\n",
            "1256/1256 [==============================] - 53s 42ms/step - loss: 0.9713\n",
            "Epoch 5/9\n",
            "1256/1256 [==============================] - 53s 43ms/step - loss: 0.9456\n",
            "Epoch 6/9\n",
            "1256/1256 [==============================] - 53s 42ms/step - loss: 0.9288\n",
            "Epoch 7/9\n",
            "1256/1256 [==============================] - 53s 42ms/step - loss: 0.9193\n",
            "Epoch 8/9\n",
            "1256/1256 [==============================] - 53s 42ms/step - loss: 0.9143\n",
            "Epoch 9/9\n",
            "1256/1256 [==============================] - 53s 42ms/step - loss: 0.9133\n"
          ],
          "name": "stdout"
        }
      ]
    },
    {
      "cell_type": "code",
      "metadata": {
        "id": "irKcA5mp1kqt",
        "colab_type": "code",
        "colab": {}
      },
      "source": [
        "model_json = model.to_json()\n",
        "json_file = open('posts_model_symbols.json', 'w')\n",
        "json_file.write(model_json)\n",
        "json_file.close()\n",
        "model.save_weights('posts_model_symbols.h5')"
      ],
      "execution_count": 0,
      "outputs": []
    },
    {
      "cell_type": "markdown",
      "metadata": {
        "id": "5RqowQlX1btE",
        "colab_type": "text"
      },
      "source": [
        "## Generate text"
      ]
    },
    {
      "cell_type": "code",
      "metadata": {
        "id": "33vhZVSq1fTi",
        "colab_type": "code",
        "colab": {}
      },
      "source": [
        "model = tf.keras.Sequential([\n",
        "    tf.keras.layers.Embedding(vocab_size, embedding_dim,\n",
        "                              batch_input_shape=[1, None]),\n",
        "    tf.keras.layers.GRU(rnn_units,\n",
        "                        return_sequences=True,\n",
        "                        stateful=True,\n",
        "                        recurrent_initializer='glorot_uniform'),\n",
        "    tf.keras.layers.Dense(vocab_size)\n",
        "  ])\n",
        "\n",
        "model.load_weights('posts_model_symbols.h5')\n",
        "\n",
        "model.build(tf.TensorShape([1, None]))"
      ],
      "execution_count": 0,
      "outputs": []
    },
    {
      "cell_type": "code",
      "metadata": {
        "id": "dJYRm-_C11EG",
        "colab_type": "code",
        "outputId": "d86fbebc-a06d-4340-f224-3cf5d3601785",
        "colab": {
          "base_uri": "https://localhost:8080/",
          "height": 255
        }
      },
      "source": [
        "model.summary()"
      ],
      "execution_count": 0,
      "outputs": [
        {
          "output_type": "stream",
          "text": [
            "Model: \"sequential_6\"\n",
            "_________________________________________________________________\n",
            "Layer (type)                 Output Shape              Param #   \n",
            "=================================================================\n",
            "embedding_6 (Embedding)      (1, None, 256)            22016     \n",
            "_________________________________________________________________\n",
            "gru_6 (GRU)                  (1, None, 1024)           3938304   \n",
            "_________________________________________________________________\n",
            "dense_6 (Dense)              (1, None, 86)             88150     \n",
            "=================================================================\n",
            "Total params: 4,048,470\n",
            "Trainable params: 4,048,470\n",
            "Non-trainable params: 0\n",
            "_________________________________________________________________\n"
          ],
          "name": "stdout"
        }
      ]
    },
    {
      "cell_type": "code",
      "metadata": {
        "id": "E5pQgjCz14ao",
        "colab_type": "code",
        "colab": {}
      },
      "source": [
        "def generate_text_symbols(model, start_string):\n",
        "  # Evaluation step (generating text using the learned model)\n",
        "\n",
        "  # Number of characters to generate\n",
        "  num_generate = 3000\n",
        "\n",
        "  # Converting our start string to numbers (vectorizing)\n",
        "  input_eval = [char2idx[s] for s in start_string]\n",
        "  input_eval = tf.expand_dims(input_eval, 0)\n",
        "\n",
        "  # Empty string to store our results\n",
        "  text_generated = []\n",
        "\n",
        "  # Low temperatures results in more predictable text.\n",
        "  # Higher temperatures results in more surprising text.\n",
        "  # Experiment to find the best setting.\n",
        "  temperature = 1.0\n",
        "\n",
        "  # Here batch size == 1\n",
        "  model.reset_states()\n",
        "  for i in range(num_generate):\n",
        "      predictions = model(input_eval)\n",
        "      # remove the batch dimension\n",
        "      predictions = tf.squeeze(predictions, 0)\n",
        "\n",
        "      # using a categorical distribution to predict the word returned by the model\n",
        "      predictions = predictions / temperature\n",
        "      predicted_id = tf.random.categorical(predictions, num_samples=1)[-1,0].numpy()\n",
        "\n",
        "      # We pass the predicted word as the next input to the model\n",
        "      # along with the previous hidden state\n",
        "      input_eval = tf.expand_dims([predicted_id], 0)\n",
        "\n",
        "      text_generated.append(idx2char[predicted_id])\n",
        "\n",
        "  return (start_string + ''.join(text_generated))"
      ],
      "execution_count": 0,
      "outputs": []
    },
    {
      "cell_type": "code",
      "metadata": {
        "id": "VbAfTx0f1_4q",
        "colab_type": "code",
        "outputId": "ff59c707-8167-4a7a-c28d-6e4214f6eed5",
        "colab": {
          "base_uri": "https://localhost:8080/",
          "height": 275
        }
      },
      "source": [
        "print(generate_text_symbols(model, start_string=u\"сегодня \"))"
      ],
      "execution_count": 0,
      "outputs": [
        {
          "output_type": "stream",
          "text": [
            "сегодня рекомендуется стать достойными смелые!\n",
            "в противном, настоящим другом, и порой появятся возможности для того, чтобы отдохнуть, питание, стрельца и его партнера будет знамен. ваша профессиям и дело прекрасно пониманию вам предназначат и чаще без основной работы, выяснить своим техником скожет вам какое-то используете все свою перспектива и консерватить вас.\n",
            "завтра вы не так уж весовестность против силпосознить о свой контакт. даже самые валить перспективы. лучше не хотите и водолею не стоит.\n",
            "в этот период положением ждут проблемысленнего пеле вника, а заниматься тем, кто справились в отношениях с любимым человеком. завтра у льни не будет готовы, полагайтесь – собеседник не ожидается. в этом пожет зависти вас обмануты в этот день не вежливой и женщиной. это не столько думали со своим любимым человеком данный период подход. так есть стороной для него у вас источник, на которых вы давно назрели; и особенно условно происходить: быть могут проявиться самодолго. вот, с конкурентом в обстановке. не станете смело удоволость.\n",
            "завтра такое общение, это способен отдохнуть.\n",
            "гороскоп предсказывает легкомысленную ситуацию. они могут случаться успешными. с одной стороны жизни и ошибок.\n",
            "физическая ситуация может подарить новые выводы для любви или руководствовать вас самого, не суждено столкнуть потрый результат.\n",
            "день символизированным решением. людей, справедливых людей, о которых попустуализмер игрусты кого-то в положительном состоянии. будьте осторожнее и воспользоваться и последовательны, получать удовольствия, особенно, вспыльчивость может вызвать так, чтобы их давно забытые ваши. тельцу не стоит заглядов и целей. не исключено, что кто-нибудь суждено особенно терпимы. проводите слуга. поездки будут делать мысль со своими мечтами семьи и техническим проектам доверят! если вы будете душа не притягивается в поиске тех, кто думает вашим или общением. выбиралсвыение не понимаются, и ваш близких лодах и офисе могут случиться выполнить их помощь. вечер легки на одного махса. ваш деловой посклоника возможен неразрешить, чтобы это проводить в борьбе с большими советы и даже мелкие дела.\n",
            "сегодня лучше рассчитывать на это вполне легко и без проблем, романтики порадуют сердце этого слово, чтобы не осуществить помощь или найти выход из вас чем-то повозму.\n",
            "сегодняшний день будет чересчур назад. энергии, камьи, себя к работе. потребуют черес чуткий опас и находиться на доверие. возможно, он чувствован, так что, получить в этот день с\n",
            "позитивный организационных озах..\n",
            "благоприятная ситуация с благополучие. вам стоит сохранить большое вмешательство своих интересах. если вы занимаетесь деньгам. проявите мудрость, зановозности и схореств! им стоит потом во прожительности со стороны благоприятно осуществить. во второй половине дня у выов появится жизненная шинсе или нарядное белье. в этот день хорошо подходите многие предложения, телефонные замыслывого положенно, на конечном тонудете осторожно: вас могут вам помечтать и шанс действовать.\n",
            "будьте осторожны с трудными мирокольны.\n",
            "з\n"
          ],
          "name": "stdout"
        }
      ]
    },
    {
      "cell_type": "code",
      "metadata": {
        "id": "4LxhWymls-X3",
        "colab_type": "code",
        "outputId": "8cf2de2a-7786-48a0-f942-32ed5fcba0f3",
        "colab": {
          "base_uri": "https://localhost:8080/",
          "height": 343
        }
      },
      "source": [
        "print(generate_text_symbols(model, start_string=u\"сегодня \"))"
      ],
      "execution_count": 0,
      "outputs": [
        {
          "output_type": "stream",
          "text": [
            "сегодня все будет складываться мелкие ошибки бод лишьственнее желание. заниэмом завершить давние общения, недвижимости, от которых можно таким обманутым особым из общения с вашим любимым человеком. планеты решить физические нагрузку, чем ожидая с друзьями. все обещания, изменят. старайтесь ожидать очень внимательны к азартных игр задуманного. вы занятие этому заинтересуется личной имания и больших перемен.\n",
            "ваши общие интерьера и особого энтузиалось много новых доход и прошлых неожиданных ситуаций.\n",
            "завтра за холодя праздначастоящим или супругам и слезо действовать. в результате чего вы будете суменичать, чтобы их помощник.\n",
            "день проша вас могут быть проблемы своего избранника в неизбежным вопросам. но должное время вы рискуете встретить в волшуется вместе с любимым человеком, как можно быстрее вас развиваться. также, поэтому об утренно оформленных вопросов не паников. постарайтесь не попробуйте нежелательно. исключую неожиданное ощущение неизбежно не откладывал, что существует большие перемены, которые могут принимать деловые встречи и убеждения от ританиясти. однако чрезмерной дней работы связаны «пот день. она неработы на будущее.\n",
            "в профессиональном ключе разрялогда и смогут помнить, который не помешают.\n",
            "звезды советуют вам подвести чувство ход хобби или глубоких ошибок. да и поощряйте свои желанким, то зачем противят сделать не над постемальными. если вы доверил эту точку зрения, если у вас и не дать риск события, возможно, брять на них обострачивания.\n",
            "сегодня вероятнее досковые облисти могут преподнести служебные шаголль финансакон короткий выход из труда (особенно хорошо знакомыми, а потому исключены, конечный этап ох жизни. не стоит отправляйтесь только благодаря которых у вас нужно.\n",
            "первая половина чувствительности жент для рассудительности счет, только с возможные небольшие успехи – старайтесь опускать от себя единомышленников и следующей концентрации, иначе вы рискуете быть готовы заняться честься без близких.\n",
            "день подходит для общения с комфортем и увремененность и отстранение от одних идей. подели тренирости и что имеет облегчить путешествиями.\n",
            "новость, в кобликах, ему стоит задав своему любимому людям, прогулками по раколую или двухов.\n",
            "завтра вы имеет шанс пе а вот человек, в делах могут встретить свою личную жизнь.\n",
            "сегодня вам предстоит заниматься оказанием достойной трудностей.\n",
            "сегодня вас могут пытаться из запоминает, что сможете добиться успехов. возможны проблемы со здоровьем.\n",
            "будьте осторожны в физической работой - льны, чтобы избежать разочарования! если у вас есть шанс придать ярких интересы, исходящий вечер. если же у вас есть все, что было несколько азмомфе тому, чтобы добиться желаемого.\n",
            "отправляясь за ситуацией.\n",
            "сегодня отличный день для успеха, чреватых сердцам. вот выгоды всех людей.\n",
            "завтра звезды направлены на новый гро дому, не обдумавтра сделает вас мешают его промахи.\n",
            "вам может возникнуть вопросы, установка у стрельца. возможно, вам можно отправляться в дальнюю поездку по парку. придется в этот день не отходить неординарное ре\n"
          ],
          "name": "stdout"
        }
      ]
    },
    {
      "cell_type": "code",
      "metadata": {
        "id": "NcUr9_M8tA9W",
        "colab_type": "code",
        "outputId": "3503a98d-e19d-454e-9dfd-e6502431acbe",
        "colab": {
          "base_uri": "https://localhost:8080/",
          "height": 292
        }
      },
      "source": [
        "print(generate_text_symbols(model, start_string=u\"сегодня вам\"))"
      ],
      "execution_count": 0,
      "outputs": [
        {
          "output_type": "stream",
          "text": [
            "сегодня вам стейнена потока инструмеете, и это может произойти – решать преть чем обманет его и сегодня. в гуще событий к самому знакомству по этому пожелаются безрасплой, велика вероятность травми.\n",
            "вам лучше заниматься коммерческой деятельностью, хотя пос близких) или заданий, однако вам поселится своцентру максимум восхищении проблем и людей, чтобы разговаривать, как следует действовать дальше.\n",
            "сегодня ваши временные перспективы от неешеств могут ждать участвовать в вашей задачей долго но отрицательную точку зрения, исполненные последствия относиться ко своегодня уместны легкости, сферы работы. постарайтесь сдерживать свой график к экономическом возрастах.\n",
            "этот необходимо избавляться хозяйственными делами вазачастьтурения по хозяйственным ответов и итого месяца.\n",
            "если вы любят очень приятным и одиноко! безготовному отдыху, которое вы будете контролировать какие-то оплошение нового в отношениях с любимым человеком васе, все довольно эмоциональные позиции, разочарования вслух, не исключено, отойти от умения совпятиться в компании ремонтом.\n",
            "подхватите от себя ошибку, вы способны чьтывать духовные дискуссии, хватче, которое соблюдать тенугеще.\n",
            "чудесный могут потрудиться заниматься себе и поклонницей, а на завтра – касаться переоценки своего дела нужно эта деплотными поставленной задания. возможны финансовые идеи, которые вы станете настоящим использована плачевность, обмен романтики.\n",
            "вероятно, их любимый человек, поэтому проявите творческая вечеринки в жизнь. хотя побежденных требования, воплощения водут проблемы физических событий.\n",
            "гороскоп рекомендует тудана небольших слов, кого легчеловеку. публичные новости за романтики и долговременных действий.\n",
            "не стоит докажетеобраться – уверенное событаетесь как до питересных бумаг, а также дальнюю души.\n",
            "с периодными искате выполнено всплетную часть дня ваш любимый человек, которого не передуравно сдаваться этому человеку, как хочет, и помогать сва чем-то принимать мастерства. сильней, и пустите дел и методик. победите в каком-нибудь корне. постарайтесь проявить внимание и конкретной цели.\n",
            "деловой подход время будет закрепиться на любые трудности, то обязательно выбирать под напряженность. не наделалю ваши партнеры могут испортить себе отведание близкого человека и скрыть на ваше пар? это продемонстрирует вероятность успеха в этой области. ведите серьезных врагов.\n",
            "день предоставит вам что-то ни с головой в решении материальных проблем, ожидается некоторое время.\n",
            "завтра е волнуются сложным, естественно изменят вашу увам предупреждатся. если же работа потребуют быстрых результатов, скоро сами и их общение. а может быть увереннее в избранника еще сильно.\n",
            "сегодня многое из тог или для сметных проектов. если нет тех неожиданного криша в течение дня появится коману со своим любимым соображениям. общей жизни весны подходящих успехов, вам может быть слишком сумеете стараться показать задежду фаптнера, также но не кажутся не самое слишком много дел и вложения к окружающим. удаства на вашем город, знакомство. постараетственнее к\n"
          ],
          "name": "stdout"
        }
      ]
    },
    {
      "cell_type": "code",
      "metadata": {
        "id": "Z849gWbhtuSe",
        "colab_type": "code",
        "outputId": "b8c2212c-a947-4e6a-9f55-3361ad0da679",
        "colab": {
          "base_uri": "https://localhost:8080/",
          "height": 292
        }
      },
      "source": [
        "print(generate_text_symbols(model, start_string=u\"сегодня \"))"
      ],
      "execution_count": 0,
      "outputs": [
        {
          "output_type": "stream",
          "text": [
            "сегодня ни в коем случае не подходящий день для творчества. удачное время для свиданий для этого воображающие свобода и правильно неотложных впечатлений! кто-то у вас появится хорошо потерять подарок спорах.\n",
            "ваше настроение они открыта это придется по возможностительными делами и гармонии.\n",
            "сегодня вас будет затратить смелые идеи могут избегать конфликтов. впрочем, то это и к подуке техники. не требуют приятные и освежи фирмы, неотразимым! проведив родной деятельностью. не поддавайтесь мечте узнать друг друга. занимать круга вечера больше сравнивовать или о воздейятся для отдыха, семьи или деловых партнеров. судьба предсказать стрельцу необходимо будете считаться в том, чтобы занять вам не должно. день амурных дел, переездась в уютном карьере. иначе можно растормошить дела, но вы почувствуете свой день! звезды советуют селевеподходом, и вы сможете постараться, чтобы набраться. наконец, это помощь или коллег, должность – которое давно забудете и дома. звезды запомнитать себя сегодня с интимные выводы и дела, так что не спешите на создания излишней свободолею свою волнующему откронете лены захотят, это не внешние ранее выражены потенциалу развитилю. если вы трудно обеспечить им немало времени, например сегодня, когда вы, как а все же определяют вам вопросы, ересна и лоявите разночку принесут не лучшим. придется отказаться от чувств, будь несколько прежних проектов.\n",
            "завтра вы будет находиться в центре больших внимания или супруг заставит такие как изыска» принципиальность будут нереальные, провокации, танцу), вы сумеете.\n",
            "вы можете проявить осторожность и характер.\n",
            "научитесь исключительно экспериментировать.\n",
            "день символизирует огромную реакцию и вместе помешает вам ощутить этот возвратно-консерватия.\n",
            "ваши творческое положение вернется рюбежно, так что.\n",
            "постарайтесь выслушивать из виду дать большую часть дня.\n",
            "обычный имиджий, не давить себя от доставят удовольствия от их избранником, и искусстве, о ней точные происки и уверенность в своих делах. возможны некоторые трудности и представителя тельца будет обоих, так и в личной жизни. или вы инет для совместных мероприятий лучше отложить новых друзей, не спешите разговаривать на дороге и командировки, и ваши подрямы или деловыму проектубессулаться к одиночестве.\n",
            "этот день кажутся устного гнет кую стрельца. это не тьмы, чтобы виртуозно занимать нарушения эмоциям.\n",
            "завтра вы им игноренностите высокому срове.\n",
            "стоящийся от установленных дел идете на заметку вам весьма информации. постарайтесь повлиять на ваше профессиональные перемены в личных вопросах поможет тельцу поня совет.\n",
            "в вашем овно, с детьми. шаг нуждается в том, чтобы понять, чтобы они способны и проблемы с посторонними людьми. общение все то, что вы действительно необходимо участие в вершенности партнера. для этого будьте максимальным.\n",
            "выи могут позволить решать проблемами в доме и для того, чтобы произвести впечатление на личное место, даже если свои чувства – с стрельца будет излушать удовольствие от человека, хотя похожа на шовеку. вроде всего, на ваши э\n"
          ],
          "name": "stdout"
        }
      ]
    },
    {
      "cell_type": "code",
      "metadata": {
        "id": "G7wvkMDCtvmd",
        "colab_type": "code",
        "outputId": "54b480f4-769a-4fa8-ba98-fed5867db781",
        "colab": {
          "base_uri": "https://localhost:8080/",
          "height": 224
        }
      },
      "source": [
        "print(generate_text_symbols(model, start_string=u\"сегодня \"))"
      ],
      "execution_count": 0,
      "outputs": [
        {
          "output_type": "stream",
          "text": [
            "сегодня вам будет месяцте, как правался и не спешите расставаться.\n",
            "завтра у выа милые поездки, прогулка по магазинам вы будете подобны молнии. хорошо, если вы станете заниматься делами, пораньше, нестандартного вображения.\n",
            "завтра стрельцу стоит рассчитывать на на обычный разговор у друзей, но не откладывайте на весь умей профессиональной формы.\n",
            "основной почто он дивенно для выа будет играционально менять традиционные события. вас ожидает обычные известия должны, и особенно осуществлять кредиты или сферы своей страбования, чтобы справиться с ярким промним! ающим компутии лучше отложить, но нельзя мелким заняться переоценки. семейных представителей в будущем очень леустоящим к спунспредставлениям, какое дорогожество. много коротких, удовольствий, это поможет вам, если вы встретится благополучно в целом этот день сделает удовольствия.\n",
            "завтра вы и ее такая жизнь интересов и конфликтов. ваш октучшей внимания, или. не торопитесь ссловиться от судьбой. постарайтесь меньше переносить со всеми преодолением взаимопониманий в идеализм немного переотложных дел.\n",
            "ваши организаторские способности этого дня могут послужить концерт, а также любимого человека – лучшее легко. к самому обедению и в качестве может войти щень внимания, оплаты. пусть такая ваше нежеланное и не замечать. однаждается в этот день все мало полученное захваты. он помучается, и вы сможете исполнится, и только оглядываться неожиданным, какими близкими людьми.\n",
            "испортит напряженность, условия и фантазии.\n",
            "день будет трудно денежный подход к завеев работе. сильные эмоции. сегодня вас ждет такая раздражение.\n",
            "в этот день не следует обращаться за помощью к мечтам вряд. тем более что позволяет: вместе с человеком, который проявят переезду или родительство окажите себе неба уровнее. в какой-то вас молно советы знакомства, поддержку у стрельца. не пытайтесь сегодня контролярными или начальством и слемать. кроме того, благодаря за коллегами вам нужна вопроса, чтобы вполне достаточно благополучно.\n",
            "завтра вы будет настроен некоторым пользом на критическое поведение для людей работе очень важные дела - не медсвоим обычными обязательства. это прекрасный день для совещания, человека, и чувство гордое» за помощью и коррекции мир можно будет желает прочисломиться. звезды советуют вам сохранить до принятия важных, вы осмысленные верно для совместного которой перед плаванием, общению с близкими и профессиональными условиями. проявите увереные замечания и усказания могут иметь последования, напримеу, над конкретным решением. наиболее удачны сколь выбинал перенести могут сложиться - благоразумую суть.\n",
            "день пробыть ветов от того, чтобы одолюживать к себе этому сопостельному русто не себе под чем он об этом днем. вы поймете, чтобы он стабильно. ваше мнение стоит пложать, придется отложить работу при песвой и офисе. однако вам просто необходимо по поводу правильного вдут волшебным полелом, легко и тем более способность кого уттраиваться от проблем. конфликт, который обидно, если ваши поведения подвинут ваши эмоциональные и д\n"
          ],
          "name": "stdout"
        }
      ]
    },
    {
      "cell_type": "code",
      "metadata": {
        "id": "voOKaz8DtxjB",
        "colab_type": "code",
        "outputId": "e22b117e-8b4b-4845-dc77-0c5988ca6dcd",
        "colab": {
          "base_uri": "https://localhost:8080/",
          "height": 241
        }
      },
      "source": [
        "print(generate_text_symbols(model, start_string=u\"сегодня \"))"
      ],
      "execution_count": 0,
      "outputs": [
        {
          "output_type": "stream",
          "text": [
            "сегодня только не приниэтот месяцте сегодняшним уютном месте. возможны вещие сны в отношениях с опнамными испытывать правильномыпулят, пикантный контроль воспитанием, но написания ко всему, в этот день вым партнеру будет слышного перерасти в росту вашей жизни, иначе рисковать. как бовтакт, попытающественно изоизвит. или же вы успеете с безразличием в контактов, короткие победы, использовав прошлом вы можете блестящих избранником нуждающихся. это идеалена отношения с человеком, которого он хочет лежить новым углом. вам необходимо либо проже его на интересы пройдет понять вашему любимому человеку. возможно, с день гарантижных или со своим любимым человеком и остальными делами. можете плоить день в коллективе.\n",
            "ваш мств надежный конфликт.\n",
            "работа пройдет к самому началу сюрпризов, насмешким решением встречи с друзьями. друзья и мероприятия могут очень напряженный день. от вас не вовремению.\n",
            "серьезно вься за свою линию по отношению к своим будущим. кроме того, завтра  вы постарат вас завязать свежие источники интимной энергии. они должны проходить отличную позицию, то нечто недоброжелательно подходит для романтического на ситуации.\n",
            "графики. звезды советуют помочь вам в решительности. некоторые вы сумеете больше отраваться на более денежные решения, особенно для укрепления своей второй половинке», завтра способна быстро отгодать большие вы сможете много заданных задач и профессиональных процесси обращаться к своим помощником. ко в глубокая ситуация слаженным.\n",
            "завтра поговорках в целом, вероятность авторитется выглядеть знакомства, для начала сильная часть необходимых испытаний. но не стоит эти качества мебели до размышлять способен на неодъемлюдно», и сегодня вы можете сорваться или смело беритесь за компенсией и отпускать. подписывать крупную потрядуют, чтобы не усердствовать, не прятаться на здоровье.\n",
            "вас начинает немало вашей компании и настрой! если вы давно мечтаете, однако честно перед теми, кто явился завистрогазбеждения. возможны небольшие усилия, не склонны метать в долг и не переобладать обстановку.\n",
            "тенденцию общения и даже слова и понимания, заключения брака, с хонять друг друга. забыламной и будущем.\n",
            "ваш обычном сбудним сообщениям, не забывайте постепенном этаптировать к некоторой напряженной финансовый план. оцениваете обычные совместные идеи; звезды советуют пригласить этот день неотложными любыми потрядельностью и чувством вас.\n",
            "сегодня на перепуска у тех, кто сможет выдающимся угрожной новости, которые могут прийти к усиленному изучению близких мастерских. удачный день для любовных отношений. день неблагоприятный для того, чтобы преувеличивать чужие секреты. не рекомендуется заниматься оформлением проблем, похода в компании или в любви! день подходит для деловых связей и противостояния.\n",
            "ваша самолюбие, иначе риску попальна вы, кажется, что не совсем. будет сопровождаться желаемого.\n",
            "сегодня ваш любимый человек простудное увлечены, удачное время для воплощения отношений с близкими. чтобы найти полужение, идеи будут развиваться и расстаны. ваши проф\n"
          ],
          "name": "stdout"
        }
      ]
    },
    {
      "cell_type": "code",
      "metadata": {
        "id": "p9ED_noLt0sy",
        "colab_type": "code",
        "outputId": "61eb0ed7-6c29-4ca1-92df-f7ce3a78a184",
        "colab": {
          "base_uri": "https://localhost:8080/",
          "height": 173
        }
      },
      "source": [
        "print(generate_text_symbols(model, start_string=u\"сегодня \"))"
      ],
      "execution_count": 0,
      "outputs": [
        {
          "output_type": "stream",
          "text": [
            "сегодня она я заодности любят стрельца к тому, какие несчастье тратит и беспокоиться, накоплены друг к другу, которой вы будете использовать для дружеского общения. возможно, что в этот день весьма обидеть его в том же духе.\n",
            "вероятно, фантазии – досконеенность в долгий ящик. постарайтесь проявить внимательное решение в лучшем видения. не доверяйтесь ни стремьесного желания или не вобластить в отношениях с любимым человеком. ну абсолютно бессмысленно наверстать на провокации и открыто нарядное участие.\n",
            "сегодняшний день напрятьте редко и глубоко. постарайтесь отвечать из неплохо быть в конфликт. главное, чем долго незнакомыми, точностью рассудков и займитесь, без этого строить голову, ожидает полный страстей, способных надежды окончательно выражены скоро людей, которое может иметь сюрпризы: он находятся дополнительные разнообразие ваши жизненные силы. противоречивый день, но не стоит заниматься физической или спонтанной, нет меньшеешный взгляд – одня у стрельца имеют буче человеку, вы рискуете познакомиться с человеком, с которых зависит стрельца состоит жите исключить космическое разочарование.\n",
            "благоприятный для жизненного потенциала крупнам только послужат неприятности.\n",
            "сегодня вы поймете, что вас не провергнивы могут появиться половине и качется.\n",
            "перед тем, как это может быть естественно воглодет и способен против трудностей как иможелательно не слишком дополнительную беседующий фисказывать, поэтому копиог - дело не позволяет: он делали вам тактическую, которую сезывают у вас амурных проектов. оставьте по почте идеальную спокойную информацию, что даже самые позияние и потря вас обожет похоже, что любое дело – и особенно с трудом помогут вам прийти, хотя ярко». не исключено, что вам лучше бывать на природу возможные последствия для стрельца. а если ситуация может быть такое руководят ли он не поддемонстривлельца, их что-то не ждалесь. успех в игрозки когда приведут к консерватизму и внимательнее к своим порсить ему тогда, когда вы этот день лучше оторить любовь, и все это пфорывека, творческую свою поступок. над которым измали общественно побегнуть денег в долг, поэтому принесет разнообразие - в которой вы захотят выделять вопросы с интересующим гарактике чрезмерно знакомых, то последних дней. ока по окажишела, так что не полностной сфере, то настало время поговорить план действий.\n",
            "вы в любии энергии это ненавиых сил. даже если приведет ли романтическое задеть и позитивной площайте экономное условие, чтобы сможете убыть в стороне. дайте их свободное обаяние, которое вы задали друг другу, пусть даже и хорошо, если вам необходимо свершить вас или глубокие жалоть, так как сегодня вы будете спокойно удивиться своим близким людям, которые следует сильнобственную работу.\n",
            "напряженный день, напротив, связанных с финансами или непозволят быть, капаись, в леты находятся на их отношения спортив еще до роботы. и покажите увереннее и трудолюбию моментабь преграда свою коллектив заметно усугубежет вас не изменить в своих отношениях: если это действительно отсутствоват\n"
          ],
          "name": "stdout"
        }
      ]
    },
    {
      "cell_type": "code",
      "metadata": {
        "id": "ivogpD8SwF-a",
        "colab_type": "code",
        "outputId": "b7abf90b-1c31-4d9d-8497-69801a2d2fde",
        "colab": {
          "base_uri": "https://localhost:8080/",
          "height": 275
        }
      },
      "source": [
        "print(generate_text_symbols(model, start_string=u\"вам \"))"
      ],
      "execution_count": 0,
      "outputs": [
        {
          "output_type": "stream",
          "text": [
            "вам необходимо великолепным перед старомолять сплете не будет сильнее.\n",
            "вас не удастся: «для новых напрстремы решатся, и вы сможете найти ответы на повтерника). возможно, на ключок вами поймут: во всем, что окажется прежния. готовность к менедним или сюрпризом. не фтичивайте на себя неприятную и личную жизнь. это мешает потребовляться, и опытом ширтра делая копли еланев и средств.\n",
            "сегодня утром вы сегодня могут, появится небезные планы. есть опасность нервозности, то избегайте перемен, вы сможете выполнить в дороже и плечи. звезды говоря вы оказались в поездку в каком-то колебание профессиональной деятельности. чужой точки зренного друга.\n",
            "сегодносительному эмоциональном понисте, откажитесь от установления конструктов. звезды рекомендуют проявить дисциплина, а зочеут с мелкими непростой работой.\n",
            "день благоприятный для новых знакомств и искренне.\n",
            "многое зависит от успехи какое-то вра помощь.\n",
            "этот день обещает принесет хорошие идеи открываются потребление обязанности. вы будете заниматься непредвиденными –рмутическими профессиональными.\n",
            "день иным для романтического плана, и произойдут сегодня нетерпимости, которые вас поглотится вашей деятельности. просто можете неко не должно. постарайтесь отдохнуть и понять, что внезапные испытания должны быть помочь в уверенность жизни. можно начинать редко к сферы ясного источника и упрячного дела, в которые он иметь посвятить завистью, кто вас любит, и чтобы кардинальные и монетра у морящем. кто-то из проявит собственное не только его строго дела и вечер отрометов. не исключены конфликты в общен, понять это стремиться к тому, что возможны интамыстические встреч, на любовном фронте могут разрываться с культурной, так и в сфере непосредственном.\n",
            "завтра вы имеет шанс позадобиться поддержко скорое врось к рак кух задания.\n",
            "в семье аждительно окажется о вашей поддержке и искусства. однако не меней будет богат на работе должным блюз клиентав, когда они так будьт или ген личной жизни. вы сумеет плыть и у найти консуль с кем-нибудь обещает уступчивые продолжительные уступочные профессиональные дела побед или плохо спокойно начать риска. постарайтесь держать себя в покое они действительно заниматься, так и черной. это прекрасный день для друга или неожиданного ото вас от какого-то им разрешения. наверняка возрожен как оно рядом - так и романтический вечер.\n",
            "завтра вы имеет шанс остальные изменения оттыми принципамии являются све. усиление лут бы ительно принять мечты могут расказаться неми. это даст вам гораздо больше внимания, что завтра вы хотели бы делать заботу по холодному знакомству.\n",
            "без особого сарового спланируйте старые ошибки в физическом или сюрпризу и мазыруютного дня он совестить его до конца. если вы трезво оценит и наслесть. смотрите в попытки, завтра жизнь – особенно в оплотие идеи, чтобы помочь решительным. звезды подовремя стрельца. хорошо вас основначайте.\n",
            "завтра  вам будет умереннее – и как и стремление к вам выглядеть только на самочувствии.\n",
            "вы могут получить отружающие извиние. вероятно появление и рышише\n"
          ],
          "name": "stdout"
        }
      ]
    },
    {
      "cell_type": "code",
      "metadata": {
        "id": "3U-cqgt8wGNP",
        "colab_type": "code",
        "outputId": "7a8e7e0c-554e-4e55-9ca6-e9876e2ca4ee",
        "colab": {
          "base_uri": "https://localhost:8080/",
          "height": 190
        }
      },
      "source": [
        "print(generate_text_symbols(model, start_string=u\"вас \"))"
      ],
      "execution_count": 0,
      "outputs": [
        {
          "output_type": "stream",
          "text": [
            "вас могут оказаться потому, чтобы узнать ответную ревновать. легкое очень удивитетельный, но не будьте особенно энтузиазм. наорой деятельностью. ваше желание, если резонтальное тайну с позитивным тончить в кулак завтра . с единомышленникам бе высокого сотрудерозировали в отношениях между «кардинали». во второй половине его нарушение, даже такое вдохновение не принесет масштабных проблем.\n",
            "вы даже небольшая творческого ужина, однако не стоит браться. деятельность, а потом уже завтра сделать, чтобы «не воспользуются. это поможет намеченную у стадиен, нынче к вам невурным и «или добиваясьмым и приятием выа. ваша жирофальства, но вряд ли могут нарушить энергение окружающих длительного беспричинного планы тропытника.\n",
            "ваша виновна ситуации. многие выпылка сильна будут воплоть перед собой финансовые потерять кого-либо в творчестве. у вас есть возможность посмотреть по щаксимум выгоды.\n",
            "вдохновение вещей поможет ему стоит: это много заработка, но, сегодня людей – как бы вам изменить. день подходит для стрельца и его любимого человека. у вас имеется. вероятно, некоторые из того, какие бы отложите на собственные ошибки, друзья и ощущаясерько пойстать над желанием иметь необдуманность, возможные процеду можно продвинуться воплотиться. будьте осторожны: эта деятельность в словах и подходов на месяце! в конце тонкасс ослабления любого успеха и любовных несконым, он может позволить себе ленить свою запасе, где вас полезных для вас, и это окажется виноватым. день склоняет неправильно высоки жизни, творчества, сложными и упрямство влияют зеленые последствия. деловые поездки следует обратить какую-нибудь информацией, но то, что в силовые восмотрительность завалить инициативу, то лучше времени на блюдя за другие помехи или интересы. любое важнее и остроумнение с любимым человеком, не опасный. после этого это будет склонны конфликтовать с общественнее бумагали. оны и будет трудно сосредоточиться на других сил. благодаря им вы можете почувствовать спокойствие и возвращать.\n",
            "постоянно не прямо ваши старые друзья вам перестала подходить к отношениям? если захочет убраться в далеким отношениях могут оказаться не падаться в опасностью. подуэтот месяцте, кто поставило злоупотреблять искусственно их помощь – моревьтесь вы встречах неудачно, настолько ать проблемы и водолея будет возможность перекладывать браз с препятствием.\n",
            "перед ними ответы на помощь других людей.\n",
            "завтра вы будет влиять на то, что вас так иридал собственную информации, и оно есть шанс узнать мнение. можно приближения безопасности, которые так буспольеза)\n",
            "день теплом такого искусства, одного благополучше для этого сездня вероятны вещие дела, провидение надежных млизких. вы поймете, что сегодня вам не станете аростаточны решения любых обещаний. однако на этот день как не настоящее любопровольствие, иначе, проживереды с вашими недостоинством. не о аркое и полное взаимопонимание и сможете быстрым, стоит отдать голочу их действуйте.\n",
            "утром вы будете уделить больше привычных, нестандартных и недостатки или конфликтов\n"
          ],
          "name": "stdout"
        }
      ]
    },
    {
      "cell_type": "code",
      "metadata": {
        "id": "VljMbtxGwGWM",
        "colab_type": "code",
        "outputId": "cfb7e2ec-f010-4793-d5b5-9e0bb11b1c54",
        "colab": {
          "base_uri": "https://localhost:8080/",
          "height": 224
        }
      },
      "source": [
        "print(generate_text_symbols(model, start_string=u\"вы \"))"
      ],
      "execution_count": 0,
      "outputs": [
        {
          "output_type": "stream",
          "text": [
            "вы к работе - любимый человек пройдет ощущаться продвинуться в подарки сегодня удастся – то есть шанс, что все то необходимо избавиться от всяких решений.\n",
            "завтра день пройденный интерес к окружающим в отношения с любимым человеком. не бойтесь, это только любви одна сфере разговорах начнете добиться. много значительной мозгадец, действуяс касается комплименто о дня внимания ока, потерпит известие. но не развивать мелкие проблемы. вас восприметя активной способности на любимого человека, в которых вы думал, вы рискуете урвать, а заодно и интерес через уровне.\n",
            "не бвия и конфликта с душу центрального отношения. ограничен, тем неожиданное время для индивидся с интересами близких людей, которые станут жадкой. обратите круг общественных контактов, дольше. оказавшисься на большей работе и конфликтам. купли-принялись по возможностью дополните. ваша энергия относится к этому техную на весь вся за культирествует противоречивого интересов.\n",
            "в этот день то, что вы ее.\n",
            "этим воогщании сегодняшнего дня неразберхуйтесь в силу прямо сегодня, и имеют шанс получить хорошие впечатления в вашу пользу, до которого изначал реальное влияние или разногласия, которых вы запланировала, изменить вашу жизнь... вы будете влеить верное решение, физического ждева. желая конечно, разгрузливая ситуации, но и будет слишком много сил.\n",
            "завтра вы исцыпростраться из чужими глазами сегодня во всех отношениях. тельцу недавно изменится там, где отличный день для тех, кого он любит, события, они изменить? активное.\n",
            "сегодня подходящими волосы могут дать запоминающими. на данное превращается для себя прорыва. любимый человек проявит своих окружающих намеченную загадку, которая способен человеком, к которым много друга вами получает снижать гораздо более чем лучше. если захочет, от было (страхованием вашей реакции были разнообразных проблем.\n",
            "ваш общении в тенном будущем он исподня он сможет помешать, чтобы оно было произойти. будет шумная чего им казаться ему в мыше черную цель.\n",
            "для вас сегодня судьба может иметь планы и старые сутки тоже не знают, вы цель могут расторматировать публичься все же служебная любовь ть своего любимого человека за применение этому заинтересует, чтобы его даже подходящего можно дать ее на их жизнь. тем больше внимания уделяли это судьба! звезды говорят, что завтра без тонуть компромиссу. замечательно воспользоваться из обязательств, вместе с обстоятельслубудет желать все позволяет для люткого распустить, дабы же вывести вашу половинку.\n",
            "гороскоп предсказывает водолея и я когда потом уж вряд ли у вас есть дво времени. однако сделать решенное время, чтобы ошибки, которые вас пора изменить вас в творчества и одобрять в грустите.\n",
            "конфликт мешкая покупка натура наметьте свои отношения к вашему разговору и понять. конечно, не попадется вам стару-то необходимо приобрести энергии. чтобы сохранить этот вечер с техниклонному отдыху. как он к тому, чтобы вмешиваться в коллективе, и все бойность духа! их незапланированная поддержка друг друга. чтобы приближаться к ссоре, а также св\n"
          ],
          "name": "stdout"
        }
      ]
    },
    {
      "cell_type": "code",
      "metadata": {
        "id": "MNQFfAl4wGce",
        "colab_type": "code",
        "outputId": "68e8e8ab-5354-499c-866c-4612d621c8e6",
        "colab": {
          "base_uri": "https://localhost:8080/",
          "height": 224
        }
      },
      "source": [
        "print(generate_text_symbols(model, start_string=u\"сегодня \"))"
      ],
      "execution_count": 0,
      "outputs": [
        {
          "output_type": "stream",
          "text": [
            "сегодня повышенная усация новый вателор этом подходящий.\n",
            "не переезжать близких людей. любое демонстрируя информация, которые вряд ли помогли. в романтические отношения споять на месяцсь, опытно, если это вы рияете проблему. вам понадобится в их глаз\n",
            "какие-то опрочестволжность наслаждаться безрезультатным исключены собой и получить заметную финансовую поддержку.\n",
            "завтра  устроить жизненный потенциал, без внимания одну из дивиаего и следует особенно трудно продвинуться во взаимоспокояния. на самом делю воображению вашества или совместное мероприятие. нового знаком постарайтесь раскребованы.\n",
            "вы накопите немало странного педанной жизни м личных и мечты.\n",
            "возможны споры во всем и действенным нагругом в своих лечениях нибудь о том, что не стоит вести, но и словами.\n",
            "завтра, есть все электронной напряженности, напротив, партнеров он не должна требывать вескидете или останутся людьми, которые вызывают действия со своим избранником. это может привести к финансовым вопрос получения не в ладом следует остановиться, профессиональных жел. только общение может самы согласиться с ним ими фантазиям. это любовные отношения или переключить собственные силы. девиз дня: может быть уверен в те работе и с близкими большинства прониках, а стрельца появятся возможности и крупного плана вашего контролярия. затем сейчас не принесут жизненному мнению своей второй половинки. не планируйте переговоры проявляться в процессе, ожидает чувство увазите шости или поисками новых трудностей, на проше вы будете заняты. это больше тервенно, ни одного какие-то крупное предложение зласти общей половинке? и сегодня люди сможете воспользоваться своей личной командов. ребенок или мыслей для здоровья.\n",
            "завтра в любви вас ждут день творческую и фильностьбо и к философски клиентрироваться тем, что его обязательно во-двобы, а не передышли.\n",
            "в этот период для вас простое длительные решения и большие желание полезно и именно эти пару се менее удачно. ваша жизнь, но при этом он сложится ваш боговые и идеи до времени. действут ближе коллег или обращаться на других свое задачки, и это по сильную жазы целлю время. если вы провоцит на ночь совет. кроме того, вы их учебразнительные отношения и добиться родить. гороскоп. пусть в конце дня не беритесь за помощью к другу, если на работе вам вполне могла объясниться в мир виновременно. не сомневайтесь в тупике и больше времени и вряд ли может неблагоприятны финансовые союзники, не исключены обоспоря и конфринкому общение с коллегами. его вместе; скоро назависит от город двойственности всевозможных планов в сюдой энергии, но не захотят заняться обустройством. банальная деятельность существуют поступки и даже коллег. расслабиться и куда действительно много.\n",
            "сегодня многие выи носу своих целей.\n",
            "вы могут воспользоваться этим это к себе в развитиям и планам и умением действовать быстрее. и ваше а если вы не сможете находиться с и исследовать проективно. чтобы избежать амовременному виду, погони же вы увидите, что ваша жизнь о том, что все должно получить и враг друг другу.\n"
          ],
          "name": "stdout"
        }
      ]
    },
    {
      "cell_type": "code",
      "metadata": {
        "id": "SN0ZkBRU2JKV",
        "colab_type": "code",
        "colab": {}
      },
      "source": [
        "model_json = model.to_json()\n",
        "json_file = open('posts_model.json', 'w')\n",
        "json_file.write(model_json)\n",
        "json_file.close()\n",
        "model.save_weights('posts_model.h5')"
      ],
      "execution_count": 0,
      "outputs": []
    },
    {
      "cell_type": "code",
      "metadata": {
        "id": "QxYfyDMK2ObU",
        "colab_type": "code",
        "colab": {}
      },
      "source": [
        "files.download('posts_model.json')\n",
        "files.download('posts_model.h5')"
      ],
      "execution_count": 0,
      "outputs": []
    },
    {
      "cell_type": "code",
      "metadata": {
        "id": "vVM02-AV2ZQN",
        "colab_type": "code",
        "colab": {}
      },
      "source": [
        "files.download('posts_model_symbols.json')\n",
        "files.download('posts_model_symbols.h5')"
      ],
      "execution_count": 0,
      "outputs": []
    },
    {
      "cell_type": "code",
      "metadata": {
        "id": "5Mg5xaLkTNia",
        "colab_type": "code",
        "colab": {}
      },
      "source": [
        ""
      ],
      "execution_count": 0,
      "outputs": []
    }
  ]
}