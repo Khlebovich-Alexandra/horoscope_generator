{
 "cells": [
  {
   "cell_type": "code",
   "execution_count": 1,
   "metadata": {},
   "outputs": [],
   "source": [
    "import re\n",
    "from itertools import combinations\n",
    "\n",
    "import numpy as np\n",
    "import pandas as pd\n",
    "from textdistance import jaccard\n",
    "import matplotlib.pyplot as plt\n",
    "import seaborn as sns"
   ]
  },
  {
   "cell_type": "code",
   "execution_count": 14,
   "metadata": {},
   "outputs": [],
   "source": [
    "class CleanText:\n",
    "    def __init__(self, filepath):\n",
    "        self.filepath = filepath\n",
    "        self.posts = self._read_file()        \n",
    "        self.months = ['января', 'февраля', 'марта',\n",
    "                       'апреля', 'мая', 'июня',\n",
    "                       'июля', 'августа', 'сентября',\n",
    "                       'октября', 'ноября', 'декабря']\n",
    "        self.stage = 0\n",
    "        \n",
    "    def find_word(self, phrase):\n",
    "        for word in self.months + ['на завтра', 'Завтра']:\n",
    "            if word in phrase:\n",
    "                return True\n",
    "        return False\n",
    "    \n",
    "    def get_date(self, phrase):\n",
    "        date = None\n",
    "        for month in self.months:\n",
    "            if month in phrase:\n",
    "                regexp_date = r'[1-9]?[0-9][ \\t]+' + month\n",
    "                pattern = re.compile(regexp_date, flags=re.I)\n",
    "                tmp = re.findall(pattern, phrase)\n",
    "                if len(tmp) > 0:\n",
    "                    date = tmp[0]\n",
    "        return date\n",
    "    \n",
    "    def _read_file(self):\n",
    "        fileObject = open(self.filepath, 'r', encoding='utf-8')\n",
    "        posts_read = fileObject.read()\n",
    "        posts_read = posts_read.replace(u'\\xa0', u' ')\n",
    "        posts_read = posts_read.split('\"\\n')\n",
    "        posts = pd.DataFrame(posts_read, columns=['text'])\n",
    "        posts['length'] = pd.DataFrame(map(lambda x: len(x), posts_read))\n",
    "        return posts\n",
    "    \n",
    "    def _replace_unnecessary_chars(self):\n",
    "        self.posts.text = self.posts.text.map(lambda x: x.replace('\"', ''))\n",
    "        return self.posts\n",
    "        \n",
    "    def _drop_not_daily_horoscope(self):\n",
    "        self.posts.drop(self.posts[~self.posts.text.map(self.find_word)].index,\n",
    "                        inplace=True)\n",
    "        self.posts.drop(self.posts[~self.posts.text.map(lambda x: False \n",
    "                                         if 'ЗОДИАКА' in x else True)].index,\n",
    "                   inplace=True)\n",
    "        self.posts.drop(self.posts[~self.posts.text.map(lambda x: False \n",
    "                                         if 'ГОРОСКОП' in x else True)].index, \n",
    "                   inplace=True)\n",
    "        self.posts.drop(self.posts[~self.posts.text.map(lambda x: False \n",
    "                                        if 'ЗНАК' in x else True)].index, \n",
    "                   inplace=True)\n",
    "        self.posts.reset_index(inplace=True, drop=True)\n",
    "        return self.posts\n",
    "        \n",
    "    def _make_date(self):\n",
    "        self.posts['date'] = self.posts.text.map(self.get_date)\n",
    "        return self.posts\n",
    "    \n",
    "    def _drop_long_text(self):\n",
    "        self.posts.drop(self.posts[self.posts.length > 3000].index,\n",
    "                        inplace=True)\n",
    "        self.posts.reset_index(inplace=True, drop=True)\n",
    "        return self.posts\n",
    "    \n",
    "    def get_modified_df(self, num_steps='all'):\n",
    "        if num_steps == 'all':\n",
    "            num_steps = 4\n",
    "        list_of_actions = [self._replace_unnecessary_chars,\n",
    "                           self._drop_not_daily_horoscope,\n",
    "                           self._make_date,\n",
    "                           self._drop_long_text\n",
    "                          ]\n",
    "        if num_steps < self.stage:\n",
    "            self._read_file()            \n",
    "        for i in range(self.stage, num_steps):\n",
    "            list_of_actions[i]()\n",
    "            \n",
    "        return self.posts      "
   ]
  },
  {
   "cell_type": "code",
   "execution_count": 15,
   "metadata": {},
   "outputs": [],
   "source": [
    "def separate_types(posts):\n",
    "    posts_new = pd.DataFrame(columns=list(posts.columns) + ['type', 'index in posts'])\n",
    "    pattern_simple = re.compile(r'(?:(.*?[0-9]{1,2}.*|Гороскоп на завтра.*)\\n+|^Завтра)(.+)')\n",
    "    pattern_bus = re.compile(r'(Бизнес[^а-я].+|Финансовый.+)\\n+(.+)')\n",
    "    pattern_lov = re.compile(r'(Любовный.+)\\n+(.+)')\n",
    "    for i in posts.index:\n",
    "        post = list(posts.loc[i])\n",
    "        find_simple = re.findall(pattern_simple, post[0])\n",
    "        find_bus = re.findall(pattern_bus, post[0])\n",
    "        find_lov = re.findall(pattern_lov, post[0])\n",
    "        is_used = False\n",
    "        if len(find_bus) > 0:\n",
    "            posts_new.loc[len(posts_new)] = [find_bus[0][1]] + post[1:] + ['business', i]\n",
    "            is_used = True\n",
    "        if len(find_lov) > 0:\n",
    "            posts_new.loc[len(posts_new)] = [find_lov[0][1]] + post[1:] + ['love', i]\n",
    "            is_used = True\n",
    "        if len(find_simple) > 0:\n",
    "            can_use = True\n",
    "            if len(find_bus) > 0:\n",
    "                if find_simple[0][0] == find_bus[0][0]:\n",
    "                    can_use = False\n",
    "            if len(find_lov) > 0:\n",
    "                if find_simple[0][0] == find_lov[0][0]:\n",
    "                    can_use = False\n",
    "            if can_use:\n",
    "                posts_new.loc[len(posts_new)] = [find_simple[0][1]] + post[1:] + ['simple', i]\n",
    "                is_used = True\n",
    "        if not is_used:\n",
    "            posts_new.loc[len(posts_new)] = [None] + post[1:] + ['non', i]\n",
    "    return posts_new"
   ]
  },
  {
   "cell_type": "code",
   "execution_count": 2,
   "metadata": {},
   "outputs": [],
   "source": [
    "domains = ['ribyhoroscop', 'devahoroscop', 'levhoroscop',\n",
    "           'rakhoroscop', 'bliznetsihoroscop', 'ovenhoroscop',\n",
    "           'telechoroscop', 'scorpionhoroscop', 'vodoleihoroscop',\n",
    "           'kozeroghoroscop', 'vesyhoroscop', 'strelechoroscop']\n",
    "stop_emoji = ['♓ Рыбы', '♍ Дева', '♌ Лев',\n",
    "              '♋ Рак', '♊ Близнецы', '♈ Овен',\n",
    "              '♉ Телец', '♏ Скорпион', '♒ Водолей',\n",
    "              '♑ Козерог', '♎ Весы', '♐ Стрелец']\n",
    "stop_love = ['Рыбы. ❤', 'Дева. ❤', 'Лев. ❤',\n",
    "             'Рак. ❤', 'Близнецы. ❤', 'Овен. ❤',\n",
    "             'Телец. ❤', 'Скорпион. ❤', 'Водолей. ❤',\n",
    "             'Козерог. ❤', 'Весы. ❤', 'Стрелец. ❤']\n",
    "stop_simple = ['Рыбы', 'Дева', 'Лев',\n",
    "              'Рак', 'Близнецы', 'Овен',\n",
    "              'Телец', 'Скорпион', 'Водолей',\n",
    "              'Козерог', 'Весы', 'Стрелец']"
   ]
  },
  {
   "cell_type": "code",
   "execution_count": 75,
   "metadata": {
    "scrolled": true
   },
   "outputs": [
    {
     "name": "stdout",
     "output_type": "stream",
     "text": [
      "Done ribyhoroscop\n",
      "Done devahoroscop\n",
      "Done levhoroscop\n",
      "Done rakhoroscop\n",
      "Done bliznetsihoroscop\n",
      "Done ovenhoroscop\n",
      "Done telechoroscop\n",
      "Done scorpionhoroscop\n",
      "Done vodoleihoroscop\n",
      "Done kozeroghoroscop\n",
      "Done vesyhoroscop\n",
      "Done strelechoroscop\n",
      "Wall time: 1.79 s\n"
     ]
    }
   ],
   "source": [
    "%%time\n",
    "posts_old = []\n",
    "for domain in domains:\n",
    "    posts = CleanText('Data\\\\horoscope_' + domain + '.txt')\n",
    "    posts = posts.get_modified_df()\n",
    "    posts_old += [posts]\n",
    "    print('Done ' + domain)"
   ]
  },
  {
   "cell_type": "code",
   "execution_count": 76,
   "metadata": {},
   "outputs": [],
   "source": [
    "def delete_text_using_domain(zip_values):\n",
    "    posts_text = zip_values[0].text\n",
    "    stop_emoji = zip_values[1]\n",
    "    stop_simple = zip_values[2]\n",
    "    pattern = re.compile('\\n *'+stop_simple+r' *\\n', re.I)\n",
    "    stop_love = stop_simple+'. ❤'\n",
    "    pattern_date = re.compile('\\n *[1-9]?[0-9] +[а-я]+ *\\n', re.I)\n",
    "    res_emoji =  list(map(lambda x: x.replace(stop_emoji, '') \n",
    "                          if stop_emoji in x else x, posts_text))\n",
    "    res_love =  list(map(lambda x: x.replace('\\n'+stop_love, '') \n",
    "                         if '\\n'+stop_love in x else x, res_emoji))\n",
    "    res_simple = list(map(lambda x: re.sub(pattern, '\\n', x), res_love))\n",
    "    res = list(map(lambda x: re.sub(pattern_date, '\\n', x), res_simple))\n",
    "    return res"
   ]
  },
  {
   "cell_type": "code",
   "execution_count": 77,
   "metadata": {},
   "outputs": [
    {
     "name": "stdout",
     "output_type": "stream",
     "text": [
      "Wall time: 628 ms\n"
     ]
    }
   ],
   "source": [
    "%%time\n",
    "res = list(map(delete_text_using_domain, zip(posts_old, stop_emoji, stop_simple)))\n",
    "\n",
    "for text, old in zip(res, posts_old):\n",
    "    old.text = text"
   ]
  },
  {
   "cell_type": "code",
   "execution_count": 78,
   "metadata": {},
   "outputs": [],
   "source": [
    "def replace_space_newline(x):\n",
    "    while '\\n \\n' in x:\n",
    "        x = x.replace('\\n \\n', '\\n\\n')\n",
    "    return x"
   ]
  },
  {
   "cell_type": "code",
   "execution_count": 79,
   "metadata": {},
   "outputs": [
    {
     "data": {
      "text/plain": [
       "text      Любовный гороскоп\\nХороший день. Самое главное...\n",
       "length                                                  235\n",
       "date                                                13 июля\n",
       "Name: 933, dtype: object"
      ]
     },
     "execution_count": 79,
     "metadata": {},
     "output_type": "execute_result"
    }
   ],
   "source": [
    "posts_old[0].loc[933]"
   ]
  },
  {
   "cell_type": "code",
   "execution_count": 80,
   "metadata": {},
   "outputs": [
    {
     "name": "stdout",
     "output_type": "stream",
     "text": [
      "Wall time: 43.6 ms\n"
     ]
    }
   ],
   "source": [
    "%%time\n",
    "for posts in posts_old:\n",
    "    posts.text = list(map(replace_space_newline, posts.text))"
   ]
  },
  {
   "cell_type": "code",
   "execution_count": 81,
   "metadata": {
    "scrolled": true
   },
   "outputs": [
    {
     "name": "stdout",
     "output_type": "stream",
     "text": [
      "Done ribyhoroscop\n",
      "Done devahoroscop\n",
      "Done levhoroscop\n",
      "Done rakhoroscop\n",
      "Done bliznetsihoroscop\n",
      "Done ovenhoroscop\n",
      "Done telechoroscop\n",
      "Done scorpionhoroscop\n",
      "Done vodoleihoroscop\n",
      "Done kozeroghoroscop\n",
      "Done vesyhoroscop\n",
      "Done strelechoroscop\n",
      "Wall time: 3min 51s\n"
     ]
    }
   ],
   "source": [
    "%%time\n",
    "posts_new = []\n",
    "for domain, posts in zip(domains, posts_old):\n",
    "    posts_new += [separate_types(posts)]\n",
    "    print('Done ' + domain)"
   ]
  },
  {
   "cell_type": "code",
   "execution_count": 82,
   "metadata": {},
   "outputs": [],
   "source": [
    "for old, new, domain in zip(posts_old, posts_new, domains):\n",
    "    old.to_csv('Data tmp\\\\old_' + domain + '.csv')\n",
    "    new.to_csv('Data tmp\\\\new_' + domain + '.csv')"
   ]
  },
  {
   "cell_type": "code",
   "execution_count": null,
   "metadata": {},
   "outputs": [],
   "source": []
  },
  {
   "cell_type": "code",
   "execution_count": 50,
   "metadata": {},
   "outputs": [
    {
     "name": "stdout",
     "output_type": "stream",
     "text": [
      "Wall time: 1.82 s\n"
     ]
    }
   ],
   "source": [
    "%%time\n",
    "posts_old = []\n",
    "posts_new = []\n",
    "for domain in domains:\n",
    "    posts_old += [pd.read_csv('Data tmp\\\\old_' + domain + '.csv', index_col=0)]\n",
    "    posts_new += [pd.read_csv('Data tmp\\\\new_' + domain + '.csv', index_col=0)]"
   ]
  },
  {
   "cell_type": "code",
   "execution_count": 51,
   "metadata": {},
   "outputs": [],
   "source": [
    "def print_bad_rows(posts_new=posts_new, posts_old=posts_old, domains=domains):\n",
    "    ind = 0\n",
    "    for new, old, domain in zip(posts_new, posts_old, domains):\n",
    "        bad_rows = new[new.text.isna()]\n",
    "        print(str(ind) + ' ' + domain, ' - ', len(bad_rows))\n",
    "        if len(bad_rows) > 0:\n",
    "            for i_old, i_new in zip(bad_rows['index in posts'], bad_rows.index):\n",
    "                print('_______________________________________')\n",
    "                print('old - ', i_old, ', new - ', i_new)\n",
    "                print(old.loc[i_old].text[:200])\n",
    "        print('****************************************************')\n",
    "        print()\n",
    "        ind +=1"
   ]
  },
  {
   "cell_type": "code",
   "execution_count": 52,
   "metadata": {
    "scrolled": true
   },
   "outputs": [
    {
     "name": "stdout",
     "output_type": "stream",
     "text": [
      "0 ribyhoroscop  -  0\n",
      "****************************************************\n",
      "\n",
      "1 devahoroscop  -  0\n",
      "****************************************************\n",
      "\n",
      "2 levhoroscop  -  2\n",
      "_______________________________________\n",
      "old -  1187 , new -  2901\n",
      " \n",
      "Если Лев будет на протяжении всего дня мнить себя королем положения, то отношение коллег к нему резко изменится в худшую сторону. 18 апреля 2017 года возможна странная ситуация в любовной сфере. Изб\n",
      "_______________________________________\n",
      "old -  1884 , new -  3781\n",
      "ОСОБЕННОСТЬ ЛЬВОВ 👇\n",
      "\n",
      "Львов невозможно не заметить: везде, где появляются представители знака, они оказываются в центре внимания. От простых смертных Львов отличает безупречный вкус, а также искренняя \n",
      "****************************************************\n",
      "\n",
      "3 rakhoroscop  -  1\n",
      "_______________________________________\n",
      "old -  2566 , new -  4492\n",
      "Знаки Зодиака и жилище\n",
      "\n",
      "Наиболее склонный к домашней жизни знак. Умеет создать очень уютную и тёплую домашнюю обстановку. Жить предпочитает на первых этажах. Их квартиры часто наполнены антикварными в\n",
      "****************************************************\n",
      "\n",
      "4 bliznetsihoroscop  -  4\n",
      "_______________________________________\n",
      "old -  1187 , new -  2901\n",
      " \n",
      "18 апреля 2017 года Близнецам не мешает завести увлекательное хобби и отдохнуть на природе, если погода позволяет. Укрепляйте иммунитет с помощью витаминных комплексов, а в рацион включите овощи и ф\n",
      "_______________________________________\n",
      "old -  1195 , new -  2911\n",
      " \n",
      "15 апреля 2017 года Близнецы проявят чрезмерное упрямство в общении с близким родственником. Вопросы, которые вы обсуждаете, имеют важное значение для вашей семьи. Займитесь воспитанием детей-подрос\n",
      "_______________________________________\n",
      "old -  1260 , new -  3017\n",
      "Дружба Знаков Зодиака: кто является для вас близким по духу человеком?\n",
      "\n",
      "Найти своего единомышленника, близкого по духу человека не так-то и просто. Вопрос облегчает астрология и гороскоп дружбы Знаков\n",
      "_______________________________________\n",
      "old -  1779 , new -  3676\n",
      "О ЧЁМ ВАШИ МЕЧТЫ ☺\n",
      "\n",
      "Тут явно услуг золотой рыбки маловато будет. Нет, надо чтобы исполнились и три желания, потом еще и три…и непременно об этом поведать миру. Главное у Близнецов в мечтах не крутизна\n",
      "****************************************************\n",
      "\n",
      "5 ovenhoroscop  -  1\n",
      "_______________________________________\n",
      "old -  1541 , new -  3436\n",
      "\n",
      "\n",
      "15 декабря 2016 года Овну предстоит собирать богатый урожай…Но не фруктов и овощей, а собственного плодотворного труда. Карьера пойдет в гору, а личная жизнь окрасится в чудесные летние оттенки. Даж\n",
      "****************************************************\n",
      "\n",
      "6 telechoroscop  -  0\n",
      "****************************************************\n",
      "\n",
      "7 scorpionhoroscop  -  2\n",
      "_______________________________________\n",
      "old -  1261 , new -  3022\n",
      "Дружба Знаков Зодиака: кто является для вас близким по духу человеком?\n",
      "\n",
      "Найти своего единомышленника, близкого по духу человека не так-то и просто. Вопрос облегчает астрология и гороскоп дружбы Знаков\n",
      "_______________________________________\n",
      "old -  2042 , new -  3944\n",
      "Женщинам для успеха стоит помнить о риске попасться на удочку мошенникам и проходимцам, а мужчинам - стать заложниками проблем, оставленных «на потом» с предыдущего момента жизни.\n",
      "\n",
      "В любовной сфере пр\n",
      "****************************************************\n",
      "\n",
      "8 vodoleihoroscop  -  1\n",
      "_______________________________________\n",
      "old -  1188 , new -  2904\n",
      " \n",
      "18 апреля 2017 года Водолею будет не до работы, ведь столько накопилось бытовых проблем. В этот день вам придется быть и сантехником, и электриком в одном лице. Зафиксируйте свое внимание на тех мом\n",
      "****************************************************\n",
      "\n",
      "9 kozeroghoroscop  -  1\n",
      "_______________________________________\n",
      "old -  1763 , new -  3662\n",
      "КОЗЕРОГ И КАРЬЕРА : \n",
      "\n",
      "Знак Козерог отвечает за карьеру и достижения. Так что для людей этого знака работа – это движущая сила. Они - профессионалы своего дела, любят планировать и ставит долгосрочные \n",
      "****************************************************\n",
      "\n",
      "10 vesyhoroscop  -  4\n",
      "_______________________________________\n",
      "old -  1187 , new -  2901\n",
      " \n",
      "18 апреля 2017 года Весам следует остерегаться любовных авантюр, а больше думать о том, где найти дополнительный заработок. Карьерный рост слегка затормозиться из-за вашей же лености. Близкий друг с\n",
      "_______________________________________\n",
      "old -  1775 , new -  3672\n",
      "КАК И НА ЧТО ОБИЖАЮТСЯ ВЕСЫ 😠\n",
      "\n",
      "Весы не мстят. Они просто почти не умеют это делать. Зато обижаются, как дети, и любят позакатывать скандалы. А еще могут долго действовать обидчику на нервы, всем своим\n",
      "_______________________________________\n",
      "old -  1939 , new -  3836\n",
      "НЕОБЫЧНЫЕ СПОСОБНОСТИ ВЕСОВ 👇\n",
      "\n",
      "Магическая сила Весов заключается в их внутренней энергетике. Считается, что представители этого созвездия могут управлять стихиями. Проверить свою способности просто — \n",
      "_______________________________________\n",
      "old -  1994 , new -  3891\n",
      "НЕОБЫЧНЫЕ СПОСОБНОСТИ ВЕСОВ 👇\n",
      "\n",
      "Магическая сила Весов заключается в их внутренней энергетике. Считается, что представители этого созвездия могут управлять стихиями. Проверить свою способности просто — \n",
      "****************************************************\n",
      "\n",
      "11 strelechoroscop  -  5\n",
      "_______________________________________\n",
      "old -  1187 , new -  2905\n",
      " \n",
      "Если Стрелец хочет встретить свою вторую половинку, то дома ему сидеть не следует. Больше общайтесь, знакомьтесь и проявляйте инициативу 18 апреля 2017 года. В рекламном бизнесе Стрелец преуспеет и \n",
      "_______________________________________\n",
      "old -  2011 , new -  3913\n",
      "УЗНАЙ О СЕБЕ ЕЩЁ БОЛЬШЕ 😉👇\n",
      "\n",
      "СТРЕЛЕЦ — натуры Стрельцов определяет воображение, практицизм, независимость, оптимизм и юмор.\n",
      "Стрельцы любимы и любят людей, имеют много друзей, ненавидят лицемерие, их ре\n",
      "_______________________________________\n",
      "old -  2445 , new -  4347\n",
      "А ЧЕМ ХОРОША ТЫ? \n",
      "\n",
      "Девушка вечный малыш, открытая для мира. Самая большая поклонница из всех знаков зодиака сказочных историй. Это живой фонтан идей и ожиданий. Вас ожидает приятное и легкое общение, \n",
      "_______________________________________\n",
      "old -  2566 , new -  4497\n",
      "А ЧЕМ ХОРОША ТЫ? \n",
      "\n",
      "Девушка вечный малыш, открытая для мира. Самая большая поклонница из всех знаков зодиака сказочных историй. Это живой фонтан идей и ожиданий. Вас ожидает приятное и легкое общение, \n",
      "_______________________________________\n",
      "old -  2590 , new -  4521\n",
      "С. - К сожалению, дело не в том, что ты исправился. А в том, что я устала тебе все время повторять, в чем ты должен исправиться. Я тебе не завуч младших классов, а ты не двоечник. \n",
      "П:-Ты серьезно? Ну-\n",
      "****************************************************\n",
      "\n"
     ]
    }
   ],
   "source": [
    "print_bad_rows()"
   ]
  },
  {
   "cell_type": "markdown",
   "metadata": {},
   "source": [
    "## manually format/drop rows"
   ]
  },
  {
   "cell_type": "code",
   "execution_count": 55,
   "metadata": {},
   "outputs": [],
   "source": [
    "pattern_date = re.compile(r'[1-9]?[0-9] .+201[0-9] года ')"
   ]
  },
  {
   "cell_type": "markdown",
   "metadata": {},
   "source": [
    "#### 2 levhoroscop"
   ]
  },
  {
   "cell_type": "code",
   "execution_count": 56,
   "metadata": {},
   "outputs": [],
   "source": [
    "# dropping\n",
    "posts_new[2].drop([3781], inplace=True)\n",
    "\n",
    "# formatting\n",
    "post = re.sub(pattern_date, '', posts_old[2].loc[1187].text)\n",
    "post = re.findall(r'.+', post)[1]\n",
    "posts_new[2].at[2901, 'text'] = post\n",
    "posts_new[2].at[2901, 'type'] = 'simple'\n",
    "\n",
    "posts_new[2].reset_index(inplace=True, drop=True)"
   ]
  },
  {
   "cell_type": "markdown",
   "metadata": {},
   "source": [
    "#### 3 rakhoroscop"
   ]
  },
  {
   "cell_type": "code",
   "execution_count": 57,
   "metadata": {},
   "outputs": [],
   "source": [
    "# dropping\n",
    "posts_new[3].drop([4492], inplace=True)\n",
    "\n",
    "posts_new[3].reset_index(inplace=True, drop=True)"
   ]
  },
  {
   "cell_type": "markdown",
   "metadata": {},
   "source": [
    "#### 4 bliznetsihoroscop"
   ]
  },
  {
   "cell_type": "code",
   "execution_count": 58,
   "metadata": {},
   "outputs": [],
   "source": [
    "# dropping\n",
    "posts_new[4].drop([3017, 3676], inplace=True)\n",
    "\n",
    "# formatting\n",
    "post = re.sub(pattern_date, '', posts_old[4].loc[1187].text)\n",
    "post = re.findall(r'.+', post)[1]\n",
    "posts_new[4].at[2901, 'text'] = post\n",
    "posts_new[4].at[2901, 'type'] = 'simple'\n",
    "\n",
    "post = re.sub(pattern_date, '', posts_old[4].loc[1195].text)\n",
    "post = re.findall(r'.+', post)[1]\n",
    "posts_new[4].at[2911, 'text'] = post\n",
    "posts_new[4].at[2911, 'type'] = 'simple'\n",
    "\n",
    "\n",
    "posts_new[4].reset_index(inplace=True, drop=True)"
   ]
  },
  {
   "cell_type": "markdown",
   "metadata": {},
   "source": [
    "#### 5 ovenhoroscop"
   ]
  },
  {
   "cell_type": "code",
   "execution_count": 59,
   "metadata": {},
   "outputs": [],
   "source": [
    "# formatting\n",
    "post = re.sub(pattern_date, '', posts_old[5].loc[1541].text)\n",
    "post = re.findall(r'.+', post)[0]\n",
    "posts_new[5].at[3436, 'text'] = post\n",
    "posts_new[5].at[3436, 'type'] = 'simple'"
   ]
  },
  {
   "cell_type": "markdown",
   "metadata": {},
   "source": [
    "#### 7 scorpionhoroscop"
   ]
  },
  {
   "cell_type": "code",
   "execution_count": 60,
   "metadata": {},
   "outputs": [],
   "source": [
    "# dropping\n",
    "posts_new[7].drop([3022, 3944], inplace=True)\n",
    "\n",
    "posts_new[7].reset_index(inplace=True, drop=True)"
   ]
  },
  {
   "cell_type": "markdown",
   "metadata": {},
   "source": [
    "#### 8 vodoleihoroscop"
   ]
  },
  {
   "cell_type": "code",
   "execution_count": 61,
   "metadata": {},
   "outputs": [],
   "source": [
    "# formatting\n",
    "post = re.sub(pattern_date, '', posts_old[8].loc[1188].text)\n",
    "post = re.findall(r'.+', post)[1]\n",
    "posts_new[8].at[2904, 'text'] = post\n",
    "posts_new[8].at[2904, 'type'] = 'simple'"
   ]
  },
  {
   "cell_type": "markdown",
   "metadata": {},
   "source": [
    "#### 9 kozeroghoroscop"
   ]
  },
  {
   "cell_type": "code",
   "execution_count": 62,
   "metadata": {},
   "outputs": [],
   "source": [
    "# dropping\n",
    "posts_new[9].drop([3662], inplace=True)\n",
    "\n",
    "posts_new[9].reset_index(inplace=True, drop=True)"
   ]
  },
  {
   "cell_type": "markdown",
   "metadata": {},
   "source": [
    "#### 10 vesyhoroscop"
   ]
  },
  {
   "cell_type": "code",
   "execution_count": 63,
   "metadata": {},
   "outputs": [],
   "source": [
    "# dropping\n",
    "posts_new[10].drop([3672, 3836, 3891], inplace=True)\n",
    "\n",
    "# formatting\n",
    "post = re.sub(pattern_date, '', posts_old[10].loc[1187].text)\n",
    "post = re.findall(r'.+', post)[1]\n",
    "posts_new[10].at[2901, 'text'] = post\n",
    "posts_new[10].at[2901, 'type'] = 'simple'\n",
    "\n",
    "posts_new[10].reset_index(inplace=True, drop=True)"
   ]
  },
  {
   "cell_type": "markdown",
   "metadata": {},
   "source": [
    "#### 11 strelechoroscop"
   ]
  },
  {
   "cell_type": "code",
   "execution_count": 64,
   "metadata": {},
   "outputs": [],
   "source": [
    "# dropping\n",
    "posts_new[11].drop([3913, 4347, 4497, 4521], inplace=True)\n",
    "\n",
    "# formatting\n",
    "post = re.sub(pattern_date, '', posts_old[11].loc[1187].text)\n",
    "post = re.findall(r'.+', post)[1]\n",
    "posts_new[11].at[2905, 'text'] = post\n",
    "posts_new[11].at[2905, 'type'] = 'simple'\n",
    "\n",
    "posts_new[11].reset_index(inplace=True, drop=True)"
   ]
  },
  {
   "cell_type": "code",
   "execution_count": 65,
   "metadata": {
    "scrolled": true
   },
   "outputs": [
    {
     "name": "stdout",
     "output_type": "stream",
     "text": [
      "0 ribyhoroscop  -  0\n",
      "****************************************************\n",
      "\n",
      "1 devahoroscop  -  0\n",
      "****************************************************\n",
      "\n",
      "2 levhoroscop  -  0\n",
      "****************************************************\n",
      "\n",
      "3 rakhoroscop  -  0\n",
      "****************************************************\n",
      "\n",
      "4 bliznetsihoroscop  -  0\n",
      "****************************************************\n",
      "\n",
      "5 ovenhoroscop  -  0\n",
      "****************************************************\n",
      "\n",
      "6 telechoroscop  -  0\n",
      "****************************************************\n",
      "\n",
      "7 scorpionhoroscop  -  0\n",
      "****************************************************\n",
      "\n",
      "8 vodoleihoroscop  -  0\n",
      "****************************************************\n",
      "\n",
      "9 kozeroghoroscop  -  0\n",
      "****************************************************\n",
      "\n",
      "10 vesyhoroscop  -  0\n",
      "****************************************************\n",
      "\n",
      "11 strelechoroscop  -  0\n",
      "****************************************************\n",
      "\n"
     ]
    }
   ],
   "source": [
    "print_bad_rows()"
   ]
  },
  {
   "cell_type": "markdown",
   "metadata": {},
   "source": [
    "# Delete spaces"
   ]
  },
  {
   "cell_type": "code",
   "execution_count": 66,
   "metadata": {},
   "outputs": [
    {
     "name": "stdout",
     "output_type": "stream",
     "text": [
      "Wall time: 3.1 s\n"
     ]
    }
   ],
   "source": [
    "%%time\n",
    "pattern_bad_spaces_1 = re.compile(r'(^ +)|( +$)')\n",
    "pattern_bad_spaces_2 = re.compile(r'(  +)|(\\t)')\n",
    "for posts in posts_new:\n",
    "    posts.text = list(posts.text.map(lambda x: re.sub(pattern_bad_spaces_1, '', x)))\n",
    "    posts.text = list(posts.text.map(lambda x: re.sub(pattern_bad_spaces_2, ' ', x)))"
   ]
  },
  {
   "cell_type": "code",
   "execution_count": 69,
   "metadata": {},
   "outputs": [],
   "source": [
    "for posts in posts_new:\n",
    "    posts.length = list(map(lambda x: 0 if x is np.nan else len(x), posts.text))"
   ]
  },
  {
   "cell_type": "code",
   "execution_count": 70,
   "metadata": {},
   "outputs": [],
   "source": [
    "for new, domain in zip(posts_new, domains):\n",
    "    new.to_csv('Data\\\\with_duplicates_' + domain + '.csv')"
   ]
  }
 ],
 "metadata": {
  "kernelspec": {
   "display_name": "Python 3",
   "language": "python",
   "name": "python3"
  },
  "language_info": {
   "codemirror_mode": {
    "name": "ipython",
    "version": 3
   },
   "file_extension": ".py",
   "mimetype": "text/x-python",
   "name": "python",
   "nbconvert_exporter": "python",
   "pygments_lexer": "ipython3",
   "version": "3.6.5"
  }
 },
 "nbformat": 4,
 "nbformat_minor": 2
}
