{
  "nbformat": 4,
  "nbformat_minor": 0,
  "metadata": {
    "accelerator": "GPU",
    "colab": {
      "name": "Copy of text_generation.ipynb",
      "provenance": [],
      "collapsed_sections": [],
      "machine_shape": "hm",
      "include_colab_link": true
    },
    "kernelspec": {
      "name": "python3",
      "display_name": "Python 3"
    }
  },
  "cells": [
    {
      "cell_type": "markdown",
      "metadata": {
        "id": "view-in-github",
        "colab_type": "text"
      },
      "source": [
        "<a href=\"https://colab.research.google.com/github/Khlebovich-Alexandra/horoscope_generator/blob/master/text_generation_symbols.ipynb\" target=\"_parent\"><img src=\"https://colab.research.google.com/assets/colab-badge.svg\" alt=\"Open In Colab\"/></a>"
      ]
    },
    {
      "cell_type": "markdown",
      "metadata": {
        "colab_type": "text",
        "id": "ovpZyIhNIgoq"
      },
      "source": [
        "# Text generation with an RNN"
      ]
    },
    {
      "cell_type": "code",
      "metadata": {
        "colab_type": "code",
        "id": "yG_n40gFzf9s",
        "outputId": "2f48e982-2d59-4dd0-9d3a-bd401557631e",
        "colab": {
          "base_uri": "https://localhost:8080/",
          "height": 34
        }
      },
      "source": [
        "from __future__ import absolute_import, division, print_function, unicode_literals\n",
        "\n",
        "try:\n",
        "  # %tensorflow_version only exists in Colab.\n",
        "  %tensorflow_version 2.x\n",
        "except Exception:\n",
        "    pass\n",
        "import tensorflow as tf\n",
        "from tensorflow.keras.preprocessing.sequence import pad_sequences\n",
        "from tensorflow.keras.models import Sequential\n",
        "from tensorflow.keras.layers import Dense, Embedding, LSTM \n",
        "from tensorflow.keras.utils import to_categorical\n",
        "\n",
        "import numpy as np\n",
        "import pandas as pd\n",
        "import itertools\n",
        "import os\n",
        "import re\n",
        "import time\n",
        "import matplotlib.pyplot as plt\n",
        "\n",
        "import warnings\n",
        "warnings.filterwarnings('ignore')"
      ],
      "execution_count": 0,
      "outputs": [
        {
          "output_type": "stream",
          "text": [
            "TensorFlow 2.x selected.\n"
          ],
          "name": "stdout"
        }
      ]
    },
    {
      "cell_type": "code",
      "metadata": {
        "id": "9jIfPVK3RuUS",
        "colab_type": "code",
        "outputId": "352dd4ce-3870-4ea2-f87f-3f2bd4d57f46",
        "colab": {
          "base_uri": "https://localhost:8080/",
          "height": 122
        }
      },
      "source": [
        "from google.colab import drive\n",
        "drive.mount('/content/drive')"
      ],
      "execution_count": 0,
      "outputs": [
        {
          "output_type": "stream",
          "text": [
            "Go to this URL in a browser: https://accounts.google.com/o/oauth2/auth?client_id=947318989803-6bn6qk8qdgf4n4g3pfee6491hc0brc4i.apps.googleusercontent.com&redirect_uri=urn%3aietf%3awg%3aoauth%3a2.0%3aoob&response_type=code&scope=email%20https%3a%2f%2fwww.googleapis.com%2fauth%2fdocs.test%20https%3a%2f%2fwww.googleapis.com%2fauth%2fdrive%20https%3a%2f%2fwww.googleapis.com%2fauth%2fdrive.photos.readonly%20https%3a%2f%2fwww.googleapis.com%2fauth%2fpeopleapi.readonly\n",
            "\n",
            "Enter your authorization code:\n",
            "··········\n",
            "Mounted at /content/drive\n"
          ],
          "name": "stdout"
        }
      ]
    },
    {
      "cell_type": "code",
      "metadata": {
        "id": "CFNBXwalS6z-",
        "colab_type": "code",
        "colab": {}
      },
      "source": [
        "posts = pd.read_csv('https://raw.githubusercontent.com/Khlebovich-Alexandra/horoscope_generator/master/Data/final_posts.csv', index_col=0)"
      ],
      "execution_count": 0,
      "outputs": []
    },
    {
      "cell_type": "code",
      "metadata": {
        "id": "sCFXJXt9yQHl",
        "colab_type": "code",
        "outputId": "8fd64bd9-d0bd-4375-d45f-79fe172edcd0",
        "colab": {
          "base_uri": "https://localhost:8080/",
          "height": 34
        }
      },
      "source": [
        "text = posts.text\n",
        "text = '\\n'.join(text)\n",
        "\n",
        "print ('Length of text: {} characters'.format(len(text)))"
      ],
      "execution_count": 0,
      "outputs": [
        {
          "output_type": "stream",
          "text": [
            "Length of text: 8121558 characters\n"
          ],
          "name": "stdout"
        }
      ]
    },
    {
      "cell_type": "code",
      "metadata": {
        "id": "C5gVHG7ZzTaX",
        "colab_type": "code",
        "outputId": "7cdd2fce-dcc0-41f7-90c7-e3634b00ec8c",
        "colab": {
          "base_uri": "https://localhost:8080/",
          "height": 54
        }
      },
      "source": [
        "# Take a look at the first 250 characters in text\n",
        "print(text[:250])"
      ],
      "execution_count": 0,
      "outputs": [
        {
          "output_type": "stream",
          "text": [
            "сегодня вы можете почувствовать незащищенность и неуверенность в собственных силах. попробуйте проанализировать ситуацию и выяснить, что же так сильно выбило вас из колеи. приниэтого месяца во внимание вашу уязвимость, постарайтесь избегать тех ситуа\n"
          ],
          "name": "stdout"
        }
      ]
    },
    {
      "cell_type": "code",
      "metadata": {
        "id": "XZ0ohEQKzWJO",
        "colab_type": "code",
        "outputId": "5733795c-2eb6-4fac-d2ca-d15364929f74",
        "colab": {
          "base_uri": "https://localhost:8080/",
          "height": 34
        }
      },
      "source": [
        "vocab = sorted(set(text))\n",
        "print ('{} unique characters'.format(len(vocab)))"
      ],
      "execution_count": 0,
      "outputs": [
        {
          "output_type": "stream",
          "text": [
            "86 unique characters\n"
          ],
          "name": "stdout"
        }
      ]
    },
    {
      "cell_type": "code",
      "metadata": {
        "id": "XLKxnJOpzaO0",
        "colab_type": "code",
        "colab": {}
      },
      "source": [
        "# Creating a mapping from unique characters to indices\n",
        "char2idx = {u:i for i, u in enumerate(vocab)}\n",
        "idx2char = np.array(vocab)\n",
        "\n",
        "text_as_int = np.array([char2idx[c] for c in text])"
      ],
      "execution_count": 0,
      "outputs": []
    },
    {
      "cell_type": "code",
      "metadata": {
        "id": "sMAQpucpzh-_",
        "colab_type": "code",
        "colab": {}
      },
      "source": [
        "# The maximum length sentence we want for a single input in characters\n",
        "seq_length = 100\n",
        "examples_per_epoch = len(text)//(seq_length+1)\n",
        "\n",
        "# Create training examples / targets\n",
        "char_dataset = tf.data.Dataset.from_tensor_slices(text_as_int)\n"
      ],
      "execution_count": 0,
      "outputs": []
    },
    {
      "cell_type": "code",
      "metadata": {
        "id": "DsDKTcD1zpEj",
        "colab_type": "code",
        "colab": {}
      },
      "source": [
        "sequences = char_dataset.batch(seq_length+1, drop_remainder=True)"
      ],
      "execution_count": 0,
      "outputs": []
    },
    {
      "cell_type": "code",
      "metadata": {
        "colab_type": "code",
        "id": "gKOQB0YMg_u0",
        "colab": {}
      },
      "source": [
        "def split_input_target(chunk):\n",
        "    input_text = chunk[:-1]\n",
        "    target_text = chunk[1:]\n",
        "    return input_text, target_text\n"
      ],
      "execution_count": 0,
      "outputs": []
    },
    {
      "cell_type": "code",
      "metadata": {
        "id": "foppb26-zvQT",
        "colab_type": "code",
        "colab": {}
      },
      "source": [
        "dataset = sequences.map(split_input_target)"
      ],
      "execution_count": 0,
      "outputs": []
    },
    {
      "cell_type": "code",
      "metadata": {
        "id": "r8kJPO5b0BVF",
        "colab_type": "code",
        "outputId": "2a3fa163-2121-4428-fa43-ee1cc05c71ea",
        "colab": {
          "base_uri": "https://localhost:8080/",
          "height": 34
        }
      },
      "source": [
        "# Batch size\n",
        "BATCH_SIZE = 128\n",
        "\n",
        "# Buffer size to shuffle the dataset\n",
        "# (TF data is designed to work with possibly infinite sequences,\n",
        "# so it doesn't attempt to shuffle the entire sequence in memory. Instead,\n",
        "# it maintains a buffer in which it shuffles elements).\n",
        "BUFFER_SIZE = 10000\n",
        "\n",
        "dataset = dataset.shuffle(BUFFER_SIZE).batch(BATCH_SIZE, drop_remainder=True)\n",
        "\n",
        "dataset"
      ],
      "execution_count": 0,
      "outputs": [
        {
          "output_type": "execute_result",
          "data": {
            "text/plain": [
              "<BatchDataset shapes: ((128, 100), (128, 100)), types: (tf.int64, tf.int64)>"
            ]
          },
          "metadata": {
            "tags": []
          },
          "execution_count": 12
        }
      ]
    },
    {
      "cell_type": "code",
      "metadata": {
        "id": "1zKS8fmE3SHz",
        "colab_type": "code",
        "colab": {}
      },
      "source": [
        "def buid_model(batch):\n",
        "    vocab_size = len(vocab)\n",
        "    model = tf.keras.Sequential([\n",
        "        tf.keras.layers.Embedding(vocab_size, 256,\n",
        "                                batch_input_shape=[batch, None]),\n",
        "        tf.keras.layers.LSTM(units=1024,\n",
        "                            return_sequences=True,\n",
        "                            stateful=True,\n",
        "                            recurrent_initializer='glorot_uniform'),\n",
        "        tf.keras.layers.Dense(vocab_size)\n",
        "    ])\n",
        "    return model"
      ],
      "execution_count": 0,
      "outputs": []
    },
    {
      "cell_type": "code",
      "metadata": {
        "id": "99E0F3340TKH",
        "colab_type": "code",
        "outputId": "814dddf4-857b-4fe1-b288-197018182f38",
        "colab": {
          "base_uri": "https://localhost:8080/",
          "height": 272
        }
      },
      "source": [
        "model = buid_model(BATCH_SIZE)\n",
        "model.load_weights('drive/My Drive/Colab Notebooks/weights_80.h5')\n",
        "model.build(tf.TensorShape([BATCH_SIZE, None]))\n",
        "print(model.summary())"
      ],
      "execution_count": 0,
      "outputs": [
        {
          "output_type": "stream",
          "text": [
            "Model: \"sequential\"\n",
            "_________________________________________________________________\n",
            "Layer (type)                 Output Shape              Param #   \n",
            "=================================================================\n",
            "embedding (Embedding)        (128, None, 256)          22016     \n",
            "_________________________________________________________________\n",
            "lstm (LSTM)                  (128, None, 1024)         5246976   \n",
            "_________________________________________________________________\n",
            "dense (Dense)                (128, None, 86)           88150     \n",
            "=================================================================\n",
            "Total params: 5,357,142\n",
            "Trainable params: 5,357,142\n",
            "Non-trainable params: 0\n",
            "_________________________________________________________________\n",
            "None\n"
          ],
          "name": "stdout"
        }
      ]
    },
    {
      "cell_type": "markdown",
      "metadata": {
        "id": "vXCluY-90u8J",
        "colab_type": "text"
      },
      "source": [
        "## Train the model"
      ]
    },
    {
      "cell_type": "code",
      "metadata": {
        "colab_type": "code",
        "id": "GTOvqcgmN2fz",
        "colab": {}
      },
      "source": [
        "def loss(labels, logits):\n",
        "    return tf.keras.losses.sparse_categorical_crossentropy(labels, logits, from_logits=True)"
      ],
      "execution_count": 0,
      "outputs": []
    },
    {
      "cell_type": "code",
      "metadata": {
        "id": "Xhq67shL0zjW",
        "colab_type": "code",
        "colab": {}
      },
      "source": [
        "model.compile(optimizer='adam', loss=loss)"
      ],
      "execution_count": 0,
      "outputs": []
    },
    {
      "cell_type": "code",
      "metadata": {
        "id": "1PvPrwC31nym",
        "colab_type": "code",
        "outputId": "3a3e4bb6-36af-4d40-bc72-3f57aebd0b24",
        "colab": {
          "base_uri": "https://localhost:8080/",
          "height": 34
        }
      },
      "source": [
        "# Directory where the checkpoints will be saved\n",
        "checkpoint_dir = './training_checkpoints'\n",
        "# Name of the checkpoint files\n",
        "checkpoint_prefix = os.path.join(checkpoint_dir, \"ckpt_{epoch}\")\n",
        "\n",
        "checkpoint_callback_2=tf.keras.callbacks.ModelCheckpoint(\n",
        "    filepath=checkpoint_prefix+'_symb',\n",
        "    period=10,\n",
        "    save_weights_only=True,\n",
        "    verbose=0)\n",
        "checkpoint_callback_3=tf.keras.callbacks.ModelCheckpoint(\n",
        "    filepath=checkpoint_prefix+'_symb',\n",
        "    save_weights_only=True,\n",
        "    verbose=0)"
      ],
      "execution_count": 0,
      "outputs": [
        {
          "output_type": "stream",
          "text": [
            "WARNING:tensorflow:`period` argument is deprecated. Please use `save_freq` to specify the frequency in number of samples seen.\n"
          ],
          "name": "stdout"
        }
      ]
    },
    {
      "cell_type": "code",
      "metadata": {
        "id": "G-8uDzfU06Ii",
        "colab_type": "code",
        "outputId": "5da20d22-c666-4717-ad1d-37415b383699",
        "colab": {
          "base_uri": "https://localhost:8080/",
          "height": 374
        }
      },
      "source": [
        "EPOCH = 10\n",
        "history1 = model.fit(dataset,\n",
        "                     epochs=EPOCH,\n",
        "                     callbacks=[checkpoint_callback_3])"
      ],
      "execution_count": 0,
      "outputs": [
        {
          "output_type": "stream",
          "text": [
            "Train for 628 steps\n",
            "Epoch 1/10\n",
            "628/628 [==============================] - 61s 96ms/step - loss: 0.6995\n",
            "Epoch 2/10\n",
            "628/628 [==============================] - 55s 87ms/step - loss: 0.6988\n",
            "Epoch 3/10\n",
            "628/628 [==============================] - 55s 87ms/step - loss: 0.6990\n",
            "Epoch 4/10\n",
            "628/628 [==============================] - 54s 86ms/step - loss: 0.6983\n",
            "Epoch 5/10\n",
            "628/628 [==============================] - 54s 87ms/step - loss: 0.6984\n",
            "Epoch 6/10\n",
            "628/628 [==============================] - 54s 86ms/step - loss: 0.6984\n",
            "Epoch 7/10\n",
            "628/628 [==============================] - 54s 86ms/step - loss: 0.6980\n",
            "Epoch 8/10\n",
            "628/628 [==============================] - 54s 86ms/step - loss: 0.6979\n",
            "Epoch 9/10\n",
            "628/628 [==============================] - 54s 86ms/step - loss: 0.6978\n",
            "Epoch 10/10\n",
            "628/628 [==============================] - 54s 87ms/step - loss: 0.6978\n"
          ],
          "name": "stdout"
        }
      ]
    },
    {
      "cell_type": "code",
      "metadata": {
        "id": "TKVVAFkG3wdh",
        "colab_type": "code",
        "outputId": "1927eb4d-8e55-40c3-f235-b433ec2b10e6",
        "colab": {
          "base_uri": "https://localhost:8080/",
          "height": 609
        }
      },
      "source": [
        "plt.figure(figsize=(10, 10))\n",
        "x = list(range(1, EPOCH+1))\n",
        "plt.plot(x, history1.history.get('loss'))"
      ],
      "execution_count": 0,
      "outputs": [
        {
          "output_type": "execute_result",
          "data": {
            "text/plain": [
              "[<matplotlib.lines.Line2D at 0x7f3c3e74bb00>]"
            ]
          },
          "metadata": {
            "tags": []
          },
          "execution_count": 20
        },
        {
          "output_type": "display_data",
          "data": {
            "image/png": "[encoded data removed]",
            "text/plain": [
              "<Figure size 720x720 with 1 Axes>"
            ]
          },
          "metadata": {
            "tags": []
          }
        }
      ]
    },
    {
      "cell_type": "code",
      "metadata": {
        "id": "3yYN6Sd9iRak",
        "colab_type": "code",
        "outputId": "b05c9d75-2c3b-46cb-e13a-19bfc963ca50",
        "colab": {
          "base_uri": "https://localhost:8080/",
          "height": 609
        }
      },
      "source": [
        "plt.figure(figsize=(10, 10))\n",
        "x = list(range(1, EPOCH+1))\n",
        "plt.plot(x[10:], history1.history.get('loss')[10:])"
      ],
      "execution_count": 0,
      "outputs": [
        {
          "output_type": "execute_result",
          "data": {
            "text/plain": [
              "[<matplotlib.lines.Line2D at 0x7f3c3e28bcc0>]"
            ]
          },
          "metadata": {
            "tags": []
          },
          "execution_count": 21
        },
        {
          "output_type": "display_data",
          "data": {
            "image/png": "[encoded data removed]",
            "text/plain": [
              "<Figure size 720x720 with 1 Axes>"
            ]
          },
          "metadata": {
            "tags": []
          }
        }
      ]
    },
    {
      "cell_type": "code",
      "metadata": {
        "id": "j0rdWn-_BPry",
        "colab_type": "code",
        "colab": {}
      },
      "source": [
        "model.save_weights('drive/My Drive/Colab Notebooks/weights_90.h5')"
      ],
      "execution_count": 0,
      "outputs": []
    },
    {
      "cell_type": "markdown",
      "metadata": {
        "id": "5RqowQlX1btE",
        "colab_type": "text"
      },
      "source": [
        "## Generate text"
      ]
    },
    {
      "cell_type": "code",
      "metadata": {
        "colab_type": "code",
        "id": "S-EIebF_z-UB",
        "colab": {}
      },
      "source": [
        "model = buid_model(1)\n",
        "model.load_weights('drive/My Drive/Colab Notebooks/weights_90.h5')\n",
        "model.build(tf.TensorShape([1, None]))"
      ],
      "execution_count": 0,
      "outputs": []
    },
    {
      "cell_type": "code",
      "metadata": {
        "id": "dJYRm-_C11EG",
        "colab_type": "code",
        "outputId": "813693c9-28aa-4353-9a66-b4b679a9b3f1",
        "colab": {
          "base_uri": "https://localhost:8080/",
          "height": 255
        }
      },
      "source": [
        "model.summary()"
      ],
      "execution_count": 0,
      "outputs": [
        {
          "output_type": "stream",
          "text": [
            "Model: \"sequential_1\"\n",
            "_________________________________________________________________\n",
            "Layer (type)                 Output Shape              Param #   \n",
            "=================================================================\n",
            "embedding_1 (Embedding)      (1, None, 256)            22016     \n",
            "_________________________________________________________________\n",
            "lstm_1 (LSTM)                (1, None, 1024)           5246976   \n",
            "_________________________________________________________________\n",
            "dense_1 (Dense)              (1, None, 86)             88150     \n",
            "=================================================================\n",
            "Total params: 5,357,142\n",
            "Trainable params: 5,357,142\n",
            "Non-trainable params: 0\n",
            "_________________________________________________________________\n"
          ],
          "name": "stdout"
        }
      ]
    },
    {
      "cell_type": "code",
      "metadata": {
        "id": "5Mg5xaLkTNia",
        "colab_type": "code",
        "colab": {}
      },
      "source": [
        "def generate_n_symbols(model, start_string, num_generate):\n",
        "  # Evaluation step (generating text using the learned model)\n",
        "\n",
        "  # Converting our start string to numbers (vectorizing)\n",
        "  input_eval = [char2idx[s] for s in start_string]\n",
        "  input_eval = tf.expand_dims(input_eval, 0)\n",
        "\n",
        "  # Empty string to store our results\n",
        "  text_generated = []\n",
        "\n",
        "  # Low temperatures results in more predictable text.\n",
        "  # Higher temperatures results in more surprising text.\n",
        "  # Experiment to find the best setting.\n",
        "  temperature = 1.0\n",
        "\n",
        "  # Here batch size == 1\n",
        "  model.reset_states()\n",
        "  for i in range(num_generate):\n",
        "      predictions = model(input_eval)\n",
        "      # remove the batch dimension\n",
        "      predictions = tf.squeeze(predictions, 0)\n",
        "\n",
        "      # using a categorical distribution to predict the word returned by the model\n",
        "      predictions = predictions / temperature\n",
        "      predicted_id = tf.random.categorical(predictions, num_samples=1)[-1,0].numpy()\n",
        "\n",
        "      # We pass the predicted word as the next input to the model\n",
        "      # along with the previous hidden state\n",
        "      input_eval = tf.expand_dims([predicted_id], 0)\n",
        "\n",
        "      text_generated.append(idx2char[predicted_id])\n",
        "\n",
        "  return (start_string + ''.join(text_generated))"
      ],
      "execution_count": 0,
      "outputs": []
    },
    {
      "cell_type": "code",
      "metadata": {
        "id": "3xfZ5pqyQiS3",
        "colab_type": "code",
        "colab": {}
      },
      "source": [
        "%%time\n",
        "generated = generate_n_symbols(model, 'сегодня', 500000)\n",
        "fileObject = open('drive/My Drive/Colab Notebooks/generate_90.txt', 'w', encoding='utf-8')\n",
        "fileObject.write(generated)"
      ],
      "execution_count": 0,
      "outputs": []
    },
    {
      "cell_type": "code",
      "metadata": {
        "id": "7eZFoqTfho9k",
        "colab_type": "code",
        "colab": {}
      },
      "source": [
        "%%time\n",
        "generated = generate_n_symbols(model, 'сегодня', 500000)\n",
        "fileObject = open('drive/My Drive/Colab Notebooks/generate_90_1.txt', 'w', encoding='utf-8')\n",
        "fileObject.write(generated)"
      ],
      "execution_count": 0,
      "outputs": []
    },
    {
      "cell_type": "code",
      "metadata": {
        "id": "5HTQgnIwhpEL",
        "colab_type": "code",
        "colab": {}
      },
      "source": [
        "%%time\n",
        "generated = generate_n_symbols(model, 'сегодня', 500000)\n",
        "fileObject = open('drive/My Drive/Colab Notebooks/generate_90_2.txt', 'w', encoding='utf-8')\n",
        "fileObject.write(generated)"
      ],
      "execution_count": 0,
      "outputs": []
    },
    {
      "cell_type": "code",
      "metadata": {
        "id": "Z9ye7C9eRNO1",
        "colab_type": "code",
        "outputId": "7dff5ed0-8bf8-4fa6-d32c-421c504e0208",
        "colab": {
          "base_uri": "https://localhost:8080/",
          "height": 51
        }
      },
      "source": [
        "%%time\n",
        "generated = generate_n_symbols(model, 'сегодня', 500000)\n",
        "fileObject = open('drive/My Drive/Colab Notebooks/generate_90_3.txt', 'w', encoding='utf-8')\n",
        "fileObject.write(generated)"
      ],
      "execution_count": 0,
      "outputs": [
        {
          "output_type": "stream",
          "text": [
            "CPU times: user 48min 35s, sys: 1min 38s, total: 50min 14s\n",
            "Wall time: 47min 35s\n"
          ],
          "name": "stdout"
        }
      ]
    },
    {
      "cell_type": "code",
      "metadata": {
        "id": "jQi0KsBGS7jf",
        "colab_type": "code",
        "colab": {}
      },
      "source": [
        "model.save_weights('drive/My Drive/Colab Notebooks/weights_90_4.h5')"
      ],
      "execution_count": 0,
      "outputs": []
    },
    {
      "cell_type": "code",
      "metadata": {
        "id": "KHKhHgGATHSA",
        "colab_type": "code",
        "outputId": "8f6273a3-dd1d-47d2-80d0-e400176529ba",
        "colab": {
          "base_uri": "https://localhost:8080/",
          "height": 51
        }
      },
      "source": [
        "%%time\n",
        "generated = generate_n_symbols(model, 'сегодня', 500000)\n",
        "fileObject = open('drive/My Drive/Colab Notebooks/generate_90_5.txt', 'w', encoding='utf-8')\n",
        "fileObject.write(generated)"
      ],
      "execution_count": 0,
      "outputs": [
        {
          "output_type": "stream",
          "text": [
            "CPU times: user 49min 1s, sys: 1min 37s, total: 50min 39s\n",
            "Wall time: 47min 56s\n"
          ],
          "name": "stdout"
        }
      ]
    },
    {
      "cell_type": "code",
      "metadata": {
        "id": "7SnBLQNfTY57",
        "colab_type": "code",
        "colab": {}
      },
      "source": [
        "# Get visualisation"
      ],
      "execution_count": 0,
      "outputs": []
    },
    {
      "cell_type": "code",
      "metadata": {
        "id": "eBPNy12qBh6A",
        "colab_type": "code",
        "outputId": "d5ae09c1-c13e-4ed4-940b-0bcff41a8cda",
        "colab": {
          "base_uri": "https://localhost:8080/",
          "height": 272
        }
      },
      "source": [
        "model = buid_model(BATCH_SIZE)\n",
        "model.build(tf.TensorShape([BATCH_SIZE, None]))\n",
        "print(model.summary())"
      ],
      "execution_count": 0,
      "outputs": [
        {
          "output_type": "stream",
          "text": [
            "Model: \"sequential_2\"\n",
            "_________________________________________________________________\n",
            "Layer (type)                 Output Shape              Param #   \n",
            "=================================================================\n",
            "embedding_2 (Embedding)      (128, None, 256)          22016     \n",
            "_________________________________________________________________\n",
            "lstm_2 (LSTM)                (128, None, 1024)         5246976   \n",
            "_________________________________________________________________\n",
            "dense_2 (Dense)              (128, None, 86)           88150     \n",
            "=================================================================\n",
            "Total params: 5,357,142\n",
            "Trainable params: 5,357,142\n",
            "Non-trainable params: 0\n",
            "_________________________________________________________________\n",
            "None\n"
          ],
          "name": "stdout"
        }
      ]
    },
    {
      "cell_type": "code",
      "metadata": {
        "id": "J8IIF1keBl67",
        "colab_type": "code",
        "colab": {}
      },
      "source": [
        "model.compile(optimizer='adam', loss=loss)"
      ],
      "execution_count": 0,
      "outputs": []
    },
    {
      "cell_type": "code",
      "metadata": {
        "id": "0-Vq10sEBrcc",
        "colab_type": "code",
        "outputId": "8c374f51-7e97-46ba-caf0-65187739c9ca",
        "colab": {
          "base_uri": "https://localhost:8080/",
          "height": 1000
        }
      },
      "source": [
        "EPOCH = 100\n",
        "history = model.fit(dataset, epochs=EPOCH)"
      ],
      "execution_count": 0,
      "outputs": [
        {
          "output_type": "stream",
          "text": [
            "Train for 628 steps\n",
            "Epoch 1/100\n",
            "628/628 [==============================] - 58s 92ms/step - loss: 2.0289\n",
            "Epoch 2/100\n",
            "628/628 [==============================] - 56s 89ms/step - loss: 1.3192\n",
            "Epoch 3/100\n",
            "628/628 [==============================] - 56s 89ms/step - loss: 1.1778\n",
            "Epoch 4/100\n",
            "628/628 [==============================] - 56s 89ms/step - loss: 1.1119\n",
            "Epoch 5/100\n",
            "628/628 [==============================] - 56s 89ms/step - loss: 1.0700\n",
            "Epoch 6/100\n",
            "628/628 [==============================] - 56s 89ms/step - loss: 1.0388\n",
            "Epoch 7/100\n",
            "628/628 [==============================] - 56s 89ms/step - loss: 1.0136\n",
            "Epoch 8/100\n",
            "628/628 [==============================] - 56s 89ms/step - loss: 0.9921\n",
            "Epoch 9/100\n",
            "628/628 [==============================] - 56s 89ms/step - loss: 0.9734\n",
            "Epoch 10/100\n",
            "628/628 [==============================] - 56s 89ms/step - loss: 0.9561\n",
            "Epoch 11/100\n",
            "628/628 [==============================] - 56s 89ms/step - loss: 0.9414\n",
            "Epoch 12/100\n",
            "628/628 [==============================] - 56s 90ms/step - loss: 0.9275\n",
            "Epoch 13/100\n",
            "628/628 [==============================] - 56s 89ms/step - loss: 0.9150\n",
            "Epoch 14/100\n",
            "628/628 [==============================] - 56s 90ms/step - loss: 0.9036\n",
            "Epoch 15/100\n",
            "628/628 [==============================] - 56s 89ms/step - loss: 0.8931\n",
            "Epoch 16/100\n",
            "628/628 [==============================] - 56s 89ms/step - loss: 0.8828\n",
            "Epoch 17/100\n",
            "628/628 [==============================] - 56s 90ms/step - loss: 0.8739\n",
            "Epoch 18/100\n",
            "628/628 [==============================] - 56s 89ms/step - loss: 0.8652\n",
            "Epoch 19/100\n",
            "628/628 [==============================] - 56s 89ms/step - loss: 0.8573\n",
            "Epoch 20/100\n",
            "628/628 [==============================] - 56s 89ms/step - loss: 0.8502\n",
            "Epoch 21/100\n",
            "628/628 [==============================] - 56s 89ms/step - loss: 0.8432\n",
            "Epoch 22/100\n",
            "628/628 [==============================] - 56s 89ms/step - loss: 0.8365\n",
            "Epoch 23/100\n",
            "628/628 [==============================] - 56s 89ms/step - loss: 0.8302\n",
            "Epoch 24/100\n",
            "628/628 [==============================] - 56s 89ms/step - loss: 0.8246\n",
            "Epoch 25/100\n",
            "628/628 [==============================] - 56s 89ms/step - loss: 0.8190\n",
            "Epoch 26/100\n",
            "628/628 [==============================] - 56s 90ms/step - loss: 0.8140\n",
            "Epoch 27/100\n",
            "628/628 [==============================] - 56s 89ms/step - loss: 0.8093\n",
            "Epoch 28/100\n",
            "628/628 [==============================] - 56s 89ms/step - loss: 0.8046\n",
            "Epoch 29/100\n",
            "628/628 [==============================] - 56s 89ms/step - loss: 0.8006\n",
            "Epoch 30/100\n",
            "628/628 [==============================] - 56s 89ms/step - loss: 0.7966\n",
            "Epoch 31/100\n",
            "628/628 [==============================] - 56s 89ms/step - loss: 0.7930\n",
            "Epoch 32/100\n",
            "628/628 [==============================] - 56s 89ms/step - loss: 0.7894\n",
            "Epoch 33/100\n",
            "628/628 [==============================] - 56s 89ms/step - loss: 0.7859\n",
            "Epoch 34/100\n",
            "628/628 [==============================] - 55s 88ms/step - loss: 0.7826\n",
            "Epoch 35/100\n",
            "628/628 [==============================] - 55s 87ms/step - loss: 0.7797\n",
            "Epoch 36/100\n",
            "628/628 [==============================] - 56s 89ms/step - loss: 0.7772\n",
            "Epoch 37/100\n",
            "628/628 [==============================] - 56s 89ms/step - loss: 0.7740\n",
            "Epoch 38/100\n",
            "628/628 [==============================] - 56s 89ms/step - loss: 0.7712\n",
            "Epoch 39/100\n",
            "628/628 [==============================] - 56s 89ms/step - loss: 0.7690\n",
            "Epoch 40/100\n",
            "628/628 [==============================] - 56s 89ms/step - loss: 0.7669\n",
            "Epoch 41/100\n",
            "628/628 [==============================] - 56s 89ms/step - loss: 0.7647\n",
            "Epoch 42/100\n",
            "628/628 [==============================] - 56s 89ms/step - loss: 0.7628\n",
            "Epoch 43/100\n",
            "628/628 [==============================] - 55s 88ms/step - loss: 0.7605\n",
            "Epoch 44/100\n",
            "628/628 [==============================] - 56s 88ms/step - loss: 0.7591\n",
            "Epoch 45/100\n",
            "628/628 [==============================] - 55s 88ms/step - loss: 0.7572\n",
            "Epoch 46/100\n",
            "628/628 [==============================] - 56s 89ms/step - loss: 0.7560\n",
            "Epoch 47/100\n",
            "628/628 [==============================] - 56s 89ms/step - loss: 0.7541\n",
            "Epoch 48/100\n",
            "628/628 [==============================] - 56s 89ms/step - loss: 0.7529\n",
            "Epoch 49/100\n",
            "628/628 [==============================] - 55s 88ms/step - loss: 0.7514\n",
            "Epoch 50/100\n",
            "628/628 [==============================] - 55s 88ms/step - loss: 0.7502\n",
            "Epoch 51/100\n",
            "628/628 [==============================] - 56s 89ms/step - loss: 0.7485\n",
            "Epoch 52/100\n",
            "628/628 [==============================] - 56s 89ms/step - loss: 0.7477\n",
            "Epoch 53/100\n",
            "628/628 [==============================] - 55s 88ms/step - loss: 0.7466\n",
            "Epoch 54/100\n",
            "628/628 [==============================] - 55s 88ms/step - loss: 0.7453\n",
            "Epoch 55/100\n",
            "628/628 [==============================] - 55s 87ms/step - loss: 0.7444\n",
            "Epoch 56/100\n",
            "628/628 [==============================] - 55s 88ms/step - loss: 0.7428\n",
            "Epoch 57/100\n",
            "628/628 [==============================] - 55s 88ms/step - loss: 0.7421\n",
            "Epoch 58/100\n",
            "628/628 [==============================] - 55s 88ms/step - loss: 0.7415\n",
            "Epoch 59/100\n",
            "628/628 [==============================] - 55s 88ms/step - loss: 0.7405\n",
            "Epoch 60/100\n",
            "628/628 [==============================] - 55s 88ms/step - loss: 0.7397\n",
            "Epoch 61/100\n",
            "628/628 [==============================] - 55s 88ms/step - loss: 0.7389\n",
            "Epoch 62/100\n",
            "628/628 [==============================] - 56s 88ms/step - loss: 0.7386\n",
            "Epoch 63/100\n",
            "628/628 [==============================] - 56s 89ms/step - loss: 0.7375\n",
            "Epoch 64/100\n",
            "628/628 [==============================] - 56s 88ms/step - loss: 0.7366\n",
            "Epoch 65/100\n",
            "628/628 [==============================] - 55s 88ms/step - loss: 0.7361\n",
            "Epoch 66/100\n",
            "628/628 [==============================] - 55s 88ms/step - loss: 0.7355\n",
            "Epoch 67/100\n",
            "628/628 [==============================] - 55s 87ms/step - loss: 0.7347\n",
            "Epoch 68/100\n",
            "628/628 [==============================] - 54s 87ms/step - loss: 0.7342\n",
            "Epoch 69/100\n",
            "628/628 [==============================] - 55s 87ms/step - loss: 0.7339\n",
            "Epoch 70/100\n",
            "628/628 [==============================] - 55s 87ms/step - loss: 0.7333\n",
            "Epoch 71/100\n",
            "628/628 [==============================] - 54s 87ms/step - loss: 0.7323\n",
            "Epoch 72/100\n",
            "628/628 [==============================] - 54s 87ms/step - loss: 0.7322\n",
            "Epoch 73/100\n",
            "628/628 [==============================] - 54s 86ms/step - loss: 0.7315\n",
            "Epoch 74/100\n",
            "628/628 [==============================] - 54s 86ms/step - loss: 0.7313\n",
            "Epoch 75/100\n",
            "628/628 [==============================] - 54s 87ms/step - loss: 0.7307\n",
            "Epoch 76/100\n",
            "628/628 [==============================] - 54s 86ms/step - loss: 0.7304\n",
            "Epoch 77/100\n",
            "628/628 [==============================] - 55s 88ms/step - loss: 0.7301\n",
            "Epoch 78/100\n",
            "628/628 [==============================] - 56s 89ms/step - loss: 0.7294\n",
            "Epoch 79/100\n",
            "628/628 [==============================] - 56s 89ms/step - loss: 0.7292\n",
            "Epoch 80/100\n",
            "628/628 [==============================] - 55s 88ms/step - loss: 0.7288\n",
            "Epoch 81/100\n",
            "628/628 [==============================] - 55s 87ms/step - loss: 0.7282\n",
            "Epoch 82/100\n",
            "628/628 [==============================] - 54s 87ms/step - loss: 0.7279\n",
            "Epoch 83/100\n",
            "628/628 [==============================] - 54s 87ms/step - loss: 0.7277\n",
            "Epoch 84/100\n",
            "628/628 [==============================] - 55s 87ms/step - loss: 0.7274\n",
            "Epoch 85/100\n",
            "628/628 [==============================] - 54s 87ms/step - loss: 0.7266\n",
            "Epoch 86/100\n",
            "628/628 [==============================] - 54s 87ms/step - loss: 0.7265\n",
            "Epoch 87/100\n",
            "628/628 [==============================] - 55s 87ms/step - loss: 0.7261\n",
            "Epoch 88/100\n",
            "628/628 [==============================] - 54s 87ms/step - loss: 0.7258\n",
            "Epoch 89/100\n",
            "628/628 [==============================] - 54s 87ms/step - loss: 0.7258\n",
            "Epoch 90/100\n",
            "628/628 [==============================] - 55s 87ms/step - loss: 0.7254\n",
            "Epoch 91/100\n",
            "628/628 [==============================] - 54s 86ms/step - loss: 0.7250\n",
            "Epoch 92/100\n",
            "628/628 [==============================] - 54s 87ms/step - loss: 0.7246\n",
            "Epoch 93/100\n",
            "628/628 [==============================] - 55s 87ms/step - loss: 0.7249\n",
            "Epoch 94/100\n",
            "628/628 [==============================] - 55s 87ms/step - loss: 0.7248\n",
            "Epoch 95/100\n",
            "628/628 [==============================] - 54s 87ms/step - loss: 0.7242\n",
            "Epoch 96/100\n",
            "628/628 [==============================] - 55s 87ms/step - loss: 0.7240\n",
            "Epoch 97/100\n",
            "628/628 [==============================] - 54s 87ms/step - loss: 0.7240\n",
            "Epoch 98/100\n",
            "628/628 [==============================] - 55s 87ms/step - loss: 0.7237\n",
            "Epoch 99/100\n",
            "628/628 [==============================] - 54s 87ms/step - loss: 0.7236\n",
            "Epoch 100/100\n",
            "515/628 [=======================>......] - ETA: 9s - loss: 0.7274Buffered data was truncated after reaching the output size limit."
          ],
          "name": "stdout"
        }
      ]
    },
    {
      "cell_type": "code",
      "metadata": {
        "id": "9aPs9MN-Ex-B",
        "colab_type": "code",
        "outputId": "e9d4abaa-64ef-4c2f-ffc2-592f805b13a8",
        "colab": {
          "base_uri": "https://localhost:8080/",
          "height": 34
        }
      },
      "source": [
        "fileObject = open('drive/My Drive/Colab Notebooks/history.txt', 'w', encoding='utf-8')\n",
        "fileObject.write(' '.join(list(map(str, history.history.get('loss')))))"
      ],
      "execution_count": 0,
      "outputs": [
        {
          "output_type": "execute_result",
          "data": {
            "text/plain": [
              "1884"
            ]
          },
          "metadata": {
            "tags": []
          },
          "execution_count": 46
        }
      ]
    },
    {
      "cell_type": "code",
      "metadata": {
        "id": "w9onePpBB0DD",
        "colab_type": "code",
        "outputId": "cc6542eb-9e2a-4ba5-c45c-824c8457ac4a",
        "colab": {
          "base_uri": "https://localhost:8080/",
          "height": 624
        }
      },
      "source": [
        "plt.figure(figsize=(10, 10))\n",
        "x = list(range(1, EPOCH+1))\n",
        "plt.title('Loss function on 100 epochs')\n",
        "plt.plot(x, history.history.get('loss'))"
      ],
      "execution_count": 0,
      "outputs": [
        {
          "output_type": "execute_result",
          "data": {
            "text/plain": [
              "[<matplotlib.lines.Line2D at 0x7f3c39a4dba8>]"
            ]
          },
          "metadata": {
            "tags": []
          },
          "execution_count": 41
        },
        {
          "output_type": "display_data",
          "data": {
            "image/png": "[encoded data removed]",
            "text/plain": [
              "<Figure size 720x720 with 1 Axes>"
            ]
          },
          "metadata": {
            "tags": []
          }
        }
      ]
    },
    {
      "cell_type": "code",
      "metadata": {
        "id": "Q7DjowYTFAPZ",
        "colab_type": "code",
        "colab": {}
      },
      "source": [
        ""
      ],
      "execution_count": 0,
      "outputs": []
    }
  ]
}