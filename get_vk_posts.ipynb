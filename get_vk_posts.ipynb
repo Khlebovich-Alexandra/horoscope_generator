{
 "cells": [
  {
   "cell_type": "code",
   "execution_count": 1,
   "metadata": {},
   "outputs": [],
   "source": [
    "import sys\n",
    "sys.path.insert(1, '../../PyCharm/VK_skrapper')\n",
    "\n",
    "import pandas as pd\n",
    "import time\n",
    "from vk_scrap import CreateAPI, GetInformationFromVk, GetPostsFromGroup"
   ]
  },
  {
   "cell_type": "code",
   "execution_count": null,
   "metadata": {},
   "outputs": [],
   "source": [
    "login = input()\n",
    "password = input()"
   ]
  },
  {
   "cell_type": "code",
   "execution_count": 3,
   "metadata": {},
   "outputs": [],
   "source": [
    "creator = CreateAPI()\n",
    "api = creator.create_using_login_password(login, password)"
   ]
  },
  {
   "cell_type": "code",
   "execution_count": 4,
   "metadata": {},
   "outputs": [],
   "source": [
    "getter_new = GetInformationFromVk(api)"
   ]
  },
  {
   "cell_type": "markdown",
   "metadata": {},
   "source": [
    "# 1st groups"
   ]
  },
  {
   "cell_type": "code",
   "execution_count": 78,
   "metadata": {},
   "outputs": [],
   "source": [
    "# Рыбы, Дева, Лев,\n",
    "# Рак, Близнецы, Овен, \n",
    "# Телец, Скорпион, Водолей, \n",
    "# Козерог, Весы, Стрелец "
   ]
  },
  {
   "cell_type": "code",
   "execution_count": 79,
   "metadata": {},
   "outputs": [],
   "source": [
    "domains = ['pisces_horoscope', 'virgo_horoscope', 'leo_horoscope',\n",
    "           'cancer_horoscope', 'gemini_horoscope', 'aries_horoscope',\n",
    "           'taurus_horoscope', 'scorpius_horoscope', 'aquarius_horoscope',\n",
    "           'capricornus_horoscope', 'libra_horoscope', 'sagittarius_horoscop']"
   ]
  },
  {
   "cell_type": "code",
   "execution_count": 80,
   "metadata": {},
   "outputs": [
    {
     "name": "stdout",
     "output_type": "stream",
     "text": [
      "496.97233033180237\n"
     ]
    }
   ],
   "source": [
    "start = time.time()\n",
    "posts = getter_new.get_posts(api, domains)\n",
    "end = time.time()\n",
    "print(end - start)"
   ]
  },
  {
   "cell_type": "code",
   "execution_count": 82,
   "metadata": {},
   "outputs": [
    {
     "data": {
      "text/plain": [
       "0        Рыбы | 14 сентября \\n \\nРыб нельзя заменить ни...\n",
       "1        Рыбы | 13 сентября \\n \\nРыбы сели бы в машину,...\n",
       "2        Рыбы | 12 сентября \\n \\nВы хорошо выносите моз...\n",
       "3        Рыбы | 11 сентября \\n \\nКак это часто бывает, ...\n",
       "4        Рыбы | 10 сентября \\n \\nРазвратный понедельник...\n",
       "                               ...                        \n",
       "31684    10 мая.\\n \\nСегодня вам покажется что все круг...\n",
       "31685    9 мая\\n\\nЕбать за вами идет охота!Кто то в нат...\n",
       "31686    8 мая. Стрелец\\n\\nКто - кто а Стрельцы сегодня...\n",
       "31687    7 мая\\n\\nВас ожидают пиздатые тенденции в личн...\n",
       "31688    6 мая.\\n\\nВы заслужили. Нет, блять, вы действи...\n",
       "Name: text, Length: 31689, dtype: object"
      ]
     },
     "execution_count": 82,
     "metadata": {},
     "output_type": "execute_result"
    }
   ],
   "source": [
    "posts"
   ]
  },
  {
   "cell_type": "code",
   "execution_count": 99,
   "metadata": {},
   "outputs": [],
   "source": [
    "posts.to_csv('Data\\\\horoscope_1.txt', sep=' ', header=False, index=False)"
   ]
  },
  {
   "cell_type": "markdown",
   "metadata": {},
   "source": [
    "# 2nd groups"
   ]
  },
  {
   "cell_type": "code",
   "execution_count": 5,
   "metadata": {},
   "outputs": [],
   "source": [
    "# Рыбы, Дева, Лев,\n",
    "# Рак, Близнецы, Овен, \n",
    "# Телец, Скорпион, Водолей, \n",
    "# Козерог, Весы, Стрелец "
   ]
  },
  {
   "cell_type": "code",
   "execution_count": 6,
   "metadata": {},
   "outputs": [],
   "source": [
    "domains = ['ribyhoroscop', 'devahoroscop', 'levhoroscop',\n",
    "           'rakhoroscop', 'bliznetsihoroscop', 'ovenhoroscop',\n",
    "           'telechoroscop', 'scorpionhoroscop', 'vodoleihoroscop',\n",
    "           'kozeroghoroscop', 'vesyhoroscop', 'strelechoroscop']"
   ]
  },
  {
   "cell_type": "code",
   "execution_count": 108,
   "metadata": {},
   "outputs": [],
   "source": [
    "posts_2 = getter_new.get_posts(api, domains)"
   ]
  },
  {
   "cell_type": "code",
   "execution_count": 109,
   "metadata": {},
   "outputs": [
    {
     "data": {
      "text/plain": [
       "0        Гороскоп на 2 декабря 2019 года \\n Нет ничего ...\n",
       "1        Гороскоп на 1 декабря 2019 года \\n Сегодняшний...\n",
       "2        Гороскоп на 30 ноября 2019 года \\n Сегодня ник...\n",
       "3        Гороскоп на 29 ноября 2019 года \\n Сегодня вы ...\n",
       "4        Гороскоп на 28 ноября 2019 года \\n Сегодня вам...\n",
       "                               ...                        \n",
       "32666    2 марта, воскресенье\\n\\nДень преобразования ко...\n",
       "32667    1 марта, суббота\\n\\n1 марта - полон перемен дл...\n",
       "32668    28 февраля, пятница\\n\\nУтром не мешкая приступ...\n",
       "32669    27 февраля, четверг\\n\\nОбщительность и дружелю...\n",
       "32670    26 февраля\\n\\nСвободное общение может стать за...\n",
       "Name: text, Length: 32671, dtype: object"
      ]
     },
     "execution_count": 109,
     "metadata": {},
     "output_type": "execute_result"
    }
   ],
   "source": [
    "posts_2"
   ]
  },
  {
   "cell_type": "code",
   "execution_count": 110,
   "metadata": {},
   "outputs": [],
   "source": [
    "posts_2.to_csv('Data\\\\horoscope_2.txt', sep=' ', header=False, index=False)"
   ]
  },
  {
   "cell_type": "code",
   "execution_count": 7,
   "metadata": {
    "scrolled": true
   },
   "outputs": [
    {
     "name": "stdout",
     "output_type": "stream",
     "text": [
      "Done ribyhoroscop\n",
      "Done devahoroscop\n",
      "Done levhoroscop\n",
      "Done rakhoroscop\n",
      "Done bliznetsihoroscop\n",
      "Done ovenhoroscop\n",
      "Done telechoroscop\n",
      "Done scorpionhoroscop\n",
      "Done vodoleihoroscop\n",
      "Done kozeroghoroscop\n",
      "Done vesyhoroscop\n",
      "Done strelechoroscop\n"
     ]
    }
   ],
   "source": [
    "for domain in domains:\n",
    "    posts = getter_new.get_posts(api, [domain])\n",
    "    posts.to_csv(('Data\\\\horoscope_' + domain + '.txt'), sep=' ', header=False, index=False)\n",
    "    print('Done ' + domain)"
   ]
  },
  {
   "cell_type": "markdown",
   "metadata": {},
   "source": [
    "# 3rd groups"
   ]
  },
  {
   "cell_type": "code",
   "execution_count": 5,
   "metadata": {},
   "outputs": [],
   "source": [
    "# Рыбы, Дева, Лев,\n",
    "# Рак, Близнецы, Овен, \n",
    "# Телец, Скорпион, Водолей, \n",
    "# Козерог, Весы, Стрелец "
   ]
  },
  {
   "cell_type": "code",
   "execution_count": 6,
   "metadata": {},
   "outputs": [],
   "source": [
    "domains = ['piscesssss', 'virgoooo', 'leoleoo',\n",
    "           'cancerrrr', 'geminiiii', 'ariesssss',\n",
    "           'taurusssss', 'scorpioooo', 'aquariussssss',\n",
    "           'capricornussss', 'libraaaa', 'sagittariussss']"
   ]
  },
  {
   "cell_type": "code",
   "execution_count": 104,
   "metadata": {},
   "outputs": [],
   "source": [
    "posts_3 = getter_new.get_posts(api, domains)"
   ]
  },
  {
   "cell_type": "code",
   "execution_count": 105,
   "metadata": {},
   "outputs": [
    {
     "data": {
      "text/plain": [
       "0        ♓Гороскоп на 26 июня. Рыбы\\nОдин из «чистых» д...\n",
       "1        ♓Гороскоп на 25 июня. Рыбы\\nВ этот день будут ...\n",
       "2        ♓Гороскоп на 24 июня. Рыбы\\nДень будет благопр...\n",
       "3        ♓Гороскоп на 23 июня. Рыбы\\nСегодня вероятна р...\n",
       "4        ♓Гороскоп на 22 июня. Рыбы\\nСегодня уделите вс...\n",
       "                               ...                        \n",
       "22264    Гороскоп на 21 апреля. Стрелец\\nОщущение вечно...\n",
       "22265    Гороскоп на 20 апреля. Стрелец\\nСегодня мысли ...\n",
       "22266    Гороскоп на 19 апреля. Стрелец\\nСегодня настан...\n",
       "22267    Гороскоп на 18 апреля. Стрелец\\nОкружающие сли...\n",
       "22268    Гороскоп на 17 апреля. Стрелец\\nСегодня вы цел...\n",
       "Name: text, Length: 22269, dtype: object"
      ]
     },
     "execution_count": 105,
     "metadata": {},
     "output_type": "execute_result"
    }
   ],
   "source": [
    "posts_3"
   ]
  },
  {
   "cell_type": "code",
   "execution_count": 106,
   "metadata": {},
   "outputs": [],
   "source": [
    "posts_3.to_csv('Data not used\\\\horoscope_3.txt', sep=' ', header=False, index=False)"
   ]
  },
  {
   "cell_type": "markdown",
   "metadata": {},
   "source": [
    "# 4th groups"
   ]
  },
  {
   "cell_type": "code",
   "execution_count": 78,
   "metadata": {},
   "outputs": [],
   "source": [
    "# Рыбы, Дева, Лев,\n",
    "# Рак, Близнецы, Овен, \n",
    "# Телец, Скорпион, Водолей, \n",
    "# Козерог, Весы, Стрелец "
   ]
  },
  {
   "cell_type": "code",
   "execution_count": 111,
   "metadata": {},
   "outputs": [],
   "source": [
    "domains = ['truehoroscop_ryby', 'truehoroscop_deva', 'truehoroscop_lev',\n",
    "           'truehoroscop_rak', 'truehoroscop_blizneci', 'truehoroscop_oven',\n",
    "           'truehoroscop_telec', 'truehoroscop_skorpion', 'truehoroscop_vodoley',\n",
    "           'truehoroscop_kozerog', 'truehoroscop_vesy', 'truehoroscop_strelec']"
   ]
  },
  {
   "cell_type": "code",
   "execution_count": 112,
   "metadata": {},
   "outputs": [],
   "source": [
    "posts_4 = getter_new.get_posts(api, domains)"
   ]
  },
  {
   "cell_type": "code",
   "execution_count": 113,
   "metadata": {},
   "outputs": [
    {
     "data": {
      "text/plain": [
       "0        20 ноября \\n\\nЗдоровье:\\nЕсли вы решили начать...\n",
       "1        20 ноября\\n\\nОтношения:\\nНе самый подходящий д...\n",
       "2        19 ноября \\n\\nЗдоровье:\\nПостарайтесь серьезно...\n",
       "3        19 ноября\\n\\nРабота:\\nСоблюдайте осторожность ...\n",
       "4        18 ноября \\n\\nЗдоровье:\\nВам особенно пойдут н...\n",
       "                               ...                        \n",
       "79451    17-ноя-2012, суббота\\n\\nЗдоровье: \\n\\nСегодня ...\n",
       "79452    16-ноя-2012, пятница\\n\\nОтношения:\\n\\nВелика в...\n",
       "79453    16-ноя-2012, пятница\\n\\nРабота:\\n\\nГолова сего...\n",
       "79454    16-ноя-2012, пятница\\n\\nЗдоровье:\\n\\nСтрельцы ...\n",
       "79455     Список астрологов опубликуется сегодня в 21 час.\n",
       "Name: text, Length: 79456, dtype: object"
      ]
     },
     "execution_count": 113,
     "metadata": {},
     "output_type": "execute_result"
    }
   ],
   "source": [
    "posts_4"
   ]
  },
  {
   "cell_type": "code",
   "execution_count": 114,
   "metadata": {},
   "outputs": [],
   "source": [
    "posts_4.to_csv('Data not used\\\\horoscope_4.txt', sep=' ', header=False, index=False)"
   ]
  }
 ],
 "metadata": {
  "kernelspec": {
   "display_name": "Python 3",
   "language": "python",
   "name": "python3"
  },
  "language_info": {
   "codemirror_mode": {
    "name": "ipython",
    "version": 3
   },
   "file_extension": ".py",
   "mimetype": "text/x-python",
   "name": "python",
   "nbconvert_exporter": "python",
   "pygments_lexer": "ipython3",
   "version": "3.6.5"
  }
 },
 "nbformat": 4,
 "nbformat_minor": 2
}
