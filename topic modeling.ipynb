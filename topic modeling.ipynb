{
 "cells": [
  {
   "cell_type": "code",
   "execution_count": 78,
   "metadata": {},
   "outputs": [],
   "source": [
    "import pandas as pd\n",
    "import numpy as np\n",
    "import random\n",
    "\n",
    "from tqdm import tqdm_notebook\n",
    "import gensim\n",
    "import gensim.corpora as corpora\n",
    "from gensim.models import CoherenceModel\n",
    "from gensim.utils import simple_preprocess\n",
    "import re\n",
    "\n",
    "from sklearn.datasets import fetch_20newsgroups\n",
    "from sklearn.metrics import classification_report\n",
    "\n",
    "from nltk.stem import PorterStemmer\n",
    "from nltk.stem.snowball import RussianStemmer\n",
    "from nltk.corpus import stopwords\n",
    "\n",
    "# Plotting tools\n",
    "import pyLDAvis\n",
    "import pyLDAvis.gensim\n",
    "\n",
    "import pickle\n",
    "\n",
    "from matplotlib import pyplot as plt\n",
    "import seaborn as sns\n",
    "%matplotlib inline\n",
    "\n",
    "import warnings\n",
    "warnings.filterwarnings(\"ignore\",category=DeprecationWarning)"
   ]
  },
  {
   "cell_type": "code",
   "execution_count": 8,
   "metadata": {},
   "outputs": [],
   "source": [
    "posts = pd.read_csv('Data/final_posts.csv')"
   ]
  },
  {
   "cell_type": "code",
   "execution_count": 10,
   "metadata": {},
   "outputs": [
    {
     "data": {
      "text/html": [
       "<div>\n",
       "<style scoped>\n",
       "    .dataframe tbody tr th:only-of-type {\n",
       "        vertical-align: middle;\n",
       "    }\n",
       "\n",
       "    .dataframe tbody tr th {\n",
       "        vertical-align: top;\n",
       "    }\n",
       "\n",
       "    .dataframe thead th {\n",
       "        text-align: right;\n",
       "    }\n",
       "</style>\n",
       "<table border=\"1\" class=\"dataframe\">\n",
       "  <thead>\n",
       "    <tr style=\"text-align: right;\">\n",
       "      <th></th>\n",
       "      <th>Unnamed: 0</th>\n",
       "      <th>text</th>\n",
       "      <th>length</th>\n",
       "      <th>date</th>\n",
       "      <th>type</th>\n",
       "      <th>index in posts</th>\n",
       "      <th>domain</th>\n",
       "      <th>index_before_concat</th>\n",
       "    </tr>\n",
       "  </thead>\n",
       "  <tbody>\n",
       "    <tr>\n",
       "      <td>0</td>\n",
       "      <td>0</td>\n",
       "      <td>[сегодня, вы, можете, почувствовать, незащищен...</td>\n",
       "      <td>339</td>\n",
       "      <td>11 декабря</td>\n",
       "      <td>business</td>\n",
       "      <td>0</td>\n",
       "      <td>ribyhoroscop</td>\n",
       "      <td>0</td>\n",
       "    </tr>\n",
       "    <tr>\n",
       "      <td>1</td>\n",
       "      <td>1</td>\n",
       "      <td>[вам, звезды, рекомендуют, сегодня, больше, ра...</td>\n",
       "      <td>303</td>\n",
       "      <td>11 декабря</td>\n",
       "      <td>love</td>\n",
       "      <td>0</td>\n",
       "      <td>ribyhoroscop</td>\n",
       "      <td>1</td>\n",
       "    </tr>\n",
       "    <tr>\n",
       "      <td>2</td>\n",
       "      <td>2</td>\n",
       "      <td>[если, сегодня, вы, почувствуете, робость, или...</td>\n",
       "      <td>215</td>\n",
       "      <td>11 декабря</td>\n",
       "      <td>simple</td>\n",
       "      <td>0</td>\n",
       "      <td>ribyhoroscop</td>\n",
       "      <td>2</td>\n",
       "    </tr>\n",
       "    <tr>\n",
       "      <td>3</td>\n",
       "      <td>3</td>\n",
       "      <td>[сегодня, звезды, рекомендуют, вам, заняться, ...</td>\n",
       "      <td>278</td>\n",
       "      <td>10 декабря</td>\n",
       "      <td>business</td>\n",
       "      <td>1</td>\n",
       "      <td>ribyhoroscop</td>\n",
       "      <td>3</td>\n",
       "    </tr>\n",
       "  </tbody>\n",
       "</table>\n",
       "</div>"
      ],
      "text/plain": [
       "   Unnamed: 0                                               text  length  \\\n",
       "0           0  [сегодня, вы, можете, почувствовать, незащищен...     339   \n",
       "1           1  [вам, звезды, рекомендуют, сегодня, больше, ра...     303   \n",
       "2           2  [если, сегодня, вы, почувствуете, робость, или...     215   \n",
       "3           3  [сегодня, звезды, рекомендуют, вам, заняться, ...     278   \n",
       "\n",
       "         date      type  index in posts        domain  index_before_concat  \n",
       "0  11 декабря  business               0  ribyhoroscop                    0  \n",
       "1  11 декабря      love               0  ribyhoroscop                    1  \n",
       "2  11 декабря    simple               0  ribyhoroscop                    2  \n",
       "3  10 декабря  business               1  ribyhoroscop                    3  "
      ]
     },
     "execution_count": 10,
     "metadata": {},
     "output_type": "execute_result"
    }
   ],
   "source": [
    "posts.text = posts.text.map(lambda x: re.sub(r'[– \\-,\\.?!\\\\/()»«“”#%=;:*+_=]+', ' ', x.lower()))\n",
    "posts.text = [simple_preprocess(line, deacc=True) for line in posts.text]\n",
    "posts.head(4)"
   ]
  },
  {
   "cell_type": "code",
   "execution_count": 11,
   "metadata": {},
   "outputs": [],
   "source": [
    "def remove_stopwords(texts):\n",
    "    stop_words = stopwords.words(\"russian\")\n",
    "    return [[word for word in simple_preprocess(str(doc)) if word not in stop_words] for doc in texts]\n",
    "\n",
    "def make_bigrams(texts):\n",
    "    return [bigram_mod[doc] for doc in texts]\n",
    "\n",
    "def make_trigrams(texts):\n",
    "    return [trigram_mod[bigram_mod[doc]] for doc in texts]\n",
    "\n",
    "def stemming(texts):\n",
    "    stemmer = RussianStemmer()\n",
    "    texts_out = []\n",
    "    for text in texts:\n",
    "        texts_out.append([stemmer.stem(word) for word in text])\n",
    "    return texts_out"
   ]
  },
  {
   "cell_type": "code",
   "execution_count": 12,
   "metadata": {},
   "outputs": [],
   "source": [
    "posts.text = remove_stopwords(posts.text)"
   ]
  },
  {
   "cell_type": "code",
   "execution_count": 13,
   "metadata": {},
   "outputs": [],
   "source": [
    "posts_stem = stemming(posts.text)"
   ]
  },
  {
   "cell_type": "code",
   "execution_count": 21,
   "metadata": {},
   "outputs": [],
   "source": [
    "posts_stem = list(map(lambda a:\n",
    "                      ['вы' if x=='стрельц' else x for x in a], posts_stem))"
   ]
  },
  {
   "cell_type": "code",
   "execution_count": 179,
   "metadata": {},
   "outputs": [],
   "source": [
    "a = posts.text.copy()\n",
    "b = posts.type.copy()\n",
    "d = posts.domain.copy()\n",
    "z = list(zip(a, b, d))\n",
    "random.shuffle(z)\n",
    "a, b, d = zip(*z)\n",
    "a = list(a)\n",
    "b = list(b)\n",
    "d = list(d)"
   ]
  },
  {
   "cell_type": "code",
   "execution_count": 180,
   "metadata": {},
   "outputs": [
    {
     "name": "stdout",
     "output_type": "stream",
     "text": [
      "[[(0, 1), (1, 1), (2, 1), (3, 1), (4, 1), (5, 1), (6, 1), (7, 1), (8, 1), (9, 1), (10, 1), (11, 1), (12, 1), (13, 1), (14, 1), (15, 1), (16, 1), (17, 1), (18, 1), (19, 1), (20, 1), (21, 1)]]\n"
     ]
    }
   ],
   "source": [
    "# Create Dictionary\n",
    "id2word = corpora.Dictionary(a)\n",
    "# Create Corpus\n",
    "texts = a\n",
    "# filter extremes\n",
    "id2word.filter_extremes(no_below=3, no_above=0.75)\n",
    "id2word.compactify()\n",
    "# Term Document Frequency\n",
    "corpus = [id2word.doc2bow(text) for text in texts]\n",
    "print(corpus[0:1])"
   ]
  },
  {
   "cell_type": "code",
   "execution_count": 181,
   "metadata": {},
   "outputs": [
    {
     "data": {
      "text/plain": [
       "[[('вашего', 1),\n",
       "  ('вашу', 1),\n",
       "  ('вреднои', 1),\n",
       "  ('делать', 1),\n",
       "  ('день', 1),\n",
       "  ('довольно', 1),\n",
       "  ('какои', 1),\n",
       "  ('любимого', 1),\n",
       "  ('накричать', 1),\n",
       "  ('настолько', 1),\n",
       "  ('однако', 1),\n",
       "  ('половинку', 1),\n",
       "  ('привычкои', 1),\n",
       "  ('разговор', 1),\n",
       "  ('раздражать', 1),\n",
       "  ('смириться', 1),\n",
       "  ('спокоиныи', 1),\n",
       "  ('стоит', 1),\n",
       "  ('трудно', 1),\n",
       "  ('хотеться', 1),\n",
       "  ('человека', 1),\n",
       "  ('эффективнее', 1)]]"
      ]
     },
     "execution_count": 181,
     "metadata": {},
     "output_type": "execute_result"
    }
   ],
   "source": [
    "[[(id2word[id], freq) for id, freq in cp] for cp in corpus[0:1]]"
   ]
  },
  {
   "cell_type": "code",
   "execution_count": 182,
   "metadata": {},
   "outputs": [
    {
     "data": {
      "text/plain": [
       "20699"
      ]
     },
     "execution_count": 182,
     "metadata": {},
     "output_type": "execute_result"
    }
   ],
   "source": [
    "len(id2word)"
   ]
  },
  {
   "cell_type": "code",
   "execution_count": 183,
   "metadata": {},
   "outputs": [
    {
     "name": "stdout",
     "output_type": "stream",
     "text": [
      "Wall time: 1min 5s\n"
     ]
    }
   ],
   "source": [
    "%%time\n",
    "lda_model = gensim.models.ldamodel.LdaModel(corpus=corpus,\n",
    "                                            id2word=id2word,\n",
    "                                            num_topics=3,\n",
    "                                            random_state=100,\n",
    "                                            update_every=2,\n",
    "                                            chunksize=30,\n",
    "                                            passes=5,\n",
    "                                            alpha='auto',\n",
    "                                            per_word_topics=True)  "
   ]
  },
  {
   "cell_type": "code",
   "execution_count": 184,
   "metadata": {},
   "outputs": [
    {
     "data": {
      "text/plain": [
       "[(0,\n",
       "  '0.042*\"завтра\" + 0.014*\"звезды\" + 0.014*\"человеком\" + 0.012*\"это\" + 0.011*\"любимым\" + 0.009*\"своим\" + 0.008*\"стоит\" + 0.008*\"любви\" + 0.007*\"советуют\" + 0.006*\"день\"'),\n",
       " (1,\n",
       "  '0.021*\"день\" + 0.010*\"могут\" + 0.007*\"время\" + 0.006*\"дня\" + 0.006*\"свои\" + 0.005*\"которые\" + 0.005*\"дела\" + 0.005*\"сеичас\" + 0.005*\"будут\" + 0.004*\"людьми\"'),\n",
       " (2,\n",
       "  '0.034*\"сегодня\" + 0.015*\"это\" + 0.010*\"будете\" + 0.009*\"очень\" + 0.008*\"день\" + 0.008*\"стоит\" + 0.007*\"вашеи\" + 0.007*\"придется\" + 0.007*\"постараитесь\" + 0.006*\"можете\"')]"
      ]
     },
     "execution_count": 184,
     "metadata": {},
     "output_type": "execute_result"
    }
   ],
   "source": [
    "lda_model.print_topics(num_words=10)"
   ]
  },
  {
   "cell_type": "code",
   "execution_count": 185,
   "metadata": {},
   "outputs": [
    {
     "name": "stdout",
     "output_type": "stream",
     "text": [
      "\n",
      "Perplexity on train:  -8.459653031335248\n"
     ]
    }
   ],
   "source": [
    "# Compute Perplexity on train\n",
    "print('\\nPerplexity on train: ', lda_model.log_perplexity(corpus))  # a measure of how good the model is. lower the better."
   ]
  },
  {
   "cell_type": "code",
   "execution_count": 192,
   "metadata": {},
   "outputs": [
    {
     "name": "stdout",
     "output_type": "stream",
     "text": [
      "Wall time: 7.01 s\n"
     ]
    }
   ],
   "source": [
    "%%time\n",
    "vec = []\n",
    "pred = []\n",
    "for i in range(len(a)):\n",
    "    top_topics = lda_model.get_document_topics(corpus[i], minimum_probability=0.0)\n",
    "    topic_vec = [top_topics[i][1] for i in range(3)]\n",
    "    vec.append(topic_vec)\n",
    "    pred.append(np.argmax(topic_vec))"
   ]
  },
  {
   "cell_type": "code",
   "execution_count": 193,
   "metadata": {},
   "outputs": [],
   "source": [
    "pred = pd.Series(pred).map(lambda x: 'love' if x==0 else 'simple' if x==1 else 'business')"
   ]
  },
  {
   "cell_type": "code",
   "execution_count": 219,
   "metadata": {},
   "outputs": [
    {
     "data": {
      "text/plain": [
       "simple_pred      13185\n",
       "business_pred    10144\n",
       "love_pred         3633\n",
       "Name: predicted, dtype: int64"
      ]
     },
     "execution_count": 219,
     "metadata": {},
     "output_type": "execute_result"
    }
   ],
   "source": [
    "pd.Series(pred,  name='predicted').value_counts()"
   ]
  },
  {
   "cell_type": "code",
   "execution_count": 220,
   "metadata": {},
   "outputs": [],
   "source": [
    "pred = pd.Series(pred, name='predicted').map(lambda x: x+'_pred')"
   ]
  },
  {
   "cell_type": "code",
   "execution_count": 300,
   "metadata": {},
   "outputs": [
    {
     "data": {
      "text/html": [
       "<div>\n",
       "<style scoped>\n",
       "    .dataframe tbody tr th:only-of-type {\n",
       "        vertical-align: middle;\n",
       "    }\n",
       "\n",
       "    .dataframe tbody tr th {\n",
       "        vertical-align: top;\n",
       "    }\n",
       "\n",
       "    .dataframe thead th {\n",
       "        text-align: right;\n",
       "    }\n",
       "</style>\n",
       "<table border=\"1\" class=\"dataframe\">\n",
       "  <thead>\n",
       "    <tr style=\"text-align: right;\">\n",
       "      <th>real</th>\n",
       "      <th>business</th>\n",
       "      <th>love</th>\n",
       "      <th>simple</th>\n",
       "    </tr>\n",
       "    <tr>\n",
       "      <th>predicted</th>\n",
       "      <th></th>\n",
       "      <th></th>\n",
       "      <th></th>\n",
       "    </tr>\n",
       "  </thead>\n",
       "  <tbody>\n",
       "    <tr>\n",
       "      <td>business_pred</td>\n",
       "      <td>1682</td>\n",
       "      <td>4315</td>\n",
       "      <td>4147</td>\n",
       "    </tr>\n",
       "    <tr>\n",
       "      <td>love_pred</td>\n",
       "      <td>45</td>\n",
       "      <td>3073</td>\n",
       "      <td>515</td>\n",
       "    </tr>\n",
       "    <tr>\n",
       "      <td>simple_pred</td>\n",
       "      <td>998</td>\n",
       "      <td>486</td>\n",
       "      <td>11701</td>\n",
       "    </tr>\n",
       "  </tbody>\n",
       "</table>\n",
       "</div>"
      ],
      "text/plain": [
       "real           business  love  simple\n",
       "predicted                            \n",
       "business_pred      1682  4315    4147\n",
       "love_pred            45  3073     515\n",
       "simple_pred         998   486   11701"
      ]
     },
     "execution_count": 300,
     "metadata": {},
     "output_type": "execute_result"
    }
   ],
   "source": [
    "table = pd.crosstab(pred, pd.Series(b, name='real'))\n",
    "table"
   ]
  },
  {
   "cell_type": "code",
   "execution_count": 298,
   "metadata": {},
   "outputs": [],
   "source": [
    "plt.style.use('default')"
   ]
  },
  {
   "cell_type": "code",
   "execution_count": 301,
   "metadata": {},
   "outputs": [],
   "source": [
    "tmp = table.iloc[0].copy()\n",
    "table.iloc[0], table.iloc[2] = table.iloc[2], tmp\n",
    "table.iloc[2], table.iloc[1] = table.iloc[1], tmp"
   ]
  },
  {
   "cell_type": "code",
   "execution_count": 368,
   "metadata": {},
   "outputs": [
    {
     "data": {
      "image/png": "[encoded data removed]",
      "text/plain": [
       "<Figure size 800x800 with 1 Axes>"
      ]
     },
     "metadata": {},
     "output_type": "display_data"
    }
   ],
   "source": [
    "fig = plt.figure(figsize=(8, 8), facecolor='#ececec')\n",
    "N = 3\n",
    "business = table['business']\n",
    "love = table['love']\n",
    "simple = table['simple']\n",
    "ind = np.arange(N)    # the x locations for the groups\n",
    "width = 0.35       # the width of the bars: can also be len(x) sequence\n",
    "\n",
    "ax = plt.gca()\n",
    "ax.set_facecolor('#ececec')\n",
    "p2 = plt.bar(ind, simple, width, color='#9774CC')\n",
    "p1 = plt.bar(ind, love, width, bottom=simple, color='#EBBAB9')\n",
    "p0 = plt.bar(ind, business, width, bottom=love+simple, color='#D1D2F9')\n",
    "\n",
    "plt.ylabel('Count')\n",
    "plt.title('Topic modeling results')\n",
    "plt.xticks(ind, ('Simple', 'Business', 'Love'))\n",
    "plt.legend((p0[0], p1[0], p2[0]), ('Business horoscope predicted', 'Love horoscope predicted', 'Simple horoscope predicted'),\n",
    "           facecolor='#ececec')\n",
    "\n",
    "plt.savefig('Plots/type_bar.png', facecolor=fig.get_facecolor(), dpi=300, edgecolor='none')\n",
    "plt.show()"
   ]
  },
  {
   "cell_type": "code",
   "execution_count": null,
   "metadata": {},
   "outputs": [],
   "source": []
  }
 ],
 "metadata": {
  "kernelspec": {
   "display_name": "Python 3",
   "language": "python",
   "name": "python3"
  },
  "language_info": {
   "codemirror_mode": {
    "name": "ipython",
    "version": 3
   },
   "file_extension": ".py",
   "mimetype": "text/x-python",
   "name": "python",
   "nbconvert_exporter": "python",
   "pygments_lexer": "ipython3",
   "version": "3.6.5"
  }
 },
 "nbformat": 4,
 "nbformat_minor": 2
}
