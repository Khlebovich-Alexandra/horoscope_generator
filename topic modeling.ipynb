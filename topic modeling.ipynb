{
 "cells": [
  {
   "cell_type": "code",
   "execution_count": 22,
   "metadata": {},
   "outputs": [],
   "source": [
    "import pandas as pd\n",
    "import numpy as np\n",
    "\n",
    "from tqdm import tqdm_notebook\n",
    "import gensim\n",
    "import gensim.corpora as corpora\n",
    "from gensim.models import CoherenceModel\n",
    "from gensim.utils import simple_preprocess\n",
    "import re\n",
    "\n",
    "from sklearn.datasets import fetch_20newsgroups\n",
    "from sklearn.metrics import classification_report\n",
    "\n",
    "from nltk.stem import PorterStemmer\n",
    "from nltk.stem.snowball import RussianStemmer\n",
    "from nltk.corpus import stopwords\n",
    "\n",
    "# Plotting tools\n",
    "import pyLDAvis\n",
    "import pyLDAvis.gensim\n",
    "\n",
    "import pickle\n",
    "\n",
    "from matplotlib import pyplot as plt\n",
    "import seaborn as sns\n",
    "%matplotlib inline\n",
    "\n",
    "import warnings\n",
    "warnings.filterwarnings(\"ignore\",category=DeprecationWarning)"
   ]
  },
  {
   "cell_type": "code",
   "execution_count": 3,
   "metadata": {},
   "outputs": [],
   "source": [
    "posts = pd.read_csv('Data/final_posts.csv').text"
   ]
  },
  {
   "cell_type": "code",
   "execution_count": 15,
   "metadata": {},
   "outputs": [
    {
     "data": {
      "text/plain": [
       "['сегодня',\n",
       " 'ваш',\n",
       " 'любимыи',\n",
       " 'человек',\n",
       " 'признается',\n",
       " 'том',\n",
       " 'что',\n",
       " 'ему',\n",
       " 'оказывается',\n",
       " 'никогда',\n",
       " 'не',\n",
       " 'нравилось',\n",
       " 'представителях',\n",
       " 'пола',\n",
       " 'какое',\n",
       " 'то',\n",
       " 'качество',\n",
       " 'которое',\n",
       " 'буиным',\n",
       " 'цветом',\n",
       " 'цветет',\n",
       " 'вас',\n",
       " 'лишь',\n",
       " 'вы',\n",
       " 'заставили',\n",
       " 'его',\n",
       " 'посмотреть',\n",
       " 'на',\n",
       " 'это',\n",
       " 'самое',\n",
       " 'качество',\n",
       " 'по',\n",
       " 'другому',\n",
       " 'можете',\n",
       " 'быть',\n",
       " 'польщены']"
      ]
     },
     "execution_count": 15,
     "metadata": {},
     "output_type": "execute_result"
    }
   ],
   "source": [
    "posts = posts.map(lambda x: re.sub(r'[– \\-,\\.?!\\\\/()»«“”#%=;:*+_=]+', ' ', x.lower()))\n",
    "posts = [simple_preprocess(line, deacc=True) for line in posts]\n",
    "posts[4]"
   ]
  },
  {
   "cell_type": "code",
   "execution_count": 16,
   "metadata": {},
   "outputs": [],
   "source": [
    "bigram = gensim.models.Phrases(posts, min_count=3, threshold=5) # higher threshold fewer phrases.\n",
    "trigram = gensim.models.Phrases(bigram[posts])  \n",
    "# Faster way to get a sentence clubbed as a trigram/bigram\n",
    "bigram_mod = gensim.models.phrases.Phraser(bigram)\n",
    "trigram_mod = gensim.models.phrases.Phraser(trigram)"
   ]
  },
  {
   "cell_type": "code",
   "execution_count": 17,
   "metadata": {},
   "outputs": [
    {
     "data": {
      "text/plain": [
       "['сегодня_ваш',\n",
       " 'любимыи_человек',\n",
       " 'признается',\n",
       " 'том_что',\n",
       " 'ему',\n",
       " 'оказывается',\n",
       " 'никогда',\n",
       " 'не',\n",
       " 'нравилось',\n",
       " 'представителях',\n",
       " 'пола',\n",
       " 'какое_то',\n",
       " 'качество',\n",
       " 'которое',\n",
       " 'буиным',\n",
       " 'цветом',\n",
       " 'цветет',\n",
       " 'вас',\n",
       " 'лишь',\n",
       " 'вы',\n",
       " 'заставили',\n",
       " 'его',\n",
       " 'посмотреть_на',\n",
       " 'это',\n",
       " 'самое',\n",
       " 'качество',\n",
       " 'по_другому',\n",
       " 'можете',\n",
       " 'быть',\n",
       " 'польщены']"
      ]
     },
     "execution_count": 17,
     "metadata": {},
     "output_type": "execute_result"
    }
   ],
   "source": [
    "bigram_mod[posts[4]]"
   ]
  },
  {
   "cell_type": "code",
   "execution_count": 19,
   "metadata": {},
   "outputs": [],
   "source": [
    "def remove_stopwords(texts):\n",
    "    stop_words = stopwords.words(\"russian\")\n",
    "    return [[word for word in simple_preprocess(str(doc)) if word not in stop_words] for doc in texts]\n",
    "\n",
    "def make_bigrams(texts):\n",
    "    return [bigram_mod[doc] for doc in texts]\n",
    "\n",
    "def make_trigrams(texts):\n",
    "    return [trigram_mod[bigram_mod[doc]] for doc in texts]\n",
    "\n",
    "def stemming(texts):\n",
    "    stemmer = RussianStemmer()\n",
    "    texts_out = []\n",
    "    for text in texts:\n",
    "        texts_out.append([stemmer.stem(word) for word in text])\n",
    "    return texts_out"
   ]
  },
  {
   "cell_type": "code",
   "execution_count": 24,
   "metadata": {},
   "outputs": [],
   "source": [
    "posts = remove_stopwords(posts)"
   ]
  },
  {
   "cell_type": "code",
   "execution_count": 25,
   "metadata": {},
   "outputs": [],
   "source": [
    "posts_bigrams = make_bigrams(posts)\n",
    "posts_trigrams = make_trigrams(posts)"
   ]
  },
  {
   "cell_type": "code",
   "execution_count": 54,
   "metadata": {},
   "outputs": [],
   "source": [
    "posts_stem = stemming(posts)"
   ]
  },
  {
   "cell_type": "code",
   "execution_count": 55,
   "metadata": {},
   "outputs": [],
   "source": [
    "posts_stem = list(map(lambda a:\n",
    "                      ['вы' if x=='стрельц' else x for x in a], posts_stem))"
   ]
  },
  {
   "cell_type": "code",
   "execution_count": 56,
   "metadata": {},
   "outputs": [
    {
     "name": "stdout",
     "output_type": "stream",
     "text": [
      "[[(0, 1), (1, 1), (2, 1), (3, 1), (4, 1), (5, 1), (6, 1), (7, 1), (8, 1), (9, 1), (10, 1), (11, 1), (12, 1), (13, 1), (14, 1), (15, 1), (16, 1), (17, 1), (18, 1), (19, 1), (20, 2), (21, 1), (22, 1), (23, 1), (24, 1), (25, 1), (26, 1), (27, 1), (28, 1)]]\n"
     ]
    }
   ],
   "source": [
    "# Create Dictionary\n",
    "id2word = corpora.Dictionary(posts_stem)\n",
    "# Create Corpus\n",
    "texts = posts_stem\n",
    "# filter extremes\n",
    "id2word.filter_extremes(no_below=3, no_above=0.75)\n",
    "id2word.compactify()\n",
    "# Term Document Frequency\n",
    "corpus = [id2word.doc2bow(text) for text in texts]\n",
    "print(corpus[0:1])"
   ]
  },
  {
   "cell_type": "code",
   "execution_count": 57,
   "metadata": {},
   "outputs": [
    {
     "data": {
      "text/plain": [
       "[[('ваш', 1),\n",
       "  ('вниман', 1),\n",
       "  ('выб', 1),\n",
       "  ('выясн', 1),\n",
       "  ('избега', 1),\n",
       "  ('кол', 1),\n",
       "  ('котор', 1),\n",
       "  ('месяц', 1),\n",
       "  ('может', 1),\n",
       "  ('незащищен', 1),\n",
       "  ('неуверен', 1),\n",
       "  ('попробу', 1),\n",
       "  ('постара', 1),\n",
       "  ('почувствова', 1),\n",
       "  ('приниэт', 1),\n",
       "  ('проявлен', 1),\n",
       "  ('сегодн', 1),\n",
       "  ('сеичас', 1),\n",
       "  ('сил', 1),\n",
       "  ('сильн', 1),\n",
       "  ('ситуац', 2),\n",
       "  ('собствен', 1),\n",
       "  ('тех', 1),\n",
       "  ('треб', 1),\n",
       "  ('трудноват', 1),\n",
       "  ('уязвим', 1),\n",
       "  ('характер', 1),\n",
       "  ('черт', 1),\n",
       "  ('эт', 1)]]"
      ]
     },
     "execution_count": 57,
     "metadata": {},
     "output_type": "execute_result"
    }
   ],
   "source": [
    "[[(id2word[id], freq) for id, freq in cp] for cp in corpus[0:1]]"
   ]
  },
  {
   "cell_type": "code",
   "execution_count": 58,
   "metadata": {},
   "outputs": [
    {
     "data": {
      "text/plain": [
       "10125"
      ]
     },
     "execution_count": 58,
     "metadata": {},
     "output_type": "execute_result"
    }
   ],
   "source": [
    "len(id2word)"
   ]
  },
  {
   "cell_type": "code",
   "execution_count": 59,
   "metadata": {},
   "outputs": [
    {
     "name": "stdout",
     "output_type": "stream",
     "text": [
      "Wall time: 33.4 s\n"
     ]
    }
   ],
   "source": [
    "%%time\n",
    "lda_model = gensim.models.ldamodel.LdaModel(corpus=corpus,\n",
    "                                            id2word=id2word,\n",
    "                                            num_topics=,\n",
    "                                            random_state=100,\n",
    "                                            update_every=2,\n",
    "                                            chunksize=30,\n",
    "                                            passes=5,\n",
    "                                            alpha='auto',\n",
    "                                            per_word_topics=True)  "
   ]
  },
  {
   "cell_type": "code",
   "execution_count": 60,
   "metadata": {},
   "outputs": [
    {
     "data": {
      "text/plain": [
       "[(0,\n",
       "  '0.030*\"ден\" + 0.014*\"врем\" + 0.013*\"дел\" + 0.013*\"могут\" + 0.012*\"возможн\" + 0.010*\"котор\"'),\n",
       " (1,\n",
       "  '0.036*\"ваш\" + 0.024*\"эт\" + 0.023*\"человек\" + 0.020*\"сегодн\" + 0.013*\"любим\" + 0.013*\"будут\"'),\n",
       " (2,\n",
       "  '0.033*\"завтр\" + 0.028*\"сво\" + 0.018*\"нов\" + 0.016*\"жизн\" + 0.014*\"работ\" + 0.013*\"возможн\"')]"
      ]
     },
     "execution_count": 60,
     "metadata": {},
     "output_type": "execute_result"
    }
   ],
   "source": [
    "lda_model.print_topics(num_words=6)"
   ]
  },
  {
   "cell_type": "code",
   "execution_count": 61,
   "metadata": {},
   "outputs": [
    {
     "name": "stdout",
     "output_type": "stream",
     "text": [
      "\n",
      "Perplexity on train:  -7.589638325328963\n"
     ]
    }
   ],
   "source": [
    "# Compute Perplexity on train\n",
    "print('\\nPerplexity on train: ', lda_model.log_perplexity(corpus))  # a measure of how good the model is. lower the better."
   ]
  },
  {
   "cell_type": "code",
   "execution_count": 62,
   "metadata": {},
   "outputs": [
    {
     "name": "stdout",
     "output_type": "stream",
     "text": [
      "\n",
      "Perplexity on test:  -7.589638328715409\n"
     ]
    }
   ],
   "source": [
    "# Compute Perplexity on test\n",
    "corpus_test = [id2word.doc2bow(text) for text in posts_stem]\n",
    "print('\\nPerplexity on test: ', lda_model.log_perplexity(corpus_test))"
   ]
  },
  {
   "cell_type": "code",
   "execution_count": null,
   "metadata": {},
   "outputs": [],
   "source": []
  }
 ],
 "metadata": {
  "kernelspec": {
   "display_name": "Python 3",
   "language": "python",
   "name": "python3"
  },
  "language_info": {
   "codemirror_mode": {
    "name": "ipython",
    "version": 3
   },
   "file_extension": ".py",
   "mimetype": "text/x-python",
   "name": "python",
   "nbconvert_exporter": "python",
   "pygments_lexer": "ipython3",
   "version": "3.6.5"
  }
 },
 "nbformat": 4,
 "nbformat_minor": 2
}
